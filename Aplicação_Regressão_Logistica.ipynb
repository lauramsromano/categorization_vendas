{
  "nbformat": 4,
  "nbformat_minor": 0,
  "metadata": {
    "colab": {
      "provenance": [],
      "authorship_tag": "ABX9TyOqwOyR9OQwdoOSZvbTfn1j",
      "include_colab_link": true
    },
    "kernelspec": {
      "name": "python3",
      "display_name": "Python 3"
    },
    "language_info": {
      "name": "python"
    }
  },
  "cells": [
    {
      "cell_type": "markdown",
      "metadata": {
        "id": "view-in-github",
        "colab_type": "text"
      },
      "source": [
        "<a href=\"https://colab.research.google.com/github/lauramsromano/categorization_vendas/blob/colab/Aplica%C3%A7%C3%A3o_Regress%C3%A3o_Logistica.ipynb\" target=\"_parent\"><img src=\"https://colab.research.google.com/assets/colab-badge.svg\" alt=\"Open In Colab\"/></a>"
      ]
    },
    {
      "cell_type": "markdown",
      "source": [
        "> Feito por: Laura Maria de Souza Romano\n",
        "\n",
        "📧 e-mail - laura.sromano@hotmail.com\n",
        "🔗\n",
        "[linkedin](https://www.linkedin.com/in/laura-maria-de-souza-romano/)"
      ],
      "metadata": {
        "id": "VPlC-zu7ixTT"
      }
    },
    {
      "cell_type": "markdown",
      "source": [
        "Com base no histórico de vendas que contém informações sobre vendas realizadas e canceladas, o objetivo é desenvolver um modelo de regressão logística para prever possíveis cancelamentos.\n",
        "\n",
        "A regressão logística é uma técnica de modelagem estatística usada para prever uma variável categórica binária, como a ocorrência ou não de cancelamentos. Nesse caso, a variável dependente será binária, indicando se uma venda foi cancelada (1) ou não (0), e as variáveis independentes podem incluir dados sobre o cliente, produto, contexto da venda, entre outros fatores relevantes.\n",
        "\n",
        "O modelo de regressão logística calculará as probabilidades de uma venda ser cancelada com base nas variáveis independentes e atribuirá uma classificação binária (0 ou 1) com base nessa probabilidade. Ao utilizar os dados históricos para treinar o modelo, ele aprenderá a encontrar padrões e relacionamentos entre as variáveis que possam influenciar a ocorrência de cancelamentos.\n",
        "\n",
        "Assim, após o treinamento do modelo, será possível fazer previsões sobre a probabilidade de uma venda ser cancelada com base nas informações disponíveis, permitindo que a empresa tome medidas preventivas ou proativas para evitar ou lidar adequadamente com possíveis cancelamentos.\n",
        "\n",
        "É fundamental garantir a qualidade dos dados de treinamento e a seleção adequada das variáveis independentes para obter um modelo de regressão logística eficaz. Além disso, a avaliação do desempenho do modelo usando métricas como a precisão, a sensibilidade (recall) e a especificidade é essencial para verificar sua acurácia e realizar ajustes, se necessário, para aprimorar suas previsões.\n",
        "\n",
        "---\n",
        "\n"
      ],
      "metadata": {
        "id": "2-r_POQQmQI1"
      }
    },
    {
      "cell_type": "markdown",
      "source": [
        "> Base - https://archive.ics.uci.edu/dataset/352/online+retail"
      ],
      "metadata": {
        "id": "EnJSVymUZDfP"
      }
    },
    {
      "cell_type": "markdown",
      "source": [
        "#### Bibliotecas:"
      ],
      "metadata": {
        "id": "Ev_fvoLwws5E"
      }
    },
    {
      "cell_type": "code",
      "source": [
        "# bibliotecas padrões:\n",
        "import pandas as pd\n",
        "import numpy as np\n",
        "import matplotlib.pyplot as plt\n",
        "import seaborn as sns\n",
        "# import random\n",
        "\n",
        "# modelos de categorização e métricas:\n",
        "from sklearn.linear_model import LogisticRegression # regressão logistica\n",
        "from sklearn.neighbors import KNeighborsClassifier # KNN\n",
        "from sklearn.svm import SVC #SVM\n",
        "from sklearn.model_selection import train_test_split # separação treino e teste\n",
        "\n",
        "from sklearn.metrics import roc_auc_score #\n",
        "from sklearn.metrics import accuracy_score # cálculo da acurácia\n",
        "\n",
        "# pipeline:\n",
        "from sklearn.pipeline import Pipeline # gerando pipeline\n",
        "from sklearn.pipeline import make_pipeline # extraindo infos da pipeline\n",
        "from sklearn.compose import ColumnTransformer # agrupação de métodos para pipeline\n",
        "\n",
        "# processamento de variáveis numéricas:\n",
        "from sklearn.preprocessing import RobustScaler # ajuste da escala das features\n",
        "\n",
        "# processamento de variáveis nominais:\n",
        "!pip install category_encoders\n",
        "from category_encoders import CountEncoder # transformação por frequência\n",
        "from sklearn.impute import SimpleImputer #\n",
        "\n",
        "# processamento target:\n",
        "import imblearn\n",
        "from imblearn.under_sampling import RandomUnderSampler\n",
        "\n",
        "# validação cruzada:\n",
        "from sklearn.model_selection import (cross_validate, StratifiedKFold) # validação cruzada\n",
        "\n",
        "# tratamento data e hora\n",
        "from datetime import datetime\n",
        "\n",
        "import warnings\n",
        "warnings.filterwarnings(\"ignore\")"
      ],
      "metadata": {
        "id": "-1dUWd1ZlD2Z",
        "colab": {
          "base_uri": "https://localhost:8080/"
        },
        "outputId": "8086fc04-95b2-48a3-b0fc-b770b6cc129e"
      },
      "execution_count": 86,
      "outputs": [
        {
          "output_type": "stream",
          "name": "stdout",
          "text": [
            "Requirement already satisfied: category_encoders in /usr/local/lib/python3.10/dist-packages (2.6.1)\n",
            "Requirement already satisfied: numpy>=1.14.0 in /usr/local/lib/python3.10/dist-packages (from category_encoders) (1.22.4)\n",
            "Requirement already satisfied: scikit-learn>=0.20.0 in /usr/local/lib/python3.10/dist-packages (from category_encoders) (1.2.2)\n",
            "Requirement already satisfied: scipy>=1.0.0 in /usr/local/lib/python3.10/dist-packages (from category_encoders) (1.10.1)\n",
            "Requirement already satisfied: statsmodels>=0.9.0 in /usr/local/lib/python3.10/dist-packages (from category_encoders) (0.13.5)\n",
            "Requirement already satisfied: pandas>=1.0.5 in /usr/local/lib/python3.10/dist-packages (from category_encoders) (1.5.3)\n",
            "Requirement already satisfied: patsy>=0.5.1 in /usr/local/lib/python3.10/dist-packages (from category_encoders) (0.5.3)\n",
            "Requirement already satisfied: python-dateutil>=2.8.1 in /usr/local/lib/python3.10/dist-packages (from pandas>=1.0.5->category_encoders) (2.8.2)\n",
            "Requirement already satisfied: pytz>=2020.1 in /usr/local/lib/python3.10/dist-packages (from pandas>=1.0.5->category_encoders) (2022.7.1)\n",
            "Requirement already satisfied: six in /usr/local/lib/python3.10/dist-packages (from patsy>=0.5.1->category_encoders) (1.16.0)\n",
            "Requirement already satisfied: joblib>=1.1.1 in /usr/local/lib/python3.10/dist-packages (from scikit-learn>=0.20.0->category_encoders) (1.3.1)\n",
            "Requirement already satisfied: threadpoolctl>=2.0.0 in /usr/local/lib/python3.10/dist-packages (from scikit-learn>=0.20.0->category_encoders) (3.2.0)\n",
            "Requirement already satisfied: packaging>=21.3 in /usr/local/lib/python3.10/dist-packages (from statsmodels>=0.9.0->category_encoders) (23.1)\n"
          ]
        }
      ]
    },
    {
      "cell_type": "code",
      "source": [
        "# leitura da base original\n",
        "amostra = pd.read_excel('online_retail.xlsx')"
      ],
      "metadata": {
        "id": "V4AhZbxVlRNo"
      },
      "execution_count": 87,
      "outputs": []
    },
    {
      "cell_type": "markdown",
      "source": [
        "#### ***Análises iniciais da amostra original:***\n",
        "\n",
        "\n",
        "---\n",
        "\n"
      ],
      "metadata": {
        "id": "dMv8Xvfr5OLX"
      }
    },
    {
      "cell_type": "markdown",
      "source": [
        "Resumo das análises:\n",
        "\n",
        "- Levantamento geral dos dados para tomada de decisão nas etapas de tratamento.\n",
        "  - Verificando divergências nas informações;  \n",
        "  - Levantamento percentual das informações verificadas;\n",
        "  - Verificando valores nulos;\n",
        "  - Outras informações presentes na amostra (períodos de tempo, paises presentes na base, etc.)"
      ],
      "metadata": {
        "id": "-ezakBac6H1Y"
      }
    },
    {
      "cell_type": "markdown",
      "source": [
        "***Glossário de features já existentes na base:***\n",
        "- `InvoiceNo`: Número da fatura: número integral de 6 dígitos atribuído exclusivamente a cada transação.\n",
        "Se este código começar com a letra 'c', indica um cancelamento.\n",
        "\n",
        "  - Exemplo: C581490 - Cancelado, 581256 - Não Cancelado, A581490, 256, etc.\t- Código de transação inválido\n",
        "\n",
        "- `StockCode`: Código do produto: um número integral de 5 dígitos atribuído exclusivamente a cada produto distinto.\n",
        "\n",
        "  - Exemplo: 35004 - Código de produto válido, 35004C, M, etc. - Código de produto inválido.\n",
        "\n",
        "- `Description`: Nome do produto.\n",
        "-` Quantity`: As quantidades de cada produto (item) por transação.\n",
        "- `InvoiceDate`: Dia e a hora em que cada transação foi gerada.\n",
        "- `UnitPrice`: Preço do produto por unidade em libras esterlinas.\n",
        "- `CustomerID`: Número integral de 5 dígitos atribuído exclusivamente a cada cliente.\n",
        "\n",
        "  - Exemplo: 14527 - Código de cliente válido, F14527, 855, etc. - Código de cliente inválido.\n",
        "\n",
        "- `Country`: Nome do país onde cada cliente reside.\n",
        "\n",
        "***Features adicionadas durante o tratamento:***\n",
        "\n",
        "- `TotalPrice`: Valor total de cada transação, resultado da multiplicação entre as colunas `'UnitPrice'` e `'Quantity'`.\n",
        "- `Status`: Informação se a transação foi cancelada (Cancelado) ou não (Não Cancelado)."
      ],
      "metadata": {
        "id": "ICqnBBf5u1xe"
      }
    },
    {
      "cell_type": "code",
      "source": [
        "# Amostra de dados:\n",
        "amostra.head()"
      ],
      "metadata": {
        "colab": {
          "base_uri": "https://localhost:8080/",
          "height": 206
        },
        "id": "LHsXYk_ms-MA",
        "outputId": "ced95453-c5d1-4016-bed7-2edc83ec0082"
      },
      "execution_count": 88,
      "outputs": [
        {
          "output_type": "execute_result",
          "data": {
            "text/plain": [
              "  InvoiceNo StockCode                          Description  Quantity  \\\n",
              "0    536365    85123A   WHITE HANGING HEART T-LIGHT HOLDER         6   \n",
              "1    536365     71053                  WHITE METAL LANTERN         6   \n",
              "2    536365    84406B       CREAM CUPID HEARTS COAT HANGER         8   \n",
              "3    536365    84029G  KNITTED UNION FLAG HOT WATER BOTTLE         6   \n",
              "4    536365    84029E       RED WOOLLY HOTTIE WHITE HEART.         6   \n",
              "\n",
              "          InvoiceDate  UnitPrice  CustomerID         Country  \n",
              "0 2010-12-01 08:26:00       2.55     17850.0  United Kingdom  \n",
              "1 2010-12-01 08:26:00       3.39     17850.0  United Kingdom  \n",
              "2 2010-12-01 08:26:00       2.75     17850.0  United Kingdom  \n",
              "3 2010-12-01 08:26:00       3.39     17850.0  United Kingdom  \n",
              "4 2010-12-01 08:26:00       3.39     17850.0  United Kingdom  "
            ],
            "text/html": [
              "\n",
              "\n",
              "  <div id=\"df-2f4ceb61-9e1a-4f84-8026-7705eadbb612\">\n",
              "    <div class=\"colab-df-container\">\n",
              "      <div>\n",
              "<style scoped>\n",
              "    .dataframe tbody tr th:only-of-type {\n",
              "        vertical-align: middle;\n",
              "    }\n",
              "\n",
              "    .dataframe tbody tr th {\n",
              "        vertical-align: top;\n",
              "    }\n",
              "\n",
              "    .dataframe thead th {\n",
              "        text-align: right;\n",
              "    }\n",
              "</style>\n",
              "<table border=\"1\" class=\"dataframe\">\n",
              "  <thead>\n",
              "    <tr style=\"text-align: right;\">\n",
              "      <th></th>\n",
              "      <th>InvoiceNo</th>\n",
              "      <th>StockCode</th>\n",
              "      <th>Description</th>\n",
              "      <th>Quantity</th>\n",
              "      <th>InvoiceDate</th>\n",
              "      <th>UnitPrice</th>\n",
              "      <th>CustomerID</th>\n",
              "      <th>Country</th>\n",
              "    </tr>\n",
              "  </thead>\n",
              "  <tbody>\n",
              "    <tr>\n",
              "      <th>0</th>\n",
              "      <td>536365</td>\n",
              "      <td>85123A</td>\n",
              "      <td>WHITE HANGING HEART T-LIGHT HOLDER</td>\n",
              "      <td>6</td>\n",
              "      <td>2010-12-01 08:26:00</td>\n",
              "      <td>2.55</td>\n",
              "      <td>17850.0</td>\n",
              "      <td>United Kingdom</td>\n",
              "    </tr>\n",
              "    <tr>\n",
              "      <th>1</th>\n",
              "      <td>536365</td>\n",
              "      <td>71053</td>\n",
              "      <td>WHITE METAL LANTERN</td>\n",
              "      <td>6</td>\n",
              "      <td>2010-12-01 08:26:00</td>\n",
              "      <td>3.39</td>\n",
              "      <td>17850.0</td>\n",
              "      <td>United Kingdom</td>\n",
              "    </tr>\n",
              "    <tr>\n",
              "      <th>2</th>\n",
              "      <td>536365</td>\n",
              "      <td>84406B</td>\n",
              "      <td>CREAM CUPID HEARTS COAT HANGER</td>\n",
              "      <td>8</td>\n",
              "      <td>2010-12-01 08:26:00</td>\n",
              "      <td>2.75</td>\n",
              "      <td>17850.0</td>\n",
              "      <td>United Kingdom</td>\n",
              "    </tr>\n",
              "    <tr>\n",
              "      <th>3</th>\n",
              "      <td>536365</td>\n",
              "      <td>84029G</td>\n",
              "      <td>KNITTED UNION FLAG HOT WATER BOTTLE</td>\n",
              "      <td>6</td>\n",
              "      <td>2010-12-01 08:26:00</td>\n",
              "      <td>3.39</td>\n",
              "      <td>17850.0</td>\n",
              "      <td>United Kingdom</td>\n",
              "    </tr>\n",
              "    <tr>\n",
              "      <th>4</th>\n",
              "      <td>536365</td>\n",
              "      <td>84029E</td>\n",
              "      <td>RED WOOLLY HOTTIE WHITE HEART.</td>\n",
              "      <td>6</td>\n",
              "      <td>2010-12-01 08:26:00</td>\n",
              "      <td>3.39</td>\n",
              "      <td>17850.0</td>\n",
              "      <td>United Kingdom</td>\n",
              "    </tr>\n",
              "  </tbody>\n",
              "</table>\n",
              "</div>\n",
              "      <button class=\"colab-df-convert\" onclick=\"convertToInteractive('df-2f4ceb61-9e1a-4f84-8026-7705eadbb612')\"\n",
              "              title=\"Convert this dataframe to an interactive table.\"\n",
              "              style=\"display:none;\">\n",
              "\n",
              "  <svg xmlns=\"http://www.w3.org/2000/svg\" height=\"24px\"viewBox=\"0 0 24 24\"\n",
              "       width=\"24px\">\n",
              "    <path d=\"M0 0h24v24H0V0z\" fill=\"none\"/>\n",
              "    <path d=\"M18.56 5.44l.94 2.06.94-2.06 2.06-.94-2.06-.94-.94-2.06-.94 2.06-2.06.94zm-11 1L8.5 8.5l.94-2.06 2.06-.94-2.06-.94L8.5 2.5l-.94 2.06-2.06.94zm10 10l.94 2.06.94-2.06 2.06-.94-2.06-.94-.94-2.06-.94 2.06-2.06.94z\"/><path d=\"M17.41 7.96l-1.37-1.37c-.4-.4-.92-.59-1.43-.59-.52 0-1.04.2-1.43.59L10.3 9.45l-7.72 7.72c-.78.78-.78 2.05 0 2.83L4 21.41c.39.39.9.59 1.41.59.51 0 1.02-.2 1.41-.59l7.78-7.78 2.81-2.81c.8-.78.8-2.07 0-2.86zM5.41 20L4 18.59l7.72-7.72 1.47 1.35L5.41 20z\"/>\n",
              "  </svg>\n",
              "      </button>\n",
              "\n",
              "\n",
              "\n",
              "    <div id=\"df-86a95968-b62a-492c-8ce2-0f8bbf92b9ea\">\n",
              "      <button class=\"colab-df-quickchart\" onclick=\"quickchart('df-86a95968-b62a-492c-8ce2-0f8bbf92b9ea')\"\n",
              "              title=\"Suggest charts.\"\n",
              "              style=\"display:none;\">\n",
              "\n",
              "<svg xmlns=\"http://www.w3.org/2000/svg\" height=\"24px\"viewBox=\"0 0 24 24\"\n",
              "     width=\"24px\">\n",
              "    <g>\n",
              "        <path d=\"M19 3H5c-1.1 0-2 .9-2 2v14c0 1.1.9 2 2 2h14c1.1 0 2-.9 2-2V5c0-1.1-.9-2-2-2zM9 17H7v-7h2v7zm4 0h-2V7h2v10zm4 0h-2v-4h2v4z\"/>\n",
              "    </g>\n",
              "</svg>\n",
              "      </button>\n",
              "    </div>\n",
              "\n",
              "<style>\n",
              "  .colab-df-quickchart {\n",
              "    background-color: #E8F0FE;\n",
              "    border: none;\n",
              "    border-radius: 50%;\n",
              "    cursor: pointer;\n",
              "    display: none;\n",
              "    fill: #1967D2;\n",
              "    height: 32px;\n",
              "    padding: 0 0 0 0;\n",
              "    width: 32px;\n",
              "  }\n",
              "\n",
              "  .colab-df-quickchart:hover {\n",
              "    background-color: #E2EBFA;\n",
              "    box-shadow: 0px 1px 2px rgba(60, 64, 67, 0.3), 0px 1px 3px 1px rgba(60, 64, 67, 0.15);\n",
              "    fill: #174EA6;\n",
              "  }\n",
              "\n",
              "  [theme=dark] .colab-df-quickchart {\n",
              "    background-color: #3B4455;\n",
              "    fill: #D2E3FC;\n",
              "  }\n",
              "\n",
              "  [theme=dark] .colab-df-quickchart:hover {\n",
              "    background-color: #434B5C;\n",
              "    box-shadow: 0px 1px 3px 1px rgba(0, 0, 0, 0.15);\n",
              "    filter: drop-shadow(0px 1px 2px rgba(0, 0, 0, 0.3));\n",
              "    fill: #FFFFFF;\n",
              "  }\n",
              "</style>\n",
              "\n",
              "    <script>\n",
              "      async function quickchart(key) {\n",
              "        const containerElement = document.querySelector('#' + key);\n",
              "        const charts = await google.colab.kernel.invokeFunction(\n",
              "            'suggestCharts', [key], {});\n",
              "      }\n",
              "    </script>\n",
              "\n",
              "      <script>\n",
              "\n",
              "function displayQuickchartButton(domScope) {\n",
              "  let quickchartButtonEl =\n",
              "    domScope.querySelector('#df-86a95968-b62a-492c-8ce2-0f8bbf92b9ea button.colab-df-quickchart');\n",
              "  quickchartButtonEl.style.display =\n",
              "    google.colab.kernel.accessAllowed ? 'block' : 'none';\n",
              "}\n",
              "\n",
              "        displayQuickchartButton(document);\n",
              "      </script>\n",
              "      <style>\n",
              "    .colab-df-container {\n",
              "      display:flex;\n",
              "      flex-wrap:wrap;\n",
              "      gap: 12px;\n",
              "    }\n",
              "\n",
              "    .colab-df-convert {\n",
              "      background-color: #E8F0FE;\n",
              "      border: none;\n",
              "      border-radius: 50%;\n",
              "      cursor: pointer;\n",
              "      display: none;\n",
              "      fill: #1967D2;\n",
              "      height: 32px;\n",
              "      padding: 0 0 0 0;\n",
              "      width: 32px;\n",
              "    }\n",
              "\n",
              "    .colab-df-convert:hover {\n",
              "      background-color: #E2EBFA;\n",
              "      box-shadow: 0px 1px 2px rgba(60, 64, 67, 0.3), 0px 1px 3px 1px rgba(60, 64, 67, 0.15);\n",
              "      fill: #174EA6;\n",
              "    }\n",
              "\n",
              "    [theme=dark] .colab-df-convert {\n",
              "      background-color: #3B4455;\n",
              "      fill: #D2E3FC;\n",
              "    }\n",
              "\n",
              "    [theme=dark] .colab-df-convert:hover {\n",
              "      background-color: #434B5C;\n",
              "      box-shadow: 0px 1px 3px 1px rgba(0, 0, 0, 0.15);\n",
              "      filter: drop-shadow(0px 1px 2px rgba(0, 0, 0, 0.3));\n",
              "      fill: #FFFFFF;\n",
              "    }\n",
              "  </style>\n",
              "\n",
              "      <script>\n",
              "        const buttonEl =\n",
              "          document.querySelector('#df-2f4ceb61-9e1a-4f84-8026-7705eadbb612 button.colab-df-convert');\n",
              "        buttonEl.style.display =\n",
              "          google.colab.kernel.accessAllowed ? 'block' : 'none';\n",
              "\n",
              "        async function convertToInteractive(key) {\n",
              "          const element = document.querySelector('#df-2f4ceb61-9e1a-4f84-8026-7705eadbb612');\n",
              "          const dataTable =\n",
              "            await google.colab.kernel.invokeFunction('convertToInteractive',\n",
              "                                                     [key], {});\n",
              "          if (!dataTable) return;\n",
              "\n",
              "          const docLinkHtml = 'Like what you see? Visit the ' +\n",
              "            '<a target=\"_blank\" href=https://colab.research.google.com/notebooks/data_table.ipynb>data table notebook</a>'\n",
              "            + ' to learn more about interactive tables.';\n",
              "          element.innerHTML = '';\n",
              "          dataTable['output_type'] = 'display_data';\n",
              "          await google.colab.output.renderOutput(dataTable, element);\n",
              "          const docLink = document.createElement('div');\n",
              "          docLink.innerHTML = docLinkHtml;\n",
              "          element.appendChild(docLink);\n",
              "        }\n",
              "      </script>\n",
              "    </div>\n",
              "  </div>\n"
            ]
          },
          "metadata": {},
          "execution_count": 88
        }
      ]
    },
    {
      "cell_type": "code",
      "source": [
        "# infos gerais:\n",
        "amostra.info()"
      ],
      "metadata": {
        "colab": {
          "base_uri": "https://localhost:8080/"
        },
        "id": "6G96U2_gINna",
        "outputId": "2df0df49-7f8e-4b57-c826-2d078a78d656"
      },
      "execution_count": 89,
      "outputs": [
        {
          "output_type": "stream",
          "name": "stdout",
          "text": [
            "<class 'pandas.core.frame.DataFrame'>\n",
            "RangeIndex: 541909 entries, 0 to 541908\n",
            "Data columns (total 8 columns):\n",
            " #   Column       Non-Null Count   Dtype         \n",
            "---  ------       --------------   -----         \n",
            " 0   InvoiceNo    541909 non-null  object        \n",
            " 1   StockCode    541909 non-null  object        \n",
            " 2   Description  540455 non-null  object        \n",
            " 3   Quantity     541909 non-null  int64         \n",
            " 4   InvoiceDate  541909 non-null  datetime64[ns]\n",
            " 5   UnitPrice    541909 non-null  float64       \n",
            " 6   CustomerID   406829 non-null  float64       \n",
            " 7   Country      541909 non-null  object        \n",
            "dtypes: datetime64[ns](1), float64(2), int64(1), object(4)\n",
            "memory usage: 33.1+ MB\n"
          ]
        }
      ]
    },
    {
      "cell_type": "code",
      "source": [
        "amostra.shape"
      ],
      "metadata": {
        "colab": {
          "base_uri": "https://localhost:8080/"
        },
        "id": "oJ5PwXNpsxsT",
        "outputId": "3ebabcab-2c84-4986-a051-e20aab351887"
      },
      "execution_count": 90,
      "outputs": [
        {
          "output_type": "execute_result",
          "data": {
            "text/plain": [
              "(541909, 8)"
            ]
          },
          "metadata": {},
          "execution_count": 90
        }
      ]
    },
    {
      "cell_type": "code",
      "source": [
        "# informações estatísticas:\n",
        "amostra.describe().T"
      ],
      "metadata": {
        "colab": {
          "base_uri": "https://localhost:8080/",
          "height": 143
        },
        "id": "tMrYC8TSyKQu",
        "outputId": "1030a08e-5c01-4278-fbd6-8b3f6e6e8e84"
      },
      "execution_count": 91,
      "outputs": [
        {
          "output_type": "execute_result",
          "data": {
            "text/plain": [
              "               count          mean          std       min       25%       50%  \\\n",
              "Quantity    541909.0      9.552250   218.081158 -80995.00      1.00      3.00   \n",
              "UnitPrice   541909.0      4.611114    96.759853 -11062.06      1.25      2.08   \n",
              "CustomerID  406829.0  15287.690570  1713.600303  12346.00  13953.00  15152.00   \n",
              "\n",
              "                 75%      max  \n",
              "Quantity       10.00  80995.0  \n",
              "UnitPrice       4.13  38970.0  \n",
              "CustomerID  16791.00  18287.0  "
            ],
            "text/html": [
              "\n",
              "\n",
              "  <div id=\"df-560d8c52-3c72-4d3d-863b-257f1aebf5a9\">\n",
              "    <div class=\"colab-df-container\">\n",
              "      <div>\n",
              "<style scoped>\n",
              "    .dataframe tbody tr th:only-of-type {\n",
              "        vertical-align: middle;\n",
              "    }\n",
              "\n",
              "    .dataframe tbody tr th {\n",
              "        vertical-align: top;\n",
              "    }\n",
              "\n",
              "    .dataframe thead th {\n",
              "        text-align: right;\n",
              "    }\n",
              "</style>\n",
              "<table border=\"1\" class=\"dataframe\">\n",
              "  <thead>\n",
              "    <tr style=\"text-align: right;\">\n",
              "      <th></th>\n",
              "      <th>count</th>\n",
              "      <th>mean</th>\n",
              "      <th>std</th>\n",
              "      <th>min</th>\n",
              "      <th>25%</th>\n",
              "      <th>50%</th>\n",
              "      <th>75%</th>\n",
              "      <th>max</th>\n",
              "    </tr>\n",
              "  </thead>\n",
              "  <tbody>\n",
              "    <tr>\n",
              "      <th>Quantity</th>\n",
              "      <td>541909.0</td>\n",
              "      <td>9.552250</td>\n",
              "      <td>218.081158</td>\n",
              "      <td>-80995.00</td>\n",
              "      <td>1.00</td>\n",
              "      <td>3.00</td>\n",
              "      <td>10.00</td>\n",
              "      <td>80995.0</td>\n",
              "    </tr>\n",
              "    <tr>\n",
              "      <th>UnitPrice</th>\n",
              "      <td>541909.0</td>\n",
              "      <td>4.611114</td>\n",
              "      <td>96.759853</td>\n",
              "      <td>-11062.06</td>\n",
              "      <td>1.25</td>\n",
              "      <td>2.08</td>\n",
              "      <td>4.13</td>\n",
              "      <td>38970.0</td>\n",
              "    </tr>\n",
              "    <tr>\n",
              "      <th>CustomerID</th>\n",
              "      <td>406829.0</td>\n",
              "      <td>15287.690570</td>\n",
              "      <td>1713.600303</td>\n",
              "      <td>12346.00</td>\n",
              "      <td>13953.00</td>\n",
              "      <td>15152.00</td>\n",
              "      <td>16791.00</td>\n",
              "      <td>18287.0</td>\n",
              "    </tr>\n",
              "  </tbody>\n",
              "</table>\n",
              "</div>\n",
              "      <button class=\"colab-df-convert\" onclick=\"convertToInteractive('df-560d8c52-3c72-4d3d-863b-257f1aebf5a9')\"\n",
              "              title=\"Convert this dataframe to an interactive table.\"\n",
              "              style=\"display:none;\">\n",
              "\n",
              "  <svg xmlns=\"http://www.w3.org/2000/svg\" height=\"24px\"viewBox=\"0 0 24 24\"\n",
              "       width=\"24px\">\n",
              "    <path d=\"M0 0h24v24H0V0z\" fill=\"none\"/>\n",
              "    <path d=\"M18.56 5.44l.94 2.06.94-2.06 2.06-.94-2.06-.94-.94-2.06-.94 2.06-2.06.94zm-11 1L8.5 8.5l.94-2.06 2.06-.94-2.06-.94L8.5 2.5l-.94 2.06-2.06.94zm10 10l.94 2.06.94-2.06 2.06-.94-2.06-.94-.94-2.06-.94 2.06-2.06.94z\"/><path d=\"M17.41 7.96l-1.37-1.37c-.4-.4-.92-.59-1.43-.59-.52 0-1.04.2-1.43.59L10.3 9.45l-7.72 7.72c-.78.78-.78 2.05 0 2.83L4 21.41c.39.39.9.59 1.41.59.51 0 1.02-.2 1.41-.59l7.78-7.78 2.81-2.81c.8-.78.8-2.07 0-2.86zM5.41 20L4 18.59l7.72-7.72 1.47 1.35L5.41 20z\"/>\n",
              "  </svg>\n",
              "      </button>\n",
              "\n",
              "\n",
              "\n",
              "    <div id=\"df-a89af08f-c3cd-46ac-84f7-b7bd0027dd0b\">\n",
              "      <button class=\"colab-df-quickchart\" onclick=\"quickchart('df-a89af08f-c3cd-46ac-84f7-b7bd0027dd0b')\"\n",
              "              title=\"Suggest charts.\"\n",
              "              style=\"display:none;\">\n",
              "\n",
              "<svg xmlns=\"http://www.w3.org/2000/svg\" height=\"24px\"viewBox=\"0 0 24 24\"\n",
              "     width=\"24px\">\n",
              "    <g>\n",
              "        <path d=\"M19 3H5c-1.1 0-2 .9-2 2v14c0 1.1.9 2 2 2h14c1.1 0 2-.9 2-2V5c0-1.1-.9-2-2-2zM9 17H7v-7h2v7zm4 0h-2V7h2v10zm4 0h-2v-4h2v4z\"/>\n",
              "    </g>\n",
              "</svg>\n",
              "      </button>\n",
              "    </div>\n",
              "\n",
              "<style>\n",
              "  .colab-df-quickchart {\n",
              "    background-color: #E8F0FE;\n",
              "    border: none;\n",
              "    border-radius: 50%;\n",
              "    cursor: pointer;\n",
              "    display: none;\n",
              "    fill: #1967D2;\n",
              "    height: 32px;\n",
              "    padding: 0 0 0 0;\n",
              "    width: 32px;\n",
              "  }\n",
              "\n",
              "  .colab-df-quickchart:hover {\n",
              "    background-color: #E2EBFA;\n",
              "    box-shadow: 0px 1px 2px rgba(60, 64, 67, 0.3), 0px 1px 3px 1px rgba(60, 64, 67, 0.15);\n",
              "    fill: #174EA6;\n",
              "  }\n",
              "\n",
              "  [theme=dark] .colab-df-quickchart {\n",
              "    background-color: #3B4455;\n",
              "    fill: #D2E3FC;\n",
              "  }\n",
              "\n",
              "  [theme=dark] .colab-df-quickchart:hover {\n",
              "    background-color: #434B5C;\n",
              "    box-shadow: 0px 1px 3px 1px rgba(0, 0, 0, 0.15);\n",
              "    filter: drop-shadow(0px 1px 2px rgba(0, 0, 0, 0.3));\n",
              "    fill: #FFFFFF;\n",
              "  }\n",
              "</style>\n",
              "\n",
              "    <script>\n",
              "      async function quickchart(key) {\n",
              "        const containerElement = document.querySelector('#' + key);\n",
              "        const charts = await google.colab.kernel.invokeFunction(\n",
              "            'suggestCharts', [key], {});\n",
              "      }\n",
              "    </script>\n",
              "\n",
              "      <script>\n",
              "\n",
              "function displayQuickchartButton(domScope) {\n",
              "  let quickchartButtonEl =\n",
              "    domScope.querySelector('#df-a89af08f-c3cd-46ac-84f7-b7bd0027dd0b button.colab-df-quickchart');\n",
              "  quickchartButtonEl.style.display =\n",
              "    google.colab.kernel.accessAllowed ? 'block' : 'none';\n",
              "}\n",
              "\n",
              "        displayQuickchartButton(document);\n",
              "      </script>\n",
              "      <style>\n",
              "    .colab-df-container {\n",
              "      display:flex;\n",
              "      flex-wrap:wrap;\n",
              "      gap: 12px;\n",
              "    }\n",
              "\n",
              "    .colab-df-convert {\n",
              "      background-color: #E8F0FE;\n",
              "      border: none;\n",
              "      border-radius: 50%;\n",
              "      cursor: pointer;\n",
              "      display: none;\n",
              "      fill: #1967D2;\n",
              "      height: 32px;\n",
              "      padding: 0 0 0 0;\n",
              "      width: 32px;\n",
              "    }\n",
              "\n",
              "    .colab-df-convert:hover {\n",
              "      background-color: #E2EBFA;\n",
              "      box-shadow: 0px 1px 2px rgba(60, 64, 67, 0.3), 0px 1px 3px 1px rgba(60, 64, 67, 0.15);\n",
              "      fill: #174EA6;\n",
              "    }\n",
              "\n",
              "    [theme=dark] .colab-df-convert {\n",
              "      background-color: #3B4455;\n",
              "      fill: #D2E3FC;\n",
              "    }\n",
              "\n",
              "    [theme=dark] .colab-df-convert:hover {\n",
              "      background-color: #434B5C;\n",
              "      box-shadow: 0px 1px 3px 1px rgba(0, 0, 0, 0.15);\n",
              "      filter: drop-shadow(0px 1px 2px rgba(0, 0, 0, 0.3));\n",
              "      fill: #FFFFFF;\n",
              "    }\n",
              "  </style>\n",
              "\n",
              "      <script>\n",
              "        const buttonEl =\n",
              "          document.querySelector('#df-560d8c52-3c72-4d3d-863b-257f1aebf5a9 button.colab-df-convert');\n",
              "        buttonEl.style.display =\n",
              "          google.colab.kernel.accessAllowed ? 'block' : 'none';\n",
              "\n",
              "        async function convertToInteractive(key) {\n",
              "          const element = document.querySelector('#df-560d8c52-3c72-4d3d-863b-257f1aebf5a9');\n",
              "          const dataTable =\n",
              "            await google.colab.kernel.invokeFunction('convertToInteractive',\n",
              "                                                     [key], {});\n",
              "          if (!dataTable) return;\n",
              "\n",
              "          const docLinkHtml = 'Like what you see? Visit the ' +\n",
              "            '<a target=\"_blank\" href=https://colab.research.google.com/notebooks/data_table.ipynb>data table notebook</a>'\n",
              "            + ' to learn more about interactive tables.';\n",
              "          element.innerHTML = '';\n",
              "          dataTable['output_type'] = 'display_data';\n",
              "          await google.colab.output.renderOutput(dataTable, element);\n",
              "          const docLink = document.createElement('div');\n",
              "          docLink.innerHTML = docLinkHtml;\n",
              "          element.appendChild(docLink);\n",
              "        }\n",
              "      </script>\n",
              "    </div>\n",
              "  </div>\n"
            ]
          },
          "metadata": {},
          "execution_count": 91
        }
      ]
    },
    {
      "cell_type": "markdown",
      "source": [
        "- Foi observado que as colunas `'Quantity' `e `'UnitPrice'` apresentaram **valores negativos**, porém, esses valores correspondem a compras canceladas e não serão tratados ou removidos da base de dados.\n",
        "\n",
        "- Além disso, identificamos que tanto a coluna `'Quantity'` quanto a coluna `'UnitPrice'` apresentam um **desvio padrão elevado**, o que pode impactar negativamente o desempenho do modelo. Para lidar com essa situação iremos explorar alternativas que visam melhorar a distribuição dos dados."
      ],
      "metadata": {
        "id": "y-vsC9XdyZPh"
      }
    },
    {
      "cell_type": "code",
      "source": [
        "# vendas canceladas:\n",
        "amostra['InvoiceNo'] = amostra['InvoiceNo'].astype(str)\n",
        "amostra[amostra['InvoiceNo'].str.contains('C')]"
      ],
      "metadata": {
        "colab": {
          "base_uri": "https://localhost:8080/",
          "height": 423
        },
        "id": "w126PHVUyM_-",
        "outputId": "d49d298d-37b8-4be1-9a75-9c10d5d22921"
      },
      "execution_count": 92,
      "outputs": [
        {
          "output_type": "execute_result",
          "data": {
            "text/plain": [
              "       InvoiceNo StockCode                       Description  Quantity  \\\n",
              "141      C536379         D                          Discount        -1   \n",
              "154      C536383    35004C   SET OF 3 COLOURED  FLYING DUCKS        -1   \n",
              "235      C536391     22556    PLASTERS IN TIN CIRCUS PARADE        -12   \n",
              "236      C536391     21984  PACK OF 12 PINK PAISLEY TISSUES        -24   \n",
              "237      C536391     21983  PACK OF 12 BLUE PAISLEY TISSUES        -24   \n",
              "...          ...       ...                               ...       ...   \n",
              "540449   C581490     23144   ZINC T-LIGHT HOLDER STARS SMALL       -11   \n",
              "541541   C581499         M                            Manual        -1   \n",
              "541715   C581568     21258        VICTORIAN SEWING BOX LARGE        -5   \n",
              "541716   C581569     84978  HANGING HEART JAR T-LIGHT HOLDER        -1   \n",
              "541717   C581569     20979     36 PENCILS TUBE RED RETROSPOT        -5   \n",
              "\n",
              "               InvoiceDate  UnitPrice  CustomerID         Country  \n",
              "141    2010-12-01 09:41:00      27.50     14527.0  United Kingdom  \n",
              "154    2010-12-01 09:49:00       4.65     15311.0  United Kingdom  \n",
              "235    2010-12-01 10:24:00       1.65     17548.0  United Kingdom  \n",
              "236    2010-12-01 10:24:00       0.29     17548.0  United Kingdom  \n",
              "237    2010-12-01 10:24:00       0.29     17548.0  United Kingdom  \n",
              "...                    ...        ...         ...             ...  \n",
              "540449 2011-12-09 09:57:00       0.83     14397.0  United Kingdom  \n",
              "541541 2011-12-09 10:28:00     224.69     15498.0  United Kingdom  \n",
              "541715 2011-12-09 11:57:00      10.95     15311.0  United Kingdom  \n",
              "541716 2011-12-09 11:58:00       1.25     17315.0  United Kingdom  \n",
              "541717 2011-12-09 11:58:00       1.25     17315.0  United Kingdom  \n",
              "\n",
              "[9288 rows x 8 columns]"
            ],
            "text/html": [
              "\n",
              "\n",
              "  <div id=\"df-73196975-5151-49c8-8538-93f4dba67ecc\">\n",
              "    <div class=\"colab-df-container\">\n",
              "      <div>\n",
              "<style scoped>\n",
              "    .dataframe tbody tr th:only-of-type {\n",
              "        vertical-align: middle;\n",
              "    }\n",
              "\n",
              "    .dataframe tbody tr th {\n",
              "        vertical-align: top;\n",
              "    }\n",
              "\n",
              "    .dataframe thead th {\n",
              "        text-align: right;\n",
              "    }\n",
              "</style>\n",
              "<table border=\"1\" class=\"dataframe\">\n",
              "  <thead>\n",
              "    <tr style=\"text-align: right;\">\n",
              "      <th></th>\n",
              "      <th>InvoiceNo</th>\n",
              "      <th>StockCode</th>\n",
              "      <th>Description</th>\n",
              "      <th>Quantity</th>\n",
              "      <th>InvoiceDate</th>\n",
              "      <th>UnitPrice</th>\n",
              "      <th>CustomerID</th>\n",
              "      <th>Country</th>\n",
              "    </tr>\n",
              "  </thead>\n",
              "  <tbody>\n",
              "    <tr>\n",
              "      <th>141</th>\n",
              "      <td>C536379</td>\n",
              "      <td>D</td>\n",
              "      <td>Discount</td>\n",
              "      <td>-1</td>\n",
              "      <td>2010-12-01 09:41:00</td>\n",
              "      <td>27.50</td>\n",
              "      <td>14527.0</td>\n",
              "      <td>United Kingdom</td>\n",
              "    </tr>\n",
              "    <tr>\n",
              "      <th>154</th>\n",
              "      <td>C536383</td>\n",
              "      <td>35004C</td>\n",
              "      <td>SET OF 3 COLOURED  FLYING DUCKS</td>\n",
              "      <td>-1</td>\n",
              "      <td>2010-12-01 09:49:00</td>\n",
              "      <td>4.65</td>\n",
              "      <td>15311.0</td>\n",
              "      <td>United Kingdom</td>\n",
              "    </tr>\n",
              "    <tr>\n",
              "      <th>235</th>\n",
              "      <td>C536391</td>\n",
              "      <td>22556</td>\n",
              "      <td>PLASTERS IN TIN CIRCUS PARADE</td>\n",
              "      <td>-12</td>\n",
              "      <td>2010-12-01 10:24:00</td>\n",
              "      <td>1.65</td>\n",
              "      <td>17548.0</td>\n",
              "      <td>United Kingdom</td>\n",
              "    </tr>\n",
              "    <tr>\n",
              "      <th>236</th>\n",
              "      <td>C536391</td>\n",
              "      <td>21984</td>\n",
              "      <td>PACK OF 12 PINK PAISLEY TISSUES</td>\n",
              "      <td>-24</td>\n",
              "      <td>2010-12-01 10:24:00</td>\n",
              "      <td>0.29</td>\n",
              "      <td>17548.0</td>\n",
              "      <td>United Kingdom</td>\n",
              "    </tr>\n",
              "    <tr>\n",
              "      <th>237</th>\n",
              "      <td>C536391</td>\n",
              "      <td>21983</td>\n",
              "      <td>PACK OF 12 BLUE PAISLEY TISSUES</td>\n",
              "      <td>-24</td>\n",
              "      <td>2010-12-01 10:24:00</td>\n",
              "      <td>0.29</td>\n",
              "      <td>17548.0</td>\n",
              "      <td>United Kingdom</td>\n",
              "    </tr>\n",
              "    <tr>\n",
              "      <th>...</th>\n",
              "      <td>...</td>\n",
              "      <td>...</td>\n",
              "      <td>...</td>\n",
              "      <td>...</td>\n",
              "      <td>...</td>\n",
              "      <td>...</td>\n",
              "      <td>...</td>\n",
              "      <td>...</td>\n",
              "    </tr>\n",
              "    <tr>\n",
              "      <th>540449</th>\n",
              "      <td>C581490</td>\n",
              "      <td>23144</td>\n",
              "      <td>ZINC T-LIGHT HOLDER STARS SMALL</td>\n",
              "      <td>-11</td>\n",
              "      <td>2011-12-09 09:57:00</td>\n",
              "      <td>0.83</td>\n",
              "      <td>14397.0</td>\n",
              "      <td>United Kingdom</td>\n",
              "    </tr>\n",
              "    <tr>\n",
              "      <th>541541</th>\n",
              "      <td>C581499</td>\n",
              "      <td>M</td>\n",
              "      <td>Manual</td>\n",
              "      <td>-1</td>\n",
              "      <td>2011-12-09 10:28:00</td>\n",
              "      <td>224.69</td>\n",
              "      <td>15498.0</td>\n",
              "      <td>United Kingdom</td>\n",
              "    </tr>\n",
              "    <tr>\n",
              "      <th>541715</th>\n",
              "      <td>C581568</td>\n",
              "      <td>21258</td>\n",
              "      <td>VICTORIAN SEWING BOX LARGE</td>\n",
              "      <td>-5</td>\n",
              "      <td>2011-12-09 11:57:00</td>\n",
              "      <td>10.95</td>\n",
              "      <td>15311.0</td>\n",
              "      <td>United Kingdom</td>\n",
              "    </tr>\n",
              "    <tr>\n",
              "      <th>541716</th>\n",
              "      <td>C581569</td>\n",
              "      <td>84978</td>\n",
              "      <td>HANGING HEART JAR T-LIGHT HOLDER</td>\n",
              "      <td>-1</td>\n",
              "      <td>2011-12-09 11:58:00</td>\n",
              "      <td>1.25</td>\n",
              "      <td>17315.0</td>\n",
              "      <td>United Kingdom</td>\n",
              "    </tr>\n",
              "    <tr>\n",
              "      <th>541717</th>\n",
              "      <td>C581569</td>\n",
              "      <td>20979</td>\n",
              "      <td>36 PENCILS TUBE RED RETROSPOT</td>\n",
              "      <td>-5</td>\n",
              "      <td>2011-12-09 11:58:00</td>\n",
              "      <td>1.25</td>\n",
              "      <td>17315.0</td>\n",
              "      <td>United Kingdom</td>\n",
              "    </tr>\n",
              "  </tbody>\n",
              "</table>\n",
              "<p>9288 rows × 8 columns</p>\n",
              "</div>\n",
              "      <button class=\"colab-df-convert\" onclick=\"convertToInteractive('df-73196975-5151-49c8-8538-93f4dba67ecc')\"\n",
              "              title=\"Convert this dataframe to an interactive table.\"\n",
              "              style=\"display:none;\">\n",
              "\n",
              "  <svg xmlns=\"http://www.w3.org/2000/svg\" height=\"24px\"viewBox=\"0 0 24 24\"\n",
              "       width=\"24px\">\n",
              "    <path d=\"M0 0h24v24H0V0z\" fill=\"none\"/>\n",
              "    <path d=\"M18.56 5.44l.94 2.06.94-2.06 2.06-.94-2.06-.94-.94-2.06-.94 2.06-2.06.94zm-11 1L8.5 8.5l.94-2.06 2.06-.94-2.06-.94L8.5 2.5l-.94 2.06-2.06.94zm10 10l.94 2.06.94-2.06 2.06-.94-2.06-.94-.94-2.06-.94 2.06-2.06.94z\"/><path d=\"M17.41 7.96l-1.37-1.37c-.4-.4-.92-.59-1.43-.59-.52 0-1.04.2-1.43.59L10.3 9.45l-7.72 7.72c-.78.78-.78 2.05 0 2.83L4 21.41c.39.39.9.59 1.41.59.51 0 1.02-.2 1.41-.59l7.78-7.78 2.81-2.81c.8-.78.8-2.07 0-2.86zM5.41 20L4 18.59l7.72-7.72 1.47 1.35L5.41 20z\"/>\n",
              "  </svg>\n",
              "      </button>\n",
              "\n",
              "\n",
              "\n",
              "    <div id=\"df-fe042e9a-2038-4f67-84e9-6f57288ad863\">\n",
              "      <button class=\"colab-df-quickchart\" onclick=\"quickchart('df-fe042e9a-2038-4f67-84e9-6f57288ad863')\"\n",
              "              title=\"Suggest charts.\"\n",
              "              style=\"display:none;\">\n",
              "\n",
              "<svg xmlns=\"http://www.w3.org/2000/svg\" height=\"24px\"viewBox=\"0 0 24 24\"\n",
              "     width=\"24px\">\n",
              "    <g>\n",
              "        <path d=\"M19 3H5c-1.1 0-2 .9-2 2v14c0 1.1.9 2 2 2h14c1.1 0 2-.9 2-2V5c0-1.1-.9-2-2-2zM9 17H7v-7h2v7zm4 0h-2V7h2v10zm4 0h-2v-4h2v4z\"/>\n",
              "    </g>\n",
              "</svg>\n",
              "      </button>\n",
              "    </div>\n",
              "\n",
              "<style>\n",
              "  .colab-df-quickchart {\n",
              "    background-color: #E8F0FE;\n",
              "    border: none;\n",
              "    border-radius: 50%;\n",
              "    cursor: pointer;\n",
              "    display: none;\n",
              "    fill: #1967D2;\n",
              "    height: 32px;\n",
              "    padding: 0 0 0 0;\n",
              "    width: 32px;\n",
              "  }\n",
              "\n",
              "  .colab-df-quickchart:hover {\n",
              "    background-color: #E2EBFA;\n",
              "    box-shadow: 0px 1px 2px rgba(60, 64, 67, 0.3), 0px 1px 3px 1px rgba(60, 64, 67, 0.15);\n",
              "    fill: #174EA6;\n",
              "  }\n",
              "\n",
              "  [theme=dark] .colab-df-quickchart {\n",
              "    background-color: #3B4455;\n",
              "    fill: #D2E3FC;\n",
              "  }\n",
              "\n",
              "  [theme=dark] .colab-df-quickchart:hover {\n",
              "    background-color: #434B5C;\n",
              "    box-shadow: 0px 1px 3px 1px rgba(0, 0, 0, 0.15);\n",
              "    filter: drop-shadow(0px 1px 2px rgba(0, 0, 0, 0.3));\n",
              "    fill: #FFFFFF;\n",
              "  }\n",
              "</style>\n",
              "\n",
              "    <script>\n",
              "      async function quickchart(key) {\n",
              "        const containerElement = document.querySelector('#' + key);\n",
              "        const charts = await google.colab.kernel.invokeFunction(\n",
              "            'suggestCharts', [key], {});\n",
              "      }\n",
              "    </script>\n",
              "\n",
              "      <script>\n",
              "\n",
              "function displayQuickchartButton(domScope) {\n",
              "  let quickchartButtonEl =\n",
              "    domScope.querySelector('#df-fe042e9a-2038-4f67-84e9-6f57288ad863 button.colab-df-quickchart');\n",
              "  quickchartButtonEl.style.display =\n",
              "    google.colab.kernel.accessAllowed ? 'block' : 'none';\n",
              "}\n",
              "\n",
              "        displayQuickchartButton(document);\n",
              "      </script>\n",
              "      <style>\n",
              "    .colab-df-container {\n",
              "      display:flex;\n",
              "      flex-wrap:wrap;\n",
              "      gap: 12px;\n",
              "    }\n",
              "\n",
              "    .colab-df-convert {\n",
              "      background-color: #E8F0FE;\n",
              "      border: none;\n",
              "      border-radius: 50%;\n",
              "      cursor: pointer;\n",
              "      display: none;\n",
              "      fill: #1967D2;\n",
              "      height: 32px;\n",
              "      padding: 0 0 0 0;\n",
              "      width: 32px;\n",
              "    }\n",
              "\n",
              "    .colab-df-convert:hover {\n",
              "      background-color: #E2EBFA;\n",
              "      box-shadow: 0px 1px 2px rgba(60, 64, 67, 0.3), 0px 1px 3px 1px rgba(60, 64, 67, 0.15);\n",
              "      fill: #174EA6;\n",
              "    }\n",
              "\n",
              "    [theme=dark] .colab-df-convert {\n",
              "      background-color: #3B4455;\n",
              "      fill: #D2E3FC;\n",
              "    }\n",
              "\n",
              "    [theme=dark] .colab-df-convert:hover {\n",
              "      background-color: #434B5C;\n",
              "      box-shadow: 0px 1px 3px 1px rgba(0, 0, 0, 0.15);\n",
              "      filter: drop-shadow(0px 1px 2px rgba(0, 0, 0, 0.3));\n",
              "      fill: #FFFFFF;\n",
              "    }\n",
              "  </style>\n",
              "\n",
              "      <script>\n",
              "        const buttonEl =\n",
              "          document.querySelector('#df-73196975-5151-49c8-8538-93f4dba67ecc button.colab-df-convert');\n",
              "        buttonEl.style.display =\n",
              "          google.colab.kernel.accessAllowed ? 'block' : 'none';\n",
              "\n",
              "        async function convertToInteractive(key) {\n",
              "          const element = document.querySelector('#df-73196975-5151-49c8-8538-93f4dba67ecc');\n",
              "          const dataTable =\n",
              "            await google.colab.kernel.invokeFunction('convertToInteractive',\n",
              "                                                     [key], {});\n",
              "          if (!dataTable) return;\n",
              "\n",
              "          const docLinkHtml = 'Like what you see? Visit the ' +\n",
              "            '<a target=\"_blank\" href=https://colab.research.google.com/notebooks/data_table.ipynb>data table notebook</a>'\n",
              "            + ' to learn more about interactive tables.';\n",
              "          element.innerHTML = '';\n",
              "          dataTable['output_type'] = 'display_data';\n",
              "          await google.colab.output.renderOutput(dataTable, element);\n",
              "          const docLink = document.createElement('div');\n",
              "          docLink.innerHTML = docLinkHtml;\n",
              "          element.appendChild(docLink);\n",
              "        }\n",
              "      </script>\n",
              "    </div>\n",
              "  </div>\n"
            ]
          },
          "metadata": {},
          "execution_count": 92
        }
      ]
    },
    {
      "cell_type": "code",
      "source": [
        "# qtd. de vendas canceladas:\n",
        "len(amostra[amostra['InvoiceNo'].str.contains('C')])"
      ],
      "metadata": {
        "colab": {
          "base_uri": "https://localhost:8080/"
        },
        "id": "1g2DT1cj9nBF",
        "outputId": "9138330b-4abc-4166-dcf3-3b8b6784cbd6"
      },
      "execution_count": 93,
      "outputs": [
        {
          "output_type": "execute_result",
          "data": {
            "text/plain": [
              "9288"
            ]
          },
          "metadata": {},
          "execution_count": 93
        }
      ]
    },
    {
      "cell_type": "code",
      "source": [
        "# verificando se há valores negativos em 'Quantity' ou em 'UnitPrice' que não sejam referentes a vendas canceladas:\n",
        "amostra[(~amostra['InvoiceNo'].str.startswith('C')) & ((amostra['Quantity'] <= 0) | (amostra['UnitPrice'] <= 0))]"
      ],
      "metadata": {
        "colab": {
          "base_uri": "https://localhost:8080/",
          "height": 423
        },
        "id": "IDx4kqM3EXG1",
        "outputId": "baee92e4-2546-4a2e-d924-fe724c6d9a18"
      },
      "execution_count": 94,
      "outputs": [
        {
          "output_type": "execute_result",
          "data": {
            "text/plain": [
              "       InvoiceNo StockCode                   Description  Quantity  \\\n",
              "622       536414     22139                           NaN        56   \n",
              "1970      536545     21134                           NaN         1   \n",
              "1971      536546     22145                           NaN         1   \n",
              "1972      536547     37509                           NaN         1   \n",
              "1987      536549    85226A                           NaN         1   \n",
              "...          ...       ...                           ...       ...   \n",
              "536981    581234     72817                           NaN        27   \n",
              "538504    581406    46000M  POLYESTER FILLER PAD 45x45cm       240   \n",
              "538505    581406    46000S  POLYESTER FILLER PAD 40x40cm       300   \n",
              "538554    581408     85175                           NaN        20   \n",
              "538919    581422     23169                       smashed      -235   \n",
              "\n",
              "               InvoiceDate  UnitPrice  CustomerID         Country  \n",
              "622    2010-12-01 11:52:00        0.0         NaN  United Kingdom  \n",
              "1970   2010-12-01 14:32:00        0.0         NaN  United Kingdom  \n",
              "1971   2010-12-01 14:33:00        0.0         NaN  United Kingdom  \n",
              "1972   2010-12-01 14:33:00        0.0         NaN  United Kingdom  \n",
              "1987   2010-12-01 14:34:00        0.0         NaN  United Kingdom  \n",
              "...                    ...        ...         ...             ...  \n",
              "536981 2011-12-08 10:33:00        0.0         NaN  United Kingdom  \n",
              "538504 2011-12-08 13:58:00        0.0         NaN  United Kingdom  \n",
              "538505 2011-12-08 13:58:00        0.0         NaN  United Kingdom  \n",
              "538554 2011-12-08 14:06:00        0.0         NaN  United Kingdom  \n",
              "538919 2011-12-08 15:24:00        0.0         NaN  United Kingdom  \n",
              "\n",
              "[2517 rows x 8 columns]"
            ],
            "text/html": [
              "\n",
              "\n",
              "  <div id=\"df-a1696569-8f15-47d3-9c39-be7fb632606f\">\n",
              "    <div class=\"colab-df-container\">\n",
              "      <div>\n",
              "<style scoped>\n",
              "    .dataframe tbody tr th:only-of-type {\n",
              "        vertical-align: middle;\n",
              "    }\n",
              "\n",
              "    .dataframe tbody tr th {\n",
              "        vertical-align: top;\n",
              "    }\n",
              "\n",
              "    .dataframe thead th {\n",
              "        text-align: right;\n",
              "    }\n",
              "</style>\n",
              "<table border=\"1\" class=\"dataframe\">\n",
              "  <thead>\n",
              "    <tr style=\"text-align: right;\">\n",
              "      <th></th>\n",
              "      <th>InvoiceNo</th>\n",
              "      <th>StockCode</th>\n",
              "      <th>Description</th>\n",
              "      <th>Quantity</th>\n",
              "      <th>InvoiceDate</th>\n",
              "      <th>UnitPrice</th>\n",
              "      <th>CustomerID</th>\n",
              "      <th>Country</th>\n",
              "    </tr>\n",
              "  </thead>\n",
              "  <tbody>\n",
              "    <tr>\n",
              "      <th>622</th>\n",
              "      <td>536414</td>\n",
              "      <td>22139</td>\n",
              "      <td>NaN</td>\n",
              "      <td>56</td>\n",
              "      <td>2010-12-01 11:52:00</td>\n",
              "      <td>0.0</td>\n",
              "      <td>NaN</td>\n",
              "      <td>United Kingdom</td>\n",
              "    </tr>\n",
              "    <tr>\n",
              "      <th>1970</th>\n",
              "      <td>536545</td>\n",
              "      <td>21134</td>\n",
              "      <td>NaN</td>\n",
              "      <td>1</td>\n",
              "      <td>2010-12-01 14:32:00</td>\n",
              "      <td>0.0</td>\n",
              "      <td>NaN</td>\n",
              "      <td>United Kingdom</td>\n",
              "    </tr>\n",
              "    <tr>\n",
              "      <th>1971</th>\n",
              "      <td>536546</td>\n",
              "      <td>22145</td>\n",
              "      <td>NaN</td>\n",
              "      <td>1</td>\n",
              "      <td>2010-12-01 14:33:00</td>\n",
              "      <td>0.0</td>\n",
              "      <td>NaN</td>\n",
              "      <td>United Kingdom</td>\n",
              "    </tr>\n",
              "    <tr>\n",
              "      <th>1972</th>\n",
              "      <td>536547</td>\n",
              "      <td>37509</td>\n",
              "      <td>NaN</td>\n",
              "      <td>1</td>\n",
              "      <td>2010-12-01 14:33:00</td>\n",
              "      <td>0.0</td>\n",
              "      <td>NaN</td>\n",
              "      <td>United Kingdom</td>\n",
              "    </tr>\n",
              "    <tr>\n",
              "      <th>1987</th>\n",
              "      <td>536549</td>\n",
              "      <td>85226A</td>\n",
              "      <td>NaN</td>\n",
              "      <td>1</td>\n",
              "      <td>2010-12-01 14:34:00</td>\n",
              "      <td>0.0</td>\n",
              "      <td>NaN</td>\n",
              "      <td>United Kingdom</td>\n",
              "    </tr>\n",
              "    <tr>\n",
              "      <th>...</th>\n",
              "      <td>...</td>\n",
              "      <td>...</td>\n",
              "      <td>...</td>\n",
              "      <td>...</td>\n",
              "      <td>...</td>\n",
              "      <td>...</td>\n",
              "      <td>...</td>\n",
              "      <td>...</td>\n",
              "    </tr>\n",
              "    <tr>\n",
              "      <th>536981</th>\n",
              "      <td>581234</td>\n",
              "      <td>72817</td>\n",
              "      <td>NaN</td>\n",
              "      <td>27</td>\n",
              "      <td>2011-12-08 10:33:00</td>\n",
              "      <td>0.0</td>\n",
              "      <td>NaN</td>\n",
              "      <td>United Kingdom</td>\n",
              "    </tr>\n",
              "    <tr>\n",
              "      <th>538504</th>\n",
              "      <td>581406</td>\n",
              "      <td>46000M</td>\n",
              "      <td>POLYESTER FILLER PAD 45x45cm</td>\n",
              "      <td>240</td>\n",
              "      <td>2011-12-08 13:58:00</td>\n",
              "      <td>0.0</td>\n",
              "      <td>NaN</td>\n",
              "      <td>United Kingdom</td>\n",
              "    </tr>\n",
              "    <tr>\n",
              "      <th>538505</th>\n",
              "      <td>581406</td>\n",
              "      <td>46000S</td>\n",
              "      <td>POLYESTER FILLER PAD 40x40cm</td>\n",
              "      <td>300</td>\n",
              "      <td>2011-12-08 13:58:00</td>\n",
              "      <td>0.0</td>\n",
              "      <td>NaN</td>\n",
              "      <td>United Kingdom</td>\n",
              "    </tr>\n",
              "    <tr>\n",
              "      <th>538554</th>\n",
              "      <td>581408</td>\n",
              "      <td>85175</td>\n",
              "      <td>NaN</td>\n",
              "      <td>20</td>\n",
              "      <td>2011-12-08 14:06:00</td>\n",
              "      <td>0.0</td>\n",
              "      <td>NaN</td>\n",
              "      <td>United Kingdom</td>\n",
              "    </tr>\n",
              "    <tr>\n",
              "      <th>538919</th>\n",
              "      <td>581422</td>\n",
              "      <td>23169</td>\n",
              "      <td>smashed</td>\n",
              "      <td>-235</td>\n",
              "      <td>2011-12-08 15:24:00</td>\n",
              "      <td>0.0</td>\n",
              "      <td>NaN</td>\n",
              "      <td>United Kingdom</td>\n",
              "    </tr>\n",
              "  </tbody>\n",
              "</table>\n",
              "<p>2517 rows × 8 columns</p>\n",
              "</div>\n",
              "      <button class=\"colab-df-convert\" onclick=\"convertToInteractive('df-a1696569-8f15-47d3-9c39-be7fb632606f')\"\n",
              "              title=\"Convert this dataframe to an interactive table.\"\n",
              "              style=\"display:none;\">\n",
              "\n",
              "  <svg xmlns=\"http://www.w3.org/2000/svg\" height=\"24px\"viewBox=\"0 0 24 24\"\n",
              "       width=\"24px\">\n",
              "    <path d=\"M0 0h24v24H0V0z\" fill=\"none\"/>\n",
              "    <path d=\"M18.56 5.44l.94 2.06.94-2.06 2.06-.94-2.06-.94-.94-2.06-.94 2.06-2.06.94zm-11 1L8.5 8.5l.94-2.06 2.06-.94-2.06-.94L8.5 2.5l-.94 2.06-2.06.94zm10 10l.94 2.06.94-2.06 2.06-.94-2.06-.94-.94-2.06-.94 2.06-2.06.94z\"/><path d=\"M17.41 7.96l-1.37-1.37c-.4-.4-.92-.59-1.43-.59-.52 0-1.04.2-1.43.59L10.3 9.45l-7.72 7.72c-.78.78-.78 2.05 0 2.83L4 21.41c.39.39.9.59 1.41.59.51 0 1.02-.2 1.41-.59l7.78-7.78 2.81-2.81c.8-.78.8-2.07 0-2.86zM5.41 20L4 18.59l7.72-7.72 1.47 1.35L5.41 20z\"/>\n",
              "  </svg>\n",
              "      </button>\n",
              "\n",
              "\n",
              "\n",
              "    <div id=\"df-e2d0c23d-5d96-47a9-98e4-58f688f209ae\">\n",
              "      <button class=\"colab-df-quickchart\" onclick=\"quickchart('df-e2d0c23d-5d96-47a9-98e4-58f688f209ae')\"\n",
              "              title=\"Suggest charts.\"\n",
              "              style=\"display:none;\">\n",
              "\n",
              "<svg xmlns=\"http://www.w3.org/2000/svg\" height=\"24px\"viewBox=\"0 0 24 24\"\n",
              "     width=\"24px\">\n",
              "    <g>\n",
              "        <path d=\"M19 3H5c-1.1 0-2 .9-2 2v14c0 1.1.9 2 2 2h14c1.1 0 2-.9 2-2V5c0-1.1-.9-2-2-2zM9 17H7v-7h2v7zm4 0h-2V7h2v10zm4 0h-2v-4h2v4z\"/>\n",
              "    </g>\n",
              "</svg>\n",
              "      </button>\n",
              "    </div>\n",
              "\n",
              "<style>\n",
              "  .colab-df-quickchart {\n",
              "    background-color: #E8F0FE;\n",
              "    border: none;\n",
              "    border-radius: 50%;\n",
              "    cursor: pointer;\n",
              "    display: none;\n",
              "    fill: #1967D2;\n",
              "    height: 32px;\n",
              "    padding: 0 0 0 0;\n",
              "    width: 32px;\n",
              "  }\n",
              "\n",
              "  .colab-df-quickchart:hover {\n",
              "    background-color: #E2EBFA;\n",
              "    box-shadow: 0px 1px 2px rgba(60, 64, 67, 0.3), 0px 1px 3px 1px rgba(60, 64, 67, 0.15);\n",
              "    fill: #174EA6;\n",
              "  }\n",
              "\n",
              "  [theme=dark] .colab-df-quickchart {\n",
              "    background-color: #3B4455;\n",
              "    fill: #D2E3FC;\n",
              "  }\n",
              "\n",
              "  [theme=dark] .colab-df-quickchart:hover {\n",
              "    background-color: #434B5C;\n",
              "    box-shadow: 0px 1px 3px 1px rgba(0, 0, 0, 0.15);\n",
              "    filter: drop-shadow(0px 1px 2px rgba(0, 0, 0, 0.3));\n",
              "    fill: #FFFFFF;\n",
              "  }\n",
              "</style>\n",
              "\n",
              "    <script>\n",
              "      async function quickchart(key) {\n",
              "        const containerElement = document.querySelector('#' + key);\n",
              "        const charts = await google.colab.kernel.invokeFunction(\n",
              "            'suggestCharts', [key], {});\n",
              "      }\n",
              "    </script>\n",
              "\n",
              "      <script>\n",
              "\n",
              "function displayQuickchartButton(domScope) {\n",
              "  let quickchartButtonEl =\n",
              "    domScope.querySelector('#df-e2d0c23d-5d96-47a9-98e4-58f688f209ae button.colab-df-quickchart');\n",
              "  quickchartButtonEl.style.display =\n",
              "    google.colab.kernel.accessAllowed ? 'block' : 'none';\n",
              "}\n",
              "\n",
              "        displayQuickchartButton(document);\n",
              "      </script>\n",
              "      <style>\n",
              "    .colab-df-container {\n",
              "      display:flex;\n",
              "      flex-wrap:wrap;\n",
              "      gap: 12px;\n",
              "    }\n",
              "\n",
              "    .colab-df-convert {\n",
              "      background-color: #E8F0FE;\n",
              "      border: none;\n",
              "      border-radius: 50%;\n",
              "      cursor: pointer;\n",
              "      display: none;\n",
              "      fill: #1967D2;\n",
              "      height: 32px;\n",
              "      padding: 0 0 0 0;\n",
              "      width: 32px;\n",
              "    }\n",
              "\n",
              "    .colab-df-convert:hover {\n",
              "      background-color: #E2EBFA;\n",
              "      box-shadow: 0px 1px 2px rgba(60, 64, 67, 0.3), 0px 1px 3px 1px rgba(60, 64, 67, 0.15);\n",
              "      fill: #174EA6;\n",
              "    }\n",
              "\n",
              "    [theme=dark] .colab-df-convert {\n",
              "      background-color: #3B4455;\n",
              "      fill: #D2E3FC;\n",
              "    }\n",
              "\n",
              "    [theme=dark] .colab-df-convert:hover {\n",
              "      background-color: #434B5C;\n",
              "      box-shadow: 0px 1px 3px 1px rgba(0, 0, 0, 0.15);\n",
              "      filter: drop-shadow(0px 1px 2px rgba(0, 0, 0, 0.3));\n",
              "      fill: #FFFFFF;\n",
              "    }\n",
              "  </style>\n",
              "\n",
              "      <script>\n",
              "        const buttonEl =\n",
              "          document.querySelector('#df-a1696569-8f15-47d3-9c39-be7fb632606f button.colab-df-convert');\n",
              "        buttonEl.style.display =\n",
              "          google.colab.kernel.accessAllowed ? 'block' : 'none';\n",
              "\n",
              "        async function convertToInteractive(key) {\n",
              "          const element = document.querySelector('#df-a1696569-8f15-47d3-9c39-be7fb632606f');\n",
              "          const dataTable =\n",
              "            await google.colab.kernel.invokeFunction('convertToInteractive',\n",
              "                                                     [key], {});\n",
              "          if (!dataTable) return;\n",
              "\n",
              "          const docLinkHtml = 'Like what you see? Visit the ' +\n",
              "            '<a target=\"_blank\" href=https://colab.research.google.com/notebooks/data_table.ipynb>data table notebook</a>'\n",
              "            + ' to learn more about interactive tables.';\n",
              "          element.innerHTML = '';\n",
              "          dataTable['output_type'] = 'display_data';\n",
              "          await google.colab.output.renderOutput(dataTable, element);\n",
              "          const docLink = document.createElement('div');\n",
              "          docLink.innerHTML = docLinkHtml;\n",
              "          element.appendChild(docLink);\n",
              "        }\n",
              "      </script>\n",
              "    </div>\n",
              "  </div>\n"
            ]
          },
          "metadata": {},
          "execution_count": 94
        }
      ]
    },
    {
      "cell_type": "code",
      "source": [
        "# percentual de vendas 'não canceladas' com qtd ou valor unitário negativos:\n",
        "round(len(amostra[(~amostra['InvoiceNo'].str.startswith('C')) & ((amostra['Quantity'] <= 0) | (amostra['UnitPrice'] <= 0))])/ len(amostra)*100, 2)"
      ],
      "metadata": {
        "colab": {
          "base_uri": "https://localhost:8080/"
        },
        "id": "kp7ac8NxY98F",
        "outputId": "8cfdebcc-4259-4b96-f7cb-cd56d69a45f2"
      },
      "execution_count": 95,
      "outputs": [
        {
          "output_type": "execute_result",
          "data": {
            "text/plain": [
              "0.46"
            ]
          },
          "metadata": {},
          "execution_count": 95
        }
      ]
    },
    {
      "cell_type": "code",
      "source": [
        "# percentual de vendas canceladas:\n",
        "round(len(amostra[amostra['InvoiceNo'].str.contains('C')]) / len(amostra)*100, 2)"
      ],
      "metadata": {
        "colab": {
          "base_uri": "https://localhost:8080/"
        },
        "id": "rKWd4eZ5DdsG",
        "outputId": "ddc4bf87-02c4-4da5-cbda-9afbe83e09d1"
      },
      "execution_count": 96,
      "outputs": [
        {
          "output_type": "execute_result",
          "data": {
            "text/plain": [
              "1.71"
            ]
          },
          "metadata": {},
          "execution_count": 96
        }
      ]
    },
    {
      "cell_type": "markdown",
      "source": [
        "- Aproximadamente **0.5%** dos valores na base apresentam informações zeradas ou negativas em `'Quantity'` e `'UnitPrice'`, porém, não estão relacionados a vendas canceladas. Para garantir a consistência dos dados, iremos proceder com a remoção dessas informações na base.\n",
        "\n",
        "- O percentual de vendas canceladas na amostra é de aproximadamente **2%** dos dados, indicando um desequilíbrio nos dados. Para abordar essa questão, iremos verificar e aplicar técnicas para realizar o balancear os dados."
      ],
      "metadata": {
        "id": "UW1ZOgo-DhfO"
      }
    },
    {
      "cell_type": "code",
      "source": [
        "# verificando valores ausentes:\n",
        "(amostra.isna().sum() / len(amostra)*100).sort_values(ascending=False)"
      ],
      "metadata": {
        "colab": {
          "base_uri": "https://localhost:8080/"
        },
        "id": "cPpkn6TVITWA",
        "outputId": "bb2ed200-6dae-43b8-aafa-df43edcaaa0e"
      },
      "execution_count": 97,
      "outputs": [
        {
          "output_type": "execute_result",
          "data": {
            "text/plain": [
              "CustomerID     24.926694\n",
              "Description     0.268311\n",
              "InvoiceNo       0.000000\n",
              "StockCode       0.000000\n",
              "Quantity        0.000000\n",
              "InvoiceDate     0.000000\n",
              "UnitPrice       0.000000\n",
              "Country         0.000000\n",
              "dtype: float64"
            ]
          },
          "metadata": {},
          "execution_count": 97
        }
      ]
    },
    {
      "cell_type": "code",
      "source": [
        "# verificando se há valores diferentes do padrão para 'InvoiceNo' (valores devem ter 6 ou 7 digitos [para casos cancelado])\n",
        "codigos_unicos_invoice = amostra['InvoiceNo'].astype(str).tolist()\n",
        "codigos_invalidos = [codigo for codigo in codigos_unicos_invoice if len(str(codigo)) < 6 or len(str(codigo)) > 7]\n",
        "f'Há {len(codigos_invalidos)} código(s) divergente(s). Alguns exemplos: {codigos_invalidos}'"
      ],
      "metadata": {
        "colab": {
          "base_uri": "https://localhost:8080/",
          "height": 36
        },
        "id": "GhhxvLfLgk5W",
        "outputId": "89d8a17b-8fb7-4c3d-e30e-39e81de0b374"
      },
      "execution_count": 98,
      "outputs": [
        {
          "output_type": "execute_result",
          "data": {
            "text/plain": [
              "'Há 0 código(s) divergente(s). Alguns exemplos: []'"
            ],
            "application/vnd.google.colaboratory.intrinsic+json": {
              "type": "string"
            }
          },
          "metadata": {},
          "execution_count": 98
        }
      ]
    },
    {
      "cell_type": "code",
      "source": [
        "# verificando se há valores diferentes do padrão para 'InvoiceNo' (valores devem ter 5 dígitos)\n",
        "codigos_unicos_stock = amostra['StockCode'].tolist()\n",
        "codigos_invalidos = [codigo for codigo in codigos_unicos_stock if len(str(codigo)) != 5 or not str(codigo).isdigit()]\n",
        "f'Há {len(codigos_invalidos)} código(s) divergente(s). Alguns exemplos: {codigos_invalidos[:5]}'"
      ],
      "metadata": {
        "colab": {
          "base_uri": "https://localhost:8080/",
          "height": 36
        },
        "id": "pbSzBPCUiZOu",
        "outputId": "19a74f05-5e6e-4b9e-b0e5-2bfc05887f70"
      },
      "execution_count": 99,
      "outputs": [
        {
          "output_type": "execute_result",
          "data": {
            "text/plain": [
              "\"Há 54873 código(s) divergente(s). Alguns exemplos: ['85123A', '84406B', '84029G', '84029E', 'POST']\""
            ],
            "application/vnd.google.colaboratory.intrinsic+json": {
              "type": "string"
            }
          },
          "metadata": {},
          "execution_count": 99
        }
      ]
    },
    {
      "cell_type": "code",
      "source": [
        "round(len(codigos_invalidos) / len(amostra)*100,2)"
      ],
      "metadata": {
        "colab": {
          "base_uri": "https://localhost:8080/"
        },
        "id": "NynplxKnqZ1l",
        "outputId": "881f80ea-1fd1-460e-8530-9b358b5b916c"
      },
      "execution_count": 100,
      "outputs": [
        {
          "output_type": "execute_result",
          "data": {
            "text/plain": [
              "10.13"
            ]
          },
          "metadata": {},
          "execution_count": 100
        }
      ]
    },
    {
      "cell_type": "code",
      "source": [
        "# alterando o tipo da variável 'CustomerID' para string e removendo o '.0' no final:\n",
        "amostra['CustomerID'] = amostra['CustomerID'].astype(str).str.split('.').str[0]"
      ],
      "metadata": {
        "id": "5V2d8JO5wU1S"
      },
      "execution_count": 101,
      "outputs": []
    },
    {
      "cell_type": "code",
      "source": [
        "# verificando se há valores diferentes do padrão para 'CustomerID'\n",
        "codigos_unicos_customer = amostra['CustomerID'].tolist()\n",
        "codigos_invalidos = [codigo for codigo in codigos_unicos_customer if len(str(codigo)) != 5 or not str(codigo).isdigit()]\n",
        "f'Há {len(codigos_invalidos)} código(s) divergente(s). Alguns exemplos: {codigos_invalidos[:5]}'"
      ],
      "metadata": {
        "colab": {
          "base_uri": "https://localhost:8080/",
          "height": 36
        },
        "id": "ck-J21QvkX1V",
        "outputId": "d1e45761-1350-48ce-ec8e-f8d96ff8a25d"
      },
      "execution_count": 102,
      "outputs": [
        {
          "output_type": "execute_result",
          "data": {
            "text/plain": [
              "\"Há 135080 código(s) divergente(s). Alguns exemplos: ['nan', 'nan', 'nan', 'nan', 'nan']\""
            ],
            "application/vnd.google.colaboratory.intrinsic+json": {
              "type": "string"
            }
          },
          "metadata": {},
          "execution_count": 102
        }
      ]
    },
    {
      "cell_type": "code",
      "source": [
        "round(len(codigos_invalidos) / len(amostra)*100,2)"
      ],
      "metadata": {
        "colab": {
          "base_uri": "https://localhost:8080/"
        },
        "id": "ufdrf7vODwQl",
        "outputId": "b8dd1df9-33f2-4066-9d3f-1c1adebd058a"
      },
      "execution_count": 103,
      "outputs": [
        {
          "output_type": "execute_result",
          "data": {
            "text/plain": [
              "24.93"
            ]
          },
          "metadata": {},
          "execution_count": 103
        }
      ]
    },
    {
      "cell_type": "markdown",
      "source": [
        "- A coluna `'CustomerID'` apresenta valores nulos, representando aproximadamente **25%** dos registros. Essa coluna é importante para o poder de predição do modelo, portanto será necessário encontrar uma estratégia adequada para lidar com esses valores ausentes.\n",
        "\n",
        "- A coluna `'InvoiceNo'` não apresenta valores despadronizados, ou seja, não há problemas a serem tratados nessa coluna.\n",
        "\n",
        "- A coluna `'StockCode'` possui valores despadronizados, afetando cerca de **10%** dos registros. Será necessário realizar algum tipo de tratamento para lidar com esses valores inconsistentes.\n",
        "\n",
        "- Os valores despadronizados em `'CustomerID'` são registros em 'nan', representando **24%** dos dados. Como pontuado, essa coluna é importante para o poder de predição do modelo, portanto será necessário encontrar uma estratégia adequada para lidar com esses valores divergentes."
      ],
      "metadata": {
        "id": "3wqKRWeu5WUa"
      }
    },
    {
      "cell_type": "code",
      "source": [
        "# Verificando proporção de infos por pais:\n",
        "amostra['Country'].value_counts() / len(amostra)*100"
      ],
      "metadata": {
        "colab": {
          "base_uri": "https://localhost:8080/"
        },
        "id": "q6FDZat-Uf-S",
        "outputId": "d0b17e9f-6301-47b6-801d-a8466c1c11fe"
      },
      "execution_count": 104,
      "outputs": [
        {
          "output_type": "execute_result",
          "data": {
            "text/plain": [
              "United Kingdom          91.431956\n",
              "Germany                  1.752139\n",
              "France                   1.579047\n",
              "EIRE                     1.512431\n",
              "Spain                    0.467422\n",
              "Netherlands              0.437527\n",
              "Belgium                  0.381798\n",
              "Switzerland              0.369435\n",
              "Portugal                 0.280305\n",
              "Australia                0.232327\n",
              "Norway                   0.200403\n",
              "Italy                    0.148180\n",
              "Channel Islands          0.139876\n",
              "Finland                  0.128250\n",
              "Cyprus                   0.114779\n",
              "Sweden                   0.085254\n",
              "Unspecified              0.082302\n",
              "Austria                  0.073998\n",
              "Denmark                  0.071783\n",
              "Japan                    0.066063\n",
              "Poland                   0.062926\n",
              "Israel                   0.054806\n",
              "USA                      0.053699\n",
              "Hong Kong                0.053145\n",
              "Singapore                0.042258\n",
              "Iceland                  0.033585\n",
              "Canada                   0.027864\n",
              "Greece                   0.026942\n",
              "Malta                    0.023436\n",
              "United Arab Emirates     0.012548\n",
              "European Community       0.011257\n",
              "RSA                      0.010703\n",
              "Lebanon                  0.008304\n",
              "Lithuania                0.006459\n",
              "Brazil                   0.005905\n",
              "Czech Republic           0.005536\n",
              "Bahrain                  0.003506\n",
              "Saudi Arabia             0.001845\n",
              "Name: Country, dtype: float64"
            ]
          },
          "metadata": {},
          "execution_count": 104
        }
      ]
    },
    {
      "cell_type": "code",
      "source": [
        "# Qtd de paises:\n",
        "amostra['Country'].nunique()"
      ],
      "metadata": {
        "colab": {
          "base_uri": "https://localhost:8080/"
        },
        "id": "VlrAu_oo22z7",
        "outputId": "008d6c8b-2e3f-45c9-95e9-1a2051c82387"
      },
      "execution_count": 105,
      "outputs": [
        {
          "output_type": "execute_result",
          "data": {
            "text/plain": [
              "38"
            ]
          },
          "metadata": {},
          "execution_count": 105
        }
      ]
    },
    {
      "cell_type": "markdown",
      "source": [
        "- 91% dos dados são referentes a compras realizadas no **Reino Unido (United Kingdom**), o que indica uma concentração significativa de registros nesse país. Ou seja, as informação pode ser relevante para **análises específicas relacionadas ao mercado britânico.**"
      ],
      "metadata": {
        "id": "SCELiwywdcpA"
      }
    },
    {
      "cell_type": "code",
      "source": [
        "# Anos presente na base:\n",
        "amostra['InvoiceDate'].dt.year.unique()"
      ],
      "metadata": {
        "colab": {
          "base_uri": "https://localhost:8080/"
        },
        "id": "cgzlbI_PWFEu",
        "outputId": "54681c7e-c5f8-4869-b2d5-3a27f14a6974"
      },
      "execution_count": 106,
      "outputs": [
        {
          "output_type": "execute_result",
          "data": {
            "text/plain": [
              "array([2010, 2011])"
            ]
          },
          "metadata": {},
          "execution_count": 106
        }
      ]
    },
    {
      "cell_type": "code",
      "source": [
        "# Qtd de itens:\n",
        "amostra['StockCode'].nunique()"
      ],
      "metadata": {
        "colab": {
          "base_uri": "https://localhost:8080/"
        },
        "id": "MtFWdgSfWVsh",
        "outputId": "d8dade93-9864-4969-c957-936399a08e2b"
      },
      "execution_count": 107,
      "outputs": [
        {
          "output_type": "execute_result",
          "data": {
            "text/plain": [
              "4070"
            ]
          },
          "metadata": {},
          "execution_count": 107
        }
      ]
    },
    {
      "cell_type": "code",
      "source": [
        "# Qtd de clientes:\n",
        "amostra['CustomerID'].dropna().nunique()"
      ],
      "metadata": {
        "colab": {
          "base_uri": "https://localhost:8080/"
        },
        "id": "cYw1av5A4IDp",
        "outputId": "c461c2a0-85b8-4a1e-a1f7-b8d231ae5fc5"
      },
      "execution_count": 108,
      "outputs": [
        {
          "output_type": "execute_result",
          "data": {
            "text/plain": [
              "4373"
            ]
          },
          "metadata": {},
          "execution_count": 108
        }
      ]
    },
    {
      "cell_type": "markdown",
      "source": [
        "**Resumo das conclusões:**\n",
        "\n",
        "A amostra contém dados de vendas referentes aos anos de 2010 e 2011. Esses dados incluem um total de 4.070 itens diferentes vendidos para um conjunto de 4.373 clientes em 38 países, sendo United Kingdom (Reino Unido) o pais mais representativo, com uma parcela de 91% da amostra.\n",
        "\n",
        "> Colunas `'Quantity'` e `'UnitPrice'`:\n",
        "\n",
        "Os valores negativos encontrados nessas colunas são referentes a vendas canceladas. Para evitar qualquer influência indesejada na base de dados, as vendas não canceladas com informações negativas ou zeradas nessas colunas serão removidas.\n",
        "\n",
        "Além disso, é importante destacar que as colunas `'Quantity'` e `'UnitPrice'` apresentam um desvio padrão elevado, o que pode prejudicar o desempenho do modelo. A fim de melhorar a distribuição dos dados, serão exploradas alternativas para tratar essa situação.\n",
        "\n",
        "> Coluna `'InvoiceNo'`:\n",
        "\n",
        "Observamos que a base de dados está desbalanceada, com apenas 2% dos registros relacionados a cancelamentos. Para ajustar esse desequilíbrio, será necessário aplicar técnicas apropriadas de tratamento, visando obter uma distribuição mais equitativa e representativa dos dados.\n",
        "\n",
        "> Colunas `'CustomerID'` e '`StockCode'`:\n",
        "\n",
        "Ambas as colunas apresentam valores despadronizados que precisarão ser tratados."
      ],
      "metadata": {
        "id": "ezB_hyA71w3b"
      }
    },
    {
      "cell_type": "markdown",
      "source": [
        "#### ***Preparação e análise da base:***\n",
        "\n",
        "---\n",
        "\n"
      ],
      "metadata": {
        "id": "AGujc1zj507l"
      }
    },
    {
      "cell_type": "markdown",
      "source": [
        "Resumo dos passos:\n",
        "\n",
        "- Gerando a base que será utilizada e fazendo os ajustes necessários:\n",
        "  - Tratamento de informações divergentes;\n",
        "  - Tratamento de nulos;\n",
        "  - Filtros.\n",
        "- Tratamento, criação e análise das features.\n",
        "- Definição, criação, tratamento e análise da target.\n",
        "- EDA das informações finais da base."
      ],
      "metadata": {
        "id": "ytK7sAOgTnf7"
      }
    },
    {
      "cell_type": "code",
      "source": [
        "# Criando base para tratamento e aplicação do modelo, matendo a 'amostra' sem alterações:\n",
        "base_amostra = pd.DataFrame()\n",
        "base_amostra = amostra.copy()\n",
        "base_amostra"
      ],
      "metadata": {
        "colab": {
          "base_uri": "https://localhost:8080/",
          "height": 423
        },
        "id": "PdR8ljOfGQSl",
        "outputId": "9eb20c85-2f25-46cd-a54e-1ad777804525"
      },
      "execution_count": 109,
      "outputs": [
        {
          "output_type": "execute_result",
          "data": {
            "text/plain": [
              "       InvoiceNo StockCode                          Description  Quantity  \\\n",
              "0         536365    85123A   WHITE HANGING HEART T-LIGHT HOLDER         6   \n",
              "1         536365     71053                  WHITE METAL LANTERN         6   \n",
              "2         536365    84406B       CREAM CUPID HEARTS COAT HANGER         8   \n",
              "3         536365    84029G  KNITTED UNION FLAG HOT WATER BOTTLE         6   \n",
              "4         536365    84029E       RED WOOLLY HOTTIE WHITE HEART.         6   \n",
              "...          ...       ...                                  ...       ...   \n",
              "541904    581587     22613          PACK OF 20 SPACEBOY NAPKINS        12   \n",
              "541905    581587     22899         CHILDREN'S APRON DOLLY GIRL          6   \n",
              "541906    581587     23254        CHILDRENS CUTLERY DOLLY GIRL          4   \n",
              "541907    581587     23255      CHILDRENS CUTLERY CIRCUS PARADE         4   \n",
              "541908    581587     22138        BAKING SET 9 PIECE RETROSPOT          3   \n",
              "\n",
              "               InvoiceDate  UnitPrice CustomerID         Country  \n",
              "0      2010-12-01 08:26:00       2.55      17850  United Kingdom  \n",
              "1      2010-12-01 08:26:00       3.39      17850  United Kingdom  \n",
              "2      2010-12-01 08:26:00       2.75      17850  United Kingdom  \n",
              "3      2010-12-01 08:26:00       3.39      17850  United Kingdom  \n",
              "4      2010-12-01 08:26:00       3.39      17850  United Kingdom  \n",
              "...                    ...        ...        ...             ...  \n",
              "541904 2011-12-09 12:50:00       0.85      12680          France  \n",
              "541905 2011-12-09 12:50:00       2.10      12680          France  \n",
              "541906 2011-12-09 12:50:00       4.15      12680          France  \n",
              "541907 2011-12-09 12:50:00       4.15      12680          France  \n",
              "541908 2011-12-09 12:50:00       4.95      12680          France  \n",
              "\n",
              "[541909 rows x 8 columns]"
            ],
            "text/html": [
              "\n",
              "\n",
              "  <div id=\"df-310e9e81-7f95-4aa3-9c43-ba8d24c198b8\">\n",
              "    <div class=\"colab-df-container\">\n",
              "      <div>\n",
              "<style scoped>\n",
              "    .dataframe tbody tr th:only-of-type {\n",
              "        vertical-align: middle;\n",
              "    }\n",
              "\n",
              "    .dataframe tbody tr th {\n",
              "        vertical-align: top;\n",
              "    }\n",
              "\n",
              "    .dataframe thead th {\n",
              "        text-align: right;\n",
              "    }\n",
              "</style>\n",
              "<table border=\"1\" class=\"dataframe\">\n",
              "  <thead>\n",
              "    <tr style=\"text-align: right;\">\n",
              "      <th></th>\n",
              "      <th>InvoiceNo</th>\n",
              "      <th>StockCode</th>\n",
              "      <th>Description</th>\n",
              "      <th>Quantity</th>\n",
              "      <th>InvoiceDate</th>\n",
              "      <th>UnitPrice</th>\n",
              "      <th>CustomerID</th>\n",
              "      <th>Country</th>\n",
              "    </tr>\n",
              "  </thead>\n",
              "  <tbody>\n",
              "    <tr>\n",
              "      <th>0</th>\n",
              "      <td>536365</td>\n",
              "      <td>85123A</td>\n",
              "      <td>WHITE HANGING HEART T-LIGHT HOLDER</td>\n",
              "      <td>6</td>\n",
              "      <td>2010-12-01 08:26:00</td>\n",
              "      <td>2.55</td>\n",
              "      <td>17850</td>\n",
              "      <td>United Kingdom</td>\n",
              "    </tr>\n",
              "    <tr>\n",
              "      <th>1</th>\n",
              "      <td>536365</td>\n",
              "      <td>71053</td>\n",
              "      <td>WHITE METAL LANTERN</td>\n",
              "      <td>6</td>\n",
              "      <td>2010-12-01 08:26:00</td>\n",
              "      <td>3.39</td>\n",
              "      <td>17850</td>\n",
              "      <td>United Kingdom</td>\n",
              "    </tr>\n",
              "    <tr>\n",
              "      <th>2</th>\n",
              "      <td>536365</td>\n",
              "      <td>84406B</td>\n",
              "      <td>CREAM CUPID HEARTS COAT HANGER</td>\n",
              "      <td>8</td>\n",
              "      <td>2010-12-01 08:26:00</td>\n",
              "      <td>2.75</td>\n",
              "      <td>17850</td>\n",
              "      <td>United Kingdom</td>\n",
              "    </tr>\n",
              "    <tr>\n",
              "      <th>3</th>\n",
              "      <td>536365</td>\n",
              "      <td>84029G</td>\n",
              "      <td>KNITTED UNION FLAG HOT WATER BOTTLE</td>\n",
              "      <td>6</td>\n",
              "      <td>2010-12-01 08:26:00</td>\n",
              "      <td>3.39</td>\n",
              "      <td>17850</td>\n",
              "      <td>United Kingdom</td>\n",
              "    </tr>\n",
              "    <tr>\n",
              "      <th>4</th>\n",
              "      <td>536365</td>\n",
              "      <td>84029E</td>\n",
              "      <td>RED WOOLLY HOTTIE WHITE HEART.</td>\n",
              "      <td>6</td>\n",
              "      <td>2010-12-01 08:26:00</td>\n",
              "      <td>3.39</td>\n",
              "      <td>17850</td>\n",
              "      <td>United Kingdom</td>\n",
              "    </tr>\n",
              "    <tr>\n",
              "      <th>...</th>\n",
              "      <td>...</td>\n",
              "      <td>...</td>\n",
              "      <td>...</td>\n",
              "      <td>...</td>\n",
              "      <td>...</td>\n",
              "      <td>...</td>\n",
              "      <td>...</td>\n",
              "      <td>...</td>\n",
              "    </tr>\n",
              "    <tr>\n",
              "      <th>541904</th>\n",
              "      <td>581587</td>\n",
              "      <td>22613</td>\n",
              "      <td>PACK OF 20 SPACEBOY NAPKINS</td>\n",
              "      <td>12</td>\n",
              "      <td>2011-12-09 12:50:00</td>\n",
              "      <td>0.85</td>\n",
              "      <td>12680</td>\n",
              "      <td>France</td>\n",
              "    </tr>\n",
              "    <tr>\n",
              "      <th>541905</th>\n",
              "      <td>581587</td>\n",
              "      <td>22899</td>\n",
              "      <td>CHILDREN'S APRON DOLLY GIRL</td>\n",
              "      <td>6</td>\n",
              "      <td>2011-12-09 12:50:00</td>\n",
              "      <td>2.10</td>\n",
              "      <td>12680</td>\n",
              "      <td>France</td>\n",
              "    </tr>\n",
              "    <tr>\n",
              "      <th>541906</th>\n",
              "      <td>581587</td>\n",
              "      <td>23254</td>\n",
              "      <td>CHILDRENS CUTLERY DOLLY GIRL</td>\n",
              "      <td>4</td>\n",
              "      <td>2011-12-09 12:50:00</td>\n",
              "      <td>4.15</td>\n",
              "      <td>12680</td>\n",
              "      <td>France</td>\n",
              "    </tr>\n",
              "    <tr>\n",
              "      <th>541907</th>\n",
              "      <td>581587</td>\n",
              "      <td>23255</td>\n",
              "      <td>CHILDRENS CUTLERY CIRCUS PARADE</td>\n",
              "      <td>4</td>\n",
              "      <td>2011-12-09 12:50:00</td>\n",
              "      <td>4.15</td>\n",
              "      <td>12680</td>\n",
              "      <td>France</td>\n",
              "    </tr>\n",
              "    <tr>\n",
              "      <th>541908</th>\n",
              "      <td>581587</td>\n",
              "      <td>22138</td>\n",
              "      <td>BAKING SET 9 PIECE RETROSPOT</td>\n",
              "      <td>3</td>\n",
              "      <td>2011-12-09 12:50:00</td>\n",
              "      <td>4.95</td>\n",
              "      <td>12680</td>\n",
              "      <td>France</td>\n",
              "    </tr>\n",
              "  </tbody>\n",
              "</table>\n",
              "<p>541909 rows × 8 columns</p>\n",
              "</div>\n",
              "      <button class=\"colab-df-convert\" onclick=\"convertToInteractive('df-310e9e81-7f95-4aa3-9c43-ba8d24c198b8')\"\n",
              "              title=\"Convert this dataframe to an interactive table.\"\n",
              "              style=\"display:none;\">\n",
              "\n",
              "  <svg xmlns=\"http://www.w3.org/2000/svg\" height=\"24px\"viewBox=\"0 0 24 24\"\n",
              "       width=\"24px\">\n",
              "    <path d=\"M0 0h24v24H0V0z\" fill=\"none\"/>\n",
              "    <path d=\"M18.56 5.44l.94 2.06.94-2.06 2.06-.94-2.06-.94-.94-2.06-.94 2.06-2.06.94zm-11 1L8.5 8.5l.94-2.06 2.06-.94-2.06-.94L8.5 2.5l-.94 2.06-2.06.94zm10 10l.94 2.06.94-2.06 2.06-.94-2.06-.94-.94-2.06-.94 2.06-2.06.94z\"/><path d=\"M17.41 7.96l-1.37-1.37c-.4-.4-.92-.59-1.43-.59-.52 0-1.04.2-1.43.59L10.3 9.45l-7.72 7.72c-.78.78-.78 2.05 0 2.83L4 21.41c.39.39.9.59 1.41.59.51 0 1.02-.2 1.41-.59l7.78-7.78 2.81-2.81c.8-.78.8-2.07 0-2.86zM5.41 20L4 18.59l7.72-7.72 1.47 1.35L5.41 20z\"/>\n",
              "  </svg>\n",
              "      </button>\n",
              "\n",
              "\n",
              "\n",
              "    <div id=\"df-92239daf-439b-4c59-b36a-2cf42ea57fb9\">\n",
              "      <button class=\"colab-df-quickchart\" onclick=\"quickchart('df-92239daf-439b-4c59-b36a-2cf42ea57fb9')\"\n",
              "              title=\"Suggest charts.\"\n",
              "              style=\"display:none;\">\n",
              "\n",
              "<svg xmlns=\"http://www.w3.org/2000/svg\" height=\"24px\"viewBox=\"0 0 24 24\"\n",
              "     width=\"24px\">\n",
              "    <g>\n",
              "        <path d=\"M19 3H5c-1.1 0-2 .9-2 2v14c0 1.1.9 2 2 2h14c1.1 0 2-.9 2-2V5c0-1.1-.9-2-2-2zM9 17H7v-7h2v7zm4 0h-2V7h2v10zm4 0h-2v-4h2v4z\"/>\n",
              "    </g>\n",
              "</svg>\n",
              "      </button>\n",
              "    </div>\n",
              "\n",
              "<style>\n",
              "  .colab-df-quickchart {\n",
              "    background-color: #E8F0FE;\n",
              "    border: none;\n",
              "    border-radius: 50%;\n",
              "    cursor: pointer;\n",
              "    display: none;\n",
              "    fill: #1967D2;\n",
              "    height: 32px;\n",
              "    padding: 0 0 0 0;\n",
              "    width: 32px;\n",
              "  }\n",
              "\n",
              "  .colab-df-quickchart:hover {\n",
              "    background-color: #E2EBFA;\n",
              "    box-shadow: 0px 1px 2px rgba(60, 64, 67, 0.3), 0px 1px 3px 1px rgba(60, 64, 67, 0.15);\n",
              "    fill: #174EA6;\n",
              "  }\n",
              "\n",
              "  [theme=dark] .colab-df-quickchart {\n",
              "    background-color: #3B4455;\n",
              "    fill: #D2E3FC;\n",
              "  }\n",
              "\n",
              "  [theme=dark] .colab-df-quickchart:hover {\n",
              "    background-color: #434B5C;\n",
              "    box-shadow: 0px 1px 3px 1px rgba(0, 0, 0, 0.15);\n",
              "    filter: drop-shadow(0px 1px 2px rgba(0, 0, 0, 0.3));\n",
              "    fill: #FFFFFF;\n",
              "  }\n",
              "</style>\n",
              "\n",
              "    <script>\n",
              "      async function quickchart(key) {\n",
              "        const containerElement = document.querySelector('#' + key);\n",
              "        const charts = await google.colab.kernel.invokeFunction(\n",
              "            'suggestCharts', [key], {});\n",
              "      }\n",
              "    </script>\n",
              "\n",
              "      <script>\n",
              "\n",
              "function displayQuickchartButton(domScope) {\n",
              "  let quickchartButtonEl =\n",
              "    domScope.querySelector('#df-92239daf-439b-4c59-b36a-2cf42ea57fb9 button.colab-df-quickchart');\n",
              "  quickchartButtonEl.style.display =\n",
              "    google.colab.kernel.accessAllowed ? 'block' : 'none';\n",
              "}\n",
              "\n",
              "        displayQuickchartButton(document);\n",
              "      </script>\n",
              "      <style>\n",
              "    .colab-df-container {\n",
              "      display:flex;\n",
              "      flex-wrap:wrap;\n",
              "      gap: 12px;\n",
              "    }\n",
              "\n",
              "    .colab-df-convert {\n",
              "      background-color: #E8F0FE;\n",
              "      border: none;\n",
              "      border-radius: 50%;\n",
              "      cursor: pointer;\n",
              "      display: none;\n",
              "      fill: #1967D2;\n",
              "      height: 32px;\n",
              "      padding: 0 0 0 0;\n",
              "      width: 32px;\n",
              "    }\n",
              "\n",
              "    .colab-df-convert:hover {\n",
              "      background-color: #E2EBFA;\n",
              "      box-shadow: 0px 1px 2px rgba(60, 64, 67, 0.3), 0px 1px 3px 1px rgba(60, 64, 67, 0.15);\n",
              "      fill: #174EA6;\n",
              "    }\n",
              "\n",
              "    [theme=dark] .colab-df-convert {\n",
              "      background-color: #3B4455;\n",
              "      fill: #D2E3FC;\n",
              "    }\n",
              "\n",
              "    [theme=dark] .colab-df-convert:hover {\n",
              "      background-color: #434B5C;\n",
              "      box-shadow: 0px 1px 3px 1px rgba(0, 0, 0, 0.15);\n",
              "      filter: drop-shadow(0px 1px 2px rgba(0, 0, 0, 0.3));\n",
              "      fill: #FFFFFF;\n",
              "    }\n",
              "  </style>\n",
              "\n",
              "      <script>\n",
              "        const buttonEl =\n",
              "          document.querySelector('#df-310e9e81-7f95-4aa3-9c43-ba8d24c198b8 button.colab-df-convert');\n",
              "        buttonEl.style.display =\n",
              "          google.colab.kernel.accessAllowed ? 'block' : 'none';\n",
              "\n",
              "        async function convertToInteractive(key) {\n",
              "          const element = document.querySelector('#df-310e9e81-7f95-4aa3-9c43-ba8d24c198b8');\n",
              "          const dataTable =\n",
              "            await google.colab.kernel.invokeFunction('convertToInteractive',\n",
              "                                                     [key], {});\n",
              "          if (!dataTable) return;\n",
              "\n",
              "          const docLinkHtml = 'Like what you see? Visit the ' +\n",
              "            '<a target=\"_blank\" href=https://colab.research.google.com/notebooks/data_table.ipynb>data table notebook</a>'\n",
              "            + ' to learn more about interactive tables.';\n",
              "          element.innerHTML = '';\n",
              "          dataTable['output_type'] = 'display_data';\n",
              "          await google.colab.output.renderOutput(dataTable, element);\n",
              "          const docLink = document.createElement('div');\n",
              "          docLink.innerHTML = docLinkHtml;\n",
              "          element.appendChild(docLink);\n",
              "        }\n",
              "      </script>\n",
              "    </div>\n",
              "  </div>\n"
            ]
          },
          "metadata": {},
          "execution_count": 109
        }
      ]
    },
    {
      "cell_type": "code",
      "source": [
        "# Removendo informações incorretas da base:\n",
        "base_amostra.drop(base_amostra[(~base_amostra['InvoiceNo'].str.startswith('C'))\n",
        "& ((base_amostra['Quantity'] <= 0)\n",
        "| (base_amostra['UnitPrice'] <= 0))].index, inplace=True)"
      ],
      "metadata": {
        "id": "_y0vy7Jh5P7a"
      },
      "execution_count": 110,
      "outputs": []
    },
    {
      "cell_type": "markdown",
      "source": [
        "##### ***Features:***"
      ],
      "metadata": {
        "id": "9gPyNHKn7Yt9"
      }
    },
    {
      "cell_type": "markdown",
      "source": [
        "Tratamento de nulos e divergências:\n",
        "- Colunas `'CustomerID`' e `'StockCode`'\n",
        "---\n"
      ],
      "metadata": {
        "id": "c_zHj_Oy7HmI"
      }
    },
    {
      "cell_type": "code",
      "source": [
        "# verificando valores ausentes:\n",
        "(amostra.isna().sum() / len(amostra)*100).sort_values(ascending=False)"
      ],
      "metadata": {
        "colab": {
          "base_uri": "https://localhost:8080/"
        },
        "id": "rgfB1mp4CxS6",
        "outputId": "6b56ccf8-6ab5-4876-9b89-e8fab50fd4de"
      },
      "execution_count": 111,
      "outputs": [
        {
          "output_type": "execute_result",
          "data": {
            "text/plain": [
              "Description    0.268311\n",
              "InvoiceNo      0.000000\n",
              "StockCode      0.000000\n",
              "Quantity       0.000000\n",
              "InvoiceDate    0.000000\n",
              "UnitPrice      0.000000\n",
              "CustomerID     0.000000\n",
              "Country        0.000000\n",
              "dtype: float64"
            ]
          },
          "metadata": {},
          "execution_count": 111
        }
      ]
    },
    {
      "cell_type": "markdown",
      "source": [
        "- Após a remoção dos valores divergentes da base de dados, observamos uma redução significativa no percentual de dados nulos, com apenas `'Description'` apresentando **0.2%** de valores nulos. Com base nessa informação, podemos concluir que não é necessário realizar um tratamento adicional para lidar com valores nulos nesse momento, nos permitindo prosseguir com as análises e modelagem sem maiores intervenções nesse aspecto."
      ],
      "metadata": {
        "id": "N8lMuf2hD1zo"
      }
    },
    {
      "cell_type": "code",
      "source": [
        "# Percentual de valores 'nan' na coluna 'CustomerID' em relação a base:\n",
        "round(len(base_amostra[base_amostra['CustomerID'] == 'nan'])/ len(base_amostra)*100, 2)"
      ],
      "metadata": {
        "colab": {
          "base_uri": "https://localhost:8080/"
        },
        "id": "Sm26VDeYP2XW",
        "outputId": "d1abab39-fe3c-47cd-ee44-793b6d4060c8"
      },
      "execution_count": 112,
      "outputs": [
        {
          "output_type": "execute_result",
          "data": {
            "text/plain": [
              "24.58"
            ]
          },
          "metadata": {},
          "execution_count": 112
        }
      ]
    },
    {
      "cell_type": "code",
      "source": [
        "# Removendo os valores da base:\n",
        "base_amostra = base_amostra[base_amostra['CustomerID'] != 'nan']"
      ],
      "metadata": {
        "id": "mRTy0fBYLeEi"
      },
      "execution_count": 113,
      "outputs": []
    },
    {
      "cell_type": "markdown",
      "source": [
        "- Representando **24%** dos dados, removemos as informações 'nan' da coluna `'CustomerID'`."
      ],
      "metadata": {
        "id": "d5OMODGnNQu2"
      }
    },
    {
      "cell_type": "code",
      "source": [
        "# verificando se há valores diferentes do padrão para 'InvoiceNo' (valores devem ter 5 dígitos)\n",
        "codigos_unicos_stock = base_amostra['StockCode'].tolist()\n",
        "codigos_invalidos = [codigo for codigo in codigos_unicos_stock if len(str(codigo)) != 5 or not str(codigo).isdigit()]\n",
        "f'Há {len(codigos_invalidos)} código(s) divergente(s). Alguns exemplos: {codigos_invalidos[:5]}'"
      ],
      "metadata": {
        "colab": {
          "base_uri": "https://localhost:8080/",
          "height": 36
        },
        "id": "4dxb-785CJhE",
        "outputId": "19fba74c-eed0-461a-ef39-b6e6edf4f7b6"
      },
      "execution_count": 114,
      "outputs": [
        {
          "output_type": "execute_result",
          "data": {
            "text/plain": [
              "\"Há 35801 código(s) divergente(s). Alguns exemplos: ['85123A', '84406B', '84029G', '84029E', 'POST']\""
            ],
            "application/vnd.google.colaboratory.intrinsic+json": {
              "type": "string"
            }
          },
          "metadata": {},
          "execution_count": 114
        }
      ]
    },
    {
      "cell_type": "code",
      "source": [
        "round(len(codigos_invalidos) / len(amostra)*100,2)"
      ],
      "metadata": {
        "colab": {
          "base_uri": "https://localhost:8080/"
        },
        "id": "EODWEh9oCSQF",
        "outputId": "7148b111-06a1-4b46-9947-8347b552b62b"
      },
      "execution_count": 115,
      "outputs": [
        {
          "output_type": "execute_result",
          "data": {
            "text/plain": [
              "6.61"
            ]
          },
          "metadata": {},
          "execution_count": 115
        }
      ]
    },
    {
      "cell_type": "code",
      "source": [
        "# Remover os valores invalidos da coluna 'StockCode':\n",
        "base_amostra = base_amostra[~base_amostra['StockCode'].isin(codigos_invalidos)]"
      ],
      "metadata": {
        "id": "5OUnE9FdUcU8"
      },
      "execution_count": 116,
      "outputs": []
    },
    {
      "cell_type": "markdown",
      "source": [
        "- Representando agora aproximandamente **7%** dos dados, removemos os valores divergentes da coluna `'StockCode'`."
      ],
      "metadata": {
        "id": "09FDDgTyEUr1"
      }
    },
    {
      "cell_type": "markdown",
      "source": [
        "Filtro de data para recorte da base:\n",
        "- A base final será referente aos período de Outubro a Dezembro de 2011.\n",
        "\n",
        "\n",
        "---\n",
        "\n"
      ],
      "metadata": {
        "id": "47IFe5Xu6d5Y"
      }
    },
    {
      "cell_type": "code",
      "source": [
        "# Definir a data limite como dezembro de 2011:\n",
        "data_limite = pd.to_datetime('2011-12-01')\n",
        "\n",
        "# Filtrar os registros dos últimos 3 meses:\n",
        "base_amostra = base_amostra[base_amostra['InvoiceDate'] >= data_limite - pd.DateOffset(months=2)]\n",
        "\n",
        "# Exibir os registros filtrados:\n",
        "base_amostra['InvoiceDate'].dt.month.unique()"
      ],
      "metadata": {
        "colab": {
          "base_uri": "https://localhost:8080/"
        },
        "id": "x_anPOR46d5Y",
        "outputId": "e8edf980-e8b2-48c0-959d-fe36e47c9fe4"
      },
      "execution_count": 117,
      "outputs": [
        {
          "output_type": "execute_result",
          "data": {
            "text/plain": [
              "array([10, 11, 12])"
            ]
          },
          "metadata": {},
          "execution_count": 117
        }
      ]
    },
    {
      "cell_type": "code",
      "source": [
        "base_amostra['InvoiceDate'].dt.year.unique()"
      ],
      "metadata": {
        "colab": {
          "base_uri": "https://localhost:8080/"
        },
        "id": "lB0wZAIz8wtY",
        "outputId": "7e356c3b-0c28-4f60-9d78-6551b3d48155"
      },
      "execution_count": 118,
      "outputs": [
        {
          "output_type": "execute_result",
          "data": {
            "text/plain": [
              "array([2011])"
            ]
          },
          "metadata": {},
          "execution_count": 118
        }
      ]
    },
    {
      "cell_type": "code",
      "source": [
        "# Proporção da base final em relação a base original\n",
        "round(len(base_amostra) / len(amostra)*100, 2)"
      ],
      "metadata": {
        "colab": {
          "base_uri": "https://localhost:8080/"
        },
        "id": "sZYMEcwB6d5Z",
        "outputId": "46f15535-5e0f-4400-bb02-8323b844fda3"
      },
      "execution_count": 119,
      "outputs": [
        {
          "output_type": "execute_result",
          "data": {
            "text/plain": [
              "22.92"
            ]
          },
          "metadata": {},
          "execution_count": 119
        }
      ]
    },
    {
      "cell_type": "markdown",
      "source": [
        "Criando feature `'TotalPrice'`:\n",
        "\n",
        "\n",
        "---\n",
        "\n"
      ],
      "metadata": {
        "id": "3HWZz4Aq4M-c"
      }
    },
    {
      "cell_type": "code",
      "source": [
        "# Criando coluna com o cálculo do preço total da transação: 'TotalPrice':\n",
        "base_amostra['TotalPrice'] = base_amostra['Quantity'] * base_amostra['UnitPrice']\n",
        "base_amostra[['Quantity', 'UnitPrice', 'TotalPrice']]"
      ],
      "metadata": {
        "colab": {
          "base_uri": "https://localhost:8080/",
          "height": 423
        },
        "id": "aNzQ5Z_eOabg",
        "outputId": "9d9fe9a0-1133-473f-c694-108f4a2f066e"
      },
      "execution_count": 120,
      "outputs": [
        {
          "output_type": "execute_result",
          "data": {
            "text/plain": [
              "        Quantity  UnitPrice  TotalPrice\n",
              "370931        48       4.95      237.60\n",
              "370932        20       1.25       25.00\n",
              "370933         4       0.85        3.40\n",
              "370934        15       7.08      106.20\n",
              "370935         4       4.95       19.80\n",
              "...          ...        ...         ...\n",
              "541904        12       0.85       10.20\n",
              "541905         6       2.10       12.60\n",
              "541906         4       4.15       16.60\n",
              "541907         4       4.15       16.60\n",
              "541908         3       4.95       14.85\n",
              "\n",
              "[124193 rows x 3 columns]"
            ],
            "text/html": [
              "\n",
              "\n",
              "  <div id=\"df-89db1778-acc7-4c25-ad54-34f69c1264cc\">\n",
              "    <div class=\"colab-df-container\">\n",
              "      <div>\n",
              "<style scoped>\n",
              "    .dataframe tbody tr th:only-of-type {\n",
              "        vertical-align: middle;\n",
              "    }\n",
              "\n",
              "    .dataframe tbody tr th {\n",
              "        vertical-align: top;\n",
              "    }\n",
              "\n",
              "    .dataframe thead th {\n",
              "        text-align: right;\n",
              "    }\n",
              "</style>\n",
              "<table border=\"1\" class=\"dataframe\">\n",
              "  <thead>\n",
              "    <tr style=\"text-align: right;\">\n",
              "      <th></th>\n",
              "      <th>Quantity</th>\n",
              "      <th>UnitPrice</th>\n",
              "      <th>TotalPrice</th>\n",
              "    </tr>\n",
              "  </thead>\n",
              "  <tbody>\n",
              "    <tr>\n",
              "      <th>370931</th>\n",
              "      <td>48</td>\n",
              "      <td>4.95</td>\n",
              "      <td>237.60</td>\n",
              "    </tr>\n",
              "    <tr>\n",
              "      <th>370932</th>\n",
              "      <td>20</td>\n",
              "      <td>1.25</td>\n",
              "      <td>25.00</td>\n",
              "    </tr>\n",
              "    <tr>\n",
              "      <th>370933</th>\n",
              "      <td>4</td>\n",
              "      <td>0.85</td>\n",
              "      <td>3.40</td>\n",
              "    </tr>\n",
              "    <tr>\n",
              "      <th>370934</th>\n",
              "      <td>15</td>\n",
              "      <td>7.08</td>\n",
              "      <td>106.20</td>\n",
              "    </tr>\n",
              "    <tr>\n",
              "      <th>370935</th>\n",
              "      <td>4</td>\n",
              "      <td>4.95</td>\n",
              "      <td>19.80</td>\n",
              "    </tr>\n",
              "    <tr>\n",
              "      <th>...</th>\n",
              "      <td>...</td>\n",
              "      <td>...</td>\n",
              "      <td>...</td>\n",
              "    </tr>\n",
              "    <tr>\n",
              "      <th>541904</th>\n",
              "      <td>12</td>\n",
              "      <td>0.85</td>\n",
              "      <td>10.20</td>\n",
              "    </tr>\n",
              "    <tr>\n",
              "      <th>541905</th>\n",
              "      <td>6</td>\n",
              "      <td>2.10</td>\n",
              "      <td>12.60</td>\n",
              "    </tr>\n",
              "    <tr>\n",
              "      <th>541906</th>\n",
              "      <td>4</td>\n",
              "      <td>4.15</td>\n",
              "      <td>16.60</td>\n",
              "    </tr>\n",
              "    <tr>\n",
              "      <th>541907</th>\n",
              "      <td>4</td>\n",
              "      <td>4.15</td>\n",
              "      <td>16.60</td>\n",
              "    </tr>\n",
              "    <tr>\n",
              "      <th>541908</th>\n",
              "      <td>3</td>\n",
              "      <td>4.95</td>\n",
              "      <td>14.85</td>\n",
              "    </tr>\n",
              "  </tbody>\n",
              "</table>\n",
              "<p>124193 rows × 3 columns</p>\n",
              "</div>\n",
              "      <button class=\"colab-df-convert\" onclick=\"convertToInteractive('df-89db1778-acc7-4c25-ad54-34f69c1264cc')\"\n",
              "              title=\"Convert this dataframe to an interactive table.\"\n",
              "              style=\"display:none;\">\n",
              "\n",
              "  <svg xmlns=\"http://www.w3.org/2000/svg\" height=\"24px\"viewBox=\"0 0 24 24\"\n",
              "       width=\"24px\">\n",
              "    <path d=\"M0 0h24v24H0V0z\" fill=\"none\"/>\n",
              "    <path d=\"M18.56 5.44l.94 2.06.94-2.06 2.06-.94-2.06-.94-.94-2.06-.94 2.06-2.06.94zm-11 1L8.5 8.5l.94-2.06 2.06-.94-2.06-.94L8.5 2.5l-.94 2.06-2.06.94zm10 10l.94 2.06.94-2.06 2.06-.94-2.06-.94-.94-2.06-.94 2.06-2.06.94z\"/><path d=\"M17.41 7.96l-1.37-1.37c-.4-.4-.92-.59-1.43-.59-.52 0-1.04.2-1.43.59L10.3 9.45l-7.72 7.72c-.78.78-.78 2.05 0 2.83L4 21.41c.39.39.9.59 1.41.59.51 0 1.02-.2 1.41-.59l7.78-7.78 2.81-2.81c.8-.78.8-2.07 0-2.86zM5.41 20L4 18.59l7.72-7.72 1.47 1.35L5.41 20z\"/>\n",
              "  </svg>\n",
              "      </button>\n",
              "\n",
              "\n",
              "\n",
              "    <div id=\"df-14b48377-552a-499b-8cde-b5f029947944\">\n",
              "      <button class=\"colab-df-quickchart\" onclick=\"quickchart('df-14b48377-552a-499b-8cde-b5f029947944')\"\n",
              "              title=\"Suggest charts.\"\n",
              "              style=\"display:none;\">\n",
              "\n",
              "<svg xmlns=\"http://www.w3.org/2000/svg\" height=\"24px\"viewBox=\"0 0 24 24\"\n",
              "     width=\"24px\">\n",
              "    <g>\n",
              "        <path d=\"M19 3H5c-1.1 0-2 .9-2 2v14c0 1.1.9 2 2 2h14c1.1 0 2-.9 2-2V5c0-1.1-.9-2-2-2zM9 17H7v-7h2v7zm4 0h-2V7h2v10zm4 0h-2v-4h2v4z\"/>\n",
              "    </g>\n",
              "</svg>\n",
              "      </button>\n",
              "    </div>\n",
              "\n",
              "<style>\n",
              "  .colab-df-quickchart {\n",
              "    background-color: #E8F0FE;\n",
              "    border: none;\n",
              "    border-radius: 50%;\n",
              "    cursor: pointer;\n",
              "    display: none;\n",
              "    fill: #1967D2;\n",
              "    height: 32px;\n",
              "    padding: 0 0 0 0;\n",
              "    width: 32px;\n",
              "  }\n",
              "\n",
              "  .colab-df-quickchart:hover {\n",
              "    background-color: #E2EBFA;\n",
              "    box-shadow: 0px 1px 2px rgba(60, 64, 67, 0.3), 0px 1px 3px 1px rgba(60, 64, 67, 0.15);\n",
              "    fill: #174EA6;\n",
              "  }\n",
              "\n",
              "  [theme=dark] .colab-df-quickchart {\n",
              "    background-color: #3B4455;\n",
              "    fill: #D2E3FC;\n",
              "  }\n",
              "\n",
              "  [theme=dark] .colab-df-quickchart:hover {\n",
              "    background-color: #434B5C;\n",
              "    box-shadow: 0px 1px 3px 1px rgba(0, 0, 0, 0.15);\n",
              "    filter: drop-shadow(0px 1px 2px rgba(0, 0, 0, 0.3));\n",
              "    fill: #FFFFFF;\n",
              "  }\n",
              "</style>\n",
              "\n",
              "    <script>\n",
              "      async function quickchart(key) {\n",
              "        const containerElement = document.querySelector('#' + key);\n",
              "        const charts = await google.colab.kernel.invokeFunction(\n",
              "            'suggestCharts', [key], {});\n",
              "      }\n",
              "    </script>\n",
              "\n",
              "      <script>\n",
              "\n",
              "function displayQuickchartButton(domScope) {\n",
              "  let quickchartButtonEl =\n",
              "    domScope.querySelector('#df-14b48377-552a-499b-8cde-b5f029947944 button.colab-df-quickchart');\n",
              "  quickchartButtonEl.style.display =\n",
              "    google.colab.kernel.accessAllowed ? 'block' : 'none';\n",
              "}\n",
              "\n",
              "        displayQuickchartButton(document);\n",
              "      </script>\n",
              "      <style>\n",
              "    .colab-df-container {\n",
              "      display:flex;\n",
              "      flex-wrap:wrap;\n",
              "      gap: 12px;\n",
              "    }\n",
              "\n",
              "    .colab-df-convert {\n",
              "      background-color: #E8F0FE;\n",
              "      border: none;\n",
              "      border-radius: 50%;\n",
              "      cursor: pointer;\n",
              "      display: none;\n",
              "      fill: #1967D2;\n",
              "      height: 32px;\n",
              "      padding: 0 0 0 0;\n",
              "      width: 32px;\n",
              "    }\n",
              "\n",
              "    .colab-df-convert:hover {\n",
              "      background-color: #E2EBFA;\n",
              "      box-shadow: 0px 1px 2px rgba(60, 64, 67, 0.3), 0px 1px 3px 1px rgba(60, 64, 67, 0.15);\n",
              "      fill: #174EA6;\n",
              "    }\n",
              "\n",
              "    [theme=dark] .colab-df-convert {\n",
              "      background-color: #3B4455;\n",
              "      fill: #D2E3FC;\n",
              "    }\n",
              "\n",
              "    [theme=dark] .colab-df-convert:hover {\n",
              "      background-color: #434B5C;\n",
              "      box-shadow: 0px 1px 3px 1px rgba(0, 0, 0, 0.15);\n",
              "      filter: drop-shadow(0px 1px 2px rgba(0, 0, 0, 0.3));\n",
              "      fill: #FFFFFF;\n",
              "    }\n",
              "  </style>\n",
              "\n",
              "      <script>\n",
              "        const buttonEl =\n",
              "          document.querySelector('#df-89db1778-acc7-4c25-ad54-34f69c1264cc button.colab-df-convert');\n",
              "        buttonEl.style.display =\n",
              "          google.colab.kernel.accessAllowed ? 'block' : 'none';\n",
              "\n",
              "        async function convertToInteractive(key) {\n",
              "          const element = document.querySelector('#df-89db1778-acc7-4c25-ad54-34f69c1264cc');\n",
              "          const dataTable =\n",
              "            await google.colab.kernel.invokeFunction('convertToInteractive',\n",
              "                                                     [key], {});\n",
              "          if (!dataTable) return;\n",
              "\n",
              "          const docLinkHtml = 'Like what you see? Visit the ' +\n",
              "            '<a target=\"_blank\" href=https://colab.research.google.com/notebooks/data_table.ipynb>data table notebook</a>'\n",
              "            + ' to learn more about interactive tables.';\n",
              "          element.innerHTML = '';\n",
              "          dataTable['output_type'] = 'display_data';\n",
              "          await google.colab.output.renderOutput(dataTable, element);\n",
              "          const docLink = document.createElement('div');\n",
              "          docLink.innerHTML = docLinkHtml;\n",
              "          element.appendChild(docLink);\n",
              "        }\n",
              "      </script>\n",
              "    </div>\n",
              "  </div>\n"
            ]
          },
          "metadata": {},
          "execution_count": 120
        }
      ]
    },
    {
      "cell_type": "markdown",
      "source": [
        "Verificandos e tratando informações estatísticas sobre as variáveis `'TotalPrice'`, `'UnitPrice'` e `'Quantity'`:\n",
        "\n",
        "---\n",
        "\n"
      ],
      "metadata": {
        "id": "LkbJy8GZcAwA"
      }
    },
    {
      "cell_type": "code",
      "source": [
        "base_amostra[['TotalPrice', 'UnitPrice', 'Quantity']].describe().T"
      ],
      "metadata": {
        "colab": {
          "base_uri": "https://localhost:8080/",
          "height": 143
        },
        "id": "6-fy8qZHfRYX",
        "outputId": "547cae3b-62ab-4a91-a642-81dc83927847"
      },
      "execution_count": 121,
      "outputs": [
        {
          "output_type": "execute_result",
          "data": {
            "text/plain": [
              "               count       mean         std        min   25%   50%    75%  \\\n",
              "TotalPrice  124193.0  18.167294  679.044724 -168469.60  3.40  9.95  17.70   \n",
              "UnitPrice   124193.0   2.763063    3.129232       0.04  1.25  1.79   3.75   \n",
              "Quantity    124193.0  10.716425  327.375629  -80995.00  2.00  4.00  12.00   \n",
              "\n",
              "                 max  \n",
              "TotalPrice  168469.6  \n",
              "UnitPrice      165.0  \n",
              "Quantity     80995.0  "
            ],
            "text/html": [
              "\n",
              "\n",
              "  <div id=\"df-73ade40d-33d0-42fc-bfc5-4b21ea68fde9\">\n",
              "    <div class=\"colab-df-container\">\n",
              "      <div>\n",
              "<style scoped>\n",
              "    .dataframe tbody tr th:only-of-type {\n",
              "        vertical-align: middle;\n",
              "    }\n",
              "\n",
              "    .dataframe tbody tr th {\n",
              "        vertical-align: top;\n",
              "    }\n",
              "\n",
              "    .dataframe thead th {\n",
              "        text-align: right;\n",
              "    }\n",
              "</style>\n",
              "<table border=\"1\" class=\"dataframe\">\n",
              "  <thead>\n",
              "    <tr style=\"text-align: right;\">\n",
              "      <th></th>\n",
              "      <th>count</th>\n",
              "      <th>mean</th>\n",
              "      <th>std</th>\n",
              "      <th>min</th>\n",
              "      <th>25%</th>\n",
              "      <th>50%</th>\n",
              "      <th>75%</th>\n",
              "      <th>max</th>\n",
              "    </tr>\n",
              "  </thead>\n",
              "  <tbody>\n",
              "    <tr>\n",
              "      <th>TotalPrice</th>\n",
              "      <td>124193.0</td>\n",
              "      <td>18.167294</td>\n",
              "      <td>679.044724</td>\n",
              "      <td>-168469.60</td>\n",
              "      <td>3.40</td>\n",
              "      <td>9.95</td>\n",
              "      <td>17.70</td>\n",
              "      <td>168469.6</td>\n",
              "    </tr>\n",
              "    <tr>\n",
              "      <th>UnitPrice</th>\n",
              "      <td>124193.0</td>\n",
              "      <td>2.763063</td>\n",
              "      <td>3.129232</td>\n",
              "      <td>0.04</td>\n",
              "      <td>1.25</td>\n",
              "      <td>1.79</td>\n",
              "      <td>3.75</td>\n",
              "      <td>165.0</td>\n",
              "    </tr>\n",
              "    <tr>\n",
              "      <th>Quantity</th>\n",
              "      <td>124193.0</td>\n",
              "      <td>10.716425</td>\n",
              "      <td>327.375629</td>\n",
              "      <td>-80995.00</td>\n",
              "      <td>2.00</td>\n",
              "      <td>4.00</td>\n",
              "      <td>12.00</td>\n",
              "      <td>80995.0</td>\n",
              "    </tr>\n",
              "  </tbody>\n",
              "</table>\n",
              "</div>\n",
              "      <button class=\"colab-df-convert\" onclick=\"convertToInteractive('df-73ade40d-33d0-42fc-bfc5-4b21ea68fde9')\"\n",
              "              title=\"Convert this dataframe to an interactive table.\"\n",
              "              style=\"display:none;\">\n",
              "\n",
              "  <svg xmlns=\"http://www.w3.org/2000/svg\" height=\"24px\"viewBox=\"0 0 24 24\"\n",
              "       width=\"24px\">\n",
              "    <path d=\"M0 0h24v24H0V0z\" fill=\"none\"/>\n",
              "    <path d=\"M18.56 5.44l.94 2.06.94-2.06 2.06-.94-2.06-.94-.94-2.06-.94 2.06-2.06.94zm-11 1L8.5 8.5l.94-2.06 2.06-.94-2.06-.94L8.5 2.5l-.94 2.06-2.06.94zm10 10l.94 2.06.94-2.06 2.06-.94-2.06-.94-.94-2.06-.94 2.06-2.06.94z\"/><path d=\"M17.41 7.96l-1.37-1.37c-.4-.4-.92-.59-1.43-.59-.52 0-1.04.2-1.43.59L10.3 9.45l-7.72 7.72c-.78.78-.78 2.05 0 2.83L4 21.41c.39.39.9.59 1.41.59.51 0 1.02-.2 1.41-.59l7.78-7.78 2.81-2.81c.8-.78.8-2.07 0-2.86zM5.41 20L4 18.59l7.72-7.72 1.47 1.35L5.41 20z\"/>\n",
              "  </svg>\n",
              "      </button>\n",
              "\n",
              "\n",
              "\n",
              "    <div id=\"df-133234e0-b536-4a70-ae7b-c81430e8cff6\">\n",
              "      <button class=\"colab-df-quickchart\" onclick=\"quickchart('df-133234e0-b536-4a70-ae7b-c81430e8cff6')\"\n",
              "              title=\"Suggest charts.\"\n",
              "              style=\"display:none;\">\n",
              "\n",
              "<svg xmlns=\"http://www.w3.org/2000/svg\" height=\"24px\"viewBox=\"0 0 24 24\"\n",
              "     width=\"24px\">\n",
              "    <g>\n",
              "        <path d=\"M19 3H5c-1.1 0-2 .9-2 2v14c0 1.1.9 2 2 2h14c1.1 0 2-.9 2-2V5c0-1.1-.9-2-2-2zM9 17H7v-7h2v7zm4 0h-2V7h2v10zm4 0h-2v-4h2v4z\"/>\n",
              "    </g>\n",
              "</svg>\n",
              "      </button>\n",
              "    </div>\n",
              "\n",
              "<style>\n",
              "  .colab-df-quickchart {\n",
              "    background-color: #E8F0FE;\n",
              "    border: none;\n",
              "    border-radius: 50%;\n",
              "    cursor: pointer;\n",
              "    display: none;\n",
              "    fill: #1967D2;\n",
              "    height: 32px;\n",
              "    padding: 0 0 0 0;\n",
              "    width: 32px;\n",
              "  }\n",
              "\n",
              "  .colab-df-quickchart:hover {\n",
              "    background-color: #E2EBFA;\n",
              "    box-shadow: 0px 1px 2px rgba(60, 64, 67, 0.3), 0px 1px 3px 1px rgba(60, 64, 67, 0.15);\n",
              "    fill: #174EA6;\n",
              "  }\n",
              "\n",
              "  [theme=dark] .colab-df-quickchart {\n",
              "    background-color: #3B4455;\n",
              "    fill: #D2E3FC;\n",
              "  }\n",
              "\n",
              "  [theme=dark] .colab-df-quickchart:hover {\n",
              "    background-color: #434B5C;\n",
              "    box-shadow: 0px 1px 3px 1px rgba(0, 0, 0, 0.15);\n",
              "    filter: drop-shadow(0px 1px 2px rgba(0, 0, 0, 0.3));\n",
              "    fill: #FFFFFF;\n",
              "  }\n",
              "</style>\n",
              "\n",
              "    <script>\n",
              "      async function quickchart(key) {\n",
              "        const containerElement = document.querySelector('#' + key);\n",
              "        const charts = await google.colab.kernel.invokeFunction(\n",
              "            'suggestCharts', [key], {});\n",
              "      }\n",
              "    </script>\n",
              "\n",
              "      <script>\n",
              "\n",
              "function displayQuickchartButton(domScope) {\n",
              "  let quickchartButtonEl =\n",
              "    domScope.querySelector('#df-133234e0-b536-4a70-ae7b-c81430e8cff6 button.colab-df-quickchart');\n",
              "  quickchartButtonEl.style.display =\n",
              "    google.colab.kernel.accessAllowed ? 'block' : 'none';\n",
              "}\n",
              "\n",
              "        displayQuickchartButton(document);\n",
              "      </script>\n",
              "      <style>\n",
              "    .colab-df-container {\n",
              "      display:flex;\n",
              "      flex-wrap:wrap;\n",
              "      gap: 12px;\n",
              "    }\n",
              "\n",
              "    .colab-df-convert {\n",
              "      background-color: #E8F0FE;\n",
              "      border: none;\n",
              "      border-radius: 50%;\n",
              "      cursor: pointer;\n",
              "      display: none;\n",
              "      fill: #1967D2;\n",
              "      height: 32px;\n",
              "      padding: 0 0 0 0;\n",
              "      width: 32px;\n",
              "    }\n",
              "\n",
              "    .colab-df-convert:hover {\n",
              "      background-color: #E2EBFA;\n",
              "      box-shadow: 0px 1px 2px rgba(60, 64, 67, 0.3), 0px 1px 3px 1px rgba(60, 64, 67, 0.15);\n",
              "      fill: #174EA6;\n",
              "    }\n",
              "\n",
              "    [theme=dark] .colab-df-convert {\n",
              "      background-color: #3B4455;\n",
              "      fill: #D2E3FC;\n",
              "    }\n",
              "\n",
              "    [theme=dark] .colab-df-convert:hover {\n",
              "      background-color: #434B5C;\n",
              "      box-shadow: 0px 1px 3px 1px rgba(0, 0, 0, 0.15);\n",
              "      filter: drop-shadow(0px 1px 2px rgba(0, 0, 0, 0.3));\n",
              "      fill: #FFFFFF;\n",
              "    }\n",
              "  </style>\n",
              "\n",
              "      <script>\n",
              "        const buttonEl =\n",
              "          document.querySelector('#df-73ade40d-33d0-42fc-bfc5-4b21ea68fde9 button.colab-df-convert');\n",
              "        buttonEl.style.display =\n",
              "          google.colab.kernel.accessAllowed ? 'block' : 'none';\n",
              "\n",
              "        async function convertToInteractive(key) {\n",
              "          const element = document.querySelector('#df-73ade40d-33d0-42fc-bfc5-4b21ea68fde9');\n",
              "          const dataTable =\n",
              "            await google.colab.kernel.invokeFunction('convertToInteractive',\n",
              "                                                     [key], {});\n",
              "          if (!dataTable) return;\n",
              "\n",
              "          const docLinkHtml = 'Like what you see? Visit the ' +\n",
              "            '<a target=\"_blank\" href=https://colab.research.google.com/notebooks/data_table.ipynb>data table notebook</a>'\n",
              "            + ' to learn more about interactive tables.';\n",
              "          element.innerHTML = '';\n",
              "          dataTable['output_type'] = 'display_data';\n",
              "          await google.colab.output.renderOutput(dataTable, element);\n",
              "          const docLink = document.createElement('div');\n",
              "          docLink.innerHTML = docLinkHtml;\n",
              "          element.appendChild(docLink);\n",
              "        }\n",
              "      </script>\n",
              "    </div>\n",
              "  </div>\n"
            ]
          },
          "metadata": {},
          "execution_count": 121
        }
      ]
    },
    {
      "cell_type": "code",
      "source": [
        "colors = ['r', 'g', 'b']\n",
        "base_amostra[['TotalPrice', 'UnitPrice', 'Quantity']].plot(kind='box', vert=False)\n",
        "\n",
        "outliers = base_amostra[['TotalPrice', 'UnitPrice', 'Quantity']].describe().loc[['min', 'max']].values.round()\n",
        "\n",
        "for i, limit in enumerate(outliers.T):\n",
        "    color = colors[i % len(colors)]\n",
        "\n",
        "    plt.axvline(x=limit[0], color=color, linestyle='--')\n",
        "    plt.axvline(x=limit[1], color=color, linestyle='--')\n",
        "\n",
        "    for j, value in enumerate(limit):\n",
        "        plt.text(value, i+1.1, f'{value}', ha='center', va='bottom')\n",
        "\n",
        "plt.show()"
      ],
      "metadata": {
        "colab": {
          "base_uri": "https://localhost:8080/",
          "height": 434
        },
        "id": "68tWgTRLgh4e",
        "outputId": "324aac96-339d-47b7-8c4c-6e37ef61884b"
      },
      "execution_count": 122,
      "outputs": [
        {
          "output_type": "display_data",
          "data": {
            "text/plain": [
              "<Figure size 640x480 with 1 Axes>"
            ],
            "image/png": "[encoded data removed]"
          },
          "metadata": {}
        }
      ]
    },
    {
      "cell_type": "code",
      "source": [
        "outliers_df = pd.DataFrame(outliers, columns=['TotalPrice', 'UnitPrice', 'Quantity'], index=['min', 'max'])\n",
        "outliers_df"
      ],
      "metadata": {
        "colab": {
          "base_uri": "https://localhost:8080/",
          "height": 112
        },
        "id": "xw7IIlpqoa2Q",
        "outputId": "b4e177e1-3c4d-4ce6-b815-a94eafa495bf"
      },
      "execution_count": 123,
      "outputs": [
        {
          "output_type": "execute_result",
          "data": {
            "text/plain": [
              "     TotalPrice  UnitPrice  Quantity\n",
              "min   -168470.0        0.0  -80995.0\n",
              "max    168470.0      165.0   80995.0"
            ],
            "text/html": [
              "\n",
              "\n",
              "  <div id=\"df-4e1d5847-0314-4584-a2fc-c380d63af695\">\n",
              "    <div class=\"colab-df-container\">\n",
              "      <div>\n",
              "<style scoped>\n",
              "    .dataframe tbody tr th:only-of-type {\n",
              "        vertical-align: middle;\n",
              "    }\n",
              "\n",
              "    .dataframe tbody tr th {\n",
              "        vertical-align: top;\n",
              "    }\n",
              "\n",
              "    .dataframe thead th {\n",
              "        text-align: right;\n",
              "    }\n",
              "</style>\n",
              "<table border=\"1\" class=\"dataframe\">\n",
              "  <thead>\n",
              "    <tr style=\"text-align: right;\">\n",
              "      <th></th>\n",
              "      <th>TotalPrice</th>\n",
              "      <th>UnitPrice</th>\n",
              "      <th>Quantity</th>\n",
              "    </tr>\n",
              "  </thead>\n",
              "  <tbody>\n",
              "    <tr>\n",
              "      <th>min</th>\n",
              "      <td>-168470.0</td>\n",
              "      <td>0.0</td>\n",
              "      <td>-80995.0</td>\n",
              "    </tr>\n",
              "    <tr>\n",
              "      <th>max</th>\n",
              "      <td>168470.0</td>\n",
              "      <td>165.0</td>\n",
              "      <td>80995.0</td>\n",
              "    </tr>\n",
              "  </tbody>\n",
              "</table>\n",
              "</div>\n",
              "      <button class=\"colab-df-convert\" onclick=\"convertToInteractive('df-4e1d5847-0314-4584-a2fc-c380d63af695')\"\n",
              "              title=\"Convert this dataframe to an interactive table.\"\n",
              "              style=\"display:none;\">\n",
              "\n",
              "  <svg xmlns=\"http://www.w3.org/2000/svg\" height=\"24px\"viewBox=\"0 0 24 24\"\n",
              "       width=\"24px\">\n",
              "    <path d=\"M0 0h24v24H0V0z\" fill=\"none\"/>\n",
              "    <path d=\"M18.56 5.44l.94 2.06.94-2.06 2.06-.94-2.06-.94-.94-2.06-.94 2.06-2.06.94zm-11 1L8.5 8.5l.94-2.06 2.06-.94-2.06-.94L8.5 2.5l-.94 2.06-2.06.94zm10 10l.94 2.06.94-2.06 2.06-.94-2.06-.94-.94-2.06-.94 2.06-2.06.94z\"/><path d=\"M17.41 7.96l-1.37-1.37c-.4-.4-.92-.59-1.43-.59-.52 0-1.04.2-1.43.59L10.3 9.45l-7.72 7.72c-.78.78-.78 2.05 0 2.83L4 21.41c.39.39.9.59 1.41.59.51 0 1.02-.2 1.41-.59l7.78-7.78 2.81-2.81c.8-.78.8-2.07 0-2.86zM5.41 20L4 18.59l7.72-7.72 1.47 1.35L5.41 20z\"/>\n",
              "  </svg>\n",
              "      </button>\n",
              "\n",
              "\n",
              "\n",
              "    <div id=\"df-6b96a444-a8f2-459b-bae0-b86ed3f5eec0\">\n",
              "      <button class=\"colab-df-quickchart\" onclick=\"quickchart('df-6b96a444-a8f2-459b-bae0-b86ed3f5eec0')\"\n",
              "              title=\"Suggest charts.\"\n",
              "              style=\"display:none;\">\n",
              "\n",
              "<svg xmlns=\"http://www.w3.org/2000/svg\" height=\"24px\"viewBox=\"0 0 24 24\"\n",
              "     width=\"24px\">\n",
              "    <g>\n",
              "        <path d=\"M19 3H5c-1.1 0-2 .9-2 2v14c0 1.1.9 2 2 2h14c1.1 0 2-.9 2-2V5c0-1.1-.9-2-2-2zM9 17H7v-7h2v7zm4 0h-2V7h2v10zm4 0h-2v-4h2v4z\"/>\n",
              "    </g>\n",
              "</svg>\n",
              "      </button>\n",
              "    </div>\n",
              "\n",
              "<style>\n",
              "  .colab-df-quickchart {\n",
              "    background-color: #E8F0FE;\n",
              "    border: none;\n",
              "    border-radius: 50%;\n",
              "    cursor: pointer;\n",
              "    display: none;\n",
              "    fill: #1967D2;\n",
              "    height: 32px;\n",
              "    padding: 0 0 0 0;\n",
              "    width: 32px;\n",
              "  }\n",
              "\n",
              "  .colab-df-quickchart:hover {\n",
              "    background-color: #E2EBFA;\n",
              "    box-shadow: 0px 1px 2px rgba(60, 64, 67, 0.3), 0px 1px 3px 1px rgba(60, 64, 67, 0.15);\n",
              "    fill: #174EA6;\n",
              "  }\n",
              "\n",
              "  [theme=dark] .colab-df-quickchart {\n",
              "    background-color: #3B4455;\n",
              "    fill: #D2E3FC;\n",
              "  }\n",
              "\n",
              "  [theme=dark] .colab-df-quickchart:hover {\n",
              "    background-color: #434B5C;\n",
              "    box-shadow: 0px 1px 3px 1px rgba(0, 0, 0, 0.15);\n",
              "    filter: drop-shadow(0px 1px 2px rgba(0, 0, 0, 0.3));\n",
              "    fill: #FFFFFF;\n",
              "  }\n",
              "</style>\n",
              "\n",
              "    <script>\n",
              "      async function quickchart(key) {\n",
              "        const containerElement = document.querySelector('#' + key);\n",
              "        const charts = await google.colab.kernel.invokeFunction(\n",
              "            'suggestCharts', [key], {});\n",
              "      }\n",
              "    </script>\n",
              "\n",
              "      <script>\n",
              "\n",
              "function displayQuickchartButton(domScope) {\n",
              "  let quickchartButtonEl =\n",
              "    domScope.querySelector('#df-6b96a444-a8f2-459b-bae0-b86ed3f5eec0 button.colab-df-quickchart');\n",
              "  quickchartButtonEl.style.display =\n",
              "    google.colab.kernel.accessAllowed ? 'block' : 'none';\n",
              "}\n",
              "\n",
              "        displayQuickchartButton(document);\n",
              "      </script>\n",
              "      <style>\n",
              "    .colab-df-container {\n",
              "      display:flex;\n",
              "      flex-wrap:wrap;\n",
              "      gap: 12px;\n",
              "    }\n",
              "\n",
              "    .colab-df-convert {\n",
              "      background-color: #E8F0FE;\n",
              "      border: none;\n",
              "      border-radius: 50%;\n",
              "      cursor: pointer;\n",
              "      display: none;\n",
              "      fill: #1967D2;\n",
              "      height: 32px;\n",
              "      padding: 0 0 0 0;\n",
              "      width: 32px;\n",
              "    }\n",
              "\n",
              "    .colab-df-convert:hover {\n",
              "      background-color: #E2EBFA;\n",
              "      box-shadow: 0px 1px 2px rgba(60, 64, 67, 0.3), 0px 1px 3px 1px rgba(60, 64, 67, 0.15);\n",
              "      fill: #174EA6;\n",
              "    }\n",
              "\n",
              "    [theme=dark] .colab-df-convert {\n",
              "      background-color: #3B4455;\n",
              "      fill: #D2E3FC;\n",
              "    }\n",
              "\n",
              "    [theme=dark] .colab-df-convert:hover {\n",
              "      background-color: #434B5C;\n",
              "      box-shadow: 0px 1px 3px 1px rgba(0, 0, 0, 0.15);\n",
              "      filter: drop-shadow(0px 1px 2px rgba(0, 0, 0, 0.3));\n",
              "      fill: #FFFFFF;\n",
              "    }\n",
              "  </style>\n",
              "\n",
              "      <script>\n",
              "        const buttonEl =\n",
              "          document.querySelector('#df-4e1d5847-0314-4584-a2fc-c380d63af695 button.colab-df-convert');\n",
              "        buttonEl.style.display =\n",
              "          google.colab.kernel.accessAllowed ? 'block' : 'none';\n",
              "\n",
              "        async function convertToInteractive(key) {\n",
              "          const element = document.querySelector('#df-4e1d5847-0314-4584-a2fc-c380d63af695');\n",
              "          const dataTable =\n",
              "            await google.colab.kernel.invokeFunction('convertToInteractive',\n",
              "                                                     [key], {});\n",
              "          if (!dataTable) return;\n",
              "\n",
              "          const docLinkHtml = 'Like what you see? Visit the ' +\n",
              "            '<a target=\"_blank\" href=https://colab.research.google.com/notebooks/data_table.ipynb>data table notebook</a>'\n",
              "            + ' to learn more about interactive tables.';\n",
              "          element.innerHTML = '';\n",
              "          dataTable['output_type'] = 'display_data';\n",
              "          await google.colab.output.renderOutput(dataTable, element);\n",
              "          const docLink = document.createElement('div');\n",
              "          docLink.innerHTML = docLinkHtml;\n",
              "          element.appendChild(docLink);\n",
              "        }\n",
              "      </script>\n",
              "    </div>\n",
              "  </div>\n"
            ]
          },
          "metadata": {},
          "execution_count": 123
        }
      ]
    },
    {
      "cell_type": "markdown",
      "source": [
        "As colunas `'TotalPrice'` e `'Quantity'` exibem valores discrepantes, resultando em um **alto desvio padrão** de 679 e 327, respectivamente. A fim de melhor equilibrar a distribuição dos dados, será aplicada a estratégia de remover esses valores discrepantes, também conhecidos como outliers, em ambas as colunas."
      ],
      "metadata": {
        "id": "4YfDu1W--_8x"
      }
    },
    {
      "cell_type": "code",
      "source": [
        "# Removendo valores max e mim de 'TotalPrice' e 'Quantity':\n",
        "base_amostra = base_amostra[(base_amostra['TotalPrice'] != base_amostra['TotalPrice'].max()) & (base_amostra['Quantity'] != base_amostra['Quantity'].min())]"
      ],
      "metadata": {
        "id": "XHLF5Bpk_i_r"
      },
      "execution_count": 124,
      "outputs": []
    },
    {
      "cell_type": "code",
      "source": [
        "base_amostra[['TotalPrice', 'UnitPrice', 'Quantity']].describe().T"
      ],
      "metadata": {
        "colab": {
          "base_uri": "https://localhost:8080/",
          "height": 143
        },
        "id": "v6mdERFJGuLc",
        "outputId": "1dea868c-1253-451c-b070-1606d02ccc71"
      },
      "execution_count": 125,
      "outputs": [
        {
          "output_type": "execute_result",
          "data": {
            "text/plain": [
              "               count       mean        std      min   25%   50%    75%     max\n",
              "TotalPrice  124191.0  18.167586  63.523387 -1836.00  3.40  9.95  17.70  4992.0\n",
              "UnitPrice   124191.0   2.763074   3.129256     0.04  1.25  1.79   3.75   165.0\n",
              "Quantity    124191.0  10.716598  39.101019 -1296.00  2.00  4.00  12.00  4800.0"
            ],
            "text/html": [
              "\n",
              "\n",
              "  <div id=\"df-66794a67-5230-476e-a113-2216757eacda\">\n",
              "    <div class=\"colab-df-container\">\n",
              "      <div>\n",
              "<style scoped>\n",
              "    .dataframe tbody tr th:only-of-type {\n",
              "        vertical-align: middle;\n",
              "    }\n",
              "\n",
              "    .dataframe tbody tr th {\n",
              "        vertical-align: top;\n",
              "    }\n",
              "\n",
              "    .dataframe thead th {\n",
              "        text-align: right;\n",
              "    }\n",
              "</style>\n",
              "<table border=\"1\" class=\"dataframe\">\n",
              "  <thead>\n",
              "    <tr style=\"text-align: right;\">\n",
              "      <th></th>\n",
              "      <th>count</th>\n",
              "      <th>mean</th>\n",
              "      <th>std</th>\n",
              "      <th>min</th>\n",
              "      <th>25%</th>\n",
              "      <th>50%</th>\n",
              "      <th>75%</th>\n",
              "      <th>max</th>\n",
              "    </tr>\n",
              "  </thead>\n",
              "  <tbody>\n",
              "    <tr>\n",
              "      <th>TotalPrice</th>\n",
              "      <td>124191.0</td>\n",
              "      <td>18.167586</td>\n",
              "      <td>63.523387</td>\n",
              "      <td>-1836.00</td>\n",
              "      <td>3.40</td>\n",
              "      <td>9.95</td>\n",
              "      <td>17.70</td>\n",
              "      <td>4992.0</td>\n",
              "    </tr>\n",
              "    <tr>\n",
              "      <th>UnitPrice</th>\n",
              "      <td>124191.0</td>\n",
              "      <td>2.763074</td>\n",
              "      <td>3.129256</td>\n",
              "      <td>0.04</td>\n",
              "      <td>1.25</td>\n",
              "      <td>1.79</td>\n",
              "      <td>3.75</td>\n",
              "      <td>165.0</td>\n",
              "    </tr>\n",
              "    <tr>\n",
              "      <th>Quantity</th>\n",
              "      <td>124191.0</td>\n",
              "      <td>10.716598</td>\n",
              "      <td>39.101019</td>\n",
              "      <td>-1296.00</td>\n",
              "      <td>2.00</td>\n",
              "      <td>4.00</td>\n",
              "      <td>12.00</td>\n",
              "      <td>4800.0</td>\n",
              "    </tr>\n",
              "  </tbody>\n",
              "</table>\n",
              "</div>\n",
              "      <button class=\"colab-df-convert\" onclick=\"convertToInteractive('df-66794a67-5230-476e-a113-2216757eacda')\"\n",
              "              title=\"Convert this dataframe to an interactive table.\"\n",
              "              style=\"display:none;\">\n",
              "\n",
              "  <svg xmlns=\"http://www.w3.org/2000/svg\" height=\"24px\"viewBox=\"0 0 24 24\"\n",
              "       width=\"24px\">\n",
              "    <path d=\"M0 0h24v24H0V0z\" fill=\"none\"/>\n",
              "    <path d=\"M18.56 5.44l.94 2.06.94-2.06 2.06-.94-2.06-.94-.94-2.06-.94 2.06-2.06.94zm-11 1L8.5 8.5l.94-2.06 2.06-.94-2.06-.94L8.5 2.5l-.94 2.06-2.06.94zm10 10l.94 2.06.94-2.06 2.06-.94-2.06-.94-.94-2.06-.94 2.06-2.06.94z\"/><path d=\"M17.41 7.96l-1.37-1.37c-.4-.4-.92-.59-1.43-.59-.52 0-1.04.2-1.43.59L10.3 9.45l-7.72 7.72c-.78.78-.78 2.05 0 2.83L4 21.41c.39.39.9.59 1.41.59.51 0 1.02-.2 1.41-.59l7.78-7.78 2.81-2.81c.8-.78.8-2.07 0-2.86zM5.41 20L4 18.59l7.72-7.72 1.47 1.35L5.41 20z\"/>\n",
              "  </svg>\n",
              "      </button>\n",
              "\n",
              "\n",
              "\n",
              "    <div id=\"df-3184ef97-1d4e-4603-8e22-3b133a81b24c\">\n",
              "      <button class=\"colab-df-quickchart\" onclick=\"quickchart('df-3184ef97-1d4e-4603-8e22-3b133a81b24c')\"\n",
              "              title=\"Suggest charts.\"\n",
              "              style=\"display:none;\">\n",
              "\n",
              "<svg xmlns=\"http://www.w3.org/2000/svg\" height=\"24px\"viewBox=\"0 0 24 24\"\n",
              "     width=\"24px\">\n",
              "    <g>\n",
              "        <path d=\"M19 3H5c-1.1 0-2 .9-2 2v14c0 1.1.9 2 2 2h14c1.1 0 2-.9 2-2V5c0-1.1-.9-2-2-2zM9 17H7v-7h2v7zm4 0h-2V7h2v10zm4 0h-2v-4h2v4z\"/>\n",
              "    </g>\n",
              "</svg>\n",
              "      </button>\n",
              "    </div>\n",
              "\n",
              "<style>\n",
              "  .colab-df-quickchart {\n",
              "    background-color: #E8F0FE;\n",
              "    border: none;\n",
              "    border-radius: 50%;\n",
              "    cursor: pointer;\n",
              "    display: none;\n",
              "    fill: #1967D2;\n",
              "    height: 32px;\n",
              "    padding: 0 0 0 0;\n",
              "    width: 32px;\n",
              "  }\n",
              "\n",
              "  .colab-df-quickchart:hover {\n",
              "    background-color: #E2EBFA;\n",
              "    box-shadow: 0px 1px 2px rgba(60, 64, 67, 0.3), 0px 1px 3px 1px rgba(60, 64, 67, 0.15);\n",
              "    fill: #174EA6;\n",
              "  }\n",
              "\n",
              "  [theme=dark] .colab-df-quickchart {\n",
              "    background-color: #3B4455;\n",
              "    fill: #D2E3FC;\n",
              "  }\n",
              "\n",
              "  [theme=dark] .colab-df-quickchart:hover {\n",
              "    background-color: #434B5C;\n",
              "    box-shadow: 0px 1px 3px 1px rgba(0, 0, 0, 0.15);\n",
              "    filter: drop-shadow(0px 1px 2px rgba(0, 0, 0, 0.3));\n",
              "    fill: #FFFFFF;\n",
              "  }\n",
              "</style>\n",
              "\n",
              "    <script>\n",
              "      async function quickchart(key) {\n",
              "        const containerElement = document.querySelector('#' + key);\n",
              "        const charts = await google.colab.kernel.invokeFunction(\n",
              "            'suggestCharts', [key], {});\n",
              "      }\n",
              "    </script>\n",
              "\n",
              "      <script>\n",
              "\n",
              "function displayQuickchartButton(domScope) {\n",
              "  let quickchartButtonEl =\n",
              "    domScope.querySelector('#df-3184ef97-1d4e-4603-8e22-3b133a81b24c button.colab-df-quickchart');\n",
              "  quickchartButtonEl.style.display =\n",
              "    google.colab.kernel.accessAllowed ? 'block' : 'none';\n",
              "}\n",
              "\n",
              "        displayQuickchartButton(document);\n",
              "      </script>\n",
              "      <style>\n",
              "    .colab-df-container {\n",
              "      display:flex;\n",
              "      flex-wrap:wrap;\n",
              "      gap: 12px;\n",
              "    }\n",
              "\n",
              "    .colab-df-convert {\n",
              "      background-color: #E8F0FE;\n",
              "      border: none;\n",
              "      border-radius: 50%;\n",
              "      cursor: pointer;\n",
              "      display: none;\n",
              "      fill: #1967D2;\n",
              "      height: 32px;\n",
              "      padding: 0 0 0 0;\n",
              "      width: 32px;\n",
              "    }\n",
              "\n",
              "    .colab-df-convert:hover {\n",
              "      background-color: #E2EBFA;\n",
              "      box-shadow: 0px 1px 2px rgba(60, 64, 67, 0.3), 0px 1px 3px 1px rgba(60, 64, 67, 0.15);\n",
              "      fill: #174EA6;\n",
              "    }\n",
              "\n",
              "    [theme=dark] .colab-df-convert {\n",
              "      background-color: #3B4455;\n",
              "      fill: #D2E3FC;\n",
              "    }\n",
              "\n",
              "    [theme=dark] .colab-df-convert:hover {\n",
              "      background-color: #434B5C;\n",
              "      box-shadow: 0px 1px 3px 1px rgba(0, 0, 0, 0.15);\n",
              "      filter: drop-shadow(0px 1px 2px rgba(0, 0, 0, 0.3));\n",
              "      fill: #FFFFFF;\n",
              "    }\n",
              "  </style>\n",
              "\n",
              "      <script>\n",
              "        const buttonEl =\n",
              "          document.querySelector('#df-66794a67-5230-476e-a113-2216757eacda button.colab-df-convert');\n",
              "        buttonEl.style.display =\n",
              "          google.colab.kernel.accessAllowed ? 'block' : 'none';\n",
              "\n",
              "        async function convertToInteractive(key) {\n",
              "          const element = document.querySelector('#df-66794a67-5230-476e-a113-2216757eacda');\n",
              "          const dataTable =\n",
              "            await google.colab.kernel.invokeFunction('convertToInteractive',\n",
              "                                                     [key], {});\n",
              "          if (!dataTable) return;\n",
              "\n",
              "          const docLinkHtml = 'Like what you see? Visit the ' +\n",
              "            '<a target=\"_blank\" href=https://colab.research.google.com/notebooks/data_table.ipynb>data table notebook</a>'\n",
              "            + ' to learn more about interactive tables.';\n",
              "          element.innerHTML = '';\n",
              "          dataTable['output_type'] = 'display_data';\n",
              "          await google.colab.output.renderOutput(dataTable, element);\n",
              "          const docLink = document.createElement('div');\n",
              "          docLink.innerHTML = docLinkHtml;\n",
              "          element.appendChild(docLink);\n",
              "        }\n",
              "      </script>\n",
              "    </div>\n",
              "  </div>\n"
            ]
          },
          "metadata": {},
          "execution_count": 125
        }
      ]
    },
    {
      "cell_type": "markdown",
      "source": [
        "- Observamos uma diminuição significativa nos desvios padrão de `'TotalPrice'` e `'Quantity'`, para 63 e 39, respectivamente. Embora ainda sejam valores relativamente elevados, percebe-se uma redução substancial em relação aos números anteriores."
      ],
      "metadata": {
        "id": "FKPZsMg9HAJp"
      }
    },
    {
      "cell_type": "code",
      "source": [
        "colors = ['r', 'g', 'b']\n",
        "base_amostra[['TotalPrice', 'UnitPrice', 'Quantity']].plot(kind='box', vert=False)\n",
        "\n",
        "outliers = base_amostra[['TotalPrice', 'UnitPrice', 'Quantity']].describe().loc[['min', 'max']].values.round()\n",
        "\n",
        "for i, limit in enumerate(outliers.T):\n",
        "    color = colors[i % len(colors)]\n",
        "\n",
        "    plt.axvline(x=limit[0], color=color, linestyle='--')\n",
        "    plt.axvline(x=limit[1], color=color, linestyle='--')\n",
        "\n",
        "    for j, value in enumerate(limit):\n",
        "        plt.text(value, i+1.1, f'{value}', ha='center', va='bottom')\n",
        "\n",
        "plt.show()"
      ],
      "metadata": {
        "colab": {
          "base_uri": "https://localhost:8080/",
          "height": 434
        },
        "id": "erzJL4yYGoqp",
        "outputId": "1fd6e2ff-56d3-4f89-d073-88ff3baae815"
      },
      "execution_count": 126,
      "outputs": [
        {
          "output_type": "display_data",
          "data": {
            "text/plain": [
              "<Figure size 640x480 with 1 Axes>"
            ],
            "image/png": "[encoded data removed]"
          },
          "metadata": {}
        }
      ]
    },
    {
      "cell_type": "markdown",
      "source": [
        "##### ***Target:***"
      ],
      "metadata": {
        "id": "nLGAoqmw7uUY"
      }
    },
    {
      "cell_type": "markdown",
      "source": [
        "Tratamento, criação e análise da target:\n",
        "\n",
        "---\n",
        "\n"
      ],
      "metadata": {
        "id": "xMVgGxZd4XwR"
      }
    },
    {
      "cell_type": "code",
      "source": [
        "# Valores únicos em 'InvoiceNo':\n",
        "base_amostra['InvoiceNo'] = base_amostra['InvoiceNo'].astype(str)\n",
        "base_amostra[base_amostra['InvoiceNo'].str.contains('C')]"
      ],
      "metadata": {
        "colab": {
          "base_uri": "https://localhost:8080/",
          "height": 423
        },
        "id": "w8p0AQrg3zmp",
        "outputId": "7db6b685-d524-4741-eae1-4cdcd5855132"
      },
      "execution_count": 127,
      "outputs": [
        {
          "output_type": "execute_result",
          "data": {
            "text/plain": [
              "       InvoiceNo StockCode                         Description  Quantity  \\\n",
              "372165   C569233     22350               ILLUSTRATED CAT BOWL         -1   \n",
              "372166   C569233     22467                   GUMBALL COAT RACK        -2   \n",
              "372881   C569251     85066         CREAM SWEETHEART MINI CHEST        -1   \n",
              "373247   C569318     22628    PICNIC BOXES SET OF 3 RETROSPOT         -1   \n",
              "373248   C569318     22328  ROUND SNACK BOXES SET OF 4 FRUITS         -3   \n",
              "...          ...       ...                                 ...       ...   \n",
              "540448   C581490     22178     VICTORIAN GLASS HANGING T-LIGHT       -12   \n",
              "540449   C581490     23144     ZINC T-LIGHT HOLDER STARS SMALL       -11   \n",
              "541715   C581568     21258          VICTORIAN SEWING BOX LARGE        -5   \n",
              "541716   C581569     84978    HANGING HEART JAR T-LIGHT HOLDER        -1   \n",
              "541717   C581569     20979       36 PENCILS TUBE RED RETROSPOT        -5   \n",
              "\n",
              "               InvoiceDate  UnitPrice CustomerID         Country  TotalPrice  \n",
              "372165 2011-10-02 15:26:00       2.55      17841  United Kingdom       -2.55  \n",
              "372166 2011-10-02 15:26:00       2.55      17841  United Kingdom       -5.10  \n",
              "372881 2011-10-03 10:37:00      12.75      12957  United Kingdom      -12.75  \n",
              "373247 2011-10-03 12:14:00       4.95      13505     Switzerland       -4.95  \n",
              "373248 2011-10-03 12:14:00       2.95      13505     Switzerland       -8.85  \n",
              "...                    ...        ...        ...             ...         ...  \n",
              "540448 2011-12-09 09:57:00       1.95      14397  United Kingdom      -23.40  \n",
              "540449 2011-12-09 09:57:00       0.83      14397  United Kingdom       -9.13  \n",
              "541715 2011-12-09 11:57:00      10.95      15311  United Kingdom      -54.75  \n",
              "541716 2011-12-09 11:58:00       1.25      17315  United Kingdom       -1.25  \n",
              "541717 2011-12-09 11:58:00       1.25      17315  United Kingdom       -6.25  \n",
              "\n",
              "[2275 rows x 9 columns]"
            ],
            "text/html": [
              "\n",
              "\n",
              "  <div id=\"df-7a965745-c8c3-41e0-9cda-40d0e3bc16e0\">\n",
              "    <div class=\"colab-df-container\">\n",
              "      <div>\n",
              "<style scoped>\n",
              "    .dataframe tbody tr th:only-of-type {\n",
              "        vertical-align: middle;\n",
              "    }\n",
              "\n",
              "    .dataframe tbody tr th {\n",
              "        vertical-align: top;\n",
              "    }\n",
              "\n",
              "    .dataframe thead th {\n",
              "        text-align: right;\n",
              "    }\n",
              "</style>\n",
              "<table border=\"1\" class=\"dataframe\">\n",
              "  <thead>\n",
              "    <tr style=\"text-align: right;\">\n",
              "      <th></th>\n",
              "      <th>InvoiceNo</th>\n",
              "      <th>StockCode</th>\n",
              "      <th>Description</th>\n",
              "      <th>Quantity</th>\n",
              "      <th>InvoiceDate</th>\n",
              "      <th>UnitPrice</th>\n",
              "      <th>CustomerID</th>\n",
              "      <th>Country</th>\n",
              "      <th>TotalPrice</th>\n",
              "    </tr>\n",
              "  </thead>\n",
              "  <tbody>\n",
              "    <tr>\n",
              "      <th>372165</th>\n",
              "      <td>C569233</td>\n",
              "      <td>22350</td>\n",
              "      <td>ILLUSTRATED CAT BOWL</td>\n",
              "      <td>-1</td>\n",
              "      <td>2011-10-02 15:26:00</td>\n",
              "      <td>2.55</td>\n",
              "      <td>17841</td>\n",
              "      <td>United Kingdom</td>\n",
              "      <td>-2.55</td>\n",
              "    </tr>\n",
              "    <tr>\n",
              "      <th>372166</th>\n",
              "      <td>C569233</td>\n",
              "      <td>22467</td>\n",
              "      <td>GUMBALL COAT RACK</td>\n",
              "      <td>-2</td>\n",
              "      <td>2011-10-02 15:26:00</td>\n",
              "      <td>2.55</td>\n",
              "      <td>17841</td>\n",
              "      <td>United Kingdom</td>\n",
              "      <td>-5.10</td>\n",
              "    </tr>\n",
              "    <tr>\n",
              "      <th>372881</th>\n",
              "      <td>C569251</td>\n",
              "      <td>85066</td>\n",
              "      <td>CREAM SWEETHEART MINI CHEST</td>\n",
              "      <td>-1</td>\n",
              "      <td>2011-10-03 10:37:00</td>\n",
              "      <td>12.75</td>\n",
              "      <td>12957</td>\n",
              "      <td>United Kingdom</td>\n",
              "      <td>-12.75</td>\n",
              "    </tr>\n",
              "    <tr>\n",
              "      <th>373247</th>\n",
              "      <td>C569318</td>\n",
              "      <td>22628</td>\n",
              "      <td>PICNIC BOXES SET OF 3 RETROSPOT</td>\n",
              "      <td>-1</td>\n",
              "      <td>2011-10-03 12:14:00</td>\n",
              "      <td>4.95</td>\n",
              "      <td>13505</td>\n",
              "      <td>Switzerland</td>\n",
              "      <td>-4.95</td>\n",
              "    </tr>\n",
              "    <tr>\n",
              "      <th>373248</th>\n",
              "      <td>C569318</td>\n",
              "      <td>22328</td>\n",
              "      <td>ROUND SNACK BOXES SET OF 4 FRUITS</td>\n",
              "      <td>-3</td>\n",
              "      <td>2011-10-03 12:14:00</td>\n",
              "      <td>2.95</td>\n",
              "      <td>13505</td>\n",
              "      <td>Switzerland</td>\n",
              "      <td>-8.85</td>\n",
              "    </tr>\n",
              "    <tr>\n",
              "      <th>...</th>\n",
              "      <td>...</td>\n",
              "      <td>...</td>\n",
              "      <td>...</td>\n",
              "      <td>...</td>\n",
              "      <td>...</td>\n",
              "      <td>...</td>\n",
              "      <td>...</td>\n",
              "      <td>...</td>\n",
              "      <td>...</td>\n",
              "    </tr>\n",
              "    <tr>\n",
              "      <th>540448</th>\n",
              "      <td>C581490</td>\n",
              "      <td>22178</td>\n",
              "      <td>VICTORIAN GLASS HANGING T-LIGHT</td>\n",
              "      <td>-12</td>\n",
              "      <td>2011-12-09 09:57:00</td>\n",
              "      <td>1.95</td>\n",
              "      <td>14397</td>\n",
              "      <td>United Kingdom</td>\n",
              "      <td>-23.40</td>\n",
              "    </tr>\n",
              "    <tr>\n",
              "      <th>540449</th>\n",
              "      <td>C581490</td>\n",
              "      <td>23144</td>\n",
              "      <td>ZINC T-LIGHT HOLDER STARS SMALL</td>\n",
              "      <td>-11</td>\n",
              "      <td>2011-12-09 09:57:00</td>\n",
              "      <td>0.83</td>\n",
              "      <td>14397</td>\n",
              "      <td>United Kingdom</td>\n",
              "      <td>-9.13</td>\n",
              "    </tr>\n",
              "    <tr>\n",
              "      <th>541715</th>\n",
              "      <td>C581568</td>\n",
              "      <td>21258</td>\n",
              "      <td>VICTORIAN SEWING BOX LARGE</td>\n",
              "      <td>-5</td>\n",
              "      <td>2011-12-09 11:57:00</td>\n",
              "      <td>10.95</td>\n",
              "      <td>15311</td>\n",
              "      <td>United Kingdom</td>\n",
              "      <td>-54.75</td>\n",
              "    </tr>\n",
              "    <tr>\n",
              "      <th>541716</th>\n",
              "      <td>C581569</td>\n",
              "      <td>84978</td>\n",
              "      <td>HANGING HEART JAR T-LIGHT HOLDER</td>\n",
              "      <td>-1</td>\n",
              "      <td>2011-12-09 11:58:00</td>\n",
              "      <td>1.25</td>\n",
              "      <td>17315</td>\n",
              "      <td>United Kingdom</td>\n",
              "      <td>-1.25</td>\n",
              "    </tr>\n",
              "    <tr>\n",
              "      <th>541717</th>\n",
              "      <td>C581569</td>\n",
              "      <td>20979</td>\n",
              "      <td>36 PENCILS TUBE RED RETROSPOT</td>\n",
              "      <td>-5</td>\n",
              "      <td>2011-12-09 11:58:00</td>\n",
              "      <td>1.25</td>\n",
              "      <td>17315</td>\n",
              "      <td>United Kingdom</td>\n",
              "      <td>-6.25</td>\n",
              "    </tr>\n",
              "  </tbody>\n",
              "</table>\n",
              "<p>2275 rows × 9 columns</p>\n",
              "</div>\n",
              "      <button class=\"colab-df-convert\" onclick=\"convertToInteractive('df-7a965745-c8c3-41e0-9cda-40d0e3bc16e0')\"\n",
              "              title=\"Convert this dataframe to an interactive table.\"\n",
              "              style=\"display:none;\">\n",
              "\n",
              "  <svg xmlns=\"http://www.w3.org/2000/svg\" height=\"24px\"viewBox=\"0 0 24 24\"\n",
              "       width=\"24px\">\n",
              "    <path d=\"M0 0h24v24H0V0z\" fill=\"none\"/>\n",
              "    <path d=\"M18.56 5.44l.94 2.06.94-2.06 2.06-.94-2.06-.94-.94-2.06-.94 2.06-2.06.94zm-11 1L8.5 8.5l.94-2.06 2.06-.94-2.06-.94L8.5 2.5l-.94 2.06-2.06.94zm10 10l.94 2.06.94-2.06 2.06-.94-2.06-.94-.94-2.06-.94 2.06-2.06.94z\"/><path d=\"M17.41 7.96l-1.37-1.37c-.4-.4-.92-.59-1.43-.59-.52 0-1.04.2-1.43.59L10.3 9.45l-7.72 7.72c-.78.78-.78 2.05 0 2.83L4 21.41c.39.39.9.59 1.41.59.51 0 1.02-.2 1.41-.59l7.78-7.78 2.81-2.81c.8-.78.8-2.07 0-2.86zM5.41 20L4 18.59l7.72-7.72 1.47 1.35L5.41 20z\"/>\n",
              "  </svg>\n",
              "      </button>\n",
              "\n",
              "\n",
              "\n",
              "    <div id=\"df-d59879d8-ad31-44bb-85cd-c4a2527a55f2\">\n",
              "      <button class=\"colab-df-quickchart\" onclick=\"quickchart('df-d59879d8-ad31-44bb-85cd-c4a2527a55f2')\"\n",
              "              title=\"Suggest charts.\"\n",
              "              style=\"display:none;\">\n",
              "\n",
              "<svg xmlns=\"http://www.w3.org/2000/svg\" height=\"24px\"viewBox=\"0 0 24 24\"\n",
              "     width=\"24px\">\n",
              "    <g>\n",
              "        <path d=\"M19 3H5c-1.1 0-2 .9-2 2v14c0 1.1.9 2 2 2h14c1.1 0 2-.9 2-2V5c0-1.1-.9-2-2-2zM9 17H7v-7h2v7zm4 0h-2V7h2v10zm4 0h-2v-4h2v4z\"/>\n",
              "    </g>\n",
              "</svg>\n",
              "      </button>\n",
              "    </div>\n",
              "\n",
              "<style>\n",
              "  .colab-df-quickchart {\n",
              "    background-color: #E8F0FE;\n",
              "    border: none;\n",
              "    border-radius: 50%;\n",
              "    cursor: pointer;\n",
              "    display: none;\n",
              "    fill: #1967D2;\n",
              "    height: 32px;\n",
              "    padding: 0 0 0 0;\n",
              "    width: 32px;\n",
              "  }\n",
              "\n",
              "  .colab-df-quickchart:hover {\n",
              "    background-color: #E2EBFA;\n",
              "    box-shadow: 0px 1px 2px rgba(60, 64, 67, 0.3), 0px 1px 3px 1px rgba(60, 64, 67, 0.15);\n",
              "    fill: #174EA6;\n",
              "  }\n",
              "\n",
              "  [theme=dark] .colab-df-quickchart {\n",
              "    background-color: #3B4455;\n",
              "    fill: #D2E3FC;\n",
              "  }\n",
              "\n",
              "  [theme=dark] .colab-df-quickchart:hover {\n",
              "    background-color: #434B5C;\n",
              "    box-shadow: 0px 1px 3px 1px rgba(0, 0, 0, 0.15);\n",
              "    filter: drop-shadow(0px 1px 2px rgba(0, 0, 0, 0.3));\n",
              "    fill: #FFFFFF;\n",
              "  }\n",
              "</style>\n",
              "\n",
              "    <script>\n",
              "      async function quickchart(key) {\n",
              "        const containerElement = document.querySelector('#' + key);\n",
              "        const charts = await google.colab.kernel.invokeFunction(\n",
              "            'suggestCharts', [key], {});\n",
              "      }\n",
              "    </script>\n",
              "\n",
              "      <script>\n",
              "\n",
              "function displayQuickchartButton(domScope) {\n",
              "  let quickchartButtonEl =\n",
              "    domScope.querySelector('#df-d59879d8-ad31-44bb-85cd-c4a2527a55f2 button.colab-df-quickchart');\n",
              "  quickchartButtonEl.style.display =\n",
              "    google.colab.kernel.accessAllowed ? 'block' : 'none';\n",
              "}\n",
              "\n",
              "        displayQuickchartButton(document);\n",
              "      </script>\n",
              "      <style>\n",
              "    .colab-df-container {\n",
              "      display:flex;\n",
              "      flex-wrap:wrap;\n",
              "      gap: 12px;\n",
              "    }\n",
              "\n",
              "    .colab-df-convert {\n",
              "      background-color: #E8F0FE;\n",
              "      border: none;\n",
              "      border-radius: 50%;\n",
              "      cursor: pointer;\n",
              "      display: none;\n",
              "      fill: #1967D2;\n",
              "      height: 32px;\n",
              "      padding: 0 0 0 0;\n",
              "      width: 32px;\n",
              "    }\n",
              "\n",
              "    .colab-df-convert:hover {\n",
              "      background-color: #E2EBFA;\n",
              "      box-shadow: 0px 1px 2px rgba(60, 64, 67, 0.3), 0px 1px 3px 1px rgba(60, 64, 67, 0.15);\n",
              "      fill: #174EA6;\n",
              "    }\n",
              "\n",
              "    [theme=dark] .colab-df-convert {\n",
              "      background-color: #3B4455;\n",
              "      fill: #D2E3FC;\n",
              "    }\n",
              "\n",
              "    [theme=dark] .colab-df-convert:hover {\n",
              "      background-color: #434B5C;\n",
              "      box-shadow: 0px 1px 3px 1px rgba(0, 0, 0, 0.15);\n",
              "      filter: drop-shadow(0px 1px 2px rgba(0, 0, 0, 0.3));\n",
              "      fill: #FFFFFF;\n",
              "    }\n",
              "  </style>\n",
              "\n",
              "      <script>\n",
              "        const buttonEl =\n",
              "          document.querySelector('#df-7a965745-c8c3-41e0-9cda-40d0e3bc16e0 button.colab-df-convert');\n",
              "        buttonEl.style.display =\n",
              "          google.colab.kernel.accessAllowed ? 'block' : 'none';\n",
              "\n",
              "        async function convertToInteractive(key) {\n",
              "          const element = document.querySelector('#df-7a965745-c8c3-41e0-9cda-40d0e3bc16e0');\n",
              "          const dataTable =\n",
              "            await google.colab.kernel.invokeFunction('convertToInteractive',\n",
              "                                                     [key], {});\n",
              "          if (!dataTable) return;\n",
              "\n",
              "          const docLinkHtml = 'Like what you see? Visit the ' +\n",
              "            '<a target=\"_blank\" href=https://colab.research.google.com/notebooks/data_table.ipynb>data table notebook</a>'\n",
              "            + ' to learn more about interactive tables.';\n",
              "          element.innerHTML = '';\n",
              "          dataTable['output_type'] = 'display_data';\n",
              "          await google.colab.output.renderOutput(dataTable, element);\n",
              "          const docLink = document.createElement('div');\n",
              "          docLink.innerHTML = docLinkHtml;\n",
              "          element.appendChild(docLink);\n",
              "        }\n",
              "      </script>\n",
              "    </div>\n",
              "  </div>\n"
            ]
          },
          "metadata": {},
          "execution_count": 127
        }
      ]
    },
    {
      "cell_type": "code",
      "source": [
        "# Criando coluna 'Status' para pontuar os cancelamentos:\n",
        "base_amostra['Status'] = base_amostra['InvoiceNo'].apply(lambda x: 'Cancelado' if str(x).startswith('C') else 'Não Cancelado')\n",
        "base_amostra[['Status', 'InvoiceNo']]"
      ],
      "metadata": {
        "colab": {
          "base_uri": "https://localhost:8080/",
          "height": 423
        },
        "id": "j6k351phNM8W",
        "outputId": "3dcbe51a-7f4b-4c80-b24b-e959ae627846"
      },
      "execution_count": 128,
      "outputs": [
        {
          "output_type": "execute_result",
          "data": {
            "text/plain": [
              "               Status InvoiceNo\n",
              "370931  Não Cancelado    569203\n",
              "370932  Não Cancelado    569203\n",
              "370933  Não Cancelado    569204\n",
              "370934  Não Cancelado    569204\n",
              "370935  Não Cancelado    569204\n",
              "...               ...       ...\n",
              "541904  Não Cancelado    581587\n",
              "541905  Não Cancelado    581587\n",
              "541906  Não Cancelado    581587\n",
              "541907  Não Cancelado    581587\n",
              "541908  Não Cancelado    581587\n",
              "\n",
              "[124191 rows x 2 columns]"
            ],
            "text/html": [
              "\n",
              "\n",
              "  <div id=\"df-44fa72a4-7410-4ed2-8ce8-8bd95a303e8f\">\n",
              "    <div class=\"colab-df-container\">\n",
              "      <div>\n",
              "<style scoped>\n",
              "    .dataframe tbody tr th:only-of-type {\n",
              "        vertical-align: middle;\n",
              "    }\n",
              "\n",
              "    .dataframe tbody tr th {\n",
              "        vertical-align: top;\n",
              "    }\n",
              "\n",
              "    .dataframe thead th {\n",
              "        text-align: right;\n",
              "    }\n",
              "</style>\n",
              "<table border=\"1\" class=\"dataframe\">\n",
              "  <thead>\n",
              "    <tr style=\"text-align: right;\">\n",
              "      <th></th>\n",
              "      <th>Status</th>\n",
              "      <th>InvoiceNo</th>\n",
              "    </tr>\n",
              "  </thead>\n",
              "  <tbody>\n",
              "    <tr>\n",
              "      <th>370931</th>\n",
              "      <td>Não Cancelado</td>\n",
              "      <td>569203</td>\n",
              "    </tr>\n",
              "    <tr>\n",
              "      <th>370932</th>\n",
              "      <td>Não Cancelado</td>\n",
              "      <td>569203</td>\n",
              "    </tr>\n",
              "    <tr>\n",
              "      <th>370933</th>\n",
              "      <td>Não Cancelado</td>\n",
              "      <td>569204</td>\n",
              "    </tr>\n",
              "    <tr>\n",
              "      <th>370934</th>\n",
              "      <td>Não Cancelado</td>\n",
              "      <td>569204</td>\n",
              "    </tr>\n",
              "    <tr>\n",
              "      <th>370935</th>\n",
              "      <td>Não Cancelado</td>\n",
              "      <td>569204</td>\n",
              "    </tr>\n",
              "    <tr>\n",
              "      <th>...</th>\n",
              "      <td>...</td>\n",
              "      <td>...</td>\n",
              "    </tr>\n",
              "    <tr>\n",
              "      <th>541904</th>\n",
              "      <td>Não Cancelado</td>\n",
              "      <td>581587</td>\n",
              "    </tr>\n",
              "    <tr>\n",
              "      <th>541905</th>\n",
              "      <td>Não Cancelado</td>\n",
              "      <td>581587</td>\n",
              "    </tr>\n",
              "    <tr>\n",
              "      <th>541906</th>\n",
              "      <td>Não Cancelado</td>\n",
              "      <td>581587</td>\n",
              "    </tr>\n",
              "    <tr>\n",
              "      <th>541907</th>\n",
              "      <td>Não Cancelado</td>\n",
              "      <td>581587</td>\n",
              "    </tr>\n",
              "    <tr>\n",
              "      <th>541908</th>\n",
              "      <td>Não Cancelado</td>\n",
              "      <td>581587</td>\n",
              "    </tr>\n",
              "  </tbody>\n",
              "</table>\n",
              "<p>124191 rows × 2 columns</p>\n",
              "</div>\n",
              "      <button class=\"colab-df-convert\" onclick=\"convertToInteractive('df-44fa72a4-7410-4ed2-8ce8-8bd95a303e8f')\"\n",
              "              title=\"Convert this dataframe to an interactive table.\"\n",
              "              style=\"display:none;\">\n",
              "\n",
              "  <svg xmlns=\"http://www.w3.org/2000/svg\" height=\"24px\"viewBox=\"0 0 24 24\"\n",
              "       width=\"24px\">\n",
              "    <path d=\"M0 0h24v24H0V0z\" fill=\"none\"/>\n",
              "    <path d=\"M18.56 5.44l.94 2.06.94-2.06 2.06-.94-2.06-.94-.94-2.06-.94 2.06-2.06.94zm-11 1L8.5 8.5l.94-2.06 2.06-.94-2.06-.94L8.5 2.5l-.94 2.06-2.06.94zm10 10l.94 2.06.94-2.06 2.06-.94-2.06-.94-.94-2.06-.94 2.06-2.06.94z\"/><path d=\"M17.41 7.96l-1.37-1.37c-.4-.4-.92-.59-1.43-.59-.52 0-1.04.2-1.43.59L10.3 9.45l-7.72 7.72c-.78.78-.78 2.05 0 2.83L4 21.41c.39.39.9.59 1.41.59.51 0 1.02-.2 1.41-.59l7.78-7.78 2.81-2.81c.8-.78.8-2.07 0-2.86zM5.41 20L4 18.59l7.72-7.72 1.47 1.35L5.41 20z\"/>\n",
              "  </svg>\n",
              "      </button>\n",
              "\n",
              "\n",
              "\n",
              "    <div id=\"df-f67b988f-0ef3-476d-aa5c-9f32301e78b9\">\n",
              "      <button class=\"colab-df-quickchart\" onclick=\"quickchart('df-f67b988f-0ef3-476d-aa5c-9f32301e78b9')\"\n",
              "              title=\"Suggest charts.\"\n",
              "              style=\"display:none;\">\n",
              "\n",
              "<svg xmlns=\"http://www.w3.org/2000/svg\" height=\"24px\"viewBox=\"0 0 24 24\"\n",
              "     width=\"24px\">\n",
              "    <g>\n",
              "        <path d=\"M19 3H5c-1.1 0-2 .9-2 2v14c0 1.1.9 2 2 2h14c1.1 0 2-.9 2-2V5c0-1.1-.9-2-2-2zM9 17H7v-7h2v7zm4 0h-2V7h2v10zm4 0h-2v-4h2v4z\"/>\n",
              "    </g>\n",
              "</svg>\n",
              "      </button>\n",
              "    </div>\n",
              "\n",
              "<style>\n",
              "  .colab-df-quickchart {\n",
              "    background-color: #E8F0FE;\n",
              "    border: none;\n",
              "    border-radius: 50%;\n",
              "    cursor: pointer;\n",
              "    display: none;\n",
              "    fill: #1967D2;\n",
              "    height: 32px;\n",
              "    padding: 0 0 0 0;\n",
              "    width: 32px;\n",
              "  }\n",
              "\n",
              "  .colab-df-quickchart:hover {\n",
              "    background-color: #E2EBFA;\n",
              "    box-shadow: 0px 1px 2px rgba(60, 64, 67, 0.3), 0px 1px 3px 1px rgba(60, 64, 67, 0.15);\n",
              "    fill: #174EA6;\n",
              "  }\n",
              "\n",
              "  [theme=dark] .colab-df-quickchart {\n",
              "    background-color: #3B4455;\n",
              "    fill: #D2E3FC;\n",
              "  }\n",
              "\n",
              "  [theme=dark] .colab-df-quickchart:hover {\n",
              "    background-color: #434B5C;\n",
              "    box-shadow: 0px 1px 3px 1px rgba(0, 0, 0, 0.15);\n",
              "    filter: drop-shadow(0px 1px 2px rgba(0, 0, 0, 0.3));\n",
              "    fill: #FFFFFF;\n",
              "  }\n",
              "</style>\n",
              "\n",
              "    <script>\n",
              "      async function quickchart(key) {\n",
              "        const containerElement = document.querySelector('#' + key);\n",
              "        const charts = await google.colab.kernel.invokeFunction(\n",
              "            'suggestCharts', [key], {});\n",
              "      }\n",
              "    </script>\n",
              "\n",
              "      <script>\n",
              "\n",
              "function displayQuickchartButton(domScope) {\n",
              "  let quickchartButtonEl =\n",
              "    domScope.querySelector('#df-f67b988f-0ef3-476d-aa5c-9f32301e78b9 button.colab-df-quickchart');\n",
              "  quickchartButtonEl.style.display =\n",
              "    google.colab.kernel.accessAllowed ? 'block' : 'none';\n",
              "}\n",
              "\n",
              "        displayQuickchartButton(document);\n",
              "      </script>\n",
              "      <style>\n",
              "    .colab-df-container {\n",
              "      display:flex;\n",
              "      flex-wrap:wrap;\n",
              "      gap: 12px;\n",
              "    }\n",
              "\n",
              "    .colab-df-convert {\n",
              "      background-color: #E8F0FE;\n",
              "      border: none;\n",
              "      border-radius: 50%;\n",
              "      cursor: pointer;\n",
              "      display: none;\n",
              "      fill: #1967D2;\n",
              "      height: 32px;\n",
              "      padding: 0 0 0 0;\n",
              "      width: 32px;\n",
              "    }\n",
              "\n",
              "    .colab-df-convert:hover {\n",
              "      background-color: #E2EBFA;\n",
              "      box-shadow: 0px 1px 2px rgba(60, 64, 67, 0.3), 0px 1px 3px 1px rgba(60, 64, 67, 0.15);\n",
              "      fill: #174EA6;\n",
              "    }\n",
              "\n",
              "    [theme=dark] .colab-df-convert {\n",
              "      background-color: #3B4455;\n",
              "      fill: #D2E3FC;\n",
              "    }\n",
              "\n",
              "    [theme=dark] .colab-df-convert:hover {\n",
              "      background-color: #434B5C;\n",
              "      box-shadow: 0px 1px 3px 1px rgba(0, 0, 0, 0.15);\n",
              "      filter: drop-shadow(0px 1px 2px rgba(0, 0, 0, 0.3));\n",
              "      fill: #FFFFFF;\n",
              "    }\n",
              "  </style>\n",
              "\n",
              "      <script>\n",
              "        const buttonEl =\n",
              "          document.querySelector('#df-44fa72a4-7410-4ed2-8ce8-8bd95a303e8f button.colab-df-convert');\n",
              "        buttonEl.style.display =\n",
              "          google.colab.kernel.accessAllowed ? 'block' : 'none';\n",
              "\n",
              "        async function convertToInteractive(key) {\n",
              "          const element = document.querySelector('#df-44fa72a4-7410-4ed2-8ce8-8bd95a303e8f');\n",
              "          const dataTable =\n",
              "            await google.colab.kernel.invokeFunction('convertToInteractive',\n",
              "                                                     [key], {});\n",
              "          if (!dataTable) return;\n",
              "\n",
              "          const docLinkHtml = 'Like what you see? Visit the ' +\n",
              "            '<a target=\"_blank\" href=https://colab.research.google.com/notebooks/data_table.ipynb>data table notebook</a>'\n",
              "            + ' to learn more about interactive tables.';\n",
              "          element.innerHTML = '';\n",
              "          dataTable['output_type'] = 'display_data';\n",
              "          await google.colab.output.renderOutput(dataTable, element);\n",
              "          const docLink = document.createElement('div');\n",
              "          docLink.innerHTML = docLinkHtml;\n",
              "          element.appendChild(docLink);\n",
              "        }\n",
              "      </script>\n",
              "    </div>\n",
              "  </div>\n"
            ]
          },
          "metadata": {},
          "execution_count": 128
        }
      ]
    },
    {
      "cell_type": "code",
      "source": [
        "# Proporção da target na base:\n",
        "colors = ['#309b91', '#054863']\n",
        "base_amostra['Status'].value_counts().plot(kind = 'bar', color=colors)"
      ],
      "metadata": {
        "colab": {
          "base_uri": "https://localhost:8080/",
          "height": 553
        },
        "id": "fvD3Rky6fNCa",
        "outputId": "331a9053-c5e1-4670-f07c-a16157d76416"
      },
      "execution_count": 129,
      "outputs": [
        {
          "output_type": "execute_result",
          "data": {
            "text/plain": [
              "<Axes: >"
            ]
          },
          "metadata": {},
          "execution_count": 129
        },
        {
          "output_type": "display_data",
          "data": {
            "text/plain": [
              "<Figure size 640x480 with 1 Axes>"
            ],
            "image/png": "[encoded data removed]"
          },
          "metadata": {}
        }
      ]
    },
    {
      "cell_type": "code",
      "source": [
        "round(base_amostra['Status'].value_counts() / len(base_amostra)*100, 2)"
      ],
      "metadata": {
        "colab": {
          "base_uri": "https://localhost:8080/"
        },
        "id": "X6njAHywmV2M",
        "outputId": "35858add-f4fd-4612-e955-e15ed2f147b6"
      },
      "execution_count": 130,
      "outputs": [
        {
          "output_type": "execute_result",
          "data": {
            "text/plain": [
              "Não Cancelado    98.17\n",
              "Cancelado         1.83\n",
              "Name: Status, dtype: float64"
            ]
          },
          "metadata": {},
          "execution_count": 130
        }
      ]
    },
    {
      "cell_type": "markdown",
      "source": [
        "- Verificamos que o percentual de compras canceladas é bastante baixo, representando menos de **2%** do total de registros. Para lidar com esse desequilíbrio nos dados, adotaremos no momento da modelagem a técnica de ***Under-sampling.*** Essa abordagem envolve extrair um subconjunto aleatório da classe majoritária, preservando as características da classe minoritária, sendo ideal para situações onde você tem grandes volumes de dados.\n",
        "\n",
        "- O objetivo é **aumentar a representatividade da classe minoritária na base de dados, proporcionando um melhor desempenho do modelo e evitando possíveis viés decorrentes do desequilíbrio entre as classes.** Dessa forma, garantimos que o modelo seja capaz de capturar adequadamente os padrões e características da classe cancelada, contribuindo para uma melhor tomada de decisão."
      ],
      "metadata": {
        "id": "1Gk294Ws60lO"
      }
    },
    {
      "cell_type": "markdown",
      "source": [
        "##### **EDA** sobre as informações base:"
      ],
      "metadata": {
        "id": "AmoBodxzZepr"
      }
    },
    {
      "cell_type": "markdown",
      "source": [
        "Resumo das análises:\n",
        "\n",
        "- Análise Regional (pais e continente).\n",
        "- Análise dos itens e suas possíveis categorias.\n",
        "- Análise temporal (vendas e cancelamentos em intervalos de hora).\n",
        "\n",
        "---\n",
        "\n"
      ],
      "metadata": {
        "id": "On7WFuG0fWOT"
      }
    },
    {
      "cell_type": "code",
      "source": [
        "# Compras por pais:\n",
        "base_amostra['Country'].value_counts() / len(amostra)*100"
      ],
      "metadata": {
        "colab": {
          "base_uri": "https://localhost:8080/"
        },
        "id": "Ego2o_BxANBo",
        "outputId": "e06c1c43-9e6e-4e32-b98a-0555ddf3c650"
      },
      "execution_count": 131,
      "outputs": [
        {
          "output_type": "execute_result",
          "data": {
            "text/plain": [
              "United Kingdom     20.633538\n",
              "France              0.470928\n",
              "Germany             0.468344\n",
              "EIRE                0.384935\n",
              "Spain               0.118470\n",
              "Portugal            0.111642\n",
              "Belgium             0.103338\n",
              "Netherlands         0.102969\n",
              "Switzerland         0.088945\n",
              "Italy               0.062741\n",
              "Norway              0.062372\n",
              "Cyprus              0.046871\n",
              "USA                 0.046318\n",
              "Channel Islands     0.031740\n",
              "Finland             0.030079\n",
              "Australia           0.027495\n",
              "Austria             0.022144\n",
              "Sweden              0.021590\n",
              "Denmark             0.018453\n",
              "Poland              0.012917\n",
              "Japan               0.010334\n",
              "RSA                 0.009965\n",
              "Iceland             0.009965\n",
              "Greece              0.006459\n",
              "Israel              0.005167\n",
              "Singapore           0.004982\n",
              "Malta               0.002768\n",
              "Czech Republic      0.001845\n",
              "Name: Country, dtype: float64"
            ]
          },
          "metadata": {},
          "execution_count": 131
        }
      ]
    },
    {
      "cell_type": "code",
      "source": [
        "# Média do 'TotalPrice' por pais:\n",
        "base_amostra.groupby('Country')['TotalPrice'].mean().sort_values(ascending = False)"
      ],
      "metadata": {
        "colab": {
          "base_uri": "https://localhost:8080/"
        },
        "id": "VulUor0deerg",
        "outputId": "54aa894a-ac13-45c3-e5e8-9ff69b4a0349"
      },
      "execution_count": 132,
      "outputs": [
        {
          "output_type": "execute_result",
          "data": {
            "text/plain": [
              "Country\n",
              "Japan              183.771250\n",
              "Australia          158.874832\n",
              "Netherlands        135.362778\n",
              "Sweden              67.646410\n",
              "Singapore           34.301481\n",
              "Norway              31.973521\n",
              "Denmark             31.515200\n",
              "Switzerland         27.300996\n",
              "EIRE                25.829727\n",
              "Iceland             24.895185\n",
              "Channel Islands     22.429302\n",
              "Germany             21.874275\n",
              "France              21.632610\n",
              "Czech Republic      21.573000\n",
              "Belgium             20.683107\n",
              "Finland             19.638160\n",
              "Italy               19.310382\n",
              "Poland              18.348143\n",
              "Austria             18.190500\n",
              "RSA                 17.584444\n",
              "United Kingdom      16.902602\n",
              "Cyprus              16.711142\n",
              "Greece              15.599714\n",
              "Portugal            15.486727\n",
              "Spain               14.598723\n",
              "Malta               12.720667\n",
              "USA                  4.837331\n",
              "Israel               3.802500\n",
              "Name: TotalPrice, dtype: float64"
            ]
          },
          "metadata": {},
          "execution_count": 132
        }
      ]
    },
    {
      "cell_type": "code",
      "source": [
        "# Criando coluna de 'Continente':\n",
        "dict_continent = {\n",
        "    'United Kingdom': 'Europa',\n",
        "    'Switzerland': 'Europa',\n",
        "    'France': 'Europa',\n",
        "    'Spain': 'Europa',\n",
        "    'Germany': 'Europa',\n",
        "    'Belgium': 'Europa',\n",
        "    'Israel': 'Ásia',\n",
        "    'Channel Islands': 'Europa',\n",
        "    'Australia': 'Oceania',\n",
        "    'Netherlands': 'Europa',\n",
        "    'EIRE': 'Europa',\n",
        "    'Portugal': 'Europa',\n",
        "    'Italy': 'Europa',\n",
        "    'Denmark': 'Europa',\n",
        "    'Cyprus': 'Europa',\n",
        "    'Czech Republic': 'Europa',\n",
        "    'USA': 'América do Norte',\n",
        "    'Norway': 'Europa',\n",
        "    'Finland': 'Europa',\n",
        "    'RSA': 'África',\n",
        "    'Singapore': 'Ásia',\n",
        "    'Sweden': 'Europa',\n",
        "    'Austria': 'Europa',\n",
        "    'Japan': 'Ásia',\n",
        "    'Iceland': 'Europa',\n",
        "    'Poland': 'Europa',\n",
        "    'Malta': 'Europa',\n",
        "    'Greece': 'Europa'\n",
        "}\n",
        "\n",
        "base_amostra['Continent'] = base_amostra['Country'].map(dict_continent)"
      ],
      "metadata": {
        "id": "F3AlcqKVa-ZO"
      },
      "execution_count": 133,
      "outputs": []
    },
    {
      "cell_type": "code",
      "source": [
        "# Média de 'UnitPrice' por continente:\n",
        "base_amostra.groupby('Continent')['UnitPrice'].mean().sort_values(ascending = False)"
      ],
      "metadata": {
        "colab": {
          "base_uri": "https://localhost:8080/"
        },
        "id": "IqcqXC-FcXqj",
        "outputId": "74c67bcf-1ded-4a35-f550-9ed3b82e525d"
      },
      "execution_count": 134,
      "outputs": [
        {
          "output_type": "execute_result",
          "data": {
            "text/plain": [
              "Continent\n",
              "África              4.418889\n",
              "Ásia                3.343514\n",
              "Oceania             3.012416\n",
              "Europa              2.762968\n",
              "América do Norte    2.054502\n",
              "Name: UnitPrice, dtype: float64"
            ]
          },
          "metadata": {},
          "execution_count": 134
        }
      ]
    },
    {
      "cell_type": "code",
      "source": [
        "# Média de 'UnitPrice' por continente:\n",
        "base_amostra.groupby('Continent')['TotalPrice'].mean().sort_values(ascending = False)"
      ],
      "metadata": {
        "colab": {
          "base_uri": "https://localhost:8080/"
        },
        "id": "LpYD7LCqdGL9",
        "outputId": "c00af24d-8dd2-466c-bf4b-c70fa2db1cf1"
      },
      "execution_count": 135,
      "outputs": [
        {
          "output_type": "execute_result",
          "data": {
            "text/plain": [
              "Continent\n",
              "Oceania             158.874832\n",
              "Ásia                102.016216\n",
              "Europa               17.950034\n",
              "África               17.584444\n",
              "América do Norte      4.837331\n",
              "Name: TotalPrice, dtype: float64"
            ]
          },
          "metadata": {},
          "execution_count": 135
        }
      ]
    },
    {
      "cell_type": "code",
      "source": [
        "# Média de 'Country' por continente:\n",
        "base_amostra.groupby('Country')['UnitPrice'].mean().sort_values(ascending = False)"
      ],
      "metadata": {
        "colab": {
          "base_uri": "https://localhost:8080/"
        },
        "id": "yzfWSIKoZj7L",
        "outputId": "2a16f45e-f4c6-48a9-f456-ced640b8f165"
      },
      "execution_count": 136,
      "outputs": [
        {
          "output_type": "execute_result",
          "data": {
            "text/plain": [
              "Country\n",
              "Singapore          5.642222\n",
              "Cyprus             5.013622\n",
              "Malta              4.688667\n",
              "RSA                4.418889\n",
              "Italy              4.025735\n",
              "Finland            3.590798\n",
              "Channel Islands    3.437791\n",
              "Greece             3.381714\n",
              "EIRE               3.299056\n",
              "Belgium            3.284161\n",
              "Norway             3.264556\n",
              "Spain              3.192757\n",
              "Australia          3.012416\n",
              "Austria            2.852667\n",
              "Germany            2.793775\n",
              "United Kingdom     2.740471\n",
              "Japan              2.709464\n",
              "Portugal           2.701983\n",
              "Poland             2.698143\n",
              "Switzerland        2.676286\n",
              "France             2.675513\n",
              "Netherlands        2.410287\n",
              "Israel             2.395000\n",
              "Iceland            2.283333\n",
              "USA                2.054502\n",
              "Sweden             1.936239\n",
              "Denmark            1.873700\n",
              "Czech Republic     1.083000\n",
              "Name: UnitPrice, dtype: float64"
            ]
          },
          "metadata": {},
          "execution_count": 136
        }
      ]
    },
    {
      "cell_type": "markdown",
      "source": [
        "- Conforme mencionado anteriormente, a maioria das compras foi realizada no Reino Unido (Unit Kingdom), porém o país ocupa a 21ª posição em termos de média total de compras. Por outro lado, o Japão possui a maior média total de compras, apesar de não representar nem 1% das vendas totais.\n",
        "\n",
        "- No que diz respeito aos continentes, constata-se que o continente africano apresenta os itens mais caros, em média, enquanto ocupa a segunda posição em relação ao menor valor total de compras. Já a Oceania é o continente onde as pessoas gastaram mais em média."
      ],
      "metadata": {
        "id": "uLysCn7kY6w4"
      }
    },
    {
      "cell_type": "code",
      "source": [
        "# Qtd de itens vendidos:\n",
        "base_amostra.groupby(['StockCode', 'Description'])['StockCode'].count().sort_values(ascending=False).head(10)"
      ],
      "metadata": {
        "colab": {
          "base_uri": "https://localhost:8080/"
        },
        "id": "IRSS70bpi5uz",
        "outputId": "e7235dba-ee44-4c15-8a86-19b15588ca5d"
      },
      "execution_count": 137,
      "outputs": [
        {
          "output_type": "execute_result",
          "data": {
            "text/plain": [
              "StockCode  Description                       \n",
              "22086      PAPER CHAIN KIT 50'S CHRISTMAS        673\n",
              "23084      RABBIT NIGHT LIGHT                    655\n",
              "23355      HOT WATER BOTTLE KEEP CALM            538\n",
              "22910      PAPER CHAIN KIT VINTAGE CHRISTMAS     465\n",
              "23344      JUMBO BAG 50'S CHRISTMAS              435\n",
              "22197      POPCORN HOLDER                        408\n",
              "22865      HAND WARMER OWL DESIGN                406\n",
              "22423      REGENCY CAKESTAND 3 TIER              399\n",
              "84879      ASSORTED COLOUR BIRD ORNAMENT         398\n",
              "22578      WOODEN STAR CHRISTMAS SCANDINAVIAN    380\n",
              "Name: StockCode, dtype: int64"
            ]
          },
          "metadata": {},
          "execution_count": 137
        }
      ]
    },
    {
      "cell_type": "markdown",
      "source": [
        "- Na base de dados, não há uma segmentação de itens por categoria. Ao analisar os 10 itens mais vendidos, observamos, por exemplo, que eles consistem em itens de decoração e utensílios gerais. Dentro da categoria de decoração, identificamos 3 itens com tema natalino, o que faz sentido, uma vez que estamos verificando os últimos 3 meses do ano.\n",
        "\n",
        "- No entanto, essa análise superficial pode não ser precisa o suficiente para compreender completamente as informações. Uma alternativa viável seria utilizar um modelo de clusterização, como o KNN ou um SVM, para segmentar de forma mais precisa e obter uma compreensão mais detalhada das categorias presentes. No entanto, essa abordagem requereria uma categorização manual inicial, a fim de obter dados reais para treinar e testar o modelo. Considerando que já possuímos a descrição do item e que a coluna de categorias não alteraria significativamente a capacidade de predição do modelo, optamos por não realizar essa etapa."
      ],
      "metadata": {
        "id": "FYg_WXsYmZ3h"
      }
    },
    {
      "cell_type": "markdown",
      "source": [
        "Tratamento de data e hora:\n",
        "\n",
        "\n",
        "---\n",
        "\n"
      ],
      "metadata": {
        "id": "SacIufykcwos"
      }
    },
    {
      "cell_type": "code",
      "source": [
        "# Criando coluna com intervalos de horas:\n",
        "base_amostra['InvoiceHour'] = base_amostra['InvoiceDate'].dt.strftime('%H:%M:%S')\n",
        "intervalos = pd.interval_range(start=pd.to_timedelta('00:00:00'), end=pd.to_timedelta('23:00:00'), freq='1H')\n",
        "\n",
        "base_amostra['InvoiceHour_Intervalo'] = pd.cut(pd.to_timedelta(base_amostra['InvoiceHour']), bins=intervalos, labels=intervalos[:-1])\n",
        "\n",
        "base_amostra['InvoiceHour'] = base_amostra['InvoiceHour_Intervalo'].apply(lambda x: datetime.strftime(datetime(1900, 1, 1) + x.left, '%H'f'h'))"
      ],
      "metadata": {
        "id": "4XTTdeiZrrRr"
      },
      "execution_count": 138,
      "outputs": []
    },
    {
      "cell_type": "code",
      "source": [
        "# Vendas 'não canceladas' por horário:\n",
        "invoice_hour_counts_not = base_amostra[~base_amostra['InvoiceNo'].str.startswith('C')].groupby('InvoiceHour')['InvoiceNo'].count()\n",
        "\n",
        "plt.figure(figsize=(10, 6))\n",
        "sns.barplot(x=invoice_hour_counts_not.index, y=invoice_hour_counts_not.values)\n",
        "plt.xlabel('Hora do Pedido')\n",
        "plt.ylabel('Contagem')\n",
        "plt.title('Contagem de Pedidos por Hora')\n",
        "plt.show()"
      ],
      "metadata": {
        "colab": {
          "base_uri": "https://localhost:8080/",
          "height": 573
        },
        "id": "wNNk0t0RuCe1",
        "outputId": "7a079b77-a7de-4300-95d1-3c52ca2b37c1"
      },
      "execution_count": 139,
      "outputs": [
        {
          "output_type": "display_data",
          "data": {
            "text/plain": [
              "<Figure size 1000x600 with 1 Axes>"
            ],
            "image/png": "[encoded data removed]"
          },
          "metadata": {}
        }
      ]
    },
    {
      "cell_type": "code",
      "source": [
        "# itens não cancelados no período das 12h\n",
        "base_amostra[(~base_amostra['InvoiceNo'].str.startswith('C')) & (base_amostra['InvoiceHour'] == '12h')].groupby('Description')['Description'].count().sort_values(ascending=False).head(10)"
      ],
      "metadata": {
        "colab": {
          "base_uri": "https://localhost:8080/"
        },
        "id": "XPrjc1fxfSGW",
        "outputId": "c3e768f9-90b4-4728-fda0-e3fd418dd307"
      },
      "execution_count": 140,
      "outputs": [
        {
          "output_type": "execute_result",
          "data": {
            "text/plain": [
              "Description\n",
              "PAPER CHAIN KIT 50'S CHRISTMAS        126\n",
              "HOT WATER BOTTLE KEEP CALM            111\n",
              "RABBIT NIGHT LIGHT                    106\n",
              "JUMBO BAG 50'S CHRISTMAS               94\n",
              "REX CASH+CARRY JUMBO SHOPPER           93\n",
              "PAPER CHAIN KIT VINTAGE CHRISTMAS      83\n",
              "GARDENERS KNEELING PAD KEEP CALM       81\n",
              "POPCORN HOLDER                         78\n",
              "HAND WARMER OWL DESIGN                 77\n",
              "WOODEN STAR CHRISTMAS SCANDINAVIAN     76\n",
              "Name: Description, dtype: int64"
            ]
          },
          "metadata": {},
          "execution_count": 140
        }
      ]
    },
    {
      "cell_type": "code",
      "source": [
        "# Vendas canceladas por horário:\n",
        "invoice_hour_counts = base_amostra[base_amostra['InvoiceNo'].str.startswith('C')].groupby('InvoiceHour')['InvoiceNo'].count()\n",
        "\n",
        "plt.figure(figsize=(10, 6))\n",
        "sns.barplot(x=invoice_hour_counts.index, y=invoice_hour_counts.values)\n",
        "plt.xlabel('Hora do Pedido')\n",
        "plt.ylabel('Contagem')\n",
        "plt.title('Contagem de Pedidos Cancelados por Hora')\n",
        "plt.show()"
      ],
      "metadata": {
        "colab": {
          "base_uri": "https://localhost:8080/",
          "height": 573
        },
        "id": "NOvm7PiiuPex",
        "outputId": "97548adb-1f5d-42f5-8823-6da2b81ba9aa"
      },
      "execution_count": 141,
      "outputs": [
        {
          "output_type": "display_data",
          "data": {
            "text/plain": [
              "<Figure size 1000x600 with 1 Axes>"
            ],
            "image/png": "[encoded data removed]"
          },
          "metadata": {}
        }
      ]
    },
    {
      "cell_type": "markdown",
      "source": [
        "- A maioria das vendas ocorre entre as 11h da manhã e as 14h, com pico ao 12h indicando um período de maior atividade comercial.\n",
        "\n",
        "- Além disso, observa-se que os cancelamentos também apresentam um volume significativo durante esse mesmo período, com pico as 11h, indicando uma possível relação entre as horas de maior volume de vendas e os cancelamentos. Outro pico de cancelamentos ocorre às 16h da tarde."
      ],
      "metadata": {
        "id": "0jMmCOXWvvnR"
      }
    },
    {
      "cell_type": "code",
      "source": [
        "# itens cancelados no período das 11h\n",
        "base_amostra[(base_amostra['InvoiceNo'].str.startswith('C')) & (base_amostra['InvoiceHour'] == '11h')].groupby('Description')['Description'].count().sort_values(ascending=False).head(10)"
      ],
      "metadata": {
        "colab": {
          "base_uri": "https://localhost:8080/"
        },
        "id": "JNMiEOc8deQo",
        "outputId": "c38ed37e-e83f-4538-88ed-2f809d8a094d"
      },
      "execution_count": 142,
      "outputs": [
        {
          "output_type": "execute_result",
          "data": {
            "text/plain": [
              "Description\n",
              "CHILDRENS APRON SPACEBOY DESIGN        3\n",
              "FELTCRAFT CUSHION OWL                  3\n",
              "LUNCH BAG CARS BLUE                    3\n",
              "JUMBO BAG 50'S CHRISTMAS               3\n",
              "JUMBO STORAGE BAG SUKI                 3\n",
              "JUMBO BAG PINK POLKADOT                3\n",
              "POPCORN HOLDER                         3\n",
              "SPACEBOY LUNCH BOX                     2\n",
              "SET OF 60 I LOVE LONDON CAKE CASES     2\n",
              "SET OF 4 KNICK KNACK TINS LONDON       2\n",
              "Name: Description, dtype: int64"
            ]
          },
          "metadata": {},
          "execution_count": 142
        }
      ]
    },
    {
      "cell_type": "code",
      "source": [
        "# itens cancelados no período das 16h\n",
        "base_amostra[(base_amostra['InvoiceNo'].str.startswith('C')) & (base_amostra['InvoiceHour'] == '16h')].groupby('Description')['Description'].count().sort_values(ascending=False).head(10)"
      ],
      "metadata": {
        "colab": {
          "base_uri": "https://localhost:8080/"
        },
        "id": "IscVzPYCWd-l",
        "outputId": "8198c3ae-f430-45cb-fa08-224c7c8c63f0"
      },
      "execution_count": 143,
      "outputs": [
        {
          "output_type": "execute_result",
          "data": {
            "text/plain": [
              "Description\n",
              "PARISIENNE JEWELLERY DRAWER            4\n",
              "SET OF 3 REGENCY CAKE TINS             3\n",
              "SET OF 3 CAKE TINS PANTRY DESIGN       3\n",
              "CLASSIC GLASS COOKIE JAR               3\n",
              "SET OF TEA COFFEE SUGAR TINS PANTRY    3\n",
              "VINTAGE DOILY DELUXE SEWING KIT        3\n",
              "COLOUR GLASS. STAR T-LIGHT HOLDER      3\n",
              "REGENCY CAKESTAND 3 TIER               3\n",
              "ROSES REGENCY TEACUP AND SAUCER        2\n",
              "REGENCY MILK JUG PINK                  2\n",
              "Name: Description, dtype: int64"
            ]
          },
          "metadata": {},
          "execution_count": 143
        }
      ]
    },
    {
      "cell_type": "markdown",
      "source": [
        "- Durante os períodos de maior número de cancelamentos, não observamos uma concentração significativa em nenhum item específico, o que sugere que os cancelamentos ocorrem de forma aleatória."
      ],
      "metadata": {
        "id": "tlSYtNSaegNS"
      }
    },
    {
      "cell_type": "markdown",
      "source": [
        "#### ***Aplicação do Modelo:***\n",
        "\n",
        "---\n",
        "\n"
      ],
      "metadata": {
        "id": "sjOPGz8B8AJK"
      }
    },
    {
      "cell_type": "markdown",
      "source": [
        "Resumos dos passos:\n",
        "\n",
        "- Separação das features numéricas e categóricas.\n",
        "- Criação da pipeline para tratamento das features.\n",
        "  - Método RobustScaler - variáveis numéricas;\n",
        "  - Método CountEncoder - variáveis nominais;\n",
        "  - Método RandomUnderSampler - desbalanceamento da target.\n",
        "- Aplicação do modelo.\n",
        "- Análise de métrica de eficiência do modelo."
      ],
      "metadata": {
        "id": "qXylFlZig4Zo"
      }
    },
    {
      "cell_type": "code",
      "source": [
        "# Removendo coluna com valores de data/hora:\n",
        "base_amostra = base_amostra.drop(columns=['InvoiceDate', 'InvoiceHour', 'InvoiceHour_Intervalo']).copy()"
      ],
      "metadata": {
        "id": "HZ4sEl3Do3UE"
      },
      "execution_count": 144,
      "outputs": []
    },
    {
      "cell_type": "code",
      "source": [
        "# Separando variáveis categóricas e numéricas:\n",
        "cat_features = base_amostra.select_dtypes('object').drop(columns = 'Status').columns.to_list()\n",
        "num_features = base_amostra.select_dtypes(exclude = 'object').columns.to_list()\n",
        "\n",
        "cat_features, num_features"
      ],
      "metadata": {
        "id": "vBQtG9kYblCE",
        "colab": {
          "base_uri": "https://localhost:8080/"
        },
        "outputId": "e8dce0c9-b1f0-49d6-8392-d79d53365998"
      },
      "execution_count": 145,
      "outputs": [
        {
          "output_type": "execute_result",
          "data": {
            "text/plain": [
              "(['InvoiceNo',\n",
              "  'StockCode',\n",
              "  'Description',\n",
              "  'CustomerID',\n",
              "  'Country',\n",
              "  'Continent'],\n",
              " ['Quantity', 'UnitPrice', 'TotalPrice'])"
            ]
          },
          "metadata": {},
          "execution_count": 145
        }
      ]
    },
    {
      "cell_type": "code",
      "source": [
        "# Divisão em dados de treino e de teste:\n",
        "X = base_amostra.drop(columns = ['Status'])\n",
        "y = base_amostra.Status.map({'Não Cancelado': 0,'Cancelado': 1})"
      ],
      "metadata": {
        "id": "VsDHIPwkf1pC"
      },
      "execution_count": 146,
      "outputs": []
    },
    {
      "cell_type": "code",
      "source": [
        "# separa em treino e teste\n",
        "SEED = 546744165\n",
        "X_train, X_test, y_train, y_test = train_test_split(X,\n",
        "                                                     y,\n",
        "                                                     test_size = 0.3,\n",
        "                                                     random_state = SEED,\n",
        "                                                     stratify = y) #explicar"
      ],
      "metadata": {
        "id": "JugjXHdAaQFJ"
      },
      "execution_count": 147,
      "outputs": []
    },
    {
      "cell_type": "code",
      "source": [
        "# Distribuição da target antes do tratamento:\n",
        "pd.Series(y_test).value_counts().plot(kind = 'bar', color=colors)"
      ],
      "metadata": {
        "id": "q6crCnr1Rl48",
        "colab": {
          "base_uri": "https://localhost:8080/",
          "height": 447
        },
        "outputId": "a9ee36ca-04c9-44f3-ab90-da77c3b94bea"
      },
      "execution_count": 148,
      "outputs": [
        {
          "output_type": "execute_result",
          "data": {
            "text/plain": [
              "<Axes: >"
            ]
          },
          "metadata": {},
          "execution_count": 148
        },
        {
          "output_type": "display_data",
          "data": {
            "text/plain": [
              "<Figure size 640x480 with 1 Axes>"
            ],
            "image/png": "[encoded data removed]"
          },
          "metadata": {}
        }
      ]
    },
    {
      "cell_type": "code",
      "source": [
        "# from imblearn.under_sampling import RandomUnderSampler\n",
        "\n",
        "rus = RandomUnderSampler(random_state=SEED)\n",
        "X_res, y_res = rus.fit_resample(X_train, y_train)\n",
        "X_res_test, y_res_test = rus.fit_resample(X_test, y_test)"
      ],
      "metadata": {
        "id": "zo7-JjYHRYGM"
      },
      "execution_count": 149,
      "outputs": []
    },
    {
      "cell_type": "code",
      "source": [
        "# Distribuição da target após do tratamento:\n",
        "pd.Series(y_res).value_counts()"
      ],
      "metadata": {
        "colab": {
          "base_uri": "https://localhost:8080/"
        },
        "id": "wfyipiVnYEPx",
        "outputId": "9214ad62-f6f8-41a4-a649-a46a69e9feb3"
      },
      "execution_count": 150,
      "outputs": [
        {
          "output_type": "execute_result",
          "data": {
            "text/plain": [
              "0    1592\n",
              "1    1592\n",
              "Name: Status, dtype: int64"
            ]
          },
          "metadata": {},
          "execution_count": 150
        }
      ]
    },
    {
      "cell_type": "code",
      "source": [
        "pd.Series(y_res).value_counts().plot(kind = 'bar', color=colors)"
      ],
      "metadata": {
        "id": "6A422Xp-STdF",
        "colab": {
          "base_uri": "https://localhost:8080/",
          "height": 447
        },
        "outputId": "61173896-e2e6-44eb-9021-5e7db717f438"
      },
      "execution_count": 151,
      "outputs": [
        {
          "output_type": "execute_result",
          "data": {
            "text/plain": [
              "<Axes: >"
            ]
          },
          "metadata": {},
          "execution_count": 151
        },
        {
          "output_type": "display_data",
          "data": {
            "text/plain": [
              "<Figure size 640x480 with 1 Axes>"
            ],
            "image/png": "[encoded data removed]"
          },
          "metadata": {}
        }
      ]
    },
    {
      "cell_type": "code",
      "source": [
        "# from imblearn.over_sampling import SMOTE\n",
        "# from imblearn.over_sampling import SMOTENC\n",
        "\n",
        "# # smote = SMOTE()\n",
        "# categorical_features = [0, 1, 2, 5, 6, 8]\n",
        "# smotenc = SMOTENC(categorical_features=categorical_features)\n",
        "\n",
        "# X_train_resampled, y_train_resampled = smotenc.fit_resample(X_train, y_train)\n",
        "# X_test_resampled, y_test_resampled = smotenc.fit_resample(X_test, y_test)"
      ],
      "metadata": {
        "id": "vQ8ZM8xnZ5fa"
      },
      "execution_count": 152,
      "outputs": []
    },
    {
      "cell_type": "code",
      "source": [
        "# Distribuição da target após do tratamento:\n",
        "pd.Series(y_res).value_counts()"
      ],
      "metadata": {
        "colab": {
          "base_uri": "https://localhost:8080/"
        },
        "id": "QyUETdtpaZY3",
        "outputId": "6578040f-9028-457f-fcde-b2c5e6f170f4"
      },
      "execution_count": 153,
      "outputs": [
        {
          "output_type": "execute_result",
          "data": {
            "text/plain": [
              "0    1592\n",
              "1    1592\n",
              "Name: Status, dtype: int64"
            ]
          },
          "metadata": {},
          "execution_count": 153
        }
      ]
    },
    {
      "cell_type": "code",
      "source": [
        "# criar o transformador para aplicar as transformações:\n",
        "transformer = ColumnTransformer(\n",
        "     transformers=[\n",
        "          ('count_encoder', CountEncoder(), cat_features),\n",
        "          ('robust_scaler', RobustScaler(), num_features)],\n",
        "           remainder='passthrough')\n",
        "\n",
        "# criando o pipeline com o transformador e o modelo:\n",
        "pipeline = Pipeline([\n",
        "       ('transformer', transformer),\n",
        "       ('model', LogisticRegression())])\n",
        "\n",
        "# ajustar o pipeline aos dados de treino:\n",
        "pipeline.fit(X_res, y_res)"
      ],
      "metadata": {
        "id": "RNIAsvHMSZs9",
        "colab": {
          "base_uri": "https://localhost:8080/",
          "height": 191
        },
        "outputId": "3b221ca1-bd3c-4429-a5e4-40477d030f8c"
      },
      "execution_count": 154,
      "outputs": [
        {
          "output_type": "execute_result",
          "data": {
            "text/plain": [
              "Pipeline(steps=[('transformer',\n",
              "                 ColumnTransformer(remainder='passthrough',\n",
              "                                   transformers=[('count_encoder',\n",
              "                                                  CountEncoder(combine_min_nan_groups=True),\n",
              "                                                  ['InvoiceNo', 'StockCode',\n",
              "                                                   'Description', 'CustomerID',\n",
              "                                                   'Country', 'Continent']),\n",
              "                                                 ('robust_scaler',\n",
              "                                                  RobustScaler(),\n",
              "                                                  ['Quantity', 'UnitPrice',\n",
              "                                                   'TotalPrice'])])),\n",
              "                ('model', LogisticRegression())])"
            ],
            "text/html": [
              "<style>#sk-container-id-2 {color: black;background-color: white;}#sk-container-id-2 pre{padding: 0;}#sk-container-id-2 div.sk-toggleable {background-color: white;}#sk-container-id-2 label.sk-toggleable__label {cursor: pointer;display: block;width: 100%;margin-bottom: 0;padding: 0.3em;box-sizing: border-box;text-align: center;}#sk-container-id-2 label.sk-toggleable__label-arrow:before {content: \"▸\";float: left;margin-right: 0.25em;color: #696969;}#sk-container-id-2 label.sk-toggleable__label-arrow:hover:before {color: black;}#sk-container-id-2 div.sk-estimator:hover label.sk-toggleable__label-arrow:before {color: black;}#sk-container-id-2 div.sk-toggleable__content {max-height: 0;max-width: 0;overflow: hidden;text-align: left;background-color: #f0f8ff;}#sk-container-id-2 div.sk-toggleable__content pre {margin: 0.2em;color: black;border-radius: 0.25em;background-color: #f0f8ff;}#sk-container-id-2 input.sk-toggleable__control:checked~div.sk-toggleable__content {max-height: 200px;max-width: 100%;overflow: auto;}#sk-container-id-2 input.sk-toggleable__control:checked~label.sk-toggleable__label-arrow:before {content: \"▾\";}#sk-container-id-2 div.sk-estimator input.sk-toggleable__control:checked~label.sk-toggleable__label {background-color: #d4ebff;}#sk-container-id-2 div.sk-label input.sk-toggleable__control:checked~label.sk-toggleable__label {background-color: #d4ebff;}#sk-container-id-2 input.sk-hidden--visually {border: 0;clip: rect(1px 1px 1px 1px);clip: rect(1px, 1px, 1px, 1px);height: 1px;margin: -1px;overflow: hidden;padding: 0;position: absolute;width: 1px;}#sk-container-id-2 div.sk-estimator {font-family: monospace;background-color: #f0f8ff;border: 1px dotted black;border-radius: 0.25em;box-sizing: border-box;margin-bottom: 0.5em;}#sk-container-id-2 div.sk-estimator:hover {background-color: #d4ebff;}#sk-container-id-2 div.sk-parallel-item::after {content: \"\";width: 100%;border-bottom: 1px solid gray;flex-grow: 1;}#sk-container-id-2 div.sk-label:hover label.sk-toggleable__label {background-color: #d4ebff;}#sk-container-id-2 div.sk-serial::before {content: \"\";position: absolute;border-left: 1px solid gray;box-sizing: border-box;top: 0;bottom: 0;left: 50%;z-index: 0;}#sk-container-id-2 div.sk-serial {display: flex;flex-direction: column;align-items: center;background-color: white;padding-right: 0.2em;padding-left: 0.2em;position: relative;}#sk-container-id-2 div.sk-item {position: relative;z-index: 1;}#sk-container-id-2 div.sk-parallel {display: flex;align-items: stretch;justify-content: center;background-color: white;position: relative;}#sk-container-id-2 div.sk-item::before, #sk-container-id-2 div.sk-parallel-item::before {content: \"\";position: absolute;border-left: 1px solid gray;box-sizing: border-box;top: 0;bottom: 0;left: 50%;z-index: -1;}#sk-container-id-2 div.sk-parallel-item {display: flex;flex-direction: column;z-index: 1;position: relative;background-color: white;}#sk-container-id-2 div.sk-parallel-item:first-child::after {align-self: flex-end;width: 50%;}#sk-container-id-2 div.sk-parallel-item:last-child::after {align-self: flex-start;width: 50%;}#sk-container-id-2 div.sk-parallel-item:only-child::after {width: 0;}#sk-container-id-2 div.sk-dashed-wrapped {border: 1px dashed gray;margin: 0 0.4em 0.5em 0.4em;box-sizing: border-box;padding-bottom: 0.4em;background-color: white;}#sk-container-id-2 div.sk-label label {font-family: monospace;font-weight: bold;display: inline-block;line-height: 1.2em;}#sk-container-id-2 div.sk-label-container {text-align: center;}#sk-container-id-2 div.sk-container {/* jupyter's `normalize.less` sets `[hidden] { display: none; }` but bootstrap.min.css set `[hidden] { display: none !important; }` so we also need the `!important` here to be able to override the default hidden behavior on the sphinx rendered scikit-learn.org. See: https://github.com/scikit-learn/scikit-learn/issues/21755 */display: inline-block !important;position: relative;}#sk-container-id-2 div.sk-text-repr-fallback {display: none;}</style><div id=\"sk-container-id-2\" class=\"sk-top-container\"><div class=\"sk-text-repr-fallback\"><pre>Pipeline(steps=[(&#x27;transformer&#x27;,\n",
              "                 ColumnTransformer(remainder=&#x27;passthrough&#x27;,\n",
              "                                   transformers=[(&#x27;count_encoder&#x27;,\n",
              "                                                  CountEncoder(combine_min_nan_groups=True),\n",
              "                                                  [&#x27;InvoiceNo&#x27;, &#x27;StockCode&#x27;,\n",
              "                                                   &#x27;Description&#x27;, &#x27;CustomerID&#x27;,\n",
              "                                                   &#x27;Country&#x27;, &#x27;Continent&#x27;]),\n",
              "                                                 (&#x27;robust_scaler&#x27;,\n",
              "                                                  RobustScaler(),\n",
              "                                                  [&#x27;Quantity&#x27;, &#x27;UnitPrice&#x27;,\n",
              "                                                   &#x27;TotalPrice&#x27;])])),\n",
              "                (&#x27;model&#x27;, LogisticRegression())])</pre><b>In a Jupyter environment, please rerun this cell to show the HTML representation or trust the notebook. <br />On GitHub, the HTML representation is unable to render, please try loading this page with nbviewer.org.</b></div><div class=\"sk-container\" hidden><div class=\"sk-item sk-dashed-wrapped\"><div class=\"sk-label-container\"><div class=\"sk-label sk-toggleable\"><input class=\"sk-toggleable__control sk-hidden--visually\" id=\"sk-estimator-id-10\" type=\"checkbox\" ><label for=\"sk-estimator-id-10\" class=\"sk-toggleable__label sk-toggleable__label-arrow\">Pipeline</label><div class=\"sk-toggleable__content\"><pre>Pipeline(steps=[(&#x27;transformer&#x27;,\n",
              "                 ColumnTransformer(remainder=&#x27;passthrough&#x27;,\n",
              "                                   transformers=[(&#x27;count_encoder&#x27;,\n",
              "                                                  CountEncoder(combine_min_nan_groups=True),\n",
              "                                                  [&#x27;InvoiceNo&#x27;, &#x27;StockCode&#x27;,\n",
              "                                                   &#x27;Description&#x27;, &#x27;CustomerID&#x27;,\n",
              "                                                   &#x27;Country&#x27;, &#x27;Continent&#x27;]),\n",
              "                                                 (&#x27;robust_scaler&#x27;,\n",
              "                                                  RobustScaler(),\n",
              "                                                  [&#x27;Quantity&#x27;, &#x27;UnitPrice&#x27;,\n",
              "                                                   &#x27;TotalPrice&#x27;])])),\n",
              "                (&#x27;model&#x27;, LogisticRegression())])</pre></div></div></div><div class=\"sk-serial\"><div class=\"sk-item sk-dashed-wrapped\"><div class=\"sk-label-container\"><div class=\"sk-label sk-toggleable\"><input class=\"sk-toggleable__control sk-hidden--visually\" id=\"sk-estimator-id-11\" type=\"checkbox\" ><label for=\"sk-estimator-id-11\" class=\"sk-toggleable__label sk-toggleable__label-arrow\">transformer: ColumnTransformer</label><div class=\"sk-toggleable__content\"><pre>ColumnTransformer(remainder=&#x27;passthrough&#x27;,\n",
              "                  transformers=[(&#x27;count_encoder&#x27;,\n",
              "                                 CountEncoder(combine_min_nan_groups=True),\n",
              "                                 [&#x27;InvoiceNo&#x27;, &#x27;StockCode&#x27;, &#x27;Description&#x27;,\n",
              "                                  &#x27;CustomerID&#x27;, &#x27;Country&#x27;, &#x27;Continent&#x27;]),\n",
              "                                (&#x27;robust_scaler&#x27;, RobustScaler(),\n",
              "                                 [&#x27;Quantity&#x27;, &#x27;UnitPrice&#x27;, &#x27;TotalPrice&#x27;])])</pre></div></div></div><div class=\"sk-parallel\"><div class=\"sk-parallel-item\"><div class=\"sk-item\"><div class=\"sk-label-container\"><div class=\"sk-label sk-toggleable\"><input class=\"sk-toggleable__control sk-hidden--visually\" id=\"sk-estimator-id-12\" type=\"checkbox\" ><label for=\"sk-estimator-id-12\" class=\"sk-toggleable__label sk-toggleable__label-arrow\">count_encoder</label><div class=\"sk-toggleable__content\"><pre>[&#x27;InvoiceNo&#x27;, &#x27;StockCode&#x27;, &#x27;Description&#x27;, &#x27;CustomerID&#x27;, &#x27;Country&#x27;, &#x27;Continent&#x27;]</pre></div></div></div><div class=\"sk-serial\"><div class=\"sk-item\"><div class=\"sk-estimator sk-toggleable\"><input class=\"sk-toggleable__control sk-hidden--visually\" id=\"sk-estimator-id-13\" type=\"checkbox\" ><label for=\"sk-estimator-id-13\" class=\"sk-toggleable__label sk-toggleable__label-arrow\">CountEncoder</label><div class=\"sk-toggleable__content\"><pre>CountEncoder(combine_min_nan_groups=True)</pre></div></div></div></div></div></div><div class=\"sk-parallel-item\"><div class=\"sk-item\"><div class=\"sk-label-container\"><div class=\"sk-label sk-toggleable\"><input class=\"sk-toggleable__control sk-hidden--visually\" id=\"sk-estimator-id-14\" type=\"checkbox\" ><label for=\"sk-estimator-id-14\" class=\"sk-toggleable__label sk-toggleable__label-arrow\">robust_scaler</label><div class=\"sk-toggleable__content\"><pre>[&#x27;Quantity&#x27;, &#x27;UnitPrice&#x27;, &#x27;TotalPrice&#x27;]</pre></div></div></div><div class=\"sk-serial\"><div class=\"sk-item\"><div class=\"sk-estimator sk-toggleable\"><input class=\"sk-toggleable__control sk-hidden--visually\" id=\"sk-estimator-id-15\" type=\"checkbox\" ><label for=\"sk-estimator-id-15\" class=\"sk-toggleable__label sk-toggleable__label-arrow\">RobustScaler</label><div class=\"sk-toggleable__content\"><pre>RobustScaler()</pre></div></div></div></div></div></div><div class=\"sk-parallel-item\"><div class=\"sk-item\"><div class=\"sk-label-container\"><div class=\"sk-label sk-toggleable\"><input class=\"sk-toggleable__control sk-hidden--visually\" id=\"sk-estimator-id-16\" type=\"checkbox\" ><label for=\"sk-estimator-id-16\" class=\"sk-toggleable__label sk-toggleable__label-arrow\">remainder</label><div class=\"sk-toggleable__content\"><pre>[]</pre></div></div></div><div class=\"sk-serial\"><div class=\"sk-item\"><div class=\"sk-estimator sk-toggleable\"><input class=\"sk-toggleable__control sk-hidden--visually\" id=\"sk-estimator-id-17\" type=\"checkbox\" ><label for=\"sk-estimator-id-17\" class=\"sk-toggleable__label sk-toggleable__label-arrow\">passthrough</label><div class=\"sk-toggleable__content\"><pre>passthrough</pre></div></div></div></div></div></div></div></div><div class=\"sk-item\"><div class=\"sk-estimator sk-toggleable\"><input class=\"sk-toggleable__control sk-hidden--visually\" id=\"sk-estimator-id-18\" type=\"checkbox\" ><label for=\"sk-estimator-id-18\" class=\"sk-toggleable__label sk-toggleable__label-arrow\">LogisticRegression</label><div class=\"sk-toggleable__content\"><pre>LogisticRegression()</pre></div></div></div></div></div></div></div>"
            ]
          },
          "metadata": {},
          "execution_count": 154
        }
      ]
    },
    {
      "cell_type": "code",
      "source": [
        "# Prever os valores de saída para os dados de teste e treino\n",
        "y_pred_train = pipeline.predict(X_res)\n",
        "y_pred_test = pipeline.predict(X_res_test)\n",
        "\n",
        "# Probabilidade de saída para os dados de teste e treino\n",
        "y_pred_proba_train = pipeline.predict_proba(X_res)\n",
        "y_pred_proba_test = pipeline.predict_proba(X_res_test)"
      ],
      "metadata": {
        "id": "D7VIsMJETdC6"
      },
      "execution_count": 155,
      "outputs": []
    },
    {
      "cell_type": "code",
      "source": [
        "# Probabilidade de 0 e 1 para dados de treino\n",
        "proba_df = pd.DataFrame(y_pred_proba_train).round(5)\n",
        "proba_df['Real'] = y_res\n",
        "proba_df"
      ],
      "metadata": {
        "id": "NFM2rojZRgSq",
        "colab": {
          "base_uri": "https://localhost:8080/",
          "height": 423
        },
        "outputId": "048dc6ec-f766-41da-b77a-2ef0f19521e6"
      },
      "execution_count": 156,
      "outputs": [
        {
          "output_type": "execute_result",
          "data": {
            "text/plain": [
              "            0        1  Real\n",
              "0     0.99993  0.00007     0\n",
              "1     0.86464  0.13536     0\n",
              "2     0.98229  0.01771     0\n",
              "3     0.86227  0.13773     0\n",
              "4     0.99999  0.00001     0\n",
              "...       ...      ...   ...\n",
              "3179  0.00028  0.99972     1\n",
              "3180  0.00000  1.00000     1\n",
              "3181  0.00000  1.00000     1\n",
              "3182  0.00000  1.00000     1\n",
              "3183  0.00000  1.00000     1\n",
              "\n",
              "[3184 rows x 3 columns]"
            ],
            "text/html": [
              "\n",
              "\n",
              "  <div id=\"df-07906b6a-989e-477e-9678-b42a3d4ae99f\">\n",
              "    <div class=\"colab-df-container\">\n",
              "      <div>\n",
              "<style scoped>\n",
              "    .dataframe tbody tr th:only-of-type {\n",
              "        vertical-align: middle;\n",
              "    }\n",
              "\n",
              "    .dataframe tbody tr th {\n",
              "        vertical-align: top;\n",
              "    }\n",
              "\n",
              "    .dataframe thead th {\n",
              "        text-align: right;\n",
              "    }\n",
              "</style>\n",
              "<table border=\"1\" class=\"dataframe\">\n",
              "  <thead>\n",
              "    <tr style=\"text-align: right;\">\n",
              "      <th></th>\n",
              "      <th>0</th>\n",
              "      <th>1</th>\n",
              "      <th>Real</th>\n",
              "    </tr>\n",
              "  </thead>\n",
              "  <tbody>\n",
              "    <tr>\n",
              "      <th>0</th>\n",
              "      <td>0.99993</td>\n",
              "      <td>0.00007</td>\n",
              "      <td>0</td>\n",
              "    </tr>\n",
              "    <tr>\n",
              "      <th>1</th>\n",
              "      <td>0.86464</td>\n",
              "      <td>0.13536</td>\n",
              "      <td>0</td>\n",
              "    </tr>\n",
              "    <tr>\n",
              "      <th>2</th>\n",
              "      <td>0.98229</td>\n",
              "      <td>0.01771</td>\n",
              "      <td>0</td>\n",
              "    </tr>\n",
              "    <tr>\n",
              "      <th>3</th>\n",
              "      <td>0.86227</td>\n",
              "      <td>0.13773</td>\n",
              "      <td>0</td>\n",
              "    </tr>\n",
              "    <tr>\n",
              "      <th>4</th>\n",
              "      <td>0.99999</td>\n",
              "      <td>0.00001</td>\n",
              "      <td>0</td>\n",
              "    </tr>\n",
              "    <tr>\n",
              "      <th>...</th>\n",
              "      <td>...</td>\n",
              "      <td>...</td>\n",
              "      <td>...</td>\n",
              "    </tr>\n",
              "    <tr>\n",
              "      <th>3179</th>\n",
              "      <td>0.00028</td>\n",
              "      <td>0.99972</td>\n",
              "      <td>1</td>\n",
              "    </tr>\n",
              "    <tr>\n",
              "      <th>3180</th>\n",
              "      <td>0.00000</td>\n",
              "      <td>1.00000</td>\n",
              "      <td>1</td>\n",
              "    </tr>\n",
              "    <tr>\n",
              "      <th>3181</th>\n",
              "      <td>0.00000</td>\n",
              "      <td>1.00000</td>\n",
              "      <td>1</td>\n",
              "    </tr>\n",
              "    <tr>\n",
              "      <th>3182</th>\n",
              "      <td>0.00000</td>\n",
              "      <td>1.00000</td>\n",
              "      <td>1</td>\n",
              "    </tr>\n",
              "    <tr>\n",
              "      <th>3183</th>\n",
              "      <td>0.00000</td>\n",
              "      <td>1.00000</td>\n",
              "      <td>1</td>\n",
              "    </tr>\n",
              "  </tbody>\n",
              "</table>\n",
              "<p>3184 rows × 3 columns</p>\n",
              "</div>\n",
              "      <button class=\"colab-df-convert\" onclick=\"convertToInteractive('df-07906b6a-989e-477e-9678-b42a3d4ae99f')\"\n",
              "              title=\"Convert this dataframe to an interactive table.\"\n",
              "              style=\"display:none;\">\n",
              "\n",
              "  <svg xmlns=\"http://www.w3.org/2000/svg\" height=\"24px\"viewBox=\"0 0 24 24\"\n",
              "       width=\"24px\">\n",
              "    <path d=\"M0 0h24v24H0V0z\" fill=\"none\"/>\n",
              "    <path d=\"M18.56 5.44l.94 2.06.94-2.06 2.06-.94-2.06-.94-.94-2.06-.94 2.06-2.06.94zm-11 1L8.5 8.5l.94-2.06 2.06-.94-2.06-.94L8.5 2.5l-.94 2.06-2.06.94zm10 10l.94 2.06.94-2.06 2.06-.94-2.06-.94-.94-2.06-.94 2.06-2.06.94z\"/><path d=\"M17.41 7.96l-1.37-1.37c-.4-.4-.92-.59-1.43-.59-.52 0-1.04.2-1.43.59L10.3 9.45l-7.72 7.72c-.78.78-.78 2.05 0 2.83L4 21.41c.39.39.9.59 1.41.59.51 0 1.02-.2 1.41-.59l7.78-7.78 2.81-2.81c.8-.78.8-2.07 0-2.86zM5.41 20L4 18.59l7.72-7.72 1.47 1.35L5.41 20z\"/>\n",
              "  </svg>\n",
              "      </button>\n",
              "\n",
              "\n",
              "\n",
              "    <div id=\"df-312696a2-a101-4f50-921b-1b342a7a2cbb\">\n",
              "      <button class=\"colab-df-quickchart\" onclick=\"quickchart('df-312696a2-a101-4f50-921b-1b342a7a2cbb')\"\n",
              "              title=\"Suggest charts.\"\n",
              "              style=\"display:none;\">\n",
              "\n",
              "<svg xmlns=\"http://www.w3.org/2000/svg\" height=\"24px\"viewBox=\"0 0 24 24\"\n",
              "     width=\"24px\">\n",
              "    <g>\n",
              "        <path d=\"M19 3H5c-1.1 0-2 .9-2 2v14c0 1.1.9 2 2 2h14c1.1 0 2-.9 2-2V5c0-1.1-.9-2-2-2zM9 17H7v-7h2v7zm4 0h-2V7h2v10zm4 0h-2v-4h2v4z\"/>\n",
              "    </g>\n",
              "</svg>\n",
              "      </button>\n",
              "    </div>\n",
              "\n",
              "<style>\n",
              "  .colab-df-quickchart {\n",
              "    background-color: #E8F0FE;\n",
              "    border: none;\n",
              "    border-radius: 50%;\n",
              "    cursor: pointer;\n",
              "    display: none;\n",
              "    fill: #1967D2;\n",
              "    height: 32px;\n",
              "    padding: 0 0 0 0;\n",
              "    width: 32px;\n",
              "  }\n",
              "\n",
              "  .colab-df-quickchart:hover {\n",
              "    background-color: #E2EBFA;\n",
              "    box-shadow: 0px 1px 2px rgba(60, 64, 67, 0.3), 0px 1px 3px 1px rgba(60, 64, 67, 0.15);\n",
              "    fill: #174EA6;\n",
              "  }\n",
              "\n",
              "  [theme=dark] .colab-df-quickchart {\n",
              "    background-color: #3B4455;\n",
              "    fill: #D2E3FC;\n",
              "  }\n",
              "\n",
              "  [theme=dark] .colab-df-quickchart:hover {\n",
              "    background-color: #434B5C;\n",
              "    box-shadow: 0px 1px 3px 1px rgba(0, 0, 0, 0.15);\n",
              "    filter: drop-shadow(0px 1px 2px rgba(0, 0, 0, 0.3));\n",
              "    fill: #FFFFFF;\n",
              "  }\n",
              "</style>\n",
              "\n",
              "    <script>\n",
              "      async function quickchart(key) {\n",
              "        const containerElement = document.querySelector('#' + key);\n",
              "        const charts = await google.colab.kernel.invokeFunction(\n",
              "            'suggestCharts', [key], {});\n",
              "      }\n",
              "    </script>\n",
              "\n",
              "      <script>\n",
              "\n",
              "function displayQuickchartButton(domScope) {\n",
              "  let quickchartButtonEl =\n",
              "    domScope.querySelector('#df-312696a2-a101-4f50-921b-1b342a7a2cbb button.colab-df-quickchart');\n",
              "  quickchartButtonEl.style.display =\n",
              "    google.colab.kernel.accessAllowed ? 'block' : 'none';\n",
              "}\n",
              "\n",
              "        displayQuickchartButton(document);\n",
              "      </script>\n",
              "      <style>\n",
              "    .colab-df-container {\n",
              "      display:flex;\n",
              "      flex-wrap:wrap;\n",
              "      gap: 12px;\n",
              "    }\n",
              "\n",
              "    .colab-df-convert {\n",
              "      background-color: #E8F0FE;\n",
              "      border: none;\n",
              "      border-radius: 50%;\n",
              "      cursor: pointer;\n",
              "      display: none;\n",
              "      fill: #1967D2;\n",
              "      height: 32px;\n",
              "      padding: 0 0 0 0;\n",
              "      width: 32px;\n",
              "    }\n",
              "\n",
              "    .colab-df-convert:hover {\n",
              "      background-color: #E2EBFA;\n",
              "      box-shadow: 0px 1px 2px rgba(60, 64, 67, 0.3), 0px 1px 3px 1px rgba(60, 64, 67, 0.15);\n",
              "      fill: #174EA6;\n",
              "    }\n",
              "\n",
              "    [theme=dark] .colab-df-convert {\n",
              "      background-color: #3B4455;\n",
              "      fill: #D2E3FC;\n",
              "    }\n",
              "\n",
              "    [theme=dark] .colab-df-convert:hover {\n",
              "      background-color: #434B5C;\n",
              "      box-shadow: 0px 1px 3px 1px rgba(0, 0, 0, 0.15);\n",
              "      filter: drop-shadow(0px 1px 2px rgba(0, 0, 0, 0.3));\n",
              "      fill: #FFFFFF;\n",
              "    }\n",
              "  </style>\n",
              "\n",
              "      <script>\n",
              "        const buttonEl =\n",
              "          document.querySelector('#df-07906b6a-989e-477e-9678-b42a3d4ae99f button.colab-df-convert');\n",
              "        buttonEl.style.display =\n",
              "          google.colab.kernel.accessAllowed ? 'block' : 'none';\n",
              "\n",
              "        async function convertToInteractive(key) {\n",
              "          const element = document.querySelector('#df-07906b6a-989e-477e-9678-b42a3d4ae99f');\n",
              "          const dataTable =\n",
              "            await google.colab.kernel.invokeFunction('convertToInteractive',\n",
              "                                                     [key], {});\n",
              "          if (!dataTable) return;\n",
              "\n",
              "          const docLinkHtml = 'Like what you see? Visit the ' +\n",
              "            '<a target=\"_blank\" href=https://colab.research.google.com/notebooks/data_table.ipynb>data table notebook</a>'\n",
              "            + ' to learn more about interactive tables.';\n",
              "          element.innerHTML = '';\n",
              "          dataTable['output_type'] = 'display_data';\n",
              "          await google.colab.output.renderOutput(dataTable, element);\n",
              "          const docLink = document.createElement('div');\n",
              "          docLink.innerHTML = docLinkHtml;\n",
              "          element.appendChild(docLink);\n",
              "        }\n",
              "      </script>\n",
              "    </div>\n",
              "  </div>\n"
            ]
          },
          "metadata": {},
          "execution_count": 156
        }
      ]
    },
    {
      "cell_type": "code",
      "source": [
        "pd.Series(y_pred_test).value_counts().plot(kind = 'bar', color=colors)"
      ],
      "metadata": {
        "colab": {
          "base_uri": "https://localhost:8080/",
          "height": 447
        },
        "id": "r0nIsk9Pwkqv",
        "outputId": "85792b6b-f8f7-4fc2-bac0-15adcbcc36f9"
      },
      "execution_count": 157,
      "outputs": [
        {
          "output_type": "execute_result",
          "data": {
            "text/plain": [
              "<Axes: >"
            ]
          },
          "metadata": {},
          "execution_count": 157
        },
        {
          "output_type": "display_data",
          "data": {
            "text/plain": [
              "<Figure size 640x480 with 1 Axes>"
            ],
            "image/png": "[encoded data removed]"
          },
          "metadata": {}
        }
      ]
    },
    {
      "cell_type": "markdown",
      "source": [
        "##### **Avaliando o modelo:**\n",
        "\n",
        "---\n",
        "\n"
      ],
      "metadata": {
        "id": "qvHuExbiqdX7"
      }
    },
    {
      "cell_type": "markdown",
      "source": [
        "Para fim didático, iremos utilizar as seguintes métricas para validação do modelo:\n",
        "\n",
        "- **`Matriz de Confusão:`** A matriz de confusão é uma representação tabular dos resultados de classificação de um modelo. Ela mostra a contagem de verdadeiros positivos, verdadeiros negativos, falsos positivos e falsos negativos, permitindo uma análise mais detalhada do desempenho do modelo.\n",
        "\n",
        "- **`Acurácia:`** A acurácia é uma métrica que mede a taxa de acertos do modelo, ou seja, a proporção de observações corretamente classificadas em relação ao total de observações. É uma medida geral do desempenho do modelo, indicando sua **capacidade de fazer previsões corretas**.\n",
        "\n",
        "- **`Precision (Precisão):`** A precisão é uma métrica que mede a proporção de observações positivas corretamente identificadas em relação ao total de observações classificadas como positivas. Ela é útil para avaliar a capacidade do modelo em evitar falsos positivos, ou seja, **classificar corretamente as instâncias positivas**.\n",
        "\n",
        "- **`Recall (Revocação):`** O recall é uma métrica que mede a proporção de observações positivas corretamente identificadas em relação ao total de observações positivas reais. Ela é útil para avaliar a capacidade do modelo em encontrar corretamente as instâncias positivas, **minimizando os falsos negativos**.\n",
        "\n",
        "- **`Curva ROC:`** A curva ROC representa a relação entre a taxa de verdadeiros positivos (TPR) e a taxa de falsos positivos (FPR) em diferentes pontos de corte (limiares de decisão) do modelo. O limiar de decisão é um valor ou critério que determina em qual classe o modelo irá classificar uma instância de entrada. Geralmente, o modelo calcula uma probabilidade de pertencer a uma determinada classe e compara essa probabilidade com o limiar de decisão para fazer a classificação final. Um bom modelo de classificação geralmente apresenta uma curva ROC **próxima ao canto superior esquerdo do gráfico, indicando uma alta taxa de verdadeiros positivos (sensibilidade) e uma baixa taxa de falsos positivos**. O ponto ideal seria aquele em que o modelo alcança uma taxa de verdadeiros positivos alta, minimizando simultaneamente a taxa de falsos positivos.\n",
        "\n",
        "- **`AUC-ROC:`** A AUC-ROC representa a probabilidade de o modelo classificar aleatoriamente um exemplo positivo mais alto do que um exemplo negativo. Quanto maior a AUC-ROC, melhor o desempenho do modelo em discriminar entre as classes. Esse valor representa a área sobre a curva ROC."
      ],
      "metadata": {
        "id": "8y2L0wbmW6vf"
      }
    },
    {
      "cell_type": "markdown",
      "source": [
        "###### **Matriz de Confusão:**\n",
        "\n",
        "---\n",
        "\n"
      ],
      "metadata": {
        "id": "-cFUt_lZXOCS"
      }
    },
    {
      "cell_type": "markdown",
      "source": [
        "Para interpretar a Matriz de Confusão, vamos considerar, a partir dos nosso dados:\n",
        "\n",
        "> - Valor Positivo: Cancelado (1)\n",
        "> - Valor Negativo: Não Cancelado (0)\n",
        "\n",
        "A Matriz de Confusão trás os valores previstos comparados aos valores reais da base, assim:\n",
        "\n",
        "> - Vedadeiro: Quando o modelo previu corretamente.\n",
        "> - Falso: Quando o modelo não previu corretamente.\n",
        "\n",
        "<img src = 'https://miro.medium.com/v2/resize:fit:1400/0*KUYgSbo0p1-5RRZW.png'/>\n",
        "\n",
        "Dessa forma, no quadrante de Verdadeiro Positivo (VP), temos a quantidade de previsões corretas de \"Cancelado\" (1), enquanto no quadrante de Verdadeiro Negativo (VN), temos a quantidade de previsões corretas de \"Não Cancelado\" (0).\n",
        "\n",
        "A mesma lógica se aplica aos quadrantes de Falso Positivo e Falso Negativo, representando as previsões incorretas."
      ],
      "metadata": {
        "id": "ULp1w1nHptA1"
      }
    },
    {
      "cell_type": "code",
      "source": [
        "# matriz de confusão\n",
        "from sklearn.metrics import confusion_matrix, ConfusionMatrixDisplay\n",
        "class_labels = [\"Não Cancelado\", \"Cancelado\"]\n",
        "ConfusionMatrixDisplay(confusion_matrix=confusion_matrix(y_res_test, y_pred_test), display_labels=class_labels).plot()\n",
        "plt.grid(False)\n",
        "plt.show()"
      ],
      "metadata": {
        "colab": {
          "base_uri": "https://localhost:8080/",
          "height": 458
        },
        "id": "fj1Nx6hbxPZ7",
        "outputId": "dfb3bc0a-08b1-404d-bc0d-1c618294f844"
      },
      "execution_count": 159,
      "outputs": [
        {
          "output_type": "display_data",
          "data": {
            "text/plain": [
              "<Figure size 640x480 with 2 Axes>"
            ],
            "image/png": "[encoded data removed]"
          },
          "metadata": {}
        }
      ]
    },
    {
      "cell_type": "markdown",
      "source": [
        "Ao analisar a matriz de confusão acima, podemos observar que o modelo realizou 23 previsões incorretas de Falso Positivo, ou seja, classificou erroneamente 23 casos como \"Cancelado\" quando na verdade eram \"Não Cancelado\".\n",
        "\n",
        "Além disso, ocorreram 6 previsões incorretas de Falso Negativo, em que o modelo categorizou erroneamente 6 casos como \"Não Cancelado\" quando na verdade eram \"Cancelado\"."
      ],
      "metadata": {
        "id": "dCOhr4vruCSm"
      }
    },
    {
      "cell_type": "markdown",
      "source": [
        "###### **Acurácia e Precissão:**\n",
        "\n",
        "\n",
        "---\n",
        "\n"
      ],
      "metadata": {
        "id": "RLBq_8XSzZ5V"
      }
    },
    {
      "cell_type": "code",
      "source": [
        "# cáculo precision, recall, f1 e acurácia\n",
        "from sklearn.metrics import classification_report\n",
        "\n",
        "report = classification_report(y_res_test, y_pred_test)\n",
        "print(report)"
      ],
      "metadata": {
        "colab": {
          "base_uri": "https://localhost:8080/"
        },
        "id": "HoHEtGyNtaJD",
        "outputId": "7e1a4fbf-5684-4f47-abc3-73689ad8af89"
      },
      "execution_count": 160,
      "outputs": [
        {
          "output_type": "stream",
          "name": "stdout",
          "text": [
            "              precision    recall  f1-score   support\n",
            "\n",
            "           0       0.97      0.99      0.98       683\n",
            "           1       0.99      0.97      0.98       683\n",
            "\n",
            "    accuracy                           0.98      1366\n",
            "   macro avg       0.98      0.98      0.98      1366\n",
            "weighted avg       0.98      0.98      0.98      1366\n",
            "\n"
          ]
        }
      ]
    },
    {
      "cell_type": "markdown",
      "source": [
        "###### **Curva ROC e AUC-ROC:**\n",
        "\n",
        "---\n",
        "\n"
      ],
      "metadata": {
        "id": "Z0iWh_fu0knG"
      }
    },
    {
      "cell_type": "code",
      "source": [
        "# cálculo da área da cuva ROC\n",
        "y_pred_proba_train = pipeline.predict_proba(X_res)[:, 1]  # probabilidades da classe positiva para o conjunto de treinamento\n",
        "y_pred_proba_test = pipeline.predict_proba(X_res_test)[:, 1]  # probabilidades da classe positiva para o conjunto de teste\n",
        "\n",
        "y_train_score = roc_auc_score(y_res, y_pred_proba_train)\n",
        "y_test_score = roc_auc_score(y_res_test, y_pred_proba_test)\n",
        "\n",
        "print(y_train_score, y_test_score)"
      ],
      "metadata": {
        "colab": {
          "base_uri": "https://localhost:8080/"
        },
        "id": "YxAV4mbMxqgu",
        "outputId": "7808872b-ddf1-4889-9fc5-f30211d781c6"
      },
      "execution_count": 161,
      "outputs": [
        {
          "output_type": "stream",
          "name": "stdout",
          "text": [
            "0.9994089480063635 0.9985551642160908\n"
          ]
        }
      ]
    },
    {
      "cell_type": "code",
      "source": [
        "# plotando curva ROC\n",
        "from sklearn.metrics import roc_curve\n",
        "\n",
        "fpr, tpr, thresholds = roc_curve(y_res_test, y_pred_proba_test)\n",
        "\n",
        "sns.set()\n",
        "sns.set_style(\"whitegrid\")\n",
        "\n",
        "plt.plot(fpr, tpr)\n",
        "plt.plot([0, 1], [0, 1], 'k--')  # linha diagonal para referência\n",
        "plt.xlabel('Taxa de Falsos Positivos')\n",
        "plt.ylabel('Taxa de Verdadeiros Positivos')\n",
        "plt.title('Curva ROC - Dados de Teste')\n",
        "plt.show()"
      ],
      "metadata": {
        "colab": {
          "base_uri": "https://localhost:8080/",
          "height": 480
        },
        "id": "YHlm2dSxzKBA",
        "outputId": "73d86088-4f29-4ff6-d4f8-c8f3970da874"
      },
      "execution_count": 162,
      "outputs": [
        {
          "output_type": "display_data",
          "data": {
            "text/plain": [
              "<Figure size 640x480 with 1 Axes>"
            ],
            "image/png": "[encoded data removed]"
          },
          "metadata": {}
        }
      ]
    },
    {
      "cell_type": "markdown",
      "source": [
        "***Conclusões:***\n",
        "\n",
        "Com base nos resultados da métrica de classificação (precision, recall) e da acurácia apresentados acima, podemos concluir que o modelo possui um desempenho excelente na tarefa de classificação das observações em duas classes: 0 e 1.\n",
        "\n",
        "- A precisão média para ambas as classes é de 0.98, o que indica que o modelo tem uma alta taxa de acerto na classificação correta das observações positiva da base. **Ou seja, de tudo que o modelo classificou como \"Cancelado\", ele acertou 98%.**\n",
        "\n",
        "- O recall médio de 0.98 indica que o modelo é capaz de identificar corretamente a grande maioria das observações positivas em relação ao total de observações positivas presentes na base de dados. **Ou seja, o modelo consegue detectar cerca de 98% dos casos que realmente são \"Cancelados\".**\n",
        "\n",
        "- A acurácia geral do modelo é de 0.98, o que indica uma taxa de acerto elevada na classificação de todas as observações. Isso demonstra que **o modelo é capaz de realizar previsões corretas na maioria dos casos.**"
      ],
      "metadata": {
        "id": "yXQizBzcudxk"
      }
    },
    {
      "cell_type": "markdown",
      "source": [
        "- Com base nos valores de AUC-ROC fornecidos, observamos que tanto no conjunto de treinamento quanto no conjunto de teste, o modelo apresenta um desempenho extremamente bom na tarefa de classificação. A AUC-ROC próxima de 1 indica que o modelo é capaz de fazer uma distinção clara entre as classes de cancelamento e não cancelamento de vendas, **com uma taxa muito baixa de falsos positivos em relação aos verdadeiros positivos**."
      ],
      "metadata": {
        "id": "yZT7vHqkQ1u3"
      }
    }
  ]
}