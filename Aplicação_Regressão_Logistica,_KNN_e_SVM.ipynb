{
  "nbformat": 4,
  "nbformat_minor": 0,
  "metadata": {
    "colab": {
      "provenance": [],
      "collapsed_sections": [
        "Ev_fvoLwws5E",
        "2X-2pt9jMGOn",
        "1-PTx8xxMTSY",
        "2m8sQGkP73S4"
      ],
      "authorship_tag": "ABX9TyOi7mjClqnVtaBYp1RFXYO6",
      "include_colab_link": true
    },
    "kernelspec": {
      "name": "python3",
      "display_name": "Python 3"
    },
    "language_info": {
      "name": "python"
    }
  },
  "cells": [
    {
      "cell_type": "markdown",
      "metadata": {
        "id": "view-in-github",
        "colab_type": "text"
      },
      "source": [
        "<a href=\"https://colab.research.google.com/github/lauramsromano/categorization_vendas/blob/colab/Aplica%C3%A7%C3%A3o_Regress%C3%A3o_Logistica%2C_KNN_e_SVM.ipynb\" target=\"_parent\"><img src=\"https://colab.research.google.com/assets/colab-badge.svg\" alt=\"Open In Colab\"/></a>"
      ]
    },
    {
      "cell_type": "markdown",
      "source": [
        "> Base - https://archive.ics.uci.edu/dataset/352/online+retail"
      ],
      "metadata": {
        "id": "EnJSVymUZDfP"
      }
    },
    {
      "cell_type": "markdown",
      "source": [
        "#### Baseado no histórico de cancelamentos, queremos prever `churn`, ou seja, se o cliente irá cancelar ou não a sua compra.\n",
        "\n",
        "---\n",
        "\n"
      ],
      "metadata": {
        "id": "2-r_POQQmQI1"
      }
    },
    {
      "cell_type": "markdown",
      "source": [
        "#### Bibliotecas:"
      ],
      "metadata": {
        "id": "Ev_fvoLwws5E"
      }
    },
    {
      "cell_type": "code",
      "source": [
        "# bibliotecas padrões:\n",
        "import pandas as pd\n",
        "import numpy as np\n",
        "import matplotlib.pyplot as plt\n",
        "import seaborn as sns\n",
        "# import random\n",
        "\n",
        "# modelos de categorização e métricas:\n",
        "from sklearn.linear_model import LogisticRegression # regressão logistica\n",
        "from sklearn.neighbors import KNeighborsClassifier # KNN\n",
        "from sklearn.svm import SVC #SVM\n",
        "from sklearn.model_selection import train_test_split # separação treino e teste\n",
        "\n",
        "from sklearn.metrics import roc_auc_score #\n",
        "from sklearn.metrics import accuracy_score # cálculo da acurácia\n",
        "\n",
        "# pipeline:\n",
        "from sklearn.pipeline import Pipeline # gerando pipeline\n",
        "from sklearn.pipeline import make_pipeline # extraindo infos da pipeline\n",
        "from sklearn.compose import ColumnTransformer # agrupação de métodos para pipeline\n",
        "\n",
        "# processamento de variáveis numéricas:\n",
        "from sklearn.preprocessing import RobustScaler # ajuste da escala das features\n",
        "\n",
        "# processamento de variáveis nominais:\n",
        "!pip install category_encoders\n",
        "from category_encoders import CountEncoder # transformação por frequência\n",
        "from sklearn.impute import SimpleImputer #\n",
        "\n",
        "# processamento target:\n",
        "import imblearn\n",
        "from imblearn.under_sampling import RandomUnderSampler\n",
        "\n",
        "# validação cruzada:\n",
        "from sklearn.model_selection import (cross_validate, StratifiedKFold) # validação cruzada\n",
        "\n",
        "# tratamento data e hora\n",
        "from datetime import datetime\n",
        "\n",
        "import warnings\n",
        "warnings.filterwarnings(\"ignore\")"
      ],
      "metadata": {
        "id": "-1dUWd1ZlD2Z",
        "colab": {
          "base_uri": "https://localhost:8080/"
        },
        "outputId": "ed7f74de-ec15-4207-ae6e-5970723cd348"
      },
      "execution_count": 1,
      "outputs": [
        {
          "output_type": "stream",
          "name": "stdout",
          "text": [
            "Collecting category_encoders\n",
            "  Downloading category_encoders-2.6.1-py2.py3-none-any.whl (81 kB)\n",
            "\u001b[?25l     \u001b[90m━━━━━━━━━━━━━━━━━━━━━━━━━━━━━━━━━━━━━━━━\u001b[0m \u001b[32m0.0/81.9 kB\u001b[0m \u001b[31m?\u001b[0m eta \u001b[36m-:--:--\u001b[0m\r\u001b[2K     \u001b[90m━━━━━━━━━━━━━━━━━━━━━━━━━━━━━━━━━━━━━━━━\u001b[0m \u001b[32m81.9/81.9 kB\u001b[0m \u001b[31m5.1 MB/s\u001b[0m eta \u001b[36m0:00:00\u001b[0m\n",
            "\u001b[?25hRequirement already satisfied: numpy>=1.14.0 in /usr/local/lib/python3.10/dist-packages (from category_encoders) (1.22.4)\n",
            "Requirement already satisfied: scikit-learn>=0.20.0 in /usr/local/lib/python3.10/dist-packages (from category_encoders) (1.2.2)\n",
            "Requirement already satisfied: scipy>=1.0.0 in /usr/local/lib/python3.10/dist-packages (from category_encoders) (1.10.1)\n",
            "Requirement already satisfied: statsmodels>=0.9.0 in /usr/local/lib/python3.10/dist-packages (from category_encoders) (0.13.5)\n",
            "Requirement already satisfied: pandas>=1.0.5 in /usr/local/lib/python3.10/dist-packages (from category_encoders) (1.5.3)\n",
            "Requirement already satisfied: patsy>=0.5.1 in /usr/local/lib/python3.10/dist-packages (from category_encoders) (0.5.3)\n",
            "Requirement already satisfied: python-dateutil>=2.8.1 in /usr/local/lib/python3.10/dist-packages (from pandas>=1.0.5->category_encoders) (2.8.2)\n",
            "Requirement already satisfied: pytz>=2020.1 in /usr/local/lib/python3.10/dist-packages (from pandas>=1.0.5->category_encoders) (2022.7.1)\n",
            "Requirement already satisfied: six in /usr/local/lib/python3.10/dist-packages (from patsy>=0.5.1->category_encoders) (1.16.0)\n",
            "Requirement already satisfied: joblib>=1.1.1 in /usr/local/lib/python3.10/dist-packages (from scikit-learn>=0.20.0->category_encoders) (1.2.0)\n",
            "Requirement already satisfied: threadpoolctl>=2.0.0 in /usr/local/lib/python3.10/dist-packages (from scikit-learn>=0.20.0->category_encoders) (3.1.0)\n",
            "Requirement already satisfied: packaging>=21.3 in /usr/local/lib/python3.10/dist-packages (from statsmodels>=0.9.0->category_encoders) (23.1)\n",
            "Installing collected packages: category_encoders\n",
            "Successfully installed category_encoders-2.6.1\n"
          ]
        }
      ]
    },
    {
      "cell_type": "code",
      "source": [
        "# leitura da base original\n",
        "amostra = pd.read_excel('online_retail.xlsx')"
      ],
      "metadata": {
        "id": "V4AhZbxVlRNo"
      },
      "execution_count": 2,
      "outputs": []
    },
    {
      "cell_type": "markdown",
      "source": [
        "#### ***Sumário:***\n",
        "\n",
        "---\n",
        "\n"
      ],
      "metadata": {
        "id": "GgcbHWuZ8v2W"
      }
    },
    {
      "cell_type": "markdown",
      "source": [
        "***Glossário de features já existentes na base:***\n",
        "- `InvoiceNo`: Número da fatura: número integral de 6 dígitos atribuído exclusivamente a cada transação.\n",
        "Se este código começar com a letra 'c', indica um cancelamento.\n",
        "\n",
        "  - Exemplo: C581490 - Cancelado, 581256 - Não Cancelado, A581490, 256, etc.\t- Código de transação inválido\n",
        "\n",
        "- `StockCode`: Código do produto: um número integral de 5 dígitos atribuído exclusivamente a cada produto distinto.\n",
        "\n",
        "  - Exemplo: 35004 - Código de produto válido, 35004C, M, etc. - Código de produto inválido.\n",
        "\n",
        "- `Description`: Nome do produto.\n",
        "-` Quantity`: As quantidades de cada produto (item) por transação.\n",
        "- `InvoiceDate`: Dia e a hora em que cada transação foi gerada.\n",
        "- `UnitPrice`: Preço do produto por unidade em libras esterlinas.\n",
        "- `CustomerID`: Número integral de 5 dígitos atribuído exclusivamente a cada cliente.\n",
        "\n",
        "  - Exemplo: 14527 - Código de cliente válido, F14527, 855, etc. - Código de cliente inválido.\n",
        "\n",
        "- `Country`: Nome do país onde cada cliente reside.\n",
        "\n",
        "***Features adicionadas durante o tratamento:***\n",
        "\n",
        "- `TotalPrice`: Valor total de cada transação, resultado da multiplicação entre as colunas `'UnitPrice'` e `'Quantity'`.\n",
        "- `Status`: Informação se a transação foi cancelada (Cancelado) ou não (Não Cancelado)."
      ],
      "metadata": {
        "id": "UbDioRcvD066"
      }
    },
    {
      "cell_type": "markdown",
      "source": [
        "#### ***Análises iniciais da base original:***\n",
        "\n",
        "\n",
        "---\n",
        "\n"
      ],
      "metadata": {
        "id": "dMv8Xvfr5OLX"
      }
    },
    {
      "cell_type": "markdown",
      "source": [
        "Resumo das análises:\n",
        "\n",
        "- Levantamento geral dos dados para tomada de decisão nas etapas de tratamento.\n",
        "  - Verificando divergências nas informações;  \n",
        "  - Levantamento percentual das informações verificadas;\n",
        "  - Verificando valores nulos;\n",
        "  - Outras informações presentes na amostra (períodos de tempo, paises presentes na base, etc.)"
      ],
      "metadata": {
        "id": "-ezakBac6H1Y"
      }
    },
    {
      "cell_type": "code",
      "source": [
        "# Amostra de dados:\n",
        "amostra.head()"
      ],
      "metadata": {
        "colab": {
          "base_uri": "https://localhost:8080/",
          "height": 206
        },
        "id": "LHsXYk_ms-MA",
        "outputId": "3729ec9b-c528-48e9-f37c-9fe65c1d9bff"
      },
      "execution_count": 3,
      "outputs": [
        {
          "output_type": "execute_result",
          "data": {
            "text/plain": [
              "  InvoiceNo StockCode                          Description  Quantity  \\\n",
              "0    536365    85123A   WHITE HANGING HEART T-LIGHT HOLDER         6   \n",
              "1    536365     71053                  WHITE METAL LANTERN         6   \n",
              "2    536365    84406B       CREAM CUPID HEARTS COAT HANGER         8   \n",
              "3    536365    84029G  KNITTED UNION FLAG HOT WATER BOTTLE         6   \n",
              "4    536365    84029E       RED WOOLLY HOTTIE WHITE HEART.         6   \n",
              "\n",
              "          InvoiceDate  UnitPrice  CustomerID         Country  \n",
              "0 2010-12-01 08:26:00       2.55     17850.0  United Kingdom  \n",
              "1 2010-12-01 08:26:00       3.39     17850.0  United Kingdom  \n",
              "2 2010-12-01 08:26:00       2.75     17850.0  United Kingdom  \n",
              "3 2010-12-01 08:26:00       3.39     17850.0  United Kingdom  \n",
              "4 2010-12-01 08:26:00       3.39     17850.0  United Kingdom  "
            ],
            "text/html": [
              "\n",
              "  <div id=\"df-b950fccf-bda9-4c1c-ab82-517783ac0061\">\n",
              "    <div class=\"colab-df-container\">\n",
              "      <div>\n",
              "<style scoped>\n",
              "    .dataframe tbody tr th:only-of-type {\n",
              "        vertical-align: middle;\n",
              "    }\n",
              "\n",
              "    .dataframe tbody tr th {\n",
              "        vertical-align: top;\n",
              "    }\n",
              "\n",
              "    .dataframe thead th {\n",
              "        text-align: right;\n",
              "    }\n",
              "</style>\n",
              "<table border=\"1\" class=\"dataframe\">\n",
              "  <thead>\n",
              "    <tr style=\"text-align: right;\">\n",
              "      <th></th>\n",
              "      <th>InvoiceNo</th>\n",
              "      <th>StockCode</th>\n",
              "      <th>Description</th>\n",
              "      <th>Quantity</th>\n",
              "      <th>InvoiceDate</th>\n",
              "      <th>UnitPrice</th>\n",
              "      <th>CustomerID</th>\n",
              "      <th>Country</th>\n",
              "    </tr>\n",
              "  </thead>\n",
              "  <tbody>\n",
              "    <tr>\n",
              "      <th>0</th>\n",
              "      <td>536365</td>\n",
              "      <td>85123A</td>\n",
              "      <td>WHITE HANGING HEART T-LIGHT HOLDER</td>\n",
              "      <td>6</td>\n",
              "      <td>2010-12-01 08:26:00</td>\n",
              "      <td>2.55</td>\n",
              "      <td>17850.0</td>\n",
              "      <td>United Kingdom</td>\n",
              "    </tr>\n",
              "    <tr>\n",
              "      <th>1</th>\n",
              "      <td>536365</td>\n",
              "      <td>71053</td>\n",
              "      <td>WHITE METAL LANTERN</td>\n",
              "      <td>6</td>\n",
              "      <td>2010-12-01 08:26:00</td>\n",
              "      <td>3.39</td>\n",
              "      <td>17850.0</td>\n",
              "      <td>United Kingdom</td>\n",
              "    </tr>\n",
              "    <tr>\n",
              "      <th>2</th>\n",
              "      <td>536365</td>\n",
              "      <td>84406B</td>\n",
              "      <td>CREAM CUPID HEARTS COAT HANGER</td>\n",
              "      <td>8</td>\n",
              "      <td>2010-12-01 08:26:00</td>\n",
              "      <td>2.75</td>\n",
              "      <td>17850.0</td>\n",
              "      <td>United Kingdom</td>\n",
              "    </tr>\n",
              "    <tr>\n",
              "      <th>3</th>\n",
              "      <td>536365</td>\n",
              "      <td>84029G</td>\n",
              "      <td>KNITTED UNION FLAG HOT WATER BOTTLE</td>\n",
              "      <td>6</td>\n",
              "      <td>2010-12-01 08:26:00</td>\n",
              "      <td>3.39</td>\n",
              "      <td>17850.0</td>\n",
              "      <td>United Kingdom</td>\n",
              "    </tr>\n",
              "    <tr>\n",
              "      <th>4</th>\n",
              "      <td>536365</td>\n",
              "      <td>84029E</td>\n",
              "      <td>RED WOOLLY HOTTIE WHITE HEART.</td>\n",
              "      <td>6</td>\n",
              "      <td>2010-12-01 08:26:00</td>\n",
              "      <td>3.39</td>\n",
              "      <td>17850.0</td>\n",
              "      <td>United Kingdom</td>\n",
              "    </tr>\n",
              "  </tbody>\n",
              "</table>\n",
              "</div>\n",
              "      <button class=\"colab-df-convert\" onclick=\"convertToInteractive('df-b950fccf-bda9-4c1c-ab82-517783ac0061')\"\n",
              "              title=\"Convert this dataframe to an interactive table.\"\n",
              "              style=\"display:none;\">\n",
              "        \n",
              "  <svg xmlns=\"http://www.w3.org/2000/svg\" height=\"24px\"viewBox=\"0 0 24 24\"\n",
              "       width=\"24px\">\n",
              "    <path d=\"M0 0h24v24H0V0z\" fill=\"none\"/>\n",
              "    <path d=\"M18.56 5.44l.94 2.06.94-2.06 2.06-.94-2.06-.94-.94-2.06-.94 2.06-2.06.94zm-11 1L8.5 8.5l.94-2.06 2.06-.94-2.06-.94L8.5 2.5l-.94 2.06-2.06.94zm10 10l.94 2.06.94-2.06 2.06-.94-2.06-.94-.94-2.06-.94 2.06-2.06.94z\"/><path d=\"M17.41 7.96l-1.37-1.37c-.4-.4-.92-.59-1.43-.59-.52 0-1.04.2-1.43.59L10.3 9.45l-7.72 7.72c-.78.78-.78 2.05 0 2.83L4 21.41c.39.39.9.59 1.41.59.51 0 1.02-.2 1.41-.59l7.78-7.78 2.81-2.81c.8-.78.8-2.07 0-2.86zM5.41 20L4 18.59l7.72-7.72 1.47 1.35L5.41 20z\"/>\n",
              "  </svg>\n",
              "      </button>\n",
              "      \n",
              "  <style>\n",
              "    .colab-df-container {\n",
              "      display:flex;\n",
              "      flex-wrap:wrap;\n",
              "      gap: 12px;\n",
              "    }\n",
              "\n",
              "    .colab-df-convert {\n",
              "      background-color: #E8F0FE;\n",
              "      border: none;\n",
              "      border-radius: 50%;\n",
              "      cursor: pointer;\n",
              "      display: none;\n",
              "      fill: #1967D2;\n",
              "      height: 32px;\n",
              "      padding: 0 0 0 0;\n",
              "      width: 32px;\n",
              "    }\n",
              "\n",
              "    .colab-df-convert:hover {\n",
              "      background-color: #E2EBFA;\n",
              "      box-shadow: 0px 1px 2px rgba(60, 64, 67, 0.3), 0px 1px 3px 1px rgba(60, 64, 67, 0.15);\n",
              "      fill: #174EA6;\n",
              "    }\n",
              "\n",
              "    [theme=dark] .colab-df-convert {\n",
              "      background-color: #3B4455;\n",
              "      fill: #D2E3FC;\n",
              "    }\n",
              "\n",
              "    [theme=dark] .colab-df-convert:hover {\n",
              "      background-color: #434B5C;\n",
              "      box-shadow: 0px 1px 3px 1px rgba(0, 0, 0, 0.15);\n",
              "      filter: drop-shadow(0px 1px 2px rgba(0, 0, 0, 0.3));\n",
              "      fill: #FFFFFF;\n",
              "    }\n",
              "  </style>\n",
              "\n",
              "      <script>\n",
              "        const buttonEl =\n",
              "          document.querySelector('#df-b950fccf-bda9-4c1c-ab82-517783ac0061 button.colab-df-convert');\n",
              "        buttonEl.style.display =\n",
              "          google.colab.kernel.accessAllowed ? 'block' : 'none';\n",
              "\n",
              "        async function convertToInteractive(key) {\n",
              "          const element = document.querySelector('#df-b950fccf-bda9-4c1c-ab82-517783ac0061');\n",
              "          const dataTable =\n",
              "            await google.colab.kernel.invokeFunction('convertToInteractive',\n",
              "                                                     [key], {});\n",
              "          if (!dataTable) return;\n",
              "\n",
              "          const docLinkHtml = 'Like what you see? Visit the ' +\n",
              "            '<a target=\"_blank\" href=https://colab.research.google.com/notebooks/data_table.ipynb>data table notebook</a>'\n",
              "            + ' to learn more about interactive tables.';\n",
              "          element.innerHTML = '';\n",
              "          dataTable['output_type'] = 'display_data';\n",
              "          await google.colab.output.renderOutput(dataTable, element);\n",
              "          const docLink = document.createElement('div');\n",
              "          docLink.innerHTML = docLinkHtml;\n",
              "          element.appendChild(docLink);\n",
              "        }\n",
              "      </script>\n",
              "    </div>\n",
              "  </div>\n",
              "  "
            ]
          },
          "metadata": {},
          "execution_count": 3
        }
      ]
    },
    {
      "cell_type": "code",
      "source": [
        "# infos gerais:\n",
        "amostra.info()"
      ],
      "metadata": {
        "colab": {
          "base_uri": "https://localhost:8080/"
        },
        "id": "6G96U2_gINna",
        "outputId": "26f4dc72-bd81-4927-940b-4c5d09266906"
      },
      "execution_count": 4,
      "outputs": [
        {
          "output_type": "stream",
          "name": "stdout",
          "text": [
            "<class 'pandas.core.frame.DataFrame'>\n",
            "RangeIndex: 541909 entries, 0 to 541908\n",
            "Data columns (total 8 columns):\n",
            " #   Column       Non-Null Count   Dtype         \n",
            "---  ------       --------------   -----         \n",
            " 0   InvoiceNo    541909 non-null  object        \n",
            " 1   StockCode    541909 non-null  object        \n",
            " 2   Description  540455 non-null  object        \n",
            " 3   Quantity     541909 non-null  int64         \n",
            " 4   InvoiceDate  541909 non-null  datetime64[ns]\n",
            " 5   UnitPrice    541909 non-null  float64       \n",
            " 6   CustomerID   406829 non-null  float64       \n",
            " 7   Country      541909 non-null  object        \n",
            "dtypes: datetime64[ns](1), float64(2), int64(1), object(4)\n",
            "memory usage: 33.1+ MB\n"
          ]
        }
      ]
    },
    {
      "cell_type": "code",
      "source": [
        "amostra.shape"
      ],
      "metadata": {
        "colab": {
          "base_uri": "https://localhost:8080/"
        },
        "id": "oJ5PwXNpsxsT",
        "outputId": "fffaa957-7f51-4bdc-a3db-1fc8116d8e69"
      },
      "execution_count": 5,
      "outputs": [
        {
          "output_type": "execute_result",
          "data": {
            "text/plain": [
              "(541909, 8)"
            ]
          },
          "metadata": {},
          "execution_count": 5
        }
      ]
    },
    {
      "cell_type": "code",
      "source": [
        "# informações estatísticas:\n",
        "amostra.describe().T"
      ],
      "metadata": {
        "colab": {
          "base_uri": "https://localhost:8080/",
          "height": 143
        },
        "id": "tMrYC8TSyKQu",
        "outputId": "c1b13c2d-1dd4-428d-93f7-e30172eb9047"
      },
      "execution_count": 6,
      "outputs": [
        {
          "output_type": "execute_result",
          "data": {
            "text/plain": [
              "               count          mean          std       min       25%       50%  \\\n",
              "Quantity    541909.0      9.552250   218.081158 -80995.00      1.00      3.00   \n",
              "UnitPrice   541909.0      4.611114    96.759853 -11062.06      1.25      2.08   \n",
              "CustomerID  406829.0  15287.690570  1713.600303  12346.00  13953.00  15152.00   \n",
              "\n",
              "                 75%      max  \n",
              "Quantity       10.00  80995.0  \n",
              "UnitPrice       4.13  38970.0  \n",
              "CustomerID  16791.00  18287.0  "
            ],
            "text/html": [
              "\n",
              "  <div id=\"df-6d718def-9b67-48be-8cf4-8cf068608440\">\n",
              "    <div class=\"colab-df-container\">\n",
              "      <div>\n",
              "<style scoped>\n",
              "    .dataframe tbody tr th:only-of-type {\n",
              "        vertical-align: middle;\n",
              "    }\n",
              "\n",
              "    .dataframe tbody tr th {\n",
              "        vertical-align: top;\n",
              "    }\n",
              "\n",
              "    .dataframe thead th {\n",
              "        text-align: right;\n",
              "    }\n",
              "</style>\n",
              "<table border=\"1\" class=\"dataframe\">\n",
              "  <thead>\n",
              "    <tr style=\"text-align: right;\">\n",
              "      <th></th>\n",
              "      <th>count</th>\n",
              "      <th>mean</th>\n",
              "      <th>std</th>\n",
              "      <th>min</th>\n",
              "      <th>25%</th>\n",
              "      <th>50%</th>\n",
              "      <th>75%</th>\n",
              "      <th>max</th>\n",
              "    </tr>\n",
              "  </thead>\n",
              "  <tbody>\n",
              "    <tr>\n",
              "      <th>Quantity</th>\n",
              "      <td>541909.0</td>\n",
              "      <td>9.552250</td>\n",
              "      <td>218.081158</td>\n",
              "      <td>-80995.00</td>\n",
              "      <td>1.00</td>\n",
              "      <td>3.00</td>\n",
              "      <td>10.00</td>\n",
              "      <td>80995.0</td>\n",
              "    </tr>\n",
              "    <tr>\n",
              "      <th>UnitPrice</th>\n",
              "      <td>541909.0</td>\n",
              "      <td>4.611114</td>\n",
              "      <td>96.759853</td>\n",
              "      <td>-11062.06</td>\n",
              "      <td>1.25</td>\n",
              "      <td>2.08</td>\n",
              "      <td>4.13</td>\n",
              "      <td>38970.0</td>\n",
              "    </tr>\n",
              "    <tr>\n",
              "      <th>CustomerID</th>\n",
              "      <td>406829.0</td>\n",
              "      <td>15287.690570</td>\n",
              "      <td>1713.600303</td>\n",
              "      <td>12346.00</td>\n",
              "      <td>13953.00</td>\n",
              "      <td>15152.00</td>\n",
              "      <td>16791.00</td>\n",
              "      <td>18287.0</td>\n",
              "    </tr>\n",
              "  </tbody>\n",
              "</table>\n",
              "</div>\n",
              "      <button class=\"colab-df-convert\" onclick=\"convertToInteractive('df-6d718def-9b67-48be-8cf4-8cf068608440')\"\n",
              "              title=\"Convert this dataframe to an interactive table.\"\n",
              "              style=\"display:none;\">\n",
              "        \n",
              "  <svg xmlns=\"http://www.w3.org/2000/svg\" height=\"24px\"viewBox=\"0 0 24 24\"\n",
              "       width=\"24px\">\n",
              "    <path d=\"M0 0h24v24H0V0z\" fill=\"none\"/>\n",
              "    <path d=\"M18.56 5.44l.94 2.06.94-2.06 2.06-.94-2.06-.94-.94-2.06-.94 2.06-2.06.94zm-11 1L8.5 8.5l.94-2.06 2.06-.94-2.06-.94L8.5 2.5l-.94 2.06-2.06.94zm10 10l.94 2.06.94-2.06 2.06-.94-2.06-.94-.94-2.06-.94 2.06-2.06.94z\"/><path d=\"M17.41 7.96l-1.37-1.37c-.4-.4-.92-.59-1.43-.59-.52 0-1.04.2-1.43.59L10.3 9.45l-7.72 7.72c-.78.78-.78 2.05 0 2.83L4 21.41c.39.39.9.59 1.41.59.51 0 1.02-.2 1.41-.59l7.78-7.78 2.81-2.81c.8-.78.8-2.07 0-2.86zM5.41 20L4 18.59l7.72-7.72 1.47 1.35L5.41 20z\"/>\n",
              "  </svg>\n",
              "      </button>\n",
              "      \n",
              "  <style>\n",
              "    .colab-df-container {\n",
              "      display:flex;\n",
              "      flex-wrap:wrap;\n",
              "      gap: 12px;\n",
              "    }\n",
              "\n",
              "    .colab-df-convert {\n",
              "      background-color: #E8F0FE;\n",
              "      border: none;\n",
              "      border-radius: 50%;\n",
              "      cursor: pointer;\n",
              "      display: none;\n",
              "      fill: #1967D2;\n",
              "      height: 32px;\n",
              "      padding: 0 0 0 0;\n",
              "      width: 32px;\n",
              "    }\n",
              "\n",
              "    .colab-df-convert:hover {\n",
              "      background-color: #E2EBFA;\n",
              "      box-shadow: 0px 1px 2px rgba(60, 64, 67, 0.3), 0px 1px 3px 1px rgba(60, 64, 67, 0.15);\n",
              "      fill: #174EA6;\n",
              "    }\n",
              "\n",
              "    [theme=dark] .colab-df-convert {\n",
              "      background-color: #3B4455;\n",
              "      fill: #D2E3FC;\n",
              "    }\n",
              "\n",
              "    [theme=dark] .colab-df-convert:hover {\n",
              "      background-color: #434B5C;\n",
              "      box-shadow: 0px 1px 3px 1px rgba(0, 0, 0, 0.15);\n",
              "      filter: drop-shadow(0px 1px 2px rgba(0, 0, 0, 0.3));\n",
              "      fill: #FFFFFF;\n",
              "    }\n",
              "  </style>\n",
              "\n",
              "      <script>\n",
              "        const buttonEl =\n",
              "          document.querySelector('#df-6d718def-9b67-48be-8cf4-8cf068608440 button.colab-df-convert');\n",
              "        buttonEl.style.display =\n",
              "          google.colab.kernel.accessAllowed ? 'block' : 'none';\n",
              "\n",
              "        async function convertToInteractive(key) {\n",
              "          const element = document.querySelector('#df-6d718def-9b67-48be-8cf4-8cf068608440');\n",
              "          const dataTable =\n",
              "            await google.colab.kernel.invokeFunction('convertToInteractive',\n",
              "                                                     [key], {});\n",
              "          if (!dataTable) return;\n",
              "\n",
              "          const docLinkHtml = 'Like what you see? Visit the ' +\n",
              "            '<a target=\"_blank\" href=https://colab.research.google.com/notebooks/data_table.ipynb>data table notebook</a>'\n",
              "            + ' to learn more about interactive tables.';\n",
              "          element.innerHTML = '';\n",
              "          dataTable['output_type'] = 'display_data';\n",
              "          await google.colab.output.renderOutput(dataTable, element);\n",
              "          const docLink = document.createElement('div');\n",
              "          docLink.innerHTML = docLinkHtml;\n",
              "          element.appendChild(docLink);\n",
              "        }\n",
              "      </script>\n",
              "    </div>\n",
              "  </div>\n",
              "  "
            ]
          },
          "metadata": {},
          "execution_count": 6
        }
      ]
    },
    {
      "cell_type": "markdown",
      "source": [
        "- Foi observado que as colunas `'Quantity' `e `'UnitPrice'` apresentaram **valores negativos**, porém, esses valores correspondem a compras canceladas e não serão tratados ou removidos da base de dados, uma vez que faz sentido excluí-los do cálculo total.\n",
        "\n",
        "- Além disso, identificamos que tanto a coluna `'Quantity'` quanto a coluna `'UnitPrice'` apresentam um **desvio padrão elevado**, o que pode impactar negativamente o desempenho do modelo. Para lidar com essa situação iremos explorar alternativas que visam melhorar a distribuição dos dados."
      ],
      "metadata": {
        "id": "y-vsC9XdyZPh"
      }
    },
    {
      "cell_type": "code",
      "source": [
        "# vendas canceladas:\n",
        "amostra['InvoiceNo'] = amostra['InvoiceNo'].astype(str)\n",
        "amostra[amostra['InvoiceNo'].str.contains('C')]"
      ],
      "metadata": {
        "colab": {
          "base_uri": "https://localhost:8080/",
          "height": 424
        },
        "id": "w126PHVUyM_-",
        "outputId": "97e783b8-8181-40ae-9f5c-28aaf1f46e54"
      },
      "execution_count": 7,
      "outputs": [
        {
          "output_type": "execute_result",
          "data": {
            "text/plain": [
              "       InvoiceNo StockCode                       Description  Quantity  \\\n",
              "141      C536379         D                          Discount        -1   \n",
              "154      C536383    35004C   SET OF 3 COLOURED  FLYING DUCKS        -1   \n",
              "235      C536391     22556    PLASTERS IN TIN CIRCUS PARADE        -12   \n",
              "236      C536391     21984  PACK OF 12 PINK PAISLEY TISSUES        -24   \n",
              "237      C536391     21983  PACK OF 12 BLUE PAISLEY TISSUES        -24   \n",
              "...          ...       ...                               ...       ...   \n",
              "540449   C581490     23144   ZINC T-LIGHT HOLDER STARS SMALL       -11   \n",
              "541541   C581499         M                            Manual        -1   \n",
              "541715   C581568     21258        VICTORIAN SEWING BOX LARGE        -5   \n",
              "541716   C581569     84978  HANGING HEART JAR T-LIGHT HOLDER        -1   \n",
              "541717   C581569     20979     36 PENCILS TUBE RED RETROSPOT        -5   \n",
              "\n",
              "               InvoiceDate  UnitPrice  CustomerID         Country  \n",
              "141    2010-12-01 09:41:00      27.50     14527.0  United Kingdom  \n",
              "154    2010-12-01 09:49:00       4.65     15311.0  United Kingdom  \n",
              "235    2010-12-01 10:24:00       1.65     17548.0  United Kingdom  \n",
              "236    2010-12-01 10:24:00       0.29     17548.0  United Kingdom  \n",
              "237    2010-12-01 10:24:00       0.29     17548.0  United Kingdom  \n",
              "...                    ...        ...         ...             ...  \n",
              "540449 2011-12-09 09:57:00       0.83     14397.0  United Kingdom  \n",
              "541541 2011-12-09 10:28:00     224.69     15498.0  United Kingdom  \n",
              "541715 2011-12-09 11:57:00      10.95     15311.0  United Kingdom  \n",
              "541716 2011-12-09 11:58:00       1.25     17315.0  United Kingdom  \n",
              "541717 2011-12-09 11:58:00       1.25     17315.0  United Kingdom  \n",
              "\n",
              "[9288 rows x 8 columns]"
            ],
            "text/html": [
              "\n",
              "  <div id=\"df-fbbf776a-dca9-43b7-979c-a877844e4a42\">\n",
              "    <div class=\"colab-df-container\">\n",
              "      <div>\n",
              "<style scoped>\n",
              "    .dataframe tbody tr th:only-of-type {\n",
              "        vertical-align: middle;\n",
              "    }\n",
              "\n",
              "    .dataframe tbody tr th {\n",
              "        vertical-align: top;\n",
              "    }\n",
              "\n",
              "    .dataframe thead th {\n",
              "        text-align: right;\n",
              "    }\n",
              "</style>\n",
              "<table border=\"1\" class=\"dataframe\">\n",
              "  <thead>\n",
              "    <tr style=\"text-align: right;\">\n",
              "      <th></th>\n",
              "      <th>InvoiceNo</th>\n",
              "      <th>StockCode</th>\n",
              "      <th>Description</th>\n",
              "      <th>Quantity</th>\n",
              "      <th>InvoiceDate</th>\n",
              "      <th>UnitPrice</th>\n",
              "      <th>CustomerID</th>\n",
              "      <th>Country</th>\n",
              "    </tr>\n",
              "  </thead>\n",
              "  <tbody>\n",
              "    <tr>\n",
              "      <th>141</th>\n",
              "      <td>C536379</td>\n",
              "      <td>D</td>\n",
              "      <td>Discount</td>\n",
              "      <td>-1</td>\n",
              "      <td>2010-12-01 09:41:00</td>\n",
              "      <td>27.50</td>\n",
              "      <td>14527.0</td>\n",
              "      <td>United Kingdom</td>\n",
              "    </tr>\n",
              "    <tr>\n",
              "      <th>154</th>\n",
              "      <td>C536383</td>\n",
              "      <td>35004C</td>\n",
              "      <td>SET OF 3 COLOURED  FLYING DUCKS</td>\n",
              "      <td>-1</td>\n",
              "      <td>2010-12-01 09:49:00</td>\n",
              "      <td>4.65</td>\n",
              "      <td>15311.0</td>\n",
              "      <td>United Kingdom</td>\n",
              "    </tr>\n",
              "    <tr>\n",
              "      <th>235</th>\n",
              "      <td>C536391</td>\n",
              "      <td>22556</td>\n",
              "      <td>PLASTERS IN TIN CIRCUS PARADE</td>\n",
              "      <td>-12</td>\n",
              "      <td>2010-12-01 10:24:00</td>\n",
              "      <td>1.65</td>\n",
              "      <td>17548.0</td>\n",
              "      <td>United Kingdom</td>\n",
              "    </tr>\n",
              "    <tr>\n",
              "      <th>236</th>\n",
              "      <td>C536391</td>\n",
              "      <td>21984</td>\n",
              "      <td>PACK OF 12 PINK PAISLEY TISSUES</td>\n",
              "      <td>-24</td>\n",
              "      <td>2010-12-01 10:24:00</td>\n",
              "      <td>0.29</td>\n",
              "      <td>17548.0</td>\n",
              "      <td>United Kingdom</td>\n",
              "    </tr>\n",
              "    <tr>\n",
              "      <th>237</th>\n",
              "      <td>C536391</td>\n",
              "      <td>21983</td>\n",
              "      <td>PACK OF 12 BLUE PAISLEY TISSUES</td>\n",
              "      <td>-24</td>\n",
              "      <td>2010-12-01 10:24:00</td>\n",
              "      <td>0.29</td>\n",
              "      <td>17548.0</td>\n",
              "      <td>United Kingdom</td>\n",
              "    </tr>\n",
              "    <tr>\n",
              "      <th>...</th>\n",
              "      <td>...</td>\n",
              "      <td>...</td>\n",
              "      <td>...</td>\n",
              "      <td>...</td>\n",
              "      <td>...</td>\n",
              "      <td>...</td>\n",
              "      <td>...</td>\n",
              "      <td>...</td>\n",
              "    </tr>\n",
              "    <tr>\n",
              "      <th>540449</th>\n",
              "      <td>C581490</td>\n",
              "      <td>23144</td>\n",
              "      <td>ZINC T-LIGHT HOLDER STARS SMALL</td>\n",
              "      <td>-11</td>\n",
              "      <td>2011-12-09 09:57:00</td>\n",
              "      <td>0.83</td>\n",
              "      <td>14397.0</td>\n",
              "      <td>United Kingdom</td>\n",
              "    </tr>\n",
              "    <tr>\n",
              "      <th>541541</th>\n",
              "      <td>C581499</td>\n",
              "      <td>M</td>\n",
              "      <td>Manual</td>\n",
              "      <td>-1</td>\n",
              "      <td>2011-12-09 10:28:00</td>\n",
              "      <td>224.69</td>\n",
              "      <td>15498.0</td>\n",
              "      <td>United Kingdom</td>\n",
              "    </tr>\n",
              "    <tr>\n",
              "      <th>541715</th>\n",
              "      <td>C581568</td>\n",
              "      <td>21258</td>\n",
              "      <td>VICTORIAN SEWING BOX LARGE</td>\n",
              "      <td>-5</td>\n",
              "      <td>2011-12-09 11:57:00</td>\n",
              "      <td>10.95</td>\n",
              "      <td>15311.0</td>\n",
              "      <td>United Kingdom</td>\n",
              "    </tr>\n",
              "    <tr>\n",
              "      <th>541716</th>\n",
              "      <td>C581569</td>\n",
              "      <td>84978</td>\n",
              "      <td>HANGING HEART JAR T-LIGHT HOLDER</td>\n",
              "      <td>-1</td>\n",
              "      <td>2011-12-09 11:58:00</td>\n",
              "      <td>1.25</td>\n",
              "      <td>17315.0</td>\n",
              "      <td>United Kingdom</td>\n",
              "    </tr>\n",
              "    <tr>\n",
              "      <th>541717</th>\n",
              "      <td>C581569</td>\n",
              "      <td>20979</td>\n",
              "      <td>36 PENCILS TUBE RED RETROSPOT</td>\n",
              "      <td>-5</td>\n",
              "      <td>2011-12-09 11:58:00</td>\n",
              "      <td>1.25</td>\n",
              "      <td>17315.0</td>\n",
              "      <td>United Kingdom</td>\n",
              "    </tr>\n",
              "  </tbody>\n",
              "</table>\n",
              "<p>9288 rows × 8 columns</p>\n",
              "</div>\n",
              "      <button class=\"colab-df-convert\" onclick=\"convertToInteractive('df-fbbf776a-dca9-43b7-979c-a877844e4a42')\"\n",
              "              title=\"Convert this dataframe to an interactive table.\"\n",
              "              style=\"display:none;\">\n",
              "        \n",
              "  <svg xmlns=\"http://www.w3.org/2000/svg\" height=\"24px\"viewBox=\"0 0 24 24\"\n",
              "       width=\"24px\">\n",
              "    <path d=\"M0 0h24v24H0V0z\" fill=\"none\"/>\n",
              "    <path d=\"M18.56 5.44l.94 2.06.94-2.06 2.06-.94-2.06-.94-.94-2.06-.94 2.06-2.06.94zm-11 1L8.5 8.5l.94-2.06 2.06-.94-2.06-.94L8.5 2.5l-.94 2.06-2.06.94zm10 10l.94 2.06.94-2.06 2.06-.94-2.06-.94-.94-2.06-.94 2.06-2.06.94z\"/><path d=\"M17.41 7.96l-1.37-1.37c-.4-.4-.92-.59-1.43-.59-.52 0-1.04.2-1.43.59L10.3 9.45l-7.72 7.72c-.78.78-.78 2.05 0 2.83L4 21.41c.39.39.9.59 1.41.59.51 0 1.02-.2 1.41-.59l7.78-7.78 2.81-2.81c.8-.78.8-2.07 0-2.86zM5.41 20L4 18.59l7.72-7.72 1.47 1.35L5.41 20z\"/>\n",
              "  </svg>\n",
              "      </button>\n",
              "      \n",
              "  <style>\n",
              "    .colab-df-container {\n",
              "      display:flex;\n",
              "      flex-wrap:wrap;\n",
              "      gap: 12px;\n",
              "    }\n",
              "\n",
              "    .colab-df-convert {\n",
              "      background-color: #E8F0FE;\n",
              "      border: none;\n",
              "      border-radius: 50%;\n",
              "      cursor: pointer;\n",
              "      display: none;\n",
              "      fill: #1967D2;\n",
              "      height: 32px;\n",
              "      padding: 0 0 0 0;\n",
              "      width: 32px;\n",
              "    }\n",
              "\n",
              "    .colab-df-convert:hover {\n",
              "      background-color: #E2EBFA;\n",
              "      box-shadow: 0px 1px 2px rgba(60, 64, 67, 0.3), 0px 1px 3px 1px rgba(60, 64, 67, 0.15);\n",
              "      fill: #174EA6;\n",
              "    }\n",
              "\n",
              "    [theme=dark] .colab-df-convert {\n",
              "      background-color: #3B4455;\n",
              "      fill: #D2E3FC;\n",
              "    }\n",
              "\n",
              "    [theme=dark] .colab-df-convert:hover {\n",
              "      background-color: #434B5C;\n",
              "      box-shadow: 0px 1px 3px 1px rgba(0, 0, 0, 0.15);\n",
              "      filter: drop-shadow(0px 1px 2px rgba(0, 0, 0, 0.3));\n",
              "      fill: #FFFFFF;\n",
              "    }\n",
              "  </style>\n",
              "\n",
              "      <script>\n",
              "        const buttonEl =\n",
              "          document.querySelector('#df-fbbf776a-dca9-43b7-979c-a877844e4a42 button.colab-df-convert');\n",
              "        buttonEl.style.display =\n",
              "          google.colab.kernel.accessAllowed ? 'block' : 'none';\n",
              "\n",
              "        async function convertToInteractive(key) {\n",
              "          const element = document.querySelector('#df-fbbf776a-dca9-43b7-979c-a877844e4a42');\n",
              "          const dataTable =\n",
              "            await google.colab.kernel.invokeFunction('convertToInteractive',\n",
              "                                                     [key], {});\n",
              "          if (!dataTable) return;\n",
              "\n",
              "          const docLinkHtml = 'Like what you see? Visit the ' +\n",
              "            '<a target=\"_blank\" href=https://colab.research.google.com/notebooks/data_table.ipynb>data table notebook</a>'\n",
              "            + ' to learn more about interactive tables.';\n",
              "          element.innerHTML = '';\n",
              "          dataTable['output_type'] = 'display_data';\n",
              "          await google.colab.output.renderOutput(dataTable, element);\n",
              "          const docLink = document.createElement('div');\n",
              "          docLink.innerHTML = docLinkHtml;\n",
              "          element.appendChild(docLink);\n",
              "        }\n",
              "      </script>\n",
              "    </div>\n",
              "  </div>\n",
              "  "
            ]
          },
          "metadata": {},
          "execution_count": 7
        }
      ]
    },
    {
      "cell_type": "code",
      "source": [
        "# qtd. de vendas canceladas:\n",
        "len(amostra[amostra['InvoiceNo'].str.contains('C')])"
      ],
      "metadata": {
        "colab": {
          "base_uri": "https://localhost:8080/"
        },
        "id": "1g2DT1cj9nBF",
        "outputId": "eda25f0c-b157-48e3-b896-f9e2446baa46"
      },
      "execution_count": 8,
      "outputs": [
        {
          "output_type": "execute_result",
          "data": {
            "text/plain": [
              "9288"
            ]
          },
          "metadata": {},
          "execution_count": 8
        }
      ]
    },
    {
      "cell_type": "code",
      "source": [
        "# verificando se há valores negativos em 'Quantity' ou em 'UnitPrice' que não sejam referentes a vendas canceladas:\n",
        "amostra[(~amostra['InvoiceNo'].str.startswith('C')) & ((amostra['Quantity'] <= 0) | (amostra['UnitPrice'] <= 0))]"
      ],
      "metadata": {
        "colab": {
          "base_uri": "https://localhost:8080/",
          "height": 424
        },
        "id": "IDx4kqM3EXG1",
        "outputId": "79bd7dcc-c09c-431b-a738-128b86d2c3bf"
      },
      "execution_count": 9,
      "outputs": [
        {
          "output_type": "execute_result",
          "data": {
            "text/plain": [
              "       InvoiceNo StockCode                   Description  Quantity  \\\n",
              "622       536414     22139                           NaN        56   \n",
              "1970      536545     21134                           NaN         1   \n",
              "1971      536546     22145                           NaN         1   \n",
              "1972      536547     37509                           NaN         1   \n",
              "1987      536549    85226A                           NaN         1   \n",
              "...          ...       ...                           ...       ...   \n",
              "536981    581234     72817                           NaN        27   \n",
              "538504    581406    46000M  POLYESTER FILLER PAD 45x45cm       240   \n",
              "538505    581406    46000S  POLYESTER FILLER PAD 40x40cm       300   \n",
              "538554    581408     85175                           NaN        20   \n",
              "538919    581422     23169                       smashed      -235   \n",
              "\n",
              "               InvoiceDate  UnitPrice  CustomerID         Country  \n",
              "622    2010-12-01 11:52:00        0.0         NaN  United Kingdom  \n",
              "1970   2010-12-01 14:32:00        0.0         NaN  United Kingdom  \n",
              "1971   2010-12-01 14:33:00        0.0         NaN  United Kingdom  \n",
              "1972   2010-12-01 14:33:00        0.0         NaN  United Kingdom  \n",
              "1987   2010-12-01 14:34:00        0.0         NaN  United Kingdom  \n",
              "...                    ...        ...         ...             ...  \n",
              "536981 2011-12-08 10:33:00        0.0         NaN  United Kingdom  \n",
              "538504 2011-12-08 13:58:00        0.0         NaN  United Kingdom  \n",
              "538505 2011-12-08 13:58:00        0.0         NaN  United Kingdom  \n",
              "538554 2011-12-08 14:06:00        0.0         NaN  United Kingdom  \n",
              "538919 2011-12-08 15:24:00        0.0         NaN  United Kingdom  \n",
              "\n",
              "[2517 rows x 8 columns]"
            ],
            "text/html": [
              "\n",
              "  <div id=\"df-4213368a-5c84-46f6-bc4d-1c954bd87fee\">\n",
              "    <div class=\"colab-df-container\">\n",
              "      <div>\n",
              "<style scoped>\n",
              "    .dataframe tbody tr th:only-of-type {\n",
              "        vertical-align: middle;\n",
              "    }\n",
              "\n",
              "    .dataframe tbody tr th {\n",
              "        vertical-align: top;\n",
              "    }\n",
              "\n",
              "    .dataframe thead th {\n",
              "        text-align: right;\n",
              "    }\n",
              "</style>\n",
              "<table border=\"1\" class=\"dataframe\">\n",
              "  <thead>\n",
              "    <tr style=\"text-align: right;\">\n",
              "      <th></th>\n",
              "      <th>InvoiceNo</th>\n",
              "      <th>StockCode</th>\n",
              "      <th>Description</th>\n",
              "      <th>Quantity</th>\n",
              "      <th>InvoiceDate</th>\n",
              "      <th>UnitPrice</th>\n",
              "      <th>CustomerID</th>\n",
              "      <th>Country</th>\n",
              "    </tr>\n",
              "  </thead>\n",
              "  <tbody>\n",
              "    <tr>\n",
              "      <th>622</th>\n",
              "      <td>536414</td>\n",
              "      <td>22139</td>\n",
              "      <td>NaN</td>\n",
              "      <td>56</td>\n",
              "      <td>2010-12-01 11:52:00</td>\n",
              "      <td>0.0</td>\n",
              "      <td>NaN</td>\n",
              "      <td>United Kingdom</td>\n",
              "    </tr>\n",
              "    <tr>\n",
              "      <th>1970</th>\n",
              "      <td>536545</td>\n",
              "      <td>21134</td>\n",
              "      <td>NaN</td>\n",
              "      <td>1</td>\n",
              "      <td>2010-12-01 14:32:00</td>\n",
              "      <td>0.0</td>\n",
              "      <td>NaN</td>\n",
              "      <td>United Kingdom</td>\n",
              "    </tr>\n",
              "    <tr>\n",
              "      <th>1971</th>\n",
              "      <td>536546</td>\n",
              "      <td>22145</td>\n",
              "      <td>NaN</td>\n",
              "      <td>1</td>\n",
              "      <td>2010-12-01 14:33:00</td>\n",
              "      <td>0.0</td>\n",
              "      <td>NaN</td>\n",
              "      <td>United Kingdom</td>\n",
              "    </tr>\n",
              "    <tr>\n",
              "      <th>1972</th>\n",
              "      <td>536547</td>\n",
              "      <td>37509</td>\n",
              "      <td>NaN</td>\n",
              "      <td>1</td>\n",
              "      <td>2010-12-01 14:33:00</td>\n",
              "      <td>0.0</td>\n",
              "      <td>NaN</td>\n",
              "      <td>United Kingdom</td>\n",
              "    </tr>\n",
              "    <tr>\n",
              "      <th>1987</th>\n",
              "      <td>536549</td>\n",
              "      <td>85226A</td>\n",
              "      <td>NaN</td>\n",
              "      <td>1</td>\n",
              "      <td>2010-12-01 14:34:00</td>\n",
              "      <td>0.0</td>\n",
              "      <td>NaN</td>\n",
              "      <td>United Kingdom</td>\n",
              "    </tr>\n",
              "    <tr>\n",
              "      <th>...</th>\n",
              "      <td>...</td>\n",
              "      <td>...</td>\n",
              "      <td>...</td>\n",
              "      <td>...</td>\n",
              "      <td>...</td>\n",
              "      <td>...</td>\n",
              "      <td>...</td>\n",
              "      <td>...</td>\n",
              "    </tr>\n",
              "    <tr>\n",
              "      <th>536981</th>\n",
              "      <td>581234</td>\n",
              "      <td>72817</td>\n",
              "      <td>NaN</td>\n",
              "      <td>27</td>\n",
              "      <td>2011-12-08 10:33:00</td>\n",
              "      <td>0.0</td>\n",
              "      <td>NaN</td>\n",
              "      <td>United Kingdom</td>\n",
              "    </tr>\n",
              "    <tr>\n",
              "      <th>538504</th>\n",
              "      <td>581406</td>\n",
              "      <td>46000M</td>\n",
              "      <td>POLYESTER FILLER PAD 45x45cm</td>\n",
              "      <td>240</td>\n",
              "      <td>2011-12-08 13:58:00</td>\n",
              "      <td>0.0</td>\n",
              "      <td>NaN</td>\n",
              "      <td>United Kingdom</td>\n",
              "    </tr>\n",
              "    <tr>\n",
              "      <th>538505</th>\n",
              "      <td>581406</td>\n",
              "      <td>46000S</td>\n",
              "      <td>POLYESTER FILLER PAD 40x40cm</td>\n",
              "      <td>300</td>\n",
              "      <td>2011-12-08 13:58:00</td>\n",
              "      <td>0.0</td>\n",
              "      <td>NaN</td>\n",
              "      <td>United Kingdom</td>\n",
              "    </tr>\n",
              "    <tr>\n",
              "      <th>538554</th>\n",
              "      <td>581408</td>\n",
              "      <td>85175</td>\n",
              "      <td>NaN</td>\n",
              "      <td>20</td>\n",
              "      <td>2011-12-08 14:06:00</td>\n",
              "      <td>0.0</td>\n",
              "      <td>NaN</td>\n",
              "      <td>United Kingdom</td>\n",
              "    </tr>\n",
              "    <tr>\n",
              "      <th>538919</th>\n",
              "      <td>581422</td>\n",
              "      <td>23169</td>\n",
              "      <td>smashed</td>\n",
              "      <td>-235</td>\n",
              "      <td>2011-12-08 15:24:00</td>\n",
              "      <td>0.0</td>\n",
              "      <td>NaN</td>\n",
              "      <td>United Kingdom</td>\n",
              "    </tr>\n",
              "  </tbody>\n",
              "</table>\n",
              "<p>2517 rows × 8 columns</p>\n",
              "</div>\n",
              "      <button class=\"colab-df-convert\" onclick=\"convertToInteractive('df-4213368a-5c84-46f6-bc4d-1c954bd87fee')\"\n",
              "              title=\"Convert this dataframe to an interactive table.\"\n",
              "              style=\"display:none;\">\n",
              "        \n",
              "  <svg xmlns=\"http://www.w3.org/2000/svg\" height=\"24px\"viewBox=\"0 0 24 24\"\n",
              "       width=\"24px\">\n",
              "    <path d=\"M0 0h24v24H0V0z\" fill=\"none\"/>\n",
              "    <path d=\"M18.56 5.44l.94 2.06.94-2.06 2.06-.94-2.06-.94-.94-2.06-.94 2.06-2.06.94zm-11 1L8.5 8.5l.94-2.06 2.06-.94-2.06-.94L8.5 2.5l-.94 2.06-2.06.94zm10 10l.94 2.06.94-2.06 2.06-.94-2.06-.94-.94-2.06-.94 2.06-2.06.94z\"/><path d=\"M17.41 7.96l-1.37-1.37c-.4-.4-.92-.59-1.43-.59-.52 0-1.04.2-1.43.59L10.3 9.45l-7.72 7.72c-.78.78-.78 2.05 0 2.83L4 21.41c.39.39.9.59 1.41.59.51 0 1.02-.2 1.41-.59l7.78-7.78 2.81-2.81c.8-.78.8-2.07 0-2.86zM5.41 20L4 18.59l7.72-7.72 1.47 1.35L5.41 20z\"/>\n",
              "  </svg>\n",
              "      </button>\n",
              "      \n",
              "  <style>\n",
              "    .colab-df-container {\n",
              "      display:flex;\n",
              "      flex-wrap:wrap;\n",
              "      gap: 12px;\n",
              "    }\n",
              "\n",
              "    .colab-df-convert {\n",
              "      background-color: #E8F0FE;\n",
              "      border: none;\n",
              "      border-radius: 50%;\n",
              "      cursor: pointer;\n",
              "      display: none;\n",
              "      fill: #1967D2;\n",
              "      height: 32px;\n",
              "      padding: 0 0 0 0;\n",
              "      width: 32px;\n",
              "    }\n",
              "\n",
              "    .colab-df-convert:hover {\n",
              "      background-color: #E2EBFA;\n",
              "      box-shadow: 0px 1px 2px rgba(60, 64, 67, 0.3), 0px 1px 3px 1px rgba(60, 64, 67, 0.15);\n",
              "      fill: #174EA6;\n",
              "    }\n",
              "\n",
              "    [theme=dark] .colab-df-convert {\n",
              "      background-color: #3B4455;\n",
              "      fill: #D2E3FC;\n",
              "    }\n",
              "\n",
              "    [theme=dark] .colab-df-convert:hover {\n",
              "      background-color: #434B5C;\n",
              "      box-shadow: 0px 1px 3px 1px rgba(0, 0, 0, 0.15);\n",
              "      filter: drop-shadow(0px 1px 2px rgba(0, 0, 0, 0.3));\n",
              "      fill: #FFFFFF;\n",
              "    }\n",
              "  </style>\n",
              "\n",
              "      <script>\n",
              "        const buttonEl =\n",
              "          document.querySelector('#df-4213368a-5c84-46f6-bc4d-1c954bd87fee button.colab-df-convert');\n",
              "        buttonEl.style.display =\n",
              "          google.colab.kernel.accessAllowed ? 'block' : 'none';\n",
              "\n",
              "        async function convertToInteractive(key) {\n",
              "          const element = document.querySelector('#df-4213368a-5c84-46f6-bc4d-1c954bd87fee');\n",
              "          const dataTable =\n",
              "            await google.colab.kernel.invokeFunction('convertToInteractive',\n",
              "                                                     [key], {});\n",
              "          if (!dataTable) return;\n",
              "\n",
              "          const docLinkHtml = 'Like what you see? Visit the ' +\n",
              "            '<a target=\"_blank\" href=https://colab.research.google.com/notebooks/data_table.ipynb>data table notebook</a>'\n",
              "            + ' to learn more about interactive tables.';\n",
              "          element.innerHTML = '';\n",
              "          dataTable['output_type'] = 'display_data';\n",
              "          await google.colab.output.renderOutput(dataTable, element);\n",
              "          const docLink = document.createElement('div');\n",
              "          docLink.innerHTML = docLinkHtml;\n",
              "          element.appendChild(docLink);\n",
              "        }\n",
              "      </script>\n",
              "    </div>\n",
              "  </div>\n",
              "  "
            ]
          },
          "metadata": {},
          "execution_count": 9
        }
      ]
    },
    {
      "cell_type": "code",
      "source": [
        "# percentual de vendas 'não canceladas' com qtd ou valor unitário negativos:\n",
        "round(len(amostra[(~amostra['InvoiceNo'].str.startswith('C')) & ((amostra['Quantity'] <= 0) | (amostra['UnitPrice'] <= 0))])/ len(amostra)*100, 2)"
      ],
      "metadata": {
        "colab": {
          "base_uri": "https://localhost:8080/"
        },
        "id": "kp7ac8NxY98F",
        "outputId": "c10efe26-fcb8-4e49-8831-1f89a991d389"
      },
      "execution_count": 10,
      "outputs": [
        {
          "output_type": "execute_result",
          "data": {
            "text/plain": [
              "0.46"
            ]
          },
          "metadata": {},
          "execution_count": 10
        }
      ]
    },
    {
      "cell_type": "code",
      "source": [
        "# percentual de vendas canceladas:\n",
        "round(len(amostra[amostra['InvoiceNo'].str.contains('C')]) / len(amostra)*100, 2)"
      ],
      "metadata": {
        "colab": {
          "base_uri": "https://localhost:8080/"
        },
        "id": "rKWd4eZ5DdsG",
        "outputId": "1f1ec3c6-0331-408e-8351-14c84328bfa7"
      },
      "execution_count": 11,
      "outputs": [
        {
          "output_type": "execute_result",
          "data": {
            "text/plain": [
              "1.71"
            ]
          },
          "metadata": {},
          "execution_count": 11
        }
      ]
    },
    {
      "cell_type": "markdown",
      "source": [
        "- Aproximadamente **0.5%** dos valores na base apresentam informações negativas em `'Quantity'` e `'UnitPrice'`, porém, não estão relacionados a vendas canceladas. Para garantir a consistência dos dados, iremos proceder com a remoção dessas informações na base.\n",
        "\n",
        "- O percentual de vendas canceladas na amostra é de aproximadamente **2%** dos dados, indicando um desequilíbrio nos dados. Para abordar essa questão, iremos verificar e aplicar técnicas para realizar o balancear os dados."
      ],
      "metadata": {
        "id": "UW1ZOgo-DhfO"
      }
    },
    {
      "cell_type": "code",
      "source": [
        "# verificando valores ausentes:\n",
        "(amostra.isna().sum() / len(amostra)*100).sort_values(ascending=False)"
      ],
      "metadata": {
        "colab": {
          "base_uri": "https://localhost:8080/"
        },
        "id": "cPpkn6TVITWA",
        "outputId": "5647db78-5ba8-4d05-b2ed-8760fffd9465"
      },
      "execution_count": 12,
      "outputs": [
        {
          "output_type": "execute_result",
          "data": {
            "text/plain": [
              "CustomerID     24.926694\n",
              "Description     0.268311\n",
              "InvoiceNo       0.000000\n",
              "StockCode       0.000000\n",
              "Quantity        0.000000\n",
              "InvoiceDate     0.000000\n",
              "UnitPrice       0.000000\n",
              "Country         0.000000\n",
              "dtype: float64"
            ]
          },
          "metadata": {},
          "execution_count": 12
        }
      ]
    },
    {
      "cell_type": "code",
      "source": [
        "# verificando se há valores diferentes do padrão para 'InvoiceNo' (valores devem ter 6 ou 7 digitos [para casos cancelado])\n",
        "codigos_unicos_invoice = amostra['InvoiceNo'].astype(str).tolist()\n",
        "codigos_invalidos = [codigo for codigo in codigos_unicos_invoice if len(str(codigo)) < 6 or len(str(codigo)) > 7]\n",
        "f'Há {len(codigos_invalidos)} código(s) divergente(s): {codigos_invalidos}'"
      ],
      "metadata": {
        "colab": {
          "base_uri": "https://localhost:8080/",
          "height": 35
        },
        "id": "GhhxvLfLgk5W",
        "outputId": "222b3c01-2117-4285-8e66-9d9b0939c597"
      },
      "execution_count": 13,
      "outputs": [
        {
          "output_type": "execute_result",
          "data": {
            "text/plain": [
              "'Há 0 código(s) divergente(s): []'"
            ],
            "application/vnd.google.colaboratory.intrinsic+json": {
              "type": "string"
            }
          },
          "metadata": {},
          "execution_count": 13
        }
      ]
    },
    {
      "cell_type": "code",
      "source": [
        "# verificando se há valores diferentes do padrão para 'InvoiceNo' (valores devem ter 5 dígitos)\n",
        "codigos_unicos_stock = amostra['StockCode'].tolist()\n",
        "codigos_invalidos = [codigo for codigo in codigos_unicos_stock if len(str(codigo)) != 5 or not str(codigo).isdigit()]\n",
        "f'Há {len(codigos_invalidos)} alguns exemplos de código(s) divergente(s): {codigos_invalidos[:5]}'"
      ],
      "metadata": {
        "colab": {
          "base_uri": "https://localhost:8080/",
          "height": 35
        },
        "id": "pbSzBPCUiZOu",
        "outputId": "95e959e9-da97-47e7-8f1e-bb040bdd4e3a"
      },
      "execution_count": 106,
      "outputs": [
        {
          "output_type": "execute_result",
          "data": {
            "text/plain": [
              "\"Há 54873 alguns exemplos de código(s) divergente(s): ['85123A', '84406B', '84029G', '84029E', 'POST']\""
            ],
            "application/vnd.google.colaboratory.intrinsic+json": {
              "type": "string"
            }
          },
          "metadata": {},
          "execution_count": 106
        }
      ]
    },
    {
      "cell_type": "code",
      "source": [
        "round(len(codigos_invalidos) / len(amostra)*100,2)"
      ],
      "metadata": {
        "colab": {
          "base_uri": "https://localhost:8080/"
        },
        "id": "NynplxKnqZ1l",
        "outputId": "bd19032d-890a-4126-b3b1-8fb631b246fc"
      },
      "execution_count": 15,
      "outputs": [
        {
          "output_type": "execute_result",
          "data": {
            "text/plain": [
              "10.13"
            ]
          },
          "metadata": {},
          "execution_count": 15
        }
      ]
    },
    {
      "cell_type": "code",
      "source": [
        "# alterando o tipo da variável 'CustomerID' para string e removendo o '.0' no final:\n",
        "amostra['CustomerID'] = amostra['CustomerID'].astype(str).str.split('.').str[0]"
      ],
      "metadata": {
        "id": "5V2d8JO5wU1S"
      },
      "execution_count": 16,
      "outputs": []
    },
    {
      "cell_type": "code",
      "source": [
        "# verificando se há valores diferentes do padrão para 'CustomerID'\n",
        "codigos_unicos_customer = amostra['CustomerID'].tolist()\n",
        "codigos_invalidos = [codigo for codigo in codigos_unicos_customer if len(str(codigo)) != 5 or not str(codigo).isdigit()]\n",
        "f'Há {len(codigos_invalidos)} alguns exemplos de código(s) divergente(s): {codigos_invalidos[:5]}'"
      ],
      "metadata": {
        "colab": {
          "base_uri": "https://localhost:8080/",
          "height": 35
        },
        "id": "ck-J21QvkX1V",
        "outputId": "43f44112-3ef6-41bb-c406-cdee933d1fbe"
      },
      "execution_count": 105,
      "outputs": [
        {
          "output_type": "execute_result",
          "data": {
            "text/plain": [
              "\"Há 135080 código(s) divergente(s): ['nan', 'nan', 'nan', 'nan', 'nan']\""
            ],
            "application/vnd.google.colaboratory.intrinsic+json": {
              "type": "string"
            }
          },
          "metadata": {},
          "execution_count": 105
        }
      ]
    },
    {
      "cell_type": "code",
      "source": [
        "round(len(codigos_invalidos) / len(amostra)*100,2)"
      ],
      "metadata": {
        "colab": {
          "base_uri": "https://localhost:8080/"
        },
        "id": "ufdrf7vODwQl",
        "outputId": "6eb7253a-f368-4525-8b07-8ea42d331241"
      },
      "execution_count": 18,
      "outputs": [
        {
          "output_type": "execute_result",
          "data": {
            "text/plain": [
              "24.93"
            ]
          },
          "metadata": {},
          "execution_count": 18
        }
      ]
    },
    {
      "cell_type": "markdown",
      "source": [
        "- A coluna `'CustomerID'` apresenta valores nulos, representando aproximadamente **25%** dos registros. Essa coluna é importante para o poder de predição do modelo, portanto será necessário encontrar uma estratégia adequada para lidar com esses valores ausentes.\n",
        "\n",
        "- A coluna `'InvoiceNo'` não apresenta valores despadronizados, ou seja, não há problemas a serem tratados nessa coluna.\n",
        "\n",
        "- A coluna `'StockCode'` possui valores despadronizados, afetando cerca de **10%** dos registros. Será necessário realizar algum tipo de tratamento para lidar com esses valores inconsistentes.\n",
        "\n",
        "- Os valores despadronizados em `'CustomerID'` são registros em 'nan', representando **24%** dos dados. Como pontuado, essa coluna é importante para o poder de predição do modelo, portanto será necessário encontrar uma estratégia adequada para lidar com esses valores divergentes."
      ],
      "metadata": {
        "id": "3wqKRWeu5WUa"
      }
    },
    {
      "cell_type": "code",
      "source": [
        "# Verificando proporção de infos por pais:\n",
        "amostra['Country'].value_counts() / len(amostra)*100"
      ],
      "metadata": {
        "colab": {
          "base_uri": "https://localhost:8080/"
        },
        "id": "q6FDZat-Uf-S",
        "outputId": "83bc3ba4-d15b-40c4-b3cd-7d578c67307f"
      },
      "execution_count": 19,
      "outputs": [
        {
          "output_type": "execute_result",
          "data": {
            "text/plain": [
              "United Kingdom          91.431956\n",
              "Germany                  1.752139\n",
              "France                   1.579047\n",
              "EIRE                     1.512431\n",
              "Spain                    0.467422\n",
              "Netherlands              0.437527\n",
              "Belgium                  0.381798\n",
              "Switzerland              0.369435\n",
              "Portugal                 0.280305\n",
              "Australia                0.232327\n",
              "Norway                   0.200403\n",
              "Italy                    0.148180\n",
              "Channel Islands          0.139876\n",
              "Finland                  0.128250\n",
              "Cyprus                   0.114779\n",
              "Sweden                   0.085254\n",
              "Unspecified              0.082302\n",
              "Austria                  0.073998\n",
              "Denmark                  0.071783\n",
              "Japan                    0.066063\n",
              "Poland                   0.062926\n",
              "Israel                   0.054806\n",
              "USA                      0.053699\n",
              "Hong Kong                0.053145\n",
              "Singapore                0.042258\n",
              "Iceland                  0.033585\n",
              "Canada                   0.027864\n",
              "Greece                   0.026942\n",
              "Malta                    0.023436\n",
              "United Arab Emirates     0.012548\n",
              "European Community       0.011257\n",
              "RSA                      0.010703\n",
              "Lebanon                  0.008304\n",
              "Lithuania                0.006459\n",
              "Brazil                   0.005905\n",
              "Czech Republic           0.005536\n",
              "Bahrain                  0.003506\n",
              "Saudi Arabia             0.001845\n",
              "Name: Country, dtype: float64"
            ]
          },
          "metadata": {},
          "execution_count": 19
        }
      ]
    },
    {
      "cell_type": "code",
      "source": [
        "# Qtd de paises:\n",
        "amostra['Country'].nunique()"
      ],
      "metadata": {
        "colab": {
          "base_uri": "https://localhost:8080/"
        },
        "id": "VlrAu_oo22z7",
        "outputId": "fea918e5-8435-4e51-f61e-bd875bf0327b"
      },
      "execution_count": 20,
      "outputs": [
        {
          "output_type": "execute_result",
          "data": {
            "text/plain": [
              "38"
            ]
          },
          "metadata": {},
          "execution_count": 20
        }
      ]
    },
    {
      "cell_type": "markdown",
      "source": [
        "- 91% dos dados são referentes a compras realizadas no **Reino Unido (United Kingdom**), o que indica uma concentração significativa de registros nesse país. Ou seja, as informação pode ser relevante para **análises específicas relacionadas ao mercado britânico.**"
      ],
      "metadata": {
        "id": "SCELiwywdcpA"
      }
    },
    {
      "cell_type": "code",
      "source": [
        "# Anos presente na base:\n",
        "amostra['InvoiceDate'].dt.year.unique()"
      ],
      "metadata": {
        "colab": {
          "base_uri": "https://localhost:8080/"
        },
        "id": "cgzlbI_PWFEu",
        "outputId": "e8f4c1f7-035f-423e-d27e-5b0215204bef"
      },
      "execution_count": 21,
      "outputs": [
        {
          "output_type": "execute_result",
          "data": {
            "text/plain": [
              "array([2010, 2011])"
            ]
          },
          "metadata": {},
          "execution_count": 21
        }
      ]
    },
    {
      "cell_type": "code",
      "source": [
        "# Qtd de itens:\n",
        "amostra['StockCode'].nunique()"
      ],
      "metadata": {
        "colab": {
          "base_uri": "https://localhost:8080/"
        },
        "id": "MtFWdgSfWVsh",
        "outputId": "5e681faa-6a59-43ca-feae-5f8e9c63c78d"
      },
      "execution_count": 22,
      "outputs": [
        {
          "output_type": "execute_result",
          "data": {
            "text/plain": [
              "4070"
            ]
          },
          "metadata": {},
          "execution_count": 22
        }
      ]
    },
    {
      "cell_type": "code",
      "source": [
        "# Qtd de clientes:\n",
        "amostra['CustomerID'].dropna().nunique()"
      ],
      "metadata": {
        "colab": {
          "base_uri": "https://localhost:8080/"
        },
        "id": "cYw1av5A4IDp",
        "outputId": "3dbc2337-f0ef-41b6-bb4b-f93fcf1654b1"
      },
      "execution_count": 23,
      "outputs": [
        {
          "output_type": "execute_result",
          "data": {
            "text/plain": [
              "4373"
            ]
          },
          "metadata": {},
          "execution_count": 23
        }
      ]
    },
    {
      "cell_type": "markdown",
      "source": [
        "**Resumo das conclusões:**\n",
        "\n",
        "A amostra contém dados de vendas referentes aos anos de 2010 e 2011. Esses dados incluem um total de 4.070 itens diferentes vendidos para um conjunto de 4.373 clientes em 38 países, sendo United Kingdom (Reino Unido) o pais mais representativo, com uma parcela de 91% da amostra.\n",
        "\n",
        "> Colunas `'Quantity'` e `'UnitPrice'`:\n",
        "\n",
        "Os valores negativos encontrados nessas colunas são referentes a vendas canceladas. Para evitar qualquer influência indesejada na base de dados, as vendas não canceladas com informações negativas nessas colunas serão removidas.\n",
        "\n",
        "Além disso, é importante destacar que as colunas `'Quantity'` e `'UnitPrice'` apresentam um desvio padrão elevado, o que pode prejudicar o desempenho do modelo. A fim de melhorar a distribuição dos dados, serão exploradas alternativas para tratar essa situação.\n",
        "\n",
        "> Coluna `'InvoiceNo'`:\n",
        "\n",
        "Observamos que a base de dados está desbalanceada, com apenas 2% dos registros relacionados a cancelamentos. Para ajustar esse desequilíbrio, será necessário aplicar técnicas apropriadas de tratamento, visando obter uma distribuição mais equitativa e representativa dos dados.\n",
        "\n",
        "> Colunas `'CustomerID'` e '`StockCode'`:\n",
        "\n",
        "Ambas as colunas apresentam valores despadronizados que precisarão ser tratados."
      ],
      "metadata": {
        "id": "ezB_hyA71w3b"
      }
    },
    {
      "cell_type": "markdown",
      "source": [
        "#### ***Preparação da base:***\n",
        "\n",
        "---\n",
        "\n"
      ],
      "metadata": {
        "id": "AGujc1zj507l"
      }
    },
    {
      "cell_type": "markdown",
      "source": [
        "Resumo dos passos:\n",
        "\n",
        "- Gerando a base que será utilizada e fazendo os ajustes necessários:\n",
        "  - Tratamento de informações divergentes;\n",
        "  - Tratamento de nulos;\n",
        "  - Filtros.\n",
        "- Tratamento, criação e análise das features.\n",
        "- Definição, criação, tratamento e análise da target."
      ],
      "metadata": {
        "id": "ytK7sAOgTnf7"
      }
    },
    {
      "cell_type": "code",
      "source": [
        "# Criando base para tratamento e aplicação do modelo, matendo a 'amostra' sem alterações:\n",
        "base_amostra = pd.DataFrame()\n",
        "base_amostra = amostra.copy()\n",
        "base_amostra"
      ],
      "metadata": {
        "colab": {
          "base_uri": "https://localhost:8080/",
          "height": 424
        },
        "id": "PdR8ljOfGQSl",
        "outputId": "235237cd-fbaf-4c76-8c21-d165252b3321"
      },
      "execution_count": 24,
      "outputs": [
        {
          "output_type": "execute_result",
          "data": {
            "text/plain": [
              "       InvoiceNo StockCode                          Description  Quantity  \\\n",
              "0         536365    85123A   WHITE HANGING HEART T-LIGHT HOLDER         6   \n",
              "1         536365     71053                  WHITE METAL LANTERN         6   \n",
              "2         536365    84406B       CREAM CUPID HEARTS COAT HANGER         8   \n",
              "3         536365    84029G  KNITTED UNION FLAG HOT WATER BOTTLE         6   \n",
              "4         536365    84029E       RED WOOLLY HOTTIE WHITE HEART.         6   \n",
              "...          ...       ...                                  ...       ...   \n",
              "541904    581587     22613          PACK OF 20 SPACEBOY NAPKINS        12   \n",
              "541905    581587     22899         CHILDREN'S APRON DOLLY GIRL          6   \n",
              "541906    581587     23254        CHILDRENS CUTLERY DOLLY GIRL          4   \n",
              "541907    581587     23255      CHILDRENS CUTLERY CIRCUS PARADE         4   \n",
              "541908    581587     22138        BAKING SET 9 PIECE RETROSPOT          3   \n",
              "\n",
              "               InvoiceDate  UnitPrice CustomerID         Country  \n",
              "0      2010-12-01 08:26:00       2.55      17850  United Kingdom  \n",
              "1      2010-12-01 08:26:00       3.39      17850  United Kingdom  \n",
              "2      2010-12-01 08:26:00       2.75      17850  United Kingdom  \n",
              "3      2010-12-01 08:26:00       3.39      17850  United Kingdom  \n",
              "4      2010-12-01 08:26:00       3.39      17850  United Kingdom  \n",
              "...                    ...        ...        ...             ...  \n",
              "541904 2011-12-09 12:50:00       0.85      12680          France  \n",
              "541905 2011-12-09 12:50:00       2.10      12680          France  \n",
              "541906 2011-12-09 12:50:00       4.15      12680          France  \n",
              "541907 2011-12-09 12:50:00       4.15      12680          France  \n",
              "541908 2011-12-09 12:50:00       4.95      12680          France  \n",
              "\n",
              "[541909 rows x 8 columns]"
            ],
            "text/html": [
              "\n",
              "  <div id=\"df-33fd2eb0-1c45-4a15-a30a-c39478473d77\">\n",
              "    <div class=\"colab-df-container\">\n",
              "      <div>\n",
              "<style scoped>\n",
              "    .dataframe tbody tr th:only-of-type {\n",
              "        vertical-align: middle;\n",
              "    }\n",
              "\n",
              "    .dataframe tbody tr th {\n",
              "        vertical-align: top;\n",
              "    }\n",
              "\n",
              "    .dataframe thead th {\n",
              "        text-align: right;\n",
              "    }\n",
              "</style>\n",
              "<table border=\"1\" class=\"dataframe\">\n",
              "  <thead>\n",
              "    <tr style=\"text-align: right;\">\n",
              "      <th></th>\n",
              "      <th>InvoiceNo</th>\n",
              "      <th>StockCode</th>\n",
              "      <th>Description</th>\n",
              "      <th>Quantity</th>\n",
              "      <th>InvoiceDate</th>\n",
              "      <th>UnitPrice</th>\n",
              "      <th>CustomerID</th>\n",
              "      <th>Country</th>\n",
              "    </tr>\n",
              "  </thead>\n",
              "  <tbody>\n",
              "    <tr>\n",
              "      <th>0</th>\n",
              "      <td>536365</td>\n",
              "      <td>85123A</td>\n",
              "      <td>WHITE HANGING HEART T-LIGHT HOLDER</td>\n",
              "      <td>6</td>\n",
              "      <td>2010-12-01 08:26:00</td>\n",
              "      <td>2.55</td>\n",
              "      <td>17850</td>\n",
              "      <td>United Kingdom</td>\n",
              "    </tr>\n",
              "    <tr>\n",
              "      <th>1</th>\n",
              "      <td>536365</td>\n",
              "      <td>71053</td>\n",
              "      <td>WHITE METAL LANTERN</td>\n",
              "      <td>6</td>\n",
              "      <td>2010-12-01 08:26:00</td>\n",
              "      <td>3.39</td>\n",
              "      <td>17850</td>\n",
              "      <td>United Kingdom</td>\n",
              "    </tr>\n",
              "    <tr>\n",
              "      <th>2</th>\n",
              "      <td>536365</td>\n",
              "      <td>84406B</td>\n",
              "      <td>CREAM CUPID HEARTS COAT HANGER</td>\n",
              "      <td>8</td>\n",
              "      <td>2010-12-01 08:26:00</td>\n",
              "      <td>2.75</td>\n",
              "      <td>17850</td>\n",
              "      <td>United Kingdom</td>\n",
              "    </tr>\n",
              "    <tr>\n",
              "      <th>3</th>\n",
              "      <td>536365</td>\n",
              "      <td>84029G</td>\n",
              "      <td>KNITTED UNION FLAG HOT WATER BOTTLE</td>\n",
              "      <td>6</td>\n",
              "      <td>2010-12-01 08:26:00</td>\n",
              "      <td>3.39</td>\n",
              "      <td>17850</td>\n",
              "      <td>United Kingdom</td>\n",
              "    </tr>\n",
              "    <tr>\n",
              "      <th>4</th>\n",
              "      <td>536365</td>\n",
              "      <td>84029E</td>\n",
              "      <td>RED WOOLLY HOTTIE WHITE HEART.</td>\n",
              "      <td>6</td>\n",
              "      <td>2010-12-01 08:26:00</td>\n",
              "      <td>3.39</td>\n",
              "      <td>17850</td>\n",
              "      <td>United Kingdom</td>\n",
              "    </tr>\n",
              "    <tr>\n",
              "      <th>...</th>\n",
              "      <td>...</td>\n",
              "      <td>...</td>\n",
              "      <td>...</td>\n",
              "      <td>...</td>\n",
              "      <td>...</td>\n",
              "      <td>...</td>\n",
              "      <td>...</td>\n",
              "      <td>...</td>\n",
              "    </tr>\n",
              "    <tr>\n",
              "      <th>541904</th>\n",
              "      <td>581587</td>\n",
              "      <td>22613</td>\n",
              "      <td>PACK OF 20 SPACEBOY NAPKINS</td>\n",
              "      <td>12</td>\n",
              "      <td>2011-12-09 12:50:00</td>\n",
              "      <td>0.85</td>\n",
              "      <td>12680</td>\n",
              "      <td>France</td>\n",
              "    </tr>\n",
              "    <tr>\n",
              "      <th>541905</th>\n",
              "      <td>581587</td>\n",
              "      <td>22899</td>\n",
              "      <td>CHILDREN'S APRON DOLLY GIRL</td>\n",
              "      <td>6</td>\n",
              "      <td>2011-12-09 12:50:00</td>\n",
              "      <td>2.10</td>\n",
              "      <td>12680</td>\n",
              "      <td>France</td>\n",
              "    </tr>\n",
              "    <tr>\n",
              "      <th>541906</th>\n",
              "      <td>581587</td>\n",
              "      <td>23254</td>\n",
              "      <td>CHILDRENS CUTLERY DOLLY GIRL</td>\n",
              "      <td>4</td>\n",
              "      <td>2011-12-09 12:50:00</td>\n",
              "      <td>4.15</td>\n",
              "      <td>12680</td>\n",
              "      <td>France</td>\n",
              "    </tr>\n",
              "    <tr>\n",
              "      <th>541907</th>\n",
              "      <td>581587</td>\n",
              "      <td>23255</td>\n",
              "      <td>CHILDRENS CUTLERY CIRCUS PARADE</td>\n",
              "      <td>4</td>\n",
              "      <td>2011-12-09 12:50:00</td>\n",
              "      <td>4.15</td>\n",
              "      <td>12680</td>\n",
              "      <td>France</td>\n",
              "    </tr>\n",
              "    <tr>\n",
              "      <th>541908</th>\n",
              "      <td>581587</td>\n",
              "      <td>22138</td>\n",
              "      <td>BAKING SET 9 PIECE RETROSPOT</td>\n",
              "      <td>3</td>\n",
              "      <td>2011-12-09 12:50:00</td>\n",
              "      <td>4.95</td>\n",
              "      <td>12680</td>\n",
              "      <td>France</td>\n",
              "    </tr>\n",
              "  </tbody>\n",
              "</table>\n",
              "<p>541909 rows × 8 columns</p>\n",
              "</div>\n",
              "      <button class=\"colab-df-convert\" onclick=\"convertToInteractive('df-33fd2eb0-1c45-4a15-a30a-c39478473d77')\"\n",
              "              title=\"Convert this dataframe to an interactive table.\"\n",
              "              style=\"display:none;\">\n",
              "        \n",
              "  <svg xmlns=\"http://www.w3.org/2000/svg\" height=\"24px\"viewBox=\"0 0 24 24\"\n",
              "       width=\"24px\">\n",
              "    <path d=\"M0 0h24v24H0V0z\" fill=\"none\"/>\n",
              "    <path d=\"M18.56 5.44l.94 2.06.94-2.06 2.06-.94-2.06-.94-.94-2.06-.94 2.06-2.06.94zm-11 1L8.5 8.5l.94-2.06 2.06-.94-2.06-.94L8.5 2.5l-.94 2.06-2.06.94zm10 10l.94 2.06.94-2.06 2.06-.94-2.06-.94-.94-2.06-.94 2.06-2.06.94z\"/><path d=\"M17.41 7.96l-1.37-1.37c-.4-.4-.92-.59-1.43-.59-.52 0-1.04.2-1.43.59L10.3 9.45l-7.72 7.72c-.78.78-.78 2.05 0 2.83L4 21.41c.39.39.9.59 1.41.59.51 0 1.02-.2 1.41-.59l7.78-7.78 2.81-2.81c.8-.78.8-2.07 0-2.86zM5.41 20L4 18.59l7.72-7.72 1.47 1.35L5.41 20z\"/>\n",
              "  </svg>\n",
              "      </button>\n",
              "      \n",
              "  <style>\n",
              "    .colab-df-container {\n",
              "      display:flex;\n",
              "      flex-wrap:wrap;\n",
              "      gap: 12px;\n",
              "    }\n",
              "\n",
              "    .colab-df-convert {\n",
              "      background-color: #E8F0FE;\n",
              "      border: none;\n",
              "      border-radius: 50%;\n",
              "      cursor: pointer;\n",
              "      display: none;\n",
              "      fill: #1967D2;\n",
              "      height: 32px;\n",
              "      padding: 0 0 0 0;\n",
              "      width: 32px;\n",
              "    }\n",
              "\n",
              "    .colab-df-convert:hover {\n",
              "      background-color: #E2EBFA;\n",
              "      box-shadow: 0px 1px 2px rgba(60, 64, 67, 0.3), 0px 1px 3px 1px rgba(60, 64, 67, 0.15);\n",
              "      fill: #174EA6;\n",
              "    }\n",
              "\n",
              "    [theme=dark] .colab-df-convert {\n",
              "      background-color: #3B4455;\n",
              "      fill: #D2E3FC;\n",
              "    }\n",
              "\n",
              "    [theme=dark] .colab-df-convert:hover {\n",
              "      background-color: #434B5C;\n",
              "      box-shadow: 0px 1px 3px 1px rgba(0, 0, 0, 0.15);\n",
              "      filter: drop-shadow(0px 1px 2px rgba(0, 0, 0, 0.3));\n",
              "      fill: #FFFFFF;\n",
              "    }\n",
              "  </style>\n",
              "\n",
              "      <script>\n",
              "        const buttonEl =\n",
              "          document.querySelector('#df-33fd2eb0-1c45-4a15-a30a-c39478473d77 button.colab-df-convert');\n",
              "        buttonEl.style.display =\n",
              "          google.colab.kernel.accessAllowed ? 'block' : 'none';\n",
              "\n",
              "        async function convertToInteractive(key) {\n",
              "          const element = document.querySelector('#df-33fd2eb0-1c45-4a15-a30a-c39478473d77');\n",
              "          const dataTable =\n",
              "            await google.colab.kernel.invokeFunction('convertToInteractive',\n",
              "                                                     [key], {});\n",
              "          if (!dataTable) return;\n",
              "\n",
              "          const docLinkHtml = 'Like what you see? Visit the ' +\n",
              "            '<a target=\"_blank\" href=https://colab.research.google.com/notebooks/data_table.ipynb>data table notebook</a>'\n",
              "            + ' to learn more about interactive tables.';\n",
              "          element.innerHTML = '';\n",
              "          dataTable['output_type'] = 'display_data';\n",
              "          await google.colab.output.renderOutput(dataTable, element);\n",
              "          const docLink = document.createElement('div');\n",
              "          docLink.innerHTML = docLinkHtml;\n",
              "          element.appendChild(docLink);\n",
              "        }\n",
              "      </script>\n",
              "    </div>\n",
              "  </div>\n",
              "  "
            ]
          },
          "metadata": {},
          "execution_count": 24
        }
      ]
    },
    {
      "cell_type": "code",
      "source": [
        "# Removendo informações incorretas da base:\n",
        "base_amostra.drop(base_amostra[(~base_amostra['InvoiceNo'].str.startswith('C'))\n",
        "& ((base_amostra['Quantity'] <= 0)\n",
        "| (base_amostra['UnitPrice'] <= 0))].index, inplace=True)"
      ],
      "metadata": {
        "id": "_y0vy7Jh5P7a"
      },
      "execution_count": 25,
      "outputs": []
    },
    {
      "cell_type": "markdown",
      "source": [
        "***Features:***"
      ],
      "metadata": {
        "id": "9gPyNHKn7Yt9"
      }
    },
    {
      "cell_type": "markdown",
      "source": [
        "Tratamento de nulos e divergências:\n",
        "- Colunas `'CustomerID`' e `'StockCode`'\n",
        "---\n"
      ],
      "metadata": {
        "id": "c_zHj_Oy7HmI"
      }
    },
    {
      "cell_type": "code",
      "source": [
        "# verificando valores ausentes:\n",
        "(amostra.isna().sum() / len(amostra)*100).sort_values(ascending=False)"
      ],
      "metadata": {
        "colab": {
          "base_uri": "https://localhost:8080/"
        },
        "id": "rgfB1mp4CxS6",
        "outputId": "894c801b-bb6b-4a23-f18b-961330b53515"
      },
      "execution_count": 26,
      "outputs": [
        {
          "output_type": "execute_result",
          "data": {
            "text/plain": [
              "Description    0.268311\n",
              "InvoiceNo      0.000000\n",
              "StockCode      0.000000\n",
              "Quantity       0.000000\n",
              "InvoiceDate    0.000000\n",
              "UnitPrice      0.000000\n",
              "CustomerID     0.000000\n",
              "Country        0.000000\n",
              "dtype: float64"
            ]
          },
          "metadata": {},
          "execution_count": 26
        }
      ]
    },
    {
      "cell_type": "markdown",
      "source": [
        "- Após a remoção dos valores divergentes da base de dados, observamos uma redução significativa no percentual de dados nulos, com apenas `'Description'` apresentando **0.2%** de valores nulos. Com base nessa informação, podemos concluir que não é necessário realizar um tratamento adicional para lidar com valores nulos nesse momento, nos permitindo prosseguir com as análises e modelagem sem maiores intervenções nesse aspecto."
      ],
      "metadata": {
        "id": "N8lMuf2hD1zo"
      }
    },
    {
      "cell_type": "code",
      "source": [
        "# Percentual de valores 'nan' na coluna 'CustomerID' em relação a base:\n",
        "round(len(base_amostra[base_amostra['CustomerID'] == 'nan'])/ len(base_amostra)*100, 2)"
      ],
      "metadata": {
        "colab": {
          "base_uri": "https://localhost:8080/"
        },
        "id": "Sm26VDeYP2XW",
        "outputId": "6abda098-3e51-4f53-e8dd-f8d260153096"
      },
      "execution_count": 27,
      "outputs": [
        {
          "output_type": "execute_result",
          "data": {
            "text/plain": [
              "24.58"
            ]
          },
          "metadata": {},
          "execution_count": 27
        }
      ]
    },
    {
      "cell_type": "code",
      "source": [
        "# Removendo os valores da base:\n",
        "base_amostra = base_amostra[base_amostra['CustomerID'] != 'nan']"
      ],
      "metadata": {
        "id": "mRTy0fBYLeEi"
      },
      "execution_count": 28,
      "outputs": []
    },
    {
      "cell_type": "markdown",
      "source": [
        "- Representando **24%** dos dados, removemos as informações 'nan' da coluna `'CustomerID'`."
      ],
      "metadata": {
        "id": "d5OMODGnNQu2"
      }
    },
    {
      "cell_type": "code",
      "source": [
        "# verificando se há valores diferentes do padrão para 'InvoiceNo' (valores devem ter 5 dígitos)\n",
        "codigos_unicos_stock = base_amostra['StockCode'].tolist()\n",
        "codigos_invalidos = [codigo for codigo in codigos_unicos_stock if len(str(codigo)) != 5 or not str(codigo).isdigit()]\n",
        "f'Há {len(codigos_invalidos)} código(s) divergente(s): {codigos_invalidos[:5]}'"
      ],
      "metadata": {
        "colab": {
          "base_uri": "https://localhost:8080/",
          "height": 35
        },
        "id": "4dxb-785CJhE",
        "outputId": "dcb18192-08d4-4d1e-a15e-29b7fd731b99"
      },
      "execution_count": 107,
      "outputs": [
        {
          "output_type": "execute_result",
          "data": {
            "text/plain": [
              "'Há 0 código(s) divergente(s): []'"
            ],
            "application/vnd.google.colaboratory.intrinsic+json": {
              "type": "string"
            }
          },
          "metadata": {},
          "execution_count": 107
        }
      ]
    },
    {
      "cell_type": "code",
      "source": [
        "round(len(codigos_invalidos) / len(amostra)*100,2)"
      ],
      "metadata": {
        "colab": {
          "base_uri": "https://localhost:8080/"
        },
        "id": "EODWEh9oCSQF",
        "outputId": "8170a1cc-40ad-4833-c7f4-ca6bf6778628"
      },
      "execution_count": 30,
      "outputs": [
        {
          "output_type": "execute_result",
          "data": {
            "text/plain": [
              "6.61"
            ]
          },
          "metadata": {},
          "execution_count": 30
        }
      ]
    },
    {
      "cell_type": "code",
      "source": [
        "# Remover os valores invalidos da coluna 'StockCode':\n",
        "base_amostra = base_amostra[~base_amostra['StockCode'].isin(codigos_invalidos)]"
      ],
      "metadata": {
        "id": "5OUnE9FdUcU8"
      },
      "execution_count": 31,
      "outputs": []
    },
    {
      "cell_type": "markdown",
      "source": [
        "- Representando agora aproximandamente **7%** dos dados, removemos os valores divergentes da coluna `'StockCode'`."
      ],
      "metadata": {
        "id": "09FDDgTyEUr1"
      }
    },
    {
      "cell_type": "markdown",
      "source": [
        "Filtro de data para recorte da base:\n",
        "\n",
        "\n",
        "---\n",
        "\n"
      ],
      "metadata": {
        "id": "47IFe5Xu6d5Y"
      }
    },
    {
      "cell_type": "code",
      "source": [
        "# Definir a data limite como dezembro de 2011:\n",
        "data_limite = pd.to_datetime('2011-12-01')\n",
        "\n",
        "# Filtrar os registros dos últimos 3 meses:\n",
        "base_amostra = base_amostra[base_amostra['InvoiceDate'] >= data_limite - pd.DateOffset(months=2)]\n",
        "\n",
        "# Exibir os registros filtrados:\n",
        "base_amostra['InvoiceDate'].dt.month.unique()"
      ],
      "metadata": {
        "colab": {
          "base_uri": "https://localhost:8080/"
        },
        "id": "x_anPOR46d5Y",
        "outputId": "ea5f57d5-e56e-40ad-d970-adc7b4a60653"
      },
      "execution_count": 32,
      "outputs": [
        {
          "output_type": "execute_result",
          "data": {
            "text/plain": [
              "array([10, 11, 12])"
            ]
          },
          "metadata": {},
          "execution_count": 32
        }
      ]
    },
    {
      "cell_type": "code",
      "source": [
        "base_amostra['InvoiceDate'].dt.year.unique()"
      ],
      "metadata": {
        "colab": {
          "base_uri": "https://localhost:8080/"
        },
        "id": "lB0wZAIz8wtY",
        "outputId": "e9a7f50c-ebac-4919-bb39-f035db940689"
      },
      "execution_count": 33,
      "outputs": [
        {
          "output_type": "execute_result",
          "data": {
            "text/plain": [
              "array([2011])"
            ]
          },
          "metadata": {},
          "execution_count": 33
        }
      ]
    },
    {
      "cell_type": "code",
      "source": [
        "# Proporção da base final em relação a base original\n",
        "round(len(base_amostra) / len(amostra)*100, 2)"
      ],
      "metadata": {
        "colab": {
          "base_uri": "https://localhost:8080/"
        },
        "id": "sZYMEcwB6d5Z",
        "outputId": "5ba3b032-89d4-4a94-9ee1-af1bb3719fd2"
      },
      "execution_count": 34,
      "outputs": [
        {
          "output_type": "execute_result",
          "data": {
            "text/plain": [
              "22.92"
            ]
          },
          "metadata": {},
          "execution_count": 34
        }
      ]
    },
    {
      "cell_type": "markdown",
      "source": [
        "Criando feature `'TotalPrice'`:\n",
        "\n",
        "\n",
        "---\n",
        "\n"
      ],
      "metadata": {
        "id": "3HWZz4Aq4M-c"
      }
    },
    {
      "cell_type": "code",
      "source": [
        "# Criando coluna com o cálculo do preço total da transação: 'TotalPrice':\n",
        "base_amostra['TotalPrice'] = base_amostra['Quantity'] * base_amostra['UnitPrice']\n",
        "base_amostra[['Quantity', 'UnitPrice', 'TotalPrice']]"
      ],
      "metadata": {
        "colab": {
          "base_uri": "https://localhost:8080/",
          "height": 424
        },
        "id": "aNzQ5Z_eOabg",
        "outputId": "886b49bf-2a04-4a31-fb7e-08c7ae5a336f"
      },
      "execution_count": 35,
      "outputs": [
        {
          "output_type": "execute_result",
          "data": {
            "text/plain": [
              "        Quantity  UnitPrice  TotalPrice\n",
              "370931        48       4.95      237.60\n",
              "370932        20       1.25       25.00\n",
              "370933         4       0.85        3.40\n",
              "370934        15       7.08      106.20\n",
              "370935         4       4.95       19.80\n",
              "...          ...        ...         ...\n",
              "541904        12       0.85       10.20\n",
              "541905         6       2.10       12.60\n",
              "541906         4       4.15       16.60\n",
              "541907         4       4.15       16.60\n",
              "541908         3       4.95       14.85\n",
              "\n",
              "[124193 rows x 3 columns]"
            ],
            "text/html": [
              "\n",
              "  <div id=\"df-594ab40e-00b8-4967-9386-ae34a79d9b88\">\n",
              "    <div class=\"colab-df-container\">\n",
              "      <div>\n",
              "<style scoped>\n",
              "    .dataframe tbody tr th:only-of-type {\n",
              "        vertical-align: middle;\n",
              "    }\n",
              "\n",
              "    .dataframe tbody tr th {\n",
              "        vertical-align: top;\n",
              "    }\n",
              "\n",
              "    .dataframe thead th {\n",
              "        text-align: right;\n",
              "    }\n",
              "</style>\n",
              "<table border=\"1\" class=\"dataframe\">\n",
              "  <thead>\n",
              "    <tr style=\"text-align: right;\">\n",
              "      <th></th>\n",
              "      <th>Quantity</th>\n",
              "      <th>UnitPrice</th>\n",
              "      <th>TotalPrice</th>\n",
              "    </tr>\n",
              "  </thead>\n",
              "  <tbody>\n",
              "    <tr>\n",
              "      <th>370931</th>\n",
              "      <td>48</td>\n",
              "      <td>4.95</td>\n",
              "      <td>237.60</td>\n",
              "    </tr>\n",
              "    <tr>\n",
              "      <th>370932</th>\n",
              "      <td>20</td>\n",
              "      <td>1.25</td>\n",
              "      <td>25.00</td>\n",
              "    </tr>\n",
              "    <tr>\n",
              "      <th>370933</th>\n",
              "      <td>4</td>\n",
              "      <td>0.85</td>\n",
              "      <td>3.40</td>\n",
              "    </tr>\n",
              "    <tr>\n",
              "      <th>370934</th>\n",
              "      <td>15</td>\n",
              "      <td>7.08</td>\n",
              "      <td>106.20</td>\n",
              "    </tr>\n",
              "    <tr>\n",
              "      <th>370935</th>\n",
              "      <td>4</td>\n",
              "      <td>4.95</td>\n",
              "      <td>19.80</td>\n",
              "    </tr>\n",
              "    <tr>\n",
              "      <th>...</th>\n",
              "      <td>...</td>\n",
              "      <td>...</td>\n",
              "      <td>...</td>\n",
              "    </tr>\n",
              "    <tr>\n",
              "      <th>541904</th>\n",
              "      <td>12</td>\n",
              "      <td>0.85</td>\n",
              "      <td>10.20</td>\n",
              "    </tr>\n",
              "    <tr>\n",
              "      <th>541905</th>\n",
              "      <td>6</td>\n",
              "      <td>2.10</td>\n",
              "      <td>12.60</td>\n",
              "    </tr>\n",
              "    <tr>\n",
              "      <th>541906</th>\n",
              "      <td>4</td>\n",
              "      <td>4.15</td>\n",
              "      <td>16.60</td>\n",
              "    </tr>\n",
              "    <tr>\n",
              "      <th>541907</th>\n",
              "      <td>4</td>\n",
              "      <td>4.15</td>\n",
              "      <td>16.60</td>\n",
              "    </tr>\n",
              "    <tr>\n",
              "      <th>541908</th>\n",
              "      <td>3</td>\n",
              "      <td>4.95</td>\n",
              "      <td>14.85</td>\n",
              "    </tr>\n",
              "  </tbody>\n",
              "</table>\n",
              "<p>124193 rows × 3 columns</p>\n",
              "</div>\n",
              "      <button class=\"colab-df-convert\" onclick=\"convertToInteractive('df-594ab40e-00b8-4967-9386-ae34a79d9b88')\"\n",
              "              title=\"Convert this dataframe to an interactive table.\"\n",
              "              style=\"display:none;\">\n",
              "        \n",
              "  <svg xmlns=\"http://www.w3.org/2000/svg\" height=\"24px\"viewBox=\"0 0 24 24\"\n",
              "       width=\"24px\">\n",
              "    <path d=\"M0 0h24v24H0V0z\" fill=\"none\"/>\n",
              "    <path d=\"M18.56 5.44l.94 2.06.94-2.06 2.06-.94-2.06-.94-.94-2.06-.94 2.06-2.06.94zm-11 1L8.5 8.5l.94-2.06 2.06-.94-2.06-.94L8.5 2.5l-.94 2.06-2.06.94zm10 10l.94 2.06.94-2.06 2.06-.94-2.06-.94-.94-2.06-.94 2.06-2.06.94z\"/><path d=\"M17.41 7.96l-1.37-1.37c-.4-.4-.92-.59-1.43-.59-.52 0-1.04.2-1.43.59L10.3 9.45l-7.72 7.72c-.78.78-.78 2.05 0 2.83L4 21.41c.39.39.9.59 1.41.59.51 0 1.02-.2 1.41-.59l7.78-7.78 2.81-2.81c.8-.78.8-2.07 0-2.86zM5.41 20L4 18.59l7.72-7.72 1.47 1.35L5.41 20z\"/>\n",
              "  </svg>\n",
              "      </button>\n",
              "      \n",
              "  <style>\n",
              "    .colab-df-container {\n",
              "      display:flex;\n",
              "      flex-wrap:wrap;\n",
              "      gap: 12px;\n",
              "    }\n",
              "\n",
              "    .colab-df-convert {\n",
              "      background-color: #E8F0FE;\n",
              "      border: none;\n",
              "      border-radius: 50%;\n",
              "      cursor: pointer;\n",
              "      display: none;\n",
              "      fill: #1967D2;\n",
              "      height: 32px;\n",
              "      padding: 0 0 0 0;\n",
              "      width: 32px;\n",
              "    }\n",
              "\n",
              "    .colab-df-convert:hover {\n",
              "      background-color: #E2EBFA;\n",
              "      box-shadow: 0px 1px 2px rgba(60, 64, 67, 0.3), 0px 1px 3px 1px rgba(60, 64, 67, 0.15);\n",
              "      fill: #174EA6;\n",
              "    }\n",
              "\n",
              "    [theme=dark] .colab-df-convert {\n",
              "      background-color: #3B4455;\n",
              "      fill: #D2E3FC;\n",
              "    }\n",
              "\n",
              "    [theme=dark] .colab-df-convert:hover {\n",
              "      background-color: #434B5C;\n",
              "      box-shadow: 0px 1px 3px 1px rgba(0, 0, 0, 0.15);\n",
              "      filter: drop-shadow(0px 1px 2px rgba(0, 0, 0, 0.3));\n",
              "      fill: #FFFFFF;\n",
              "    }\n",
              "  </style>\n",
              "\n",
              "      <script>\n",
              "        const buttonEl =\n",
              "          document.querySelector('#df-594ab40e-00b8-4967-9386-ae34a79d9b88 button.colab-df-convert');\n",
              "        buttonEl.style.display =\n",
              "          google.colab.kernel.accessAllowed ? 'block' : 'none';\n",
              "\n",
              "        async function convertToInteractive(key) {\n",
              "          const element = document.querySelector('#df-594ab40e-00b8-4967-9386-ae34a79d9b88');\n",
              "          const dataTable =\n",
              "            await google.colab.kernel.invokeFunction('convertToInteractive',\n",
              "                                                     [key], {});\n",
              "          if (!dataTable) return;\n",
              "\n",
              "          const docLinkHtml = 'Like what you see? Visit the ' +\n",
              "            '<a target=\"_blank\" href=https://colab.research.google.com/notebooks/data_table.ipynb>data table notebook</a>'\n",
              "            + ' to learn more about interactive tables.';\n",
              "          element.innerHTML = '';\n",
              "          dataTable['output_type'] = 'display_data';\n",
              "          await google.colab.output.renderOutput(dataTable, element);\n",
              "          const docLink = document.createElement('div');\n",
              "          docLink.innerHTML = docLinkHtml;\n",
              "          element.appendChild(docLink);\n",
              "        }\n",
              "      </script>\n",
              "    </div>\n",
              "  </div>\n",
              "  "
            ]
          },
          "metadata": {},
          "execution_count": 35
        }
      ]
    },
    {
      "cell_type": "markdown",
      "source": [
        "Verificandos e tratando informações estatísticas sobre as variáveis `'TotalPrice'`, `'UnitPrice'` e `'Quantity'`:\n",
        "\n",
        "---\n",
        "\n"
      ],
      "metadata": {
        "id": "LkbJy8GZcAwA"
      }
    },
    {
      "cell_type": "code",
      "source": [
        "base_amostra[['TotalPrice', 'UnitPrice', 'Quantity']].describe().T"
      ],
      "metadata": {
        "colab": {
          "base_uri": "https://localhost:8080/",
          "height": 143
        },
        "id": "6-fy8qZHfRYX",
        "outputId": "a29bfd10-62ff-4f21-e2e4-b0ba99da591f"
      },
      "execution_count": 36,
      "outputs": [
        {
          "output_type": "execute_result",
          "data": {
            "text/plain": [
              "               count       mean         std        min   25%   50%    75%  \\\n",
              "TotalPrice  124193.0  18.167294  679.044724 -168469.60  3.40  9.95  17.70   \n",
              "UnitPrice   124193.0   2.763063    3.129232       0.04  1.25  1.79   3.75   \n",
              "Quantity    124193.0  10.716425  327.375629  -80995.00  2.00  4.00  12.00   \n",
              "\n",
              "                 max  \n",
              "TotalPrice  168469.6  \n",
              "UnitPrice      165.0  \n",
              "Quantity     80995.0  "
            ],
            "text/html": [
              "\n",
              "  <div id=\"df-29498c9a-365e-4421-8a89-f24cd476a0cb\">\n",
              "    <div class=\"colab-df-container\">\n",
              "      <div>\n",
              "<style scoped>\n",
              "    .dataframe tbody tr th:only-of-type {\n",
              "        vertical-align: middle;\n",
              "    }\n",
              "\n",
              "    .dataframe tbody tr th {\n",
              "        vertical-align: top;\n",
              "    }\n",
              "\n",
              "    .dataframe thead th {\n",
              "        text-align: right;\n",
              "    }\n",
              "</style>\n",
              "<table border=\"1\" class=\"dataframe\">\n",
              "  <thead>\n",
              "    <tr style=\"text-align: right;\">\n",
              "      <th></th>\n",
              "      <th>count</th>\n",
              "      <th>mean</th>\n",
              "      <th>std</th>\n",
              "      <th>min</th>\n",
              "      <th>25%</th>\n",
              "      <th>50%</th>\n",
              "      <th>75%</th>\n",
              "      <th>max</th>\n",
              "    </tr>\n",
              "  </thead>\n",
              "  <tbody>\n",
              "    <tr>\n",
              "      <th>TotalPrice</th>\n",
              "      <td>124193.0</td>\n",
              "      <td>18.167294</td>\n",
              "      <td>679.044724</td>\n",
              "      <td>-168469.60</td>\n",
              "      <td>3.40</td>\n",
              "      <td>9.95</td>\n",
              "      <td>17.70</td>\n",
              "      <td>168469.6</td>\n",
              "    </tr>\n",
              "    <tr>\n",
              "      <th>UnitPrice</th>\n",
              "      <td>124193.0</td>\n",
              "      <td>2.763063</td>\n",
              "      <td>3.129232</td>\n",
              "      <td>0.04</td>\n",
              "      <td>1.25</td>\n",
              "      <td>1.79</td>\n",
              "      <td>3.75</td>\n",
              "      <td>165.0</td>\n",
              "    </tr>\n",
              "    <tr>\n",
              "      <th>Quantity</th>\n",
              "      <td>124193.0</td>\n",
              "      <td>10.716425</td>\n",
              "      <td>327.375629</td>\n",
              "      <td>-80995.00</td>\n",
              "      <td>2.00</td>\n",
              "      <td>4.00</td>\n",
              "      <td>12.00</td>\n",
              "      <td>80995.0</td>\n",
              "    </tr>\n",
              "  </tbody>\n",
              "</table>\n",
              "</div>\n",
              "      <button class=\"colab-df-convert\" onclick=\"convertToInteractive('df-29498c9a-365e-4421-8a89-f24cd476a0cb')\"\n",
              "              title=\"Convert this dataframe to an interactive table.\"\n",
              "              style=\"display:none;\">\n",
              "        \n",
              "  <svg xmlns=\"http://www.w3.org/2000/svg\" height=\"24px\"viewBox=\"0 0 24 24\"\n",
              "       width=\"24px\">\n",
              "    <path d=\"M0 0h24v24H0V0z\" fill=\"none\"/>\n",
              "    <path d=\"M18.56 5.44l.94 2.06.94-2.06 2.06-.94-2.06-.94-.94-2.06-.94 2.06-2.06.94zm-11 1L8.5 8.5l.94-2.06 2.06-.94-2.06-.94L8.5 2.5l-.94 2.06-2.06.94zm10 10l.94 2.06.94-2.06 2.06-.94-2.06-.94-.94-2.06-.94 2.06-2.06.94z\"/><path d=\"M17.41 7.96l-1.37-1.37c-.4-.4-.92-.59-1.43-.59-.52 0-1.04.2-1.43.59L10.3 9.45l-7.72 7.72c-.78.78-.78 2.05 0 2.83L4 21.41c.39.39.9.59 1.41.59.51 0 1.02-.2 1.41-.59l7.78-7.78 2.81-2.81c.8-.78.8-2.07 0-2.86zM5.41 20L4 18.59l7.72-7.72 1.47 1.35L5.41 20z\"/>\n",
              "  </svg>\n",
              "      </button>\n",
              "      \n",
              "  <style>\n",
              "    .colab-df-container {\n",
              "      display:flex;\n",
              "      flex-wrap:wrap;\n",
              "      gap: 12px;\n",
              "    }\n",
              "\n",
              "    .colab-df-convert {\n",
              "      background-color: #E8F0FE;\n",
              "      border: none;\n",
              "      border-radius: 50%;\n",
              "      cursor: pointer;\n",
              "      display: none;\n",
              "      fill: #1967D2;\n",
              "      height: 32px;\n",
              "      padding: 0 0 0 0;\n",
              "      width: 32px;\n",
              "    }\n",
              "\n",
              "    .colab-df-convert:hover {\n",
              "      background-color: #E2EBFA;\n",
              "      box-shadow: 0px 1px 2px rgba(60, 64, 67, 0.3), 0px 1px 3px 1px rgba(60, 64, 67, 0.15);\n",
              "      fill: #174EA6;\n",
              "    }\n",
              "\n",
              "    [theme=dark] .colab-df-convert {\n",
              "      background-color: #3B4455;\n",
              "      fill: #D2E3FC;\n",
              "    }\n",
              "\n",
              "    [theme=dark] .colab-df-convert:hover {\n",
              "      background-color: #434B5C;\n",
              "      box-shadow: 0px 1px 3px 1px rgba(0, 0, 0, 0.15);\n",
              "      filter: drop-shadow(0px 1px 2px rgba(0, 0, 0, 0.3));\n",
              "      fill: #FFFFFF;\n",
              "    }\n",
              "  </style>\n",
              "\n",
              "      <script>\n",
              "        const buttonEl =\n",
              "          document.querySelector('#df-29498c9a-365e-4421-8a89-f24cd476a0cb button.colab-df-convert');\n",
              "        buttonEl.style.display =\n",
              "          google.colab.kernel.accessAllowed ? 'block' : 'none';\n",
              "\n",
              "        async function convertToInteractive(key) {\n",
              "          const element = document.querySelector('#df-29498c9a-365e-4421-8a89-f24cd476a0cb');\n",
              "          const dataTable =\n",
              "            await google.colab.kernel.invokeFunction('convertToInteractive',\n",
              "                                                     [key], {});\n",
              "          if (!dataTable) return;\n",
              "\n",
              "          const docLinkHtml = 'Like what you see? Visit the ' +\n",
              "            '<a target=\"_blank\" href=https://colab.research.google.com/notebooks/data_table.ipynb>data table notebook</a>'\n",
              "            + ' to learn more about interactive tables.';\n",
              "          element.innerHTML = '';\n",
              "          dataTable['output_type'] = 'display_data';\n",
              "          await google.colab.output.renderOutput(dataTable, element);\n",
              "          const docLink = document.createElement('div');\n",
              "          docLink.innerHTML = docLinkHtml;\n",
              "          element.appendChild(docLink);\n",
              "        }\n",
              "      </script>\n",
              "    </div>\n",
              "  </div>\n",
              "  "
            ]
          },
          "metadata": {},
          "execution_count": 36
        }
      ]
    },
    {
      "cell_type": "code",
      "source": [
        "colors = ['r', 'g', 'b']\n",
        "base_amostra[['TotalPrice', 'UnitPrice', 'Quantity']].plot(kind='box', vert=False)\n",
        "\n",
        "outliers = base_amostra[['TotalPrice', 'UnitPrice', 'Quantity']].describe().loc[['min', 'max']].values.round()\n",
        "\n",
        "for i, limit in enumerate(outliers.T):\n",
        "    color = colors[i % len(colors)]\n",
        "\n",
        "    plt.axvline(x=limit[0], color=color, linestyle='--')\n",
        "    plt.axvline(x=limit[1], color=color, linestyle='--')\n",
        "\n",
        "    for j, value in enumerate(limit):\n",
        "        plt.text(value, i+1.1, f'{value}', ha='center', va='bottom')\n",
        "\n",
        "plt.show()"
      ],
      "metadata": {
        "colab": {
          "base_uri": "https://localhost:8080/",
          "height": 430
        },
        "id": "68tWgTRLgh4e",
        "outputId": "8f86abe6-d9df-4699-c7f3-c8bbf0bedadf"
      },
      "execution_count": 37,
      "outputs": [
        {
          "output_type": "display_data",
          "data": {
            "text/plain": [
              "<Figure size 640x480 with 1 Axes>"
            ],
            "image/png": "[encoded data removed]"
          },
          "metadata": {}
        }
      ]
    },
    {
      "cell_type": "code",
      "source": [
        "outliers_df = pd.DataFrame(outliers, columns=['TotalPrice', 'UnitPrice', 'Quantity'], index=['min', 'max'])\n",
        "outliers_df"
      ],
      "metadata": {
        "colab": {
          "base_uri": "https://localhost:8080/",
          "height": 112
        },
        "id": "xw7IIlpqoa2Q",
        "outputId": "6c67a253-37c2-41e3-83a3-aec481bd9cb5"
      },
      "execution_count": 38,
      "outputs": [
        {
          "output_type": "execute_result",
          "data": {
            "text/plain": [
              "     TotalPrice  UnitPrice  Quantity\n",
              "min   -168470.0        0.0  -80995.0\n",
              "max    168470.0      165.0   80995.0"
            ],
            "text/html": [
              "\n",
              "  <div id=\"df-b4f7ec93-b61e-4b4a-a9d8-f35a7fdff0ac\">\n",
              "    <div class=\"colab-df-container\">\n",
              "      <div>\n",
              "<style scoped>\n",
              "    .dataframe tbody tr th:only-of-type {\n",
              "        vertical-align: middle;\n",
              "    }\n",
              "\n",
              "    .dataframe tbody tr th {\n",
              "        vertical-align: top;\n",
              "    }\n",
              "\n",
              "    .dataframe thead th {\n",
              "        text-align: right;\n",
              "    }\n",
              "</style>\n",
              "<table border=\"1\" class=\"dataframe\">\n",
              "  <thead>\n",
              "    <tr style=\"text-align: right;\">\n",
              "      <th></th>\n",
              "      <th>TotalPrice</th>\n",
              "      <th>UnitPrice</th>\n",
              "      <th>Quantity</th>\n",
              "    </tr>\n",
              "  </thead>\n",
              "  <tbody>\n",
              "    <tr>\n",
              "      <th>min</th>\n",
              "      <td>-168470.0</td>\n",
              "      <td>0.0</td>\n",
              "      <td>-80995.0</td>\n",
              "    </tr>\n",
              "    <tr>\n",
              "      <th>max</th>\n",
              "      <td>168470.0</td>\n",
              "      <td>165.0</td>\n",
              "      <td>80995.0</td>\n",
              "    </tr>\n",
              "  </tbody>\n",
              "</table>\n",
              "</div>\n",
              "      <button class=\"colab-df-convert\" onclick=\"convertToInteractive('df-b4f7ec93-b61e-4b4a-a9d8-f35a7fdff0ac')\"\n",
              "              title=\"Convert this dataframe to an interactive table.\"\n",
              "              style=\"display:none;\">\n",
              "        \n",
              "  <svg xmlns=\"http://www.w3.org/2000/svg\" height=\"24px\"viewBox=\"0 0 24 24\"\n",
              "       width=\"24px\">\n",
              "    <path d=\"M0 0h24v24H0V0z\" fill=\"none\"/>\n",
              "    <path d=\"M18.56 5.44l.94 2.06.94-2.06 2.06-.94-2.06-.94-.94-2.06-.94 2.06-2.06.94zm-11 1L8.5 8.5l.94-2.06 2.06-.94-2.06-.94L8.5 2.5l-.94 2.06-2.06.94zm10 10l.94 2.06.94-2.06 2.06-.94-2.06-.94-.94-2.06-.94 2.06-2.06.94z\"/><path d=\"M17.41 7.96l-1.37-1.37c-.4-.4-.92-.59-1.43-.59-.52 0-1.04.2-1.43.59L10.3 9.45l-7.72 7.72c-.78.78-.78 2.05 0 2.83L4 21.41c.39.39.9.59 1.41.59.51 0 1.02-.2 1.41-.59l7.78-7.78 2.81-2.81c.8-.78.8-2.07 0-2.86zM5.41 20L4 18.59l7.72-7.72 1.47 1.35L5.41 20z\"/>\n",
              "  </svg>\n",
              "      </button>\n",
              "      \n",
              "  <style>\n",
              "    .colab-df-container {\n",
              "      display:flex;\n",
              "      flex-wrap:wrap;\n",
              "      gap: 12px;\n",
              "    }\n",
              "\n",
              "    .colab-df-convert {\n",
              "      background-color: #E8F0FE;\n",
              "      border: none;\n",
              "      border-radius: 50%;\n",
              "      cursor: pointer;\n",
              "      display: none;\n",
              "      fill: #1967D2;\n",
              "      height: 32px;\n",
              "      padding: 0 0 0 0;\n",
              "      width: 32px;\n",
              "    }\n",
              "\n",
              "    .colab-df-convert:hover {\n",
              "      background-color: #E2EBFA;\n",
              "      box-shadow: 0px 1px 2px rgba(60, 64, 67, 0.3), 0px 1px 3px 1px rgba(60, 64, 67, 0.15);\n",
              "      fill: #174EA6;\n",
              "    }\n",
              "\n",
              "    [theme=dark] .colab-df-convert {\n",
              "      background-color: #3B4455;\n",
              "      fill: #D2E3FC;\n",
              "    }\n",
              "\n",
              "    [theme=dark] .colab-df-convert:hover {\n",
              "      background-color: #434B5C;\n",
              "      box-shadow: 0px 1px 3px 1px rgba(0, 0, 0, 0.15);\n",
              "      filter: drop-shadow(0px 1px 2px rgba(0, 0, 0, 0.3));\n",
              "      fill: #FFFFFF;\n",
              "    }\n",
              "  </style>\n",
              "\n",
              "      <script>\n",
              "        const buttonEl =\n",
              "          document.querySelector('#df-b4f7ec93-b61e-4b4a-a9d8-f35a7fdff0ac button.colab-df-convert');\n",
              "        buttonEl.style.display =\n",
              "          google.colab.kernel.accessAllowed ? 'block' : 'none';\n",
              "\n",
              "        async function convertToInteractive(key) {\n",
              "          const element = document.querySelector('#df-b4f7ec93-b61e-4b4a-a9d8-f35a7fdff0ac');\n",
              "          const dataTable =\n",
              "            await google.colab.kernel.invokeFunction('convertToInteractive',\n",
              "                                                     [key], {});\n",
              "          if (!dataTable) return;\n",
              "\n",
              "          const docLinkHtml = 'Like what you see? Visit the ' +\n",
              "            '<a target=\"_blank\" href=https://colab.research.google.com/notebooks/data_table.ipynb>data table notebook</a>'\n",
              "            + ' to learn more about interactive tables.';\n",
              "          element.innerHTML = '';\n",
              "          dataTable['output_type'] = 'display_data';\n",
              "          await google.colab.output.renderOutput(dataTable, element);\n",
              "          const docLink = document.createElement('div');\n",
              "          docLink.innerHTML = docLinkHtml;\n",
              "          element.appendChild(docLink);\n",
              "        }\n",
              "      </script>\n",
              "    </div>\n",
              "  </div>\n",
              "  "
            ]
          },
          "metadata": {},
          "execution_count": 38
        }
      ]
    },
    {
      "cell_type": "markdown",
      "source": [
        "- As colunas 'TotalPrice' e 'Quantity' exibem valores discrepantes, resultando em um **alto desvio padrão** de 679 e 327, respectivamente. A fim de melhor equilibrar a distribuição dos dados, será aplicada a estratégia de remover esses valores discrepantes, também conhecidos como outliers, em ambas as colunas."
      ],
      "metadata": {
        "id": "4YfDu1W--_8x"
      }
    },
    {
      "cell_type": "code",
      "source": [
        "# Removendo valores max e mim de 'TotalPrice' e 'Quantity':\n",
        "base_amostra = base_amostra[(base_amostra['TotalPrice'] != base_amostra['TotalPrice'].max()) & (base_amostra['Quantity'] != base_amostra['Quantity'].min())]"
      ],
      "metadata": {
        "id": "XHLF5Bpk_i_r"
      },
      "execution_count": 39,
      "outputs": []
    },
    {
      "cell_type": "code",
      "source": [
        "base_amostra[['TotalPrice', 'UnitPrice', 'Quantity']].describe().T"
      ],
      "metadata": {
        "colab": {
          "base_uri": "https://localhost:8080/",
          "height": 143
        },
        "id": "v6mdERFJGuLc",
        "outputId": "bc04d176-3c5e-430f-bbaf-b3a799ad1cdc"
      },
      "execution_count": 40,
      "outputs": [
        {
          "output_type": "execute_result",
          "data": {
            "text/plain": [
              "               count       mean        std      min   25%   50%    75%     max\n",
              "TotalPrice  124191.0  18.167586  63.523387 -1836.00  3.40  9.95  17.70  4992.0\n",
              "UnitPrice   124191.0   2.763074   3.129256     0.04  1.25  1.79   3.75   165.0\n",
              "Quantity    124191.0  10.716598  39.101019 -1296.00  2.00  4.00  12.00  4800.0"
            ],
            "text/html": [
              "\n",
              "  <div id=\"df-4110ca16-64da-4bb2-9efc-e86a25b0dd55\">\n",
              "    <div class=\"colab-df-container\">\n",
              "      <div>\n",
              "<style scoped>\n",
              "    .dataframe tbody tr th:only-of-type {\n",
              "        vertical-align: middle;\n",
              "    }\n",
              "\n",
              "    .dataframe tbody tr th {\n",
              "        vertical-align: top;\n",
              "    }\n",
              "\n",
              "    .dataframe thead th {\n",
              "        text-align: right;\n",
              "    }\n",
              "</style>\n",
              "<table border=\"1\" class=\"dataframe\">\n",
              "  <thead>\n",
              "    <tr style=\"text-align: right;\">\n",
              "      <th></th>\n",
              "      <th>count</th>\n",
              "      <th>mean</th>\n",
              "      <th>std</th>\n",
              "      <th>min</th>\n",
              "      <th>25%</th>\n",
              "      <th>50%</th>\n",
              "      <th>75%</th>\n",
              "      <th>max</th>\n",
              "    </tr>\n",
              "  </thead>\n",
              "  <tbody>\n",
              "    <tr>\n",
              "      <th>TotalPrice</th>\n",
              "      <td>124191.0</td>\n",
              "      <td>18.167586</td>\n",
              "      <td>63.523387</td>\n",
              "      <td>-1836.00</td>\n",
              "      <td>3.40</td>\n",
              "      <td>9.95</td>\n",
              "      <td>17.70</td>\n",
              "      <td>4992.0</td>\n",
              "    </tr>\n",
              "    <tr>\n",
              "      <th>UnitPrice</th>\n",
              "      <td>124191.0</td>\n",
              "      <td>2.763074</td>\n",
              "      <td>3.129256</td>\n",
              "      <td>0.04</td>\n",
              "      <td>1.25</td>\n",
              "      <td>1.79</td>\n",
              "      <td>3.75</td>\n",
              "      <td>165.0</td>\n",
              "    </tr>\n",
              "    <tr>\n",
              "      <th>Quantity</th>\n",
              "      <td>124191.0</td>\n",
              "      <td>10.716598</td>\n",
              "      <td>39.101019</td>\n",
              "      <td>-1296.00</td>\n",
              "      <td>2.00</td>\n",
              "      <td>4.00</td>\n",
              "      <td>12.00</td>\n",
              "      <td>4800.0</td>\n",
              "    </tr>\n",
              "  </tbody>\n",
              "</table>\n",
              "</div>\n",
              "      <button class=\"colab-df-convert\" onclick=\"convertToInteractive('df-4110ca16-64da-4bb2-9efc-e86a25b0dd55')\"\n",
              "              title=\"Convert this dataframe to an interactive table.\"\n",
              "              style=\"display:none;\">\n",
              "        \n",
              "  <svg xmlns=\"http://www.w3.org/2000/svg\" height=\"24px\"viewBox=\"0 0 24 24\"\n",
              "       width=\"24px\">\n",
              "    <path d=\"M0 0h24v24H0V0z\" fill=\"none\"/>\n",
              "    <path d=\"M18.56 5.44l.94 2.06.94-2.06 2.06-.94-2.06-.94-.94-2.06-.94 2.06-2.06.94zm-11 1L8.5 8.5l.94-2.06 2.06-.94-2.06-.94L8.5 2.5l-.94 2.06-2.06.94zm10 10l.94 2.06.94-2.06 2.06-.94-2.06-.94-.94-2.06-.94 2.06-2.06.94z\"/><path d=\"M17.41 7.96l-1.37-1.37c-.4-.4-.92-.59-1.43-.59-.52 0-1.04.2-1.43.59L10.3 9.45l-7.72 7.72c-.78.78-.78 2.05 0 2.83L4 21.41c.39.39.9.59 1.41.59.51 0 1.02-.2 1.41-.59l7.78-7.78 2.81-2.81c.8-.78.8-2.07 0-2.86zM5.41 20L4 18.59l7.72-7.72 1.47 1.35L5.41 20z\"/>\n",
              "  </svg>\n",
              "      </button>\n",
              "      \n",
              "  <style>\n",
              "    .colab-df-container {\n",
              "      display:flex;\n",
              "      flex-wrap:wrap;\n",
              "      gap: 12px;\n",
              "    }\n",
              "\n",
              "    .colab-df-convert {\n",
              "      background-color: #E8F0FE;\n",
              "      border: none;\n",
              "      border-radius: 50%;\n",
              "      cursor: pointer;\n",
              "      display: none;\n",
              "      fill: #1967D2;\n",
              "      height: 32px;\n",
              "      padding: 0 0 0 0;\n",
              "      width: 32px;\n",
              "    }\n",
              "\n",
              "    .colab-df-convert:hover {\n",
              "      background-color: #E2EBFA;\n",
              "      box-shadow: 0px 1px 2px rgba(60, 64, 67, 0.3), 0px 1px 3px 1px rgba(60, 64, 67, 0.15);\n",
              "      fill: #174EA6;\n",
              "    }\n",
              "\n",
              "    [theme=dark] .colab-df-convert {\n",
              "      background-color: #3B4455;\n",
              "      fill: #D2E3FC;\n",
              "    }\n",
              "\n",
              "    [theme=dark] .colab-df-convert:hover {\n",
              "      background-color: #434B5C;\n",
              "      box-shadow: 0px 1px 3px 1px rgba(0, 0, 0, 0.15);\n",
              "      filter: drop-shadow(0px 1px 2px rgba(0, 0, 0, 0.3));\n",
              "      fill: #FFFFFF;\n",
              "    }\n",
              "  </style>\n",
              "\n",
              "      <script>\n",
              "        const buttonEl =\n",
              "          document.querySelector('#df-4110ca16-64da-4bb2-9efc-e86a25b0dd55 button.colab-df-convert');\n",
              "        buttonEl.style.display =\n",
              "          google.colab.kernel.accessAllowed ? 'block' : 'none';\n",
              "\n",
              "        async function convertToInteractive(key) {\n",
              "          const element = document.querySelector('#df-4110ca16-64da-4bb2-9efc-e86a25b0dd55');\n",
              "          const dataTable =\n",
              "            await google.colab.kernel.invokeFunction('convertToInteractive',\n",
              "                                                     [key], {});\n",
              "          if (!dataTable) return;\n",
              "\n",
              "          const docLinkHtml = 'Like what you see? Visit the ' +\n",
              "            '<a target=\"_blank\" href=https://colab.research.google.com/notebooks/data_table.ipynb>data table notebook</a>'\n",
              "            + ' to learn more about interactive tables.';\n",
              "          element.innerHTML = '';\n",
              "          dataTable['output_type'] = 'display_data';\n",
              "          await google.colab.output.renderOutput(dataTable, element);\n",
              "          const docLink = document.createElement('div');\n",
              "          docLink.innerHTML = docLinkHtml;\n",
              "          element.appendChild(docLink);\n",
              "        }\n",
              "      </script>\n",
              "    </div>\n",
              "  </div>\n",
              "  "
            ]
          },
          "metadata": {},
          "execution_count": 40
        }
      ]
    },
    {
      "cell_type": "markdown",
      "source": [
        "- Observamos uma diminuição significativa nos desvios padrão de 'TotalPrice' e 'Quantity', para 63 e 39, respectivamente. Embora ainda sejam valores relativamente elevados, percebe-se uma redução substancial em relação aos números anteriores."
      ],
      "metadata": {
        "id": "FKPZsMg9HAJp"
      }
    },
    {
      "cell_type": "code",
      "source": [
        "colors = ['r', 'g', 'b']\n",
        "base_amostra[['TotalPrice', 'UnitPrice', 'Quantity']].plot(kind='box', vert=False)\n",
        "\n",
        "outliers = base_amostra[['TotalPrice', 'UnitPrice', 'Quantity']].describe().loc[['min', 'max']].values.round()\n",
        "\n",
        "for i, limit in enumerate(outliers.T):\n",
        "    color = colors[i % len(colors)]\n",
        "\n",
        "    plt.axvline(x=limit[0], color=color, linestyle='--')\n",
        "    plt.axvline(x=limit[1], color=color, linestyle='--')\n",
        "\n",
        "    for j, value in enumerate(limit):\n",
        "        plt.text(value, i+1.1, f'{value}', ha='center', va='bottom')\n",
        "\n",
        "plt.show()"
      ],
      "metadata": {
        "colab": {
          "base_uri": "https://localhost:8080/",
          "height": 430
        },
        "id": "erzJL4yYGoqp",
        "outputId": "6f7605b3-dbaf-4b70-b3fb-da5c56426b03"
      },
      "execution_count": 41,
      "outputs": [
        {
          "output_type": "display_data",
          "data": {
            "text/plain": [
              "<Figure size 640x480 with 1 Axes>"
            ],
            "image/png": "[encoded data removed]"
          },
          "metadata": {}
        }
      ]
    },
    {
      "cell_type": "markdown",
      "source": [
        "###### **Breve análise** sobre as informações base:"
      ],
      "metadata": {
        "id": "AmoBodxzZepr"
      }
    },
    {
      "cell_type": "markdown",
      "source": [
        "Resumo das análises:\n",
        "\n",
        "- Análise Regional (pais e continente).\n",
        "- Verificação sobre os itens vendidos.\n",
        "- Anásile temporal (vendas e cancelamentos em intervalos de hora).\n",
        "\n",
        "---\n",
        "\n"
      ],
      "metadata": {
        "id": "On7WFuG0fWOT"
      }
    },
    {
      "cell_type": "code",
      "source": [
        "# Compras por pais:\n",
        "base_amostra['Country'].value_counts() / len(amostra)*100"
      ],
      "metadata": {
        "colab": {
          "base_uri": "https://localhost:8080/"
        },
        "id": "Ego2o_BxANBo",
        "outputId": "bff75781-c7e7-4c3e-a93a-0180fbf89742"
      },
      "execution_count": 42,
      "outputs": [
        {
          "output_type": "execute_result",
          "data": {
            "text/plain": [
              "United Kingdom     20.633538\n",
              "France              0.470928\n",
              "Germany             0.468344\n",
              "EIRE                0.384935\n",
              "Spain               0.118470\n",
              "Portugal            0.111642\n",
              "Belgium             0.103338\n",
              "Netherlands         0.102969\n",
              "Switzerland         0.088945\n",
              "Italy               0.062741\n",
              "Norway              0.062372\n",
              "Cyprus              0.046871\n",
              "USA                 0.046318\n",
              "Channel Islands     0.031740\n",
              "Finland             0.030079\n",
              "Australia           0.027495\n",
              "Austria             0.022144\n",
              "Sweden              0.021590\n",
              "Denmark             0.018453\n",
              "Poland              0.012917\n",
              "Japan               0.010334\n",
              "RSA                 0.009965\n",
              "Iceland             0.009965\n",
              "Greece              0.006459\n",
              "Israel              0.005167\n",
              "Singapore           0.004982\n",
              "Malta               0.002768\n",
              "Czech Republic      0.001845\n",
              "Name: Country, dtype: float64"
            ]
          },
          "metadata": {},
          "execution_count": 42
        }
      ]
    },
    {
      "cell_type": "code",
      "source": [
        "# Média do 'TotalPrice' por pais:\n",
        "base_amostra.groupby('Country')['TotalPrice'].mean().sort_values(ascending = False)"
      ],
      "metadata": {
        "colab": {
          "base_uri": "https://localhost:8080/"
        },
        "id": "VulUor0deerg",
        "outputId": "3598f5da-2a14-4d73-bbda-a318c2d2ca9f"
      },
      "execution_count": 43,
      "outputs": [
        {
          "output_type": "execute_result",
          "data": {
            "text/plain": [
              "Country\n",
              "Japan              183.771250\n",
              "Australia          158.874832\n",
              "Netherlands        135.362778\n",
              "Sweden              67.646410\n",
              "Singapore           34.301481\n",
              "Norway              31.973521\n",
              "Denmark             31.515200\n",
              "Switzerland         27.300996\n",
              "EIRE                25.829727\n",
              "Iceland             24.895185\n",
              "Channel Islands     22.429302\n",
              "Germany             21.874275\n",
              "France              21.632610\n",
              "Czech Republic      21.573000\n",
              "Belgium             20.683107\n",
              "Finland             19.638160\n",
              "Italy               19.310382\n",
              "Poland              18.348143\n",
              "Austria             18.190500\n",
              "RSA                 17.584444\n",
              "United Kingdom      16.902602\n",
              "Cyprus              16.711142\n",
              "Greece              15.599714\n",
              "Portugal            15.486727\n",
              "Spain               14.598723\n",
              "Malta               12.720667\n",
              "USA                  4.837331\n",
              "Israel               3.802500\n",
              "Name: TotalPrice, dtype: float64"
            ]
          },
          "metadata": {},
          "execution_count": 43
        }
      ]
    },
    {
      "cell_type": "code",
      "source": [
        "# Criando coluna de 'Continente':\n",
        "dict_continent = {\n",
        "    'United Kingdom': 'Europa',\n",
        "    'Switzerland': 'Europa',\n",
        "    'France': 'Europa',\n",
        "    'Spain': 'Europa',\n",
        "    'Germany': 'Europa',\n",
        "    'Belgium': 'Europa',\n",
        "    'Israel': 'Ásia',\n",
        "    'Channel Islands': 'Europa',\n",
        "    'Australia': 'Oceania',\n",
        "    'Netherlands': 'Europa',\n",
        "    'EIRE': 'Europa',\n",
        "    'Portugal': 'Europa',\n",
        "    'Italy': 'Europa',\n",
        "    'Denmark': 'Europa',\n",
        "    'Cyprus': 'Europa',\n",
        "    'Czech Republic': 'Europa',\n",
        "    'USA': 'América do Norte',\n",
        "    'Norway': 'Europa',\n",
        "    'Finland': 'Europa',\n",
        "    'RSA': 'África',\n",
        "    'Singapore': 'Ásia',\n",
        "    'Sweden': 'Europa',\n",
        "    'Austria': 'Europa',\n",
        "    'Japan': 'Ásia',\n",
        "    'Iceland': 'Europa',\n",
        "    'Poland': 'Europa',\n",
        "    'Malta': 'Europa',\n",
        "    'Greece': 'Europa'\n",
        "}\n",
        "\n",
        "base_amostra['Continent'] = base_amostra['Country'].map(dict_continent)"
      ],
      "metadata": {
        "id": "F3AlcqKVa-ZO"
      },
      "execution_count": 44,
      "outputs": []
    },
    {
      "cell_type": "code",
      "source": [
        "# Média de 'UnitPrice' por continente:\n",
        "base_amostra.groupby('Continent')['UnitPrice'].mean().sort_values(ascending = False)"
      ],
      "metadata": {
        "colab": {
          "base_uri": "https://localhost:8080/"
        },
        "id": "IqcqXC-FcXqj",
        "outputId": "9daa7a04-ff89-4b7f-ab06-9dcd6668bef7"
      },
      "execution_count": 45,
      "outputs": [
        {
          "output_type": "execute_result",
          "data": {
            "text/plain": [
              "Continent\n",
              "África              4.418889\n",
              "Ásia                3.343514\n",
              "Oceania             3.012416\n",
              "Europa              2.762968\n",
              "América do Norte    2.054502\n",
              "Name: UnitPrice, dtype: float64"
            ]
          },
          "metadata": {},
          "execution_count": 45
        }
      ]
    },
    {
      "cell_type": "code",
      "source": [
        "# Média de 'UnitPrice' por continente:\n",
        "base_amostra.groupby('Continent')['TotalPrice'].mean().sort_values(ascending = False)"
      ],
      "metadata": {
        "colab": {
          "base_uri": "https://localhost:8080/"
        },
        "id": "LpYD7LCqdGL9",
        "outputId": "66a409c1-6a1f-401d-ddc4-215b1bb9ade1"
      },
      "execution_count": 46,
      "outputs": [
        {
          "output_type": "execute_result",
          "data": {
            "text/plain": [
              "Continent\n",
              "Oceania             158.874832\n",
              "Ásia                102.016216\n",
              "Europa               17.950034\n",
              "África               17.584444\n",
              "América do Norte      4.837331\n",
              "Name: TotalPrice, dtype: float64"
            ]
          },
          "metadata": {},
          "execution_count": 46
        }
      ]
    },
    {
      "cell_type": "code",
      "source": [
        "# Média de 'Country' por continente:\n",
        "base_amostra.groupby('Country')['UnitPrice'].mean().sort_values(ascending = False)"
      ],
      "metadata": {
        "colab": {
          "base_uri": "https://localhost:8080/"
        },
        "id": "yzfWSIKoZj7L",
        "outputId": "e67dbb6b-9121-4765-b6ad-e4d61853ce0d"
      },
      "execution_count": 47,
      "outputs": [
        {
          "output_type": "execute_result",
          "data": {
            "text/plain": [
              "Country\n",
              "Singapore          5.642222\n",
              "Cyprus             5.013622\n",
              "Malta              4.688667\n",
              "RSA                4.418889\n",
              "Italy              4.025735\n",
              "Finland            3.590798\n",
              "Channel Islands    3.437791\n",
              "Greece             3.381714\n",
              "EIRE               3.299056\n",
              "Belgium            3.284161\n",
              "Norway             3.264556\n",
              "Spain              3.192757\n",
              "Australia          3.012416\n",
              "Austria            2.852667\n",
              "Germany            2.793775\n",
              "United Kingdom     2.740471\n",
              "Japan              2.709464\n",
              "Portugal           2.701983\n",
              "Poland             2.698143\n",
              "Switzerland        2.676286\n",
              "France             2.675513\n",
              "Netherlands        2.410287\n",
              "Israel             2.395000\n",
              "Iceland            2.283333\n",
              "USA                2.054502\n",
              "Sweden             1.936239\n",
              "Denmark            1.873700\n",
              "Czech Republic     1.083000\n",
              "Name: UnitPrice, dtype: float64"
            ]
          },
          "metadata": {},
          "execution_count": 47
        }
      ]
    },
    {
      "cell_type": "markdown",
      "source": [
        "- Conforme mencionado anteriormente, a maioria das compras foi realizada no Reino Unido (Unit Kingdom), porém o país ocupa a 21ª posição em termos de média total de compras. Por outro lado, o Japão possui a maior média total de compras, apesar de não representar nem 1% das vendas totais.\n",
        "\n",
        "- No que diz respeito aos continentes, constata-se que o continente africano apresenta os itens mais caros, em média, enquanto ocupa a segunda posição em relação ao menor valor total de compras. Já a Oceania é o continente onde as pessoas gastaram mais em média."
      ],
      "metadata": {
        "id": "uLysCn7kY6w4"
      }
    },
    {
      "cell_type": "code",
      "source": [
        "# Qtd de itens vendidos:\n",
        "base_amostra.groupby(['StockCode', 'Description'])['StockCode'].count().sort_values(ascending=False).head(10)"
      ],
      "metadata": {
        "colab": {
          "base_uri": "https://localhost:8080/"
        },
        "id": "IRSS70bpi5uz",
        "outputId": "63879410-b398-46d5-c755-e017176a4081"
      },
      "execution_count": 48,
      "outputs": [
        {
          "output_type": "execute_result",
          "data": {
            "text/plain": [
              "StockCode  Description                       \n",
              "22086      PAPER CHAIN KIT 50'S CHRISTMAS        673\n",
              "23084      RABBIT NIGHT LIGHT                    655\n",
              "23355      HOT WATER BOTTLE KEEP CALM            538\n",
              "22910      PAPER CHAIN KIT VINTAGE CHRISTMAS     465\n",
              "23344      JUMBO BAG 50'S CHRISTMAS              435\n",
              "22197      POPCORN HOLDER                        408\n",
              "22865      HAND WARMER OWL DESIGN                406\n",
              "22423      REGENCY CAKESTAND 3 TIER              399\n",
              "84879      ASSORTED COLOUR BIRD ORNAMENT         398\n",
              "22578      WOODEN STAR CHRISTMAS SCANDINAVIAN    380\n",
              "Name: StockCode, dtype: int64"
            ]
          },
          "metadata": {},
          "execution_count": 48
        }
      ]
    },
    {
      "cell_type": "markdown",
      "source": [
        "- Podemos categorizar os 10 itens mais vendido entre decoração e utensílios gerais e, dentre os itens de decoração, vemos 3 itens com tema natalino.\n",
        "\n",
        "- Em geral, são itens pequenos que são comprados em grande quantidade, com possibilidade de revenda."
      ],
      "metadata": {
        "id": "FYg_WXsYmZ3h"
      }
    },
    {
      "cell_type": "code",
      "source": [
        "# Criando coluna com intervalos de horas:\n",
        "base_amostra['InvoiceHour'] = base_amostra['InvoiceDate'].dt.strftime('%H:%M:%S')\n",
        "intervalos = pd.interval_range(start=pd.to_timedelta('00:00:00'), end=pd.to_timedelta('23:00:00'), freq='1H')\n",
        "\n",
        "base_amostra['InvoiceHour_Intervalo'] = pd.cut(pd.to_timedelta(base_amostra['InvoiceHour']), bins=intervalos, labels=intervalos[:-1])\n",
        "\n",
        "base_amostra['InvoiceHour'] = base_amostra['InvoiceHour_Intervalo'].apply(lambda x: datetime.strftime(datetime(1900, 1, 1) + x.left, '%H'f'h'))"
      ],
      "metadata": {
        "id": "4XTTdeiZrrRr"
      },
      "execution_count": 49,
      "outputs": []
    },
    {
      "cell_type": "code",
      "source": [
        "# Vendas NÃO canceladas por horário:\n",
        "invoice_hour_counts = base_amostra[~base_amostra['InvoiceNo'].str.startswith('C')].groupby('InvoiceHour')['InvoiceHour'].count()\n",
        "\n",
        "plt.figure(figsize=(10, 6))\n",
        "sns.barplot(x=invoice_hour_counts.index, y=invoice_hour_counts.values)\n",
        "plt.xlabel('Hora do Pedido')\n",
        "plt.ylabel('Contagem')\n",
        "plt.title('Contagem de Pedidos por Hora')\n",
        "plt.show()"
      ],
      "metadata": {
        "colab": {
          "base_uri": "https://localhost:8080/",
          "height": 564
        },
        "id": "wNNk0t0RuCe1",
        "outputId": "eba520a3-6ff3-438e-81df-c5286876d178"
      },
      "execution_count": 50,
      "outputs": [
        {
          "output_type": "display_data",
          "data": {
            "text/plain": [
              "<Figure size 1000x600 with 1 Axes>"
            ],
            "image/png": "[encoded data removed]"
          },
          "metadata": {}
        }
      ]
    },
    {
      "cell_type": "code",
      "source": [
        "# Vendas canceladas por horário:\n",
        "invoice_hour_counts = base_amostra[base_amostra['InvoiceNo'].str.startswith('C')].groupby('InvoiceHour')['InvoiceHour'].count()\n",
        "\n",
        "plt.figure(figsize=(10, 6))\n",
        "sns.barplot(x=invoice_hour_counts.index, y=invoice_hour_counts.values)\n",
        "plt.xlabel('Hora do Pedido')\n",
        "plt.ylabel('Contagem')\n",
        "plt.title('Contagem de Pedidos Cancelados por Hora')\n",
        "plt.show()"
      ],
      "metadata": {
        "colab": {
          "base_uri": "https://localhost:8080/",
          "height": 564
        },
        "id": "NOvm7PiiuPex",
        "outputId": "a1a643c8-6f43-4006-a491-88d6e14727a4"
      },
      "execution_count": 51,
      "outputs": [
        {
          "output_type": "display_data",
          "data": {
            "text/plain": [
              "<Figure size 1000x600 with 1 Axes>"
            ],
            "image/png": "[encoded data removed]"
          },
          "metadata": {}
        }
      ]
    },
    {
      "cell_type": "markdown",
      "source": [
        "- A maioria das vendas ocorre em maior quantidade entre as 11h da manhã e as 14h, com pico ao 12h indicando um período de maior atividade comercial.\n",
        "\n",
        "- Além disso, observa-se que os cancelamentos também apresentam um volume significativo durante esse mesmo período, com pico as 11h, indicando uma possível relação entre as horas de maior volume de vendas e os cancelamentos. Outro pico de cancelamentos ocorre às 16h da tarde."
      ],
      "metadata": {
        "id": "0jMmCOXWvvnR"
      }
    },
    {
      "cell_type": "code",
      "source": [
        "# dicionários com os períodos do dia\n",
        "periods = {\n",
        "    'manhã': range(6, 12),\n",
        "    'tarde': range(12, 18),\n",
        "    'noite': range(18, 23),\n",
        "    'madrugada': list(range(23, 24)) + list(range(0, 6))\n",
        "}\n",
        "\n",
        "# função para mapear os períodos com base nos valores numéricos da coluna \"InvoiceHour\"\n",
        "def map_period(hour):\n",
        "    for period, hours in periods.items():\n",
        "        if int(hour[:-1]) in hours:\n",
        "            return period\n",
        "    return None\n",
        "\n",
        "# aplicar a função de mapeamento para criar a nova coluna \"Period\"\n",
        "base_amostra['Period'] = base_amostra['InvoiceHour'].apply(map_period)"
      ],
      "metadata": {
        "id": "k3HRQpogUE-O"
      },
      "execution_count": 52,
      "outputs": []
    },
    {
      "cell_type": "markdown",
      "source": [
        "Verificar relação das features com a target"
      ],
      "metadata": {
        "id": "BXAjsHCRWU_v"
      }
    },
    {
      "cell_type": "markdown",
      "source": [
        "##### ***Target:***"
      ],
      "metadata": {
        "id": "nLGAoqmw7uUY"
      }
    },
    {
      "cell_type": "markdown",
      "source": [
        "Tratamento, criação e análise da target:\n",
        "\n",
        "---\n",
        "\n"
      ],
      "metadata": {
        "id": "xMVgGxZd4XwR"
      }
    },
    {
      "cell_type": "code",
      "source": [
        "# # Valores únicos em 'InvoiceNo':\n",
        "base_amostra['InvoiceNo'] = base_amostra['InvoiceNo'].astype(str)\n",
        "base_amostra[base_amostra['InvoiceNo'].str.contains('C')]"
      ],
      "metadata": {
        "colab": {
          "base_uri": "https://localhost:8080/",
          "height": 763
        },
        "id": "w8p0AQrg3zmp",
        "outputId": "24df54a5-16aa-4997-e4cc-ef0829a41197"
      },
      "execution_count": 53,
      "outputs": [
        {
          "output_type": "execute_result",
          "data": {
            "text/plain": [
              "       InvoiceNo StockCode                         Description  Quantity  \\\n",
              "372165   C569233     22350               ILLUSTRATED CAT BOWL         -1   \n",
              "372166   C569233     22467                   GUMBALL COAT RACK        -2   \n",
              "372881   C569251     85066         CREAM SWEETHEART MINI CHEST        -1   \n",
              "373247   C569318     22628    PICNIC BOXES SET OF 3 RETROSPOT         -1   \n",
              "373248   C569318     22328  ROUND SNACK BOXES SET OF 4 FRUITS         -3   \n",
              "...          ...       ...                                 ...       ...   \n",
              "540448   C581490     22178     VICTORIAN GLASS HANGING T-LIGHT       -12   \n",
              "540449   C581490     23144     ZINC T-LIGHT HOLDER STARS SMALL       -11   \n",
              "541715   C581568     21258          VICTORIAN SEWING BOX LARGE        -5   \n",
              "541716   C581569     84978    HANGING HEART JAR T-LIGHT HOLDER        -1   \n",
              "541717   C581569     20979       36 PENCILS TUBE RED RETROSPOT        -5   \n",
              "\n",
              "               InvoiceDate  UnitPrice CustomerID         Country  TotalPrice  \\\n",
              "372165 2011-10-02 15:26:00       2.55      17841  United Kingdom       -2.55   \n",
              "372166 2011-10-02 15:26:00       2.55      17841  United Kingdom       -5.10   \n",
              "372881 2011-10-03 10:37:00      12.75      12957  United Kingdom      -12.75   \n",
              "373247 2011-10-03 12:14:00       4.95      13505     Switzerland       -4.95   \n",
              "373248 2011-10-03 12:14:00       2.95      13505     Switzerland       -8.85   \n",
              "...                    ...        ...        ...             ...         ...   \n",
              "540448 2011-12-09 09:57:00       1.95      14397  United Kingdom      -23.40   \n",
              "540449 2011-12-09 09:57:00       0.83      14397  United Kingdom       -9.13   \n",
              "541715 2011-12-09 11:57:00      10.95      15311  United Kingdom      -54.75   \n",
              "541716 2011-12-09 11:58:00       1.25      17315  United Kingdom       -1.25   \n",
              "541717 2011-12-09 11:58:00       1.25      17315  United Kingdom       -6.25   \n",
              "\n",
              "       Continent InvoiceHour               InvoiceHour_Intervalo Period  \n",
              "372165    Europa         15h  (0 days 15:00:00, 0 days 16:00:00]  tarde  \n",
              "372166    Europa         15h  (0 days 15:00:00, 0 days 16:00:00]  tarde  \n",
              "372881    Europa         10h  (0 days 10:00:00, 0 days 11:00:00]  manhã  \n",
              "373247    Europa         12h  (0 days 12:00:00, 0 days 13:00:00]  tarde  \n",
              "373248    Europa         12h  (0 days 12:00:00, 0 days 13:00:00]  tarde  \n",
              "...          ...         ...                                 ...    ...  \n",
              "540448    Europa         09h  (0 days 09:00:00, 0 days 10:00:00]  manhã  \n",
              "540449    Europa         09h  (0 days 09:00:00, 0 days 10:00:00]  manhã  \n",
              "541715    Europa         11h  (0 days 11:00:00, 0 days 12:00:00]  manhã  \n",
              "541716    Europa         11h  (0 days 11:00:00, 0 days 12:00:00]  manhã  \n",
              "541717    Europa         11h  (0 days 11:00:00, 0 days 12:00:00]  manhã  \n",
              "\n",
              "[2275 rows x 13 columns]"
            ],
            "text/html": [
              "\n",
              "  <div id=\"df-57e3d18d-feb8-43e9-a175-df21266cbc60\">\n",
              "    <div class=\"colab-df-container\">\n",
              "      <div>\n",
              "<style scoped>\n",
              "    .dataframe tbody tr th:only-of-type {\n",
              "        vertical-align: middle;\n",
              "    }\n",
              "\n",
              "    .dataframe tbody tr th {\n",
              "        vertical-align: top;\n",
              "    }\n",
              "\n",
              "    .dataframe thead th {\n",
              "        text-align: right;\n",
              "    }\n",
              "</style>\n",
              "<table border=\"1\" class=\"dataframe\">\n",
              "  <thead>\n",
              "    <tr style=\"text-align: right;\">\n",
              "      <th></th>\n",
              "      <th>InvoiceNo</th>\n",
              "      <th>StockCode</th>\n",
              "      <th>Description</th>\n",
              "      <th>Quantity</th>\n",
              "      <th>InvoiceDate</th>\n",
              "      <th>UnitPrice</th>\n",
              "      <th>CustomerID</th>\n",
              "      <th>Country</th>\n",
              "      <th>TotalPrice</th>\n",
              "      <th>Continent</th>\n",
              "      <th>InvoiceHour</th>\n",
              "      <th>InvoiceHour_Intervalo</th>\n",
              "      <th>Period</th>\n",
              "    </tr>\n",
              "  </thead>\n",
              "  <tbody>\n",
              "    <tr>\n",
              "      <th>372165</th>\n",
              "      <td>C569233</td>\n",
              "      <td>22350</td>\n",
              "      <td>ILLUSTRATED CAT BOWL</td>\n",
              "      <td>-1</td>\n",
              "      <td>2011-10-02 15:26:00</td>\n",
              "      <td>2.55</td>\n",
              "      <td>17841</td>\n",
              "      <td>United Kingdom</td>\n",
              "      <td>-2.55</td>\n",
              "      <td>Europa</td>\n",
              "      <td>15h</td>\n",
              "      <td>(0 days 15:00:00, 0 days 16:00:00]</td>\n",
              "      <td>tarde</td>\n",
              "    </tr>\n",
              "    <tr>\n",
              "      <th>372166</th>\n",
              "      <td>C569233</td>\n",
              "      <td>22467</td>\n",
              "      <td>GUMBALL COAT RACK</td>\n",
              "      <td>-2</td>\n",
              "      <td>2011-10-02 15:26:00</td>\n",
              "      <td>2.55</td>\n",
              "      <td>17841</td>\n",
              "      <td>United Kingdom</td>\n",
              "      <td>-5.10</td>\n",
              "      <td>Europa</td>\n",
              "      <td>15h</td>\n",
              "      <td>(0 days 15:00:00, 0 days 16:00:00]</td>\n",
              "      <td>tarde</td>\n",
              "    </tr>\n",
              "    <tr>\n",
              "      <th>372881</th>\n",
              "      <td>C569251</td>\n",
              "      <td>85066</td>\n",
              "      <td>CREAM SWEETHEART MINI CHEST</td>\n",
              "      <td>-1</td>\n",
              "      <td>2011-10-03 10:37:00</td>\n",
              "      <td>12.75</td>\n",
              "      <td>12957</td>\n",
              "      <td>United Kingdom</td>\n",
              "      <td>-12.75</td>\n",
              "      <td>Europa</td>\n",
              "      <td>10h</td>\n",
              "      <td>(0 days 10:00:00, 0 days 11:00:00]</td>\n",
              "      <td>manhã</td>\n",
              "    </tr>\n",
              "    <tr>\n",
              "      <th>373247</th>\n",
              "      <td>C569318</td>\n",
              "      <td>22628</td>\n",
              "      <td>PICNIC BOXES SET OF 3 RETROSPOT</td>\n",
              "      <td>-1</td>\n",
              "      <td>2011-10-03 12:14:00</td>\n",
              "      <td>4.95</td>\n",
              "      <td>13505</td>\n",
              "      <td>Switzerland</td>\n",
              "      <td>-4.95</td>\n",
              "      <td>Europa</td>\n",
              "      <td>12h</td>\n",
              "      <td>(0 days 12:00:00, 0 days 13:00:00]</td>\n",
              "      <td>tarde</td>\n",
              "    </tr>\n",
              "    <tr>\n",
              "      <th>373248</th>\n",
              "      <td>C569318</td>\n",
              "      <td>22328</td>\n",
              "      <td>ROUND SNACK BOXES SET OF 4 FRUITS</td>\n",
              "      <td>-3</td>\n",
              "      <td>2011-10-03 12:14:00</td>\n",
              "      <td>2.95</td>\n",
              "      <td>13505</td>\n",
              "      <td>Switzerland</td>\n",
              "      <td>-8.85</td>\n",
              "      <td>Europa</td>\n",
              "      <td>12h</td>\n",
              "      <td>(0 days 12:00:00, 0 days 13:00:00]</td>\n",
              "      <td>tarde</td>\n",
              "    </tr>\n",
              "    <tr>\n",
              "      <th>...</th>\n",
              "      <td>...</td>\n",
              "      <td>...</td>\n",
              "      <td>...</td>\n",
              "      <td>...</td>\n",
              "      <td>...</td>\n",
              "      <td>...</td>\n",
              "      <td>...</td>\n",
              "      <td>...</td>\n",
              "      <td>...</td>\n",
              "      <td>...</td>\n",
              "      <td>...</td>\n",
              "      <td>...</td>\n",
              "      <td>...</td>\n",
              "    </tr>\n",
              "    <tr>\n",
              "      <th>540448</th>\n",
              "      <td>C581490</td>\n",
              "      <td>22178</td>\n",
              "      <td>VICTORIAN GLASS HANGING T-LIGHT</td>\n",
              "      <td>-12</td>\n",
              "      <td>2011-12-09 09:57:00</td>\n",
              "      <td>1.95</td>\n",
              "      <td>14397</td>\n",
              "      <td>United Kingdom</td>\n",
              "      <td>-23.40</td>\n",
              "      <td>Europa</td>\n",
              "      <td>09h</td>\n",
              "      <td>(0 days 09:00:00, 0 days 10:00:00]</td>\n",
              "      <td>manhã</td>\n",
              "    </tr>\n",
              "    <tr>\n",
              "      <th>540449</th>\n",
              "      <td>C581490</td>\n",
              "      <td>23144</td>\n",
              "      <td>ZINC T-LIGHT HOLDER STARS SMALL</td>\n",
              "      <td>-11</td>\n",
              "      <td>2011-12-09 09:57:00</td>\n",
              "      <td>0.83</td>\n",
              "      <td>14397</td>\n",
              "      <td>United Kingdom</td>\n",
              "      <td>-9.13</td>\n",
              "      <td>Europa</td>\n",
              "      <td>09h</td>\n",
              "      <td>(0 days 09:00:00, 0 days 10:00:00]</td>\n",
              "      <td>manhã</td>\n",
              "    </tr>\n",
              "    <tr>\n",
              "      <th>541715</th>\n",
              "      <td>C581568</td>\n",
              "      <td>21258</td>\n",
              "      <td>VICTORIAN SEWING BOX LARGE</td>\n",
              "      <td>-5</td>\n",
              "      <td>2011-12-09 11:57:00</td>\n",
              "      <td>10.95</td>\n",
              "      <td>15311</td>\n",
              "      <td>United Kingdom</td>\n",
              "      <td>-54.75</td>\n",
              "      <td>Europa</td>\n",
              "      <td>11h</td>\n",
              "      <td>(0 days 11:00:00, 0 days 12:00:00]</td>\n",
              "      <td>manhã</td>\n",
              "    </tr>\n",
              "    <tr>\n",
              "      <th>541716</th>\n",
              "      <td>C581569</td>\n",
              "      <td>84978</td>\n",
              "      <td>HANGING HEART JAR T-LIGHT HOLDER</td>\n",
              "      <td>-1</td>\n",
              "      <td>2011-12-09 11:58:00</td>\n",
              "      <td>1.25</td>\n",
              "      <td>17315</td>\n",
              "      <td>United Kingdom</td>\n",
              "      <td>-1.25</td>\n",
              "      <td>Europa</td>\n",
              "      <td>11h</td>\n",
              "      <td>(0 days 11:00:00, 0 days 12:00:00]</td>\n",
              "      <td>manhã</td>\n",
              "    </tr>\n",
              "    <tr>\n",
              "      <th>541717</th>\n",
              "      <td>C581569</td>\n",
              "      <td>20979</td>\n",
              "      <td>36 PENCILS TUBE RED RETROSPOT</td>\n",
              "      <td>-5</td>\n",
              "      <td>2011-12-09 11:58:00</td>\n",
              "      <td>1.25</td>\n",
              "      <td>17315</td>\n",
              "      <td>United Kingdom</td>\n",
              "      <td>-6.25</td>\n",
              "      <td>Europa</td>\n",
              "      <td>11h</td>\n",
              "      <td>(0 days 11:00:00, 0 days 12:00:00]</td>\n",
              "      <td>manhã</td>\n",
              "    </tr>\n",
              "  </tbody>\n",
              "</table>\n",
              "<p>2275 rows × 13 columns</p>\n",
              "</div>\n",
              "      <button class=\"colab-df-convert\" onclick=\"convertToInteractive('df-57e3d18d-feb8-43e9-a175-df21266cbc60')\"\n",
              "              title=\"Convert this dataframe to an interactive table.\"\n",
              "              style=\"display:none;\">\n",
              "        \n",
              "  <svg xmlns=\"http://www.w3.org/2000/svg\" height=\"24px\"viewBox=\"0 0 24 24\"\n",
              "       width=\"24px\">\n",
              "    <path d=\"M0 0h24v24H0V0z\" fill=\"none\"/>\n",
              "    <path d=\"M18.56 5.44l.94 2.06.94-2.06 2.06-.94-2.06-.94-.94-2.06-.94 2.06-2.06.94zm-11 1L8.5 8.5l.94-2.06 2.06-.94-2.06-.94L8.5 2.5l-.94 2.06-2.06.94zm10 10l.94 2.06.94-2.06 2.06-.94-2.06-.94-.94-2.06-.94 2.06-2.06.94z\"/><path d=\"M17.41 7.96l-1.37-1.37c-.4-.4-.92-.59-1.43-.59-.52 0-1.04.2-1.43.59L10.3 9.45l-7.72 7.72c-.78.78-.78 2.05 0 2.83L4 21.41c.39.39.9.59 1.41.59.51 0 1.02-.2 1.41-.59l7.78-7.78 2.81-2.81c.8-.78.8-2.07 0-2.86zM5.41 20L4 18.59l7.72-7.72 1.47 1.35L5.41 20z\"/>\n",
              "  </svg>\n",
              "      </button>\n",
              "      \n",
              "  <style>\n",
              "    .colab-df-container {\n",
              "      display:flex;\n",
              "      flex-wrap:wrap;\n",
              "      gap: 12px;\n",
              "    }\n",
              "\n",
              "    .colab-df-convert {\n",
              "      background-color: #E8F0FE;\n",
              "      border: none;\n",
              "      border-radius: 50%;\n",
              "      cursor: pointer;\n",
              "      display: none;\n",
              "      fill: #1967D2;\n",
              "      height: 32px;\n",
              "      padding: 0 0 0 0;\n",
              "      width: 32px;\n",
              "    }\n",
              "\n",
              "    .colab-df-convert:hover {\n",
              "      background-color: #E2EBFA;\n",
              "      box-shadow: 0px 1px 2px rgba(60, 64, 67, 0.3), 0px 1px 3px 1px rgba(60, 64, 67, 0.15);\n",
              "      fill: #174EA6;\n",
              "    }\n",
              "\n",
              "    [theme=dark] .colab-df-convert {\n",
              "      background-color: #3B4455;\n",
              "      fill: #D2E3FC;\n",
              "    }\n",
              "\n",
              "    [theme=dark] .colab-df-convert:hover {\n",
              "      background-color: #434B5C;\n",
              "      box-shadow: 0px 1px 3px 1px rgba(0, 0, 0, 0.15);\n",
              "      filter: drop-shadow(0px 1px 2px rgba(0, 0, 0, 0.3));\n",
              "      fill: #FFFFFF;\n",
              "    }\n",
              "  </style>\n",
              "\n",
              "      <script>\n",
              "        const buttonEl =\n",
              "          document.querySelector('#df-57e3d18d-feb8-43e9-a175-df21266cbc60 button.colab-df-convert');\n",
              "        buttonEl.style.display =\n",
              "          google.colab.kernel.accessAllowed ? 'block' : 'none';\n",
              "\n",
              "        async function convertToInteractive(key) {\n",
              "          const element = document.querySelector('#df-57e3d18d-feb8-43e9-a175-df21266cbc60');\n",
              "          const dataTable =\n",
              "            await google.colab.kernel.invokeFunction('convertToInteractive',\n",
              "                                                     [key], {});\n",
              "          if (!dataTable) return;\n",
              "\n",
              "          const docLinkHtml = 'Like what you see? Visit the ' +\n",
              "            '<a target=\"_blank\" href=https://colab.research.google.com/notebooks/data_table.ipynb>data table notebook</a>'\n",
              "            + ' to learn more about interactive tables.';\n",
              "          element.innerHTML = '';\n",
              "          dataTable['output_type'] = 'display_data';\n",
              "          await google.colab.output.renderOutput(dataTable, element);\n",
              "          const docLink = document.createElement('div');\n",
              "          docLink.innerHTML = docLinkHtml;\n",
              "          element.appendChild(docLink);\n",
              "        }\n",
              "      </script>\n",
              "    </div>\n",
              "  </div>\n",
              "  "
            ]
          },
          "metadata": {},
          "execution_count": 53
        }
      ]
    },
    {
      "cell_type": "code",
      "source": [
        "# Criando coluna 'Status' para pontuar os cancelamentos:\n",
        "base_amostra['Status'] = base_amostra['InvoiceNo'].apply(lambda x: 'Cancelado' if str(x).startswith('C') else 'Não Cancelado')\n",
        "base_amostra[['Status', 'InvoiceNo']]"
      ],
      "metadata": {
        "colab": {
          "base_uri": "https://localhost:8080/",
          "height": 424
        },
        "id": "j6k351phNM8W",
        "outputId": "a4a744e8-b530-4ac4-e05e-8b277ea83833"
      },
      "execution_count": 54,
      "outputs": [
        {
          "output_type": "execute_result",
          "data": {
            "text/plain": [
              "               Status InvoiceNo\n",
              "370931  Não Cancelado    569203\n",
              "370932  Não Cancelado    569203\n",
              "370933  Não Cancelado    569204\n",
              "370934  Não Cancelado    569204\n",
              "370935  Não Cancelado    569204\n",
              "...               ...       ...\n",
              "541904  Não Cancelado    581587\n",
              "541905  Não Cancelado    581587\n",
              "541906  Não Cancelado    581587\n",
              "541907  Não Cancelado    581587\n",
              "541908  Não Cancelado    581587\n",
              "\n",
              "[124191 rows x 2 columns]"
            ],
            "text/html": [
              "\n",
              "  <div id=\"df-f129289d-7b9f-4685-b02b-b175eafe97a2\">\n",
              "    <div class=\"colab-df-container\">\n",
              "      <div>\n",
              "<style scoped>\n",
              "    .dataframe tbody tr th:only-of-type {\n",
              "        vertical-align: middle;\n",
              "    }\n",
              "\n",
              "    .dataframe tbody tr th {\n",
              "        vertical-align: top;\n",
              "    }\n",
              "\n",
              "    .dataframe thead th {\n",
              "        text-align: right;\n",
              "    }\n",
              "</style>\n",
              "<table border=\"1\" class=\"dataframe\">\n",
              "  <thead>\n",
              "    <tr style=\"text-align: right;\">\n",
              "      <th></th>\n",
              "      <th>Status</th>\n",
              "      <th>InvoiceNo</th>\n",
              "    </tr>\n",
              "  </thead>\n",
              "  <tbody>\n",
              "    <tr>\n",
              "      <th>370931</th>\n",
              "      <td>Não Cancelado</td>\n",
              "      <td>569203</td>\n",
              "    </tr>\n",
              "    <tr>\n",
              "      <th>370932</th>\n",
              "      <td>Não Cancelado</td>\n",
              "      <td>569203</td>\n",
              "    </tr>\n",
              "    <tr>\n",
              "      <th>370933</th>\n",
              "      <td>Não Cancelado</td>\n",
              "      <td>569204</td>\n",
              "    </tr>\n",
              "    <tr>\n",
              "      <th>370934</th>\n",
              "      <td>Não Cancelado</td>\n",
              "      <td>569204</td>\n",
              "    </tr>\n",
              "    <tr>\n",
              "      <th>370935</th>\n",
              "      <td>Não Cancelado</td>\n",
              "      <td>569204</td>\n",
              "    </tr>\n",
              "    <tr>\n",
              "      <th>...</th>\n",
              "      <td>...</td>\n",
              "      <td>...</td>\n",
              "    </tr>\n",
              "    <tr>\n",
              "      <th>541904</th>\n",
              "      <td>Não Cancelado</td>\n",
              "      <td>581587</td>\n",
              "    </tr>\n",
              "    <tr>\n",
              "      <th>541905</th>\n",
              "      <td>Não Cancelado</td>\n",
              "      <td>581587</td>\n",
              "    </tr>\n",
              "    <tr>\n",
              "      <th>541906</th>\n",
              "      <td>Não Cancelado</td>\n",
              "      <td>581587</td>\n",
              "    </tr>\n",
              "    <tr>\n",
              "      <th>541907</th>\n",
              "      <td>Não Cancelado</td>\n",
              "      <td>581587</td>\n",
              "    </tr>\n",
              "    <tr>\n",
              "      <th>541908</th>\n",
              "      <td>Não Cancelado</td>\n",
              "      <td>581587</td>\n",
              "    </tr>\n",
              "  </tbody>\n",
              "</table>\n",
              "<p>124191 rows × 2 columns</p>\n",
              "</div>\n",
              "      <button class=\"colab-df-convert\" onclick=\"convertToInteractive('df-f129289d-7b9f-4685-b02b-b175eafe97a2')\"\n",
              "              title=\"Convert this dataframe to an interactive table.\"\n",
              "              style=\"display:none;\">\n",
              "        \n",
              "  <svg xmlns=\"http://www.w3.org/2000/svg\" height=\"24px\"viewBox=\"0 0 24 24\"\n",
              "       width=\"24px\">\n",
              "    <path d=\"M0 0h24v24H0V0z\" fill=\"none\"/>\n",
              "    <path d=\"M18.56 5.44l.94 2.06.94-2.06 2.06-.94-2.06-.94-.94-2.06-.94 2.06-2.06.94zm-11 1L8.5 8.5l.94-2.06 2.06-.94-2.06-.94L8.5 2.5l-.94 2.06-2.06.94zm10 10l.94 2.06.94-2.06 2.06-.94-2.06-.94-.94-2.06-.94 2.06-2.06.94z\"/><path d=\"M17.41 7.96l-1.37-1.37c-.4-.4-.92-.59-1.43-.59-.52 0-1.04.2-1.43.59L10.3 9.45l-7.72 7.72c-.78.78-.78 2.05 0 2.83L4 21.41c.39.39.9.59 1.41.59.51 0 1.02-.2 1.41-.59l7.78-7.78 2.81-2.81c.8-.78.8-2.07 0-2.86zM5.41 20L4 18.59l7.72-7.72 1.47 1.35L5.41 20z\"/>\n",
              "  </svg>\n",
              "      </button>\n",
              "      \n",
              "  <style>\n",
              "    .colab-df-container {\n",
              "      display:flex;\n",
              "      flex-wrap:wrap;\n",
              "      gap: 12px;\n",
              "    }\n",
              "\n",
              "    .colab-df-convert {\n",
              "      background-color: #E8F0FE;\n",
              "      border: none;\n",
              "      border-radius: 50%;\n",
              "      cursor: pointer;\n",
              "      display: none;\n",
              "      fill: #1967D2;\n",
              "      height: 32px;\n",
              "      padding: 0 0 0 0;\n",
              "      width: 32px;\n",
              "    }\n",
              "\n",
              "    .colab-df-convert:hover {\n",
              "      background-color: #E2EBFA;\n",
              "      box-shadow: 0px 1px 2px rgba(60, 64, 67, 0.3), 0px 1px 3px 1px rgba(60, 64, 67, 0.15);\n",
              "      fill: #174EA6;\n",
              "    }\n",
              "\n",
              "    [theme=dark] .colab-df-convert {\n",
              "      background-color: #3B4455;\n",
              "      fill: #D2E3FC;\n",
              "    }\n",
              "\n",
              "    [theme=dark] .colab-df-convert:hover {\n",
              "      background-color: #434B5C;\n",
              "      box-shadow: 0px 1px 3px 1px rgba(0, 0, 0, 0.15);\n",
              "      filter: drop-shadow(0px 1px 2px rgba(0, 0, 0, 0.3));\n",
              "      fill: #FFFFFF;\n",
              "    }\n",
              "  </style>\n",
              "\n",
              "      <script>\n",
              "        const buttonEl =\n",
              "          document.querySelector('#df-f129289d-7b9f-4685-b02b-b175eafe97a2 button.colab-df-convert');\n",
              "        buttonEl.style.display =\n",
              "          google.colab.kernel.accessAllowed ? 'block' : 'none';\n",
              "\n",
              "        async function convertToInteractive(key) {\n",
              "          const element = document.querySelector('#df-f129289d-7b9f-4685-b02b-b175eafe97a2');\n",
              "          const dataTable =\n",
              "            await google.colab.kernel.invokeFunction('convertToInteractive',\n",
              "                                                     [key], {});\n",
              "          if (!dataTable) return;\n",
              "\n",
              "          const docLinkHtml = 'Like what you see? Visit the ' +\n",
              "            '<a target=\"_blank\" href=https://colab.research.google.com/notebooks/data_table.ipynb>data table notebook</a>'\n",
              "            + ' to learn more about interactive tables.';\n",
              "          element.innerHTML = '';\n",
              "          dataTable['output_type'] = 'display_data';\n",
              "          await google.colab.output.renderOutput(dataTable, element);\n",
              "          const docLink = document.createElement('div');\n",
              "          docLink.innerHTML = docLinkHtml;\n",
              "          element.appendChild(docLink);\n",
              "        }\n",
              "      </script>\n",
              "    </div>\n",
              "  </div>\n",
              "  "
            ]
          },
          "metadata": {},
          "execution_count": 54
        }
      ]
    },
    {
      "cell_type": "code",
      "source": [
        "# Proporção da target na base:\n",
        "colors = ['#309b91', '#054863']\n",
        "base_amostra['Status'].value_counts().plot(kind = 'bar', color=colors)"
      ],
      "metadata": {
        "colab": {
          "base_uri": "https://localhost:8080/",
          "height": 538
        },
        "id": "fvD3Rky6fNCa",
        "outputId": "6f80dcb5-cd47-42bd-e699-96bcd099cb37"
      },
      "execution_count": 55,
      "outputs": [
        {
          "output_type": "execute_result",
          "data": {
            "text/plain": [
              "<Axes: >"
            ]
          },
          "metadata": {},
          "execution_count": 55
        },
        {
          "output_type": "display_data",
          "data": {
            "text/plain": [
              "<Figure size 640x480 with 1 Axes>"
            ],
            "image/png": "[encoded data removed]"
          },
          "metadata": {}
        }
      ]
    },
    {
      "cell_type": "code",
      "source": [
        "round(base_amostra['Status'].value_counts() / len(base_amostra)*100, 2)"
      ],
      "metadata": {
        "colab": {
          "base_uri": "https://localhost:8080/"
        },
        "id": "X6njAHywmV2M",
        "outputId": "f20d2381-d027-47cf-926e-a3c33745f687"
      },
      "execution_count": 56,
      "outputs": [
        {
          "output_type": "execute_result",
          "data": {
            "text/plain": [
              "Não Cancelado    98.17\n",
              "Cancelado         1.83\n",
              "Name: Status, dtype: float64"
            ]
          },
          "metadata": {},
          "execution_count": 56
        }
      ]
    },
    {
      "cell_type": "markdown",
      "source": [
        "Verificamos que o percentual de compras canceladas é bastante baixo, representando menos de **2%** do total de registros.\n",
        "\n",
        "Para lidar com esse desequilíbrio nos dados, adotaremos a técnica de ***Under-sampling.*** Essa abordagem envolve extrair um subconjunto aleatório da classe majoritária, preservando as características da classe minoritária, sendo ideal para situações onde você tem grandes volumes de dados.\n",
        "\n",
        "O objetivo é **aumentar a representatividade da classe minoritária na base de dados, proporcionando um melhor desempenho do modelo e evitando possíveis viés decorrentes do desequilíbrio entre as classes.** Dessa forma, garantimos que o modelo seja capaz de capturar adequadamente os padrões e características da classe cancelada, contribuindo para uma melhor tomada de decisão."
      ],
      "metadata": {
        "id": "1Gk294Ws60lO"
      }
    },
    {
      "cell_type": "code",
      "source": [
        "# Proporção da base final em relação a base original\n",
        "round(len(base_amostra) / len(amostra)*100, 2)"
      ],
      "metadata": {
        "colab": {
          "base_uri": "https://localhost:8080/"
        },
        "id": "MDOIWgNcTxcE",
        "outputId": "db24d001-d769-48ee-f164-14bf1b4b40f8"
      },
      "execution_count": 57,
      "outputs": [
        {
          "output_type": "execute_result",
          "data": {
            "text/plain": [
              "22.92"
            ]
          },
          "metadata": {},
          "execution_count": 57
        }
      ]
    },
    {
      "cell_type": "markdown",
      "source": [
        "#### ***Aplicação do Modelo:***\n",
        "\n",
        "---\n",
        "\n"
      ],
      "metadata": {
        "id": "sjOPGz8B8AJK"
      }
    },
    {
      "cell_type": "markdown",
      "source": [
        "Resumos dos passos:\n",
        "\n",
        "- Separação das features numéricas e categóricas.\n",
        "- Criação da pipeline para tratamento das features.\n",
        "  - Método RobustScaler - variáveis numéricas;\n",
        "  - Método CountEncoder - variáveis nominais;\n",
        "  - Método RandomUnderSampler - desbalanceamento da target.\n",
        "- Aplicação do modelo.\n",
        "- Análise de métrica de eficiência do modelo."
      ],
      "metadata": {
        "id": "qXylFlZig4Zo"
      }
    },
    {
      "cell_type": "code",
      "source": [
        "# Removendo coluna com valores de data/hora:\n",
        "base_amostra = base_amostra.drop(columns=['InvoiceDate', 'InvoiceHour', 'InvoiceHour_Intervalo']).copy()"
      ],
      "metadata": {
        "id": "HZ4sEl3Do3UE"
      },
      "execution_count": 58,
      "outputs": []
    },
    {
      "cell_type": "code",
      "source": [
        "# Separando variáveis categóricas e numéricas:\n",
        "cat_features = base_amostra.select_dtypes('object').drop(columns = 'Status').columns.to_list()\n",
        "num_features = base_amostra.select_dtypes(exclude = 'object').columns.to_list()\n",
        "\n",
        "cat_features, num_features"
      ],
      "metadata": {
        "id": "vBQtG9kYblCE",
        "colab": {
          "base_uri": "https://localhost:8080/"
        },
        "outputId": "1ce05475-bd55-4445-8289-d7ce88e19675"
      },
      "execution_count": 59,
      "outputs": [
        {
          "output_type": "execute_result",
          "data": {
            "text/plain": [
              "(['InvoiceNo',\n",
              "  'StockCode',\n",
              "  'Description',\n",
              "  'CustomerID',\n",
              "  'Country',\n",
              "  'Continent',\n",
              "  'Period'],\n",
              " ['Quantity', 'UnitPrice', 'TotalPrice'])"
            ]
          },
          "metadata": {},
          "execution_count": 59
        }
      ]
    },
    {
      "cell_type": "code",
      "source": [
        "# Divisão em dados de treino e de teste:\n",
        "X = base_amostra.drop(columns = ['Status'])\n",
        "y = base_amostra.Status.map({'Não Cancelado': 0,'Cancelado': 1})"
      ],
      "metadata": {
        "id": "VsDHIPwkf1pC"
      },
      "execution_count": 60,
      "outputs": []
    },
    {
      "cell_type": "code",
      "source": [
        "# separa em treino e teste\n",
        "SEED = 546744165\n",
        "X_train, X_test, y_train, y_test = train_test_split(X,\n",
        "                                                    y,\n",
        "                                                    test_size = 0.3,\n",
        "                                                    random_state = SEED,\n",
        "                                                    stratify = y) #explicar"
      ],
      "metadata": {
        "id": "JugjXHdAaQFJ"
      },
      "execution_count": 61,
      "outputs": []
    },
    {
      "cell_type": "code",
      "source": [
        "# Distribuição da target antes do tratamento:\n",
        "pd.Series(y_test).value_counts().plot(kind = 'bar', color=colors)"
      ],
      "metadata": {
        "id": "q6crCnr1Rl48",
        "colab": {
          "base_uri": "https://localhost:8080/",
          "height": 442
        },
        "outputId": "64bac5e1-c135-4b1b-97a6-c740e9296c66"
      },
      "execution_count": 62,
      "outputs": [
        {
          "output_type": "execute_result",
          "data": {
            "text/plain": [
              "<Axes: >"
            ]
          },
          "metadata": {},
          "execution_count": 62
        },
        {
          "output_type": "display_data",
          "data": {
            "text/plain": [
              "<Figure size 640x480 with 1 Axes>"
            ],
            "image/png": "[encoded data removed]"
          },
          "metadata": {}
        }
      ]
    },
    {
      "cell_type": "code",
      "source": [
        "from imblearn.under_sampling import RandomUnderSampler\n",
        "\n",
        "rus = RandomUnderSampler(random_state=SEED)\n",
        "X_res, y_res = rus.fit_resample(X_train, y_train)\n",
        "X_res_test, y_res_test = rus.fit_resample(X_test, y_test)\n",
        "\n",
        "# https://sigmoidal.ai/como-lidar-com-dados-desbalanceados/\n",
        "# https://github.com/carlosfab/sigmoidal_ai/blob/master/Dados_Desbalanceados.ipynb"
      ],
      "metadata": {
        "id": "zo7-JjYHRYGM"
      },
      "execution_count": 63,
      "outputs": []
    },
    {
      "cell_type": "code",
      "source": [
        "# Distribuição da target após do tratamento:\n",
        "pd.Series(y_res).value_counts()"
      ],
      "metadata": {
        "colab": {
          "base_uri": "https://localhost:8080/"
        },
        "id": "wfyipiVnYEPx",
        "outputId": "aa69ee3b-70b4-4509-e644-236a88418901"
      },
      "execution_count": 64,
      "outputs": [
        {
          "output_type": "execute_result",
          "data": {
            "text/plain": [
              "0    1592\n",
              "1    1592\n",
              "Name: Status, dtype: int64"
            ]
          },
          "metadata": {},
          "execution_count": 64
        }
      ]
    },
    {
      "cell_type": "code",
      "source": [
        "pd.Series(y_res).value_counts().plot(kind = 'bar', color=colors)"
      ],
      "metadata": {
        "id": "6A422Xp-STdF",
        "colab": {
          "base_uri": "https://localhost:8080/",
          "height": 442
        },
        "outputId": "056b419e-ef20-4426-a91d-717c343f5942"
      },
      "execution_count": 65,
      "outputs": [
        {
          "output_type": "execute_result",
          "data": {
            "text/plain": [
              "<Axes: >"
            ]
          },
          "metadata": {},
          "execution_count": 65
        },
        {
          "output_type": "display_data",
          "data": {
            "text/plain": [
              "<Figure size 640x480 with 1 Axes>"
            ],
            "image/png": "[encoded data removed]"
          },
          "metadata": {}
        }
      ]
    },
    {
      "cell_type": "code",
      "source": [
        "# # from imblearn.over_sampling import SMOTE\n",
        "# from imblearn.over_sampling import SMOTENC\n",
        "\n",
        "# # smote = SMOTE()\n",
        "# categorical_features = [0, 1, 2, 5, 6, 8]\n",
        "# smotenc = SMOTENC(categorical_features=categorical_features)\n",
        "\n",
        "# X_train_resampled, y_train_resampled = smotenc.fit_resample(X_train, y_train)\n",
        "# X_test_resampled, y_test_resampled = smotenc.fit_resample(X_test, y_test)"
      ],
      "metadata": {
        "id": "vQ8ZM8xnZ5fa"
      },
      "execution_count": 66,
      "outputs": []
    },
    {
      "cell_type": "code",
      "source": [
        "# Distribuição da target após do tratamento:\n",
        "pd.Series(y_res).value_counts()"
      ],
      "metadata": {
        "colab": {
          "base_uri": "https://localhost:8080/"
        },
        "id": "QyUETdtpaZY3",
        "outputId": "e4d8026a-0430-4fd4-a749-2d589de362d4"
      },
      "execution_count": 67,
      "outputs": [
        {
          "output_type": "execute_result",
          "data": {
            "text/plain": [
              "0    1592\n",
              "1    1592\n",
              "Name: Status, dtype: int64"
            ]
          },
          "metadata": {},
          "execution_count": 67
        }
      ]
    },
    {
      "cell_type": "code",
      "source": [
        "# criar o transformador para aplicar as transformações\n",
        "transformer = ColumnTransformer(\n",
        "    transformers=[\n",
        "         ('count_encoder', CountEncoder(), cat_features),\n",
        "         ('robust_scaler', RobustScaler(), num_features)\n",
        "     ],\n",
        "     remainder='passthrough'\n",
        " )\n",
        "\n",
        "# criando o pipeline com o transformador e o modelo\n",
        "pipeline = Pipeline([\n",
        "     ('transformer', transformer),\n",
        "     ('model', LogisticRegression())\n",
        " ])\n",
        "\n",
        "# ajustar o pipeline aos dados de treino\n",
        "pipeline.fit(X_res, y_res)"
      ],
      "metadata": {
        "id": "RNIAsvHMSZs9",
        "colab": {
          "base_uri": "https://localhost:8080/",
          "height": 192
        },
        "outputId": "db4f44b9-8f5e-4393-dac8-a09852955302"
      },
      "execution_count": 68,
      "outputs": [
        {
          "output_type": "execute_result",
          "data": {
            "text/plain": [
              "Pipeline(steps=[('transformer',\n",
              "                 ColumnTransformer(remainder='passthrough',\n",
              "                                   transformers=[('count_encoder',\n",
              "                                                  CountEncoder(combine_min_nan_groups=True),\n",
              "                                                  ['InvoiceNo', 'StockCode',\n",
              "                                                   'Description', 'CustomerID',\n",
              "                                                   'Country', 'Continent',\n",
              "                                                   'Period']),\n",
              "                                                 ('robust_scaler',\n",
              "                                                  RobustScaler(),\n",
              "                                                  ['Quantity', 'UnitPrice',\n",
              "                                                   'TotalPrice'])])),\n",
              "                ('model', LogisticRegression())])"
            ],
            "text/html": [
              "<style>#sk-container-id-1 {color: black;background-color: white;}#sk-container-id-1 pre{padding: 0;}#sk-container-id-1 div.sk-toggleable {background-color: white;}#sk-container-id-1 label.sk-toggleable__label {cursor: pointer;display: block;width: 100%;margin-bottom: 0;padding: 0.3em;box-sizing: border-box;text-align: center;}#sk-container-id-1 label.sk-toggleable__label-arrow:before {content: \"▸\";float: left;margin-right: 0.25em;color: #696969;}#sk-container-id-1 label.sk-toggleable__label-arrow:hover:before {color: black;}#sk-container-id-1 div.sk-estimator:hover label.sk-toggleable__label-arrow:before {color: black;}#sk-container-id-1 div.sk-toggleable__content {max-height: 0;max-width: 0;overflow: hidden;text-align: left;background-color: #f0f8ff;}#sk-container-id-1 div.sk-toggleable__content pre {margin: 0.2em;color: black;border-radius: 0.25em;background-color: #f0f8ff;}#sk-container-id-1 input.sk-toggleable__control:checked~div.sk-toggleable__content {max-height: 200px;max-width: 100%;overflow: auto;}#sk-container-id-1 input.sk-toggleable__control:checked~label.sk-toggleable__label-arrow:before {content: \"▾\";}#sk-container-id-1 div.sk-estimator input.sk-toggleable__control:checked~label.sk-toggleable__label {background-color: #d4ebff;}#sk-container-id-1 div.sk-label input.sk-toggleable__control:checked~label.sk-toggleable__label {background-color: #d4ebff;}#sk-container-id-1 input.sk-hidden--visually {border: 0;clip: rect(1px 1px 1px 1px);clip: rect(1px, 1px, 1px, 1px);height: 1px;margin: -1px;overflow: hidden;padding: 0;position: absolute;width: 1px;}#sk-container-id-1 div.sk-estimator {font-family: monospace;background-color: #f0f8ff;border: 1px dotted black;border-radius: 0.25em;box-sizing: border-box;margin-bottom: 0.5em;}#sk-container-id-1 div.sk-estimator:hover {background-color: #d4ebff;}#sk-container-id-1 div.sk-parallel-item::after {content: \"\";width: 100%;border-bottom: 1px solid gray;flex-grow: 1;}#sk-container-id-1 div.sk-label:hover label.sk-toggleable__label {background-color: #d4ebff;}#sk-container-id-1 div.sk-serial::before {content: \"\";position: absolute;border-left: 1px solid gray;box-sizing: border-box;top: 0;bottom: 0;left: 50%;z-index: 0;}#sk-container-id-1 div.sk-serial {display: flex;flex-direction: column;align-items: center;background-color: white;padding-right: 0.2em;padding-left: 0.2em;position: relative;}#sk-container-id-1 div.sk-item {position: relative;z-index: 1;}#sk-container-id-1 div.sk-parallel {display: flex;align-items: stretch;justify-content: center;background-color: white;position: relative;}#sk-container-id-1 div.sk-item::before, #sk-container-id-1 div.sk-parallel-item::before {content: \"\";position: absolute;border-left: 1px solid gray;box-sizing: border-box;top: 0;bottom: 0;left: 50%;z-index: -1;}#sk-container-id-1 div.sk-parallel-item {display: flex;flex-direction: column;z-index: 1;position: relative;background-color: white;}#sk-container-id-1 div.sk-parallel-item:first-child::after {align-self: flex-end;width: 50%;}#sk-container-id-1 div.sk-parallel-item:last-child::after {align-self: flex-start;width: 50%;}#sk-container-id-1 div.sk-parallel-item:only-child::after {width: 0;}#sk-container-id-1 div.sk-dashed-wrapped {border: 1px dashed gray;margin: 0 0.4em 0.5em 0.4em;box-sizing: border-box;padding-bottom: 0.4em;background-color: white;}#sk-container-id-1 div.sk-label label {font-family: monospace;font-weight: bold;display: inline-block;line-height: 1.2em;}#sk-container-id-1 div.sk-label-container {text-align: center;}#sk-container-id-1 div.sk-container {/* jupyter's `normalize.less` sets `[hidden] { display: none; }` but bootstrap.min.css set `[hidden] { display: none !important; }` so we also need the `!important` here to be able to override the default hidden behavior on the sphinx rendered scikit-learn.org. See: https://github.com/scikit-learn/scikit-learn/issues/21755 */display: inline-block !important;position: relative;}#sk-container-id-1 div.sk-text-repr-fallback {display: none;}</style><div id=\"sk-container-id-1\" class=\"sk-top-container\"><div class=\"sk-text-repr-fallback\"><pre>Pipeline(steps=[(&#x27;transformer&#x27;,\n",
              "                 ColumnTransformer(remainder=&#x27;passthrough&#x27;,\n",
              "                                   transformers=[(&#x27;count_encoder&#x27;,\n",
              "                                                  CountEncoder(combine_min_nan_groups=True),\n",
              "                                                  [&#x27;InvoiceNo&#x27;, &#x27;StockCode&#x27;,\n",
              "                                                   &#x27;Description&#x27;, &#x27;CustomerID&#x27;,\n",
              "                                                   &#x27;Country&#x27;, &#x27;Continent&#x27;,\n",
              "                                                   &#x27;Period&#x27;]),\n",
              "                                                 (&#x27;robust_scaler&#x27;,\n",
              "                                                  RobustScaler(),\n",
              "                                                  [&#x27;Quantity&#x27;, &#x27;UnitPrice&#x27;,\n",
              "                                                   &#x27;TotalPrice&#x27;])])),\n",
              "                (&#x27;model&#x27;, LogisticRegression())])</pre><b>In a Jupyter environment, please rerun this cell to show the HTML representation or trust the notebook. <br />On GitHub, the HTML representation is unable to render, please try loading this page with nbviewer.org.</b></div><div class=\"sk-container\" hidden><div class=\"sk-item sk-dashed-wrapped\"><div class=\"sk-label-container\"><div class=\"sk-label sk-toggleable\"><input class=\"sk-toggleable__control sk-hidden--visually\" id=\"sk-estimator-id-1\" type=\"checkbox\" ><label for=\"sk-estimator-id-1\" class=\"sk-toggleable__label sk-toggleable__label-arrow\">Pipeline</label><div class=\"sk-toggleable__content\"><pre>Pipeline(steps=[(&#x27;transformer&#x27;,\n",
              "                 ColumnTransformer(remainder=&#x27;passthrough&#x27;,\n",
              "                                   transformers=[(&#x27;count_encoder&#x27;,\n",
              "                                                  CountEncoder(combine_min_nan_groups=True),\n",
              "                                                  [&#x27;InvoiceNo&#x27;, &#x27;StockCode&#x27;,\n",
              "                                                   &#x27;Description&#x27;, &#x27;CustomerID&#x27;,\n",
              "                                                   &#x27;Country&#x27;, &#x27;Continent&#x27;,\n",
              "                                                   &#x27;Period&#x27;]),\n",
              "                                                 (&#x27;robust_scaler&#x27;,\n",
              "                                                  RobustScaler(),\n",
              "                                                  [&#x27;Quantity&#x27;, &#x27;UnitPrice&#x27;,\n",
              "                                                   &#x27;TotalPrice&#x27;])])),\n",
              "                (&#x27;model&#x27;, LogisticRegression())])</pre></div></div></div><div class=\"sk-serial\"><div class=\"sk-item sk-dashed-wrapped\"><div class=\"sk-label-container\"><div class=\"sk-label sk-toggleable\"><input class=\"sk-toggleable__control sk-hidden--visually\" id=\"sk-estimator-id-2\" type=\"checkbox\" ><label for=\"sk-estimator-id-2\" class=\"sk-toggleable__label sk-toggleable__label-arrow\">transformer: ColumnTransformer</label><div class=\"sk-toggleable__content\"><pre>ColumnTransformer(remainder=&#x27;passthrough&#x27;,\n",
              "                  transformers=[(&#x27;count_encoder&#x27;,\n",
              "                                 CountEncoder(combine_min_nan_groups=True),\n",
              "                                 [&#x27;InvoiceNo&#x27;, &#x27;StockCode&#x27;, &#x27;Description&#x27;,\n",
              "                                  &#x27;CustomerID&#x27;, &#x27;Country&#x27;, &#x27;Continent&#x27;,\n",
              "                                  &#x27;Period&#x27;]),\n",
              "                                (&#x27;robust_scaler&#x27;, RobustScaler(),\n",
              "                                 [&#x27;Quantity&#x27;, &#x27;UnitPrice&#x27;, &#x27;TotalPrice&#x27;])])</pre></div></div></div><div class=\"sk-parallel\"><div class=\"sk-parallel-item\"><div class=\"sk-item\"><div class=\"sk-label-container\"><div class=\"sk-label sk-toggleable\"><input class=\"sk-toggleable__control sk-hidden--visually\" id=\"sk-estimator-id-3\" type=\"checkbox\" ><label for=\"sk-estimator-id-3\" class=\"sk-toggleable__label sk-toggleable__label-arrow\">count_encoder</label><div class=\"sk-toggleable__content\"><pre>[&#x27;InvoiceNo&#x27;, &#x27;StockCode&#x27;, &#x27;Description&#x27;, &#x27;CustomerID&#x27;, &#x27;Country&#x27;, &#x27;Continent&#x27;, &#x27;Period&#x27;]</pre></div></div></div><div class=\"sk-serial\"><div class=\"sk-item\"><div class=\"sk-estimator sk-toggleable\"><input class=\"sk-toggleable__control sk-hidden--visually\" id=\"sk-estimator-id-4\" type=\"checkbox\" ><label for=\"sk-estimator-id-4\" class=\"sk-toggleable__label sk-toggleable__label-arrow\">CountEncoder</label><div class=\"sk-toggleable__content\"><pre>CountEncoder(combine_min_nan_groups=True)</pre></div></div></div></div></div></div><div class=\"sk-parallel-item\"><div class=\"sk-item\"><div class=\"sk-label-container\"><div class=\"sk-label sk-toggleable\"><input class=\"sk-toggleable__control sk-hidden--visually\" id=\"sk-estimator-id-5\" type=\"checkbox\" ><label for=\"sk-estimator-id-5\" class=\"sk-toggleable__label sk-toggleable__label-arrow\">robust_scaler</label><div class=\"sk-toggleable__content\"><pre>[&#x27;Quantity&#x27;, &#x27;UnitPrice&#x27;, &#x27;TotalPrice&#x27;]</pre></div></div></div><div class=\"sk-serial\"><div class=\"sk-item\"><div class=\"sk-estimator sk-toggleable\"><input class=\"sk-toggleable__control sk-hidden--visually\" id=\"sk-estimator-id-6\" type=\"checkbox\" ><label for=\"sk-estimator-id-6\" class=\"sk-toggleable__label sk-toggleable__label-arrow\">RobustScaler</label><div class=\"sk-toggleable__content\"><pre>RobustScaler()</pre></div></div></div></div></div></div><div class=\"sk-parallel-item\"><div class=\"sk-item\"><div class=\"sk-label-container\"><div class=\"sk-label sk-toggleable\"><input class=\"sk-toggleable__control sk-hidden--visually\" id=\"sk-estimator-id-7\" type=\"checkbox\" ><label for=\"sk-estimator-id-7\" class=\"sk-toggleable__label sk-toggleable__label-arrow\">remainder</label><div class=\"sk-toggleable__content\"><pre>[]</pre></div></div></div><div class=\"sk-serial\"><div class=\"sk-item\"><div class=\"sk-estimator sk-toggleable\"><input class=\"sk-toggleable__control sk-hidden--visually\" id=\"sk-estimator-id-8\" type=\"checkbox\" ><label for=\"sk-estimator-id-8\" class=\"sk-toggleable__label sk-toggleable__label-arrow\">passthrough</label><div class=\"sk-toggleable__content\"><pre>passthrough</pre></div></div></div></div></div></div></div></div><div class=\"sk-item\"><div class=\"sk-estimator sk-toggleable\"><input class=\"sk-toggleable__control sk-hidden--visually\" id=\"sk-estimator-id-9\" type=\"checkbox\" ><label for=\"sk-estimator-id-9\" class=\"sk-toggleable__label sk-toggleable__label-arrow\">LogisticRegression</label><div class=\"sk-toggleable__content\"><pre>LogisticRegression()</pre></div></div></div></div></div></div></div>"
            ]
          },
          "metadata": {},
          "execution_count": 68
        }
      ]
    },
    {
      "cell_type": "code",
      "source": [
        "# Prever os valores de saída para os dados de teste e treino\n",
        "y_pred_train = pipeline.predict(X_res)\n",
        "y_pred_test = pipeline.predict(X_res_test)\n",
        "\n",
        "# Probabilidade de saída para os dados de teste e treino\n",
        "y_pred_proba_train = pipeline.predict_proba(X_res)\n",
        "y_pred_proba_test = pipeline.predict_proba(X_res_test)"
      ],
      "metadata": {
        "id": "D7VIsMJETdC6"
      },
      "execution_count": 69,
      "outputs": []
    },
    {
      "cell_type": "code",
      "source": [
        "# Probabilidade de 0 e 1 para dados de treino\n",
        "proba_df = pd.DataFrame(y_pred_proba_train).round(5)\n",
        "proba_df['Real'] = y_res\n",
        "proba_df"
      ],
      "metadata": {
        "id": "NFM2rojZRgSq",
        "colab": {
          "base_uri": "https://localhost:8080/",
          "height": 424
        },
        "outputId": "8e22fffa-bf66-40e5-d5c3-b22c152fa817"
      },
      "execution_count": 70,
      "outputs": [
        {
          "output_type": "execute_result",
          "data": {
            "text/plain": [
              "            0        1  Real\n",
              "0     0.99806  0.00194     0\n",
              "1     0.69836  0.30164     0\n",
              "2     0.99842  0.00158     0\n",
              "3     0.99918  0.00082     0\n",
              "4     1.00000  0.00000     0\n",
              "...       ...      ...   ...\n",
              "3179  0.00394  0.99606     1\n",
              "3180  0.00000  1.00000     1\n",
              "3181  0.00000  1.00000     1\n",
              "3182  0.00000  1.00000     1\n",
              "3183  0.00000  1.00000     1\n",
              "\n",
              "[3184 rows x 3 columns]"
            ],
            "text/html": [
              "\n",
              "  <div id=\"df-ee02e905-08f7-4668-9c25-f795dcbe1220\">\n",
              "    <div class=\"colab-df-container\">\n",
              "      <div>\n",
              "<style scoped>\n",
              "    .dataframe tbody tr th:only-of-type {\n",
              "        vertical-align: middle;\n",
              "    }\n",
              "\n",
              "    .dataframe tbody tr th {\n",
              "        vertical-align: top;\n",
              "    }\n",
              "\n",
              "    .dataframe thead th {\n",
              "        text-align: right;\n",
              "    }\n",
              "</style>\n",
              "<table border=\"1\" class=\"dataframe\">\n",
              "  <thead>\n",
              "    <tr style=\"text-align: right;\">\n",
              "      <th></th>\n",
              "      <th>0</th>\n",
              "      <th>1</th>\n",
              "      <th>Real</th>\n",
              "    </tr>\n",
              "  </thead>\n",
              "  <tbody>\n",
              "    <tr>\n",
              "      <th>0</th>\n",
              "      <td>0.99806</td>\n",
              "      <td>0.00194</td>\n",
              "      <td>0</td>\n",
              "    </tr>\n",
              "    <tr>\n",
              "      <th>1</th>\n",
              "      <td>0.69836</td>\n",
              "      <td>0.30164</td>\n",
              "      <td>0</td>\n",
              "    </tr>\n",
              "    <tr>\n",
              "      <th>2</th>\n",
              "      <td>0.99842</td>\n",
              "      <td>0.00158</td>\n",
              "      <td>0</td>\n",
              "    </tr>\n",
              "    <tr>\n",
              "      <th>3</th>\n",
              "      <td>0.99918</td>\n",
              "      <td>0.00082</td>\n",
              "      <td>0</td>\n",
              "    </tr>\n",
              "    <tr>\n",
              "      <th>4</th>\n",
              "      <td>1.00000</td>\n",
              "      <td>0.00000</td>\n",
              "      <td>0</td>\n",
              "    </tr>\n",
              "    <tr>\n",
              "      <th>...</th>\n",
              "      <td>...</td>\n",
              "      <td>...</td>\n",
              "      <td>...</td>\n",
              "    </tr>\n",
              "    <tr>\n",
              "      <th>3179</th>\n",
              "      <td>0.00394</td>\n",
              "      <td>0.99606</td>\n",
              "      <td>1</td>\n",
              "    </tr>\n",
              "    <tr>\n",
              "      <th>3180</th>\n",
              "      <td>0.00000</td>\n",
              "      <td>1.00000</td>\n",
              "      <td>1</td>\n",
              "    </tr>\n",
              "    <tr>\n",
              "      <th>3181</th>\n",
              "      <td>0.00000</td>\n",
              "      <td>1.00000</td>\n",
              "      <td>1</td>\n",
              "    </tr>\n",
              "    <tr>\n",
              "      <th>3182</th>\n",
              "      <td>0.00000</td>\n",
              "      <td>1.00000</td>\n",
              "      <td>1</td>\n",
              "    </tr>\n",
              "    <tr>\n",
              "      <th>3183</th>\n",
              "      <td>0.00000</td>\n",
              "      <td>1.00000</td>\n",
              "      <td>1</td>\n",
              "    </tr>\n",
              "  </tbody>\n",
              "</table>\n",
              "<p>3184 rows × 3 columns</p>\n",
              "</div>\n",
              "      <button class=\"colab-df-convert\" onclick=\"convertToInteractive('df-ee02e905-08f7-4668-9c25-f795dcbe1220')\"\n",
              "              title=\"Convert this dataframe to an interactive table.\"\n",
              "              style=\"display:none;\">\n",
              "        \n",
              "  <svg xmlns=\"http://www.w3.org/2000/svg\" height=\"24px\"viewBox=\"0 0 24 24\"\n",
              "       width=\"24px\">\n",
              "    <path d=\"M0 0h24v24H0V0z\" fill=\"none\"/>\n",
              "    <path d=\"M18.56 5.44l.94 2.06.94-2.06 2.06-.94-2.06-.94-.94-2.06-.94 2.06-2.06.94zm-11 1L8.5 8.5l.94-2.06 2.06-.94-2.06-.94L8.5 2.5l-.94 2.06-2.06.94zm10 10l.94 2.06.94-2.06 2.06-.94-2.06-.94-.94-2.06-.94 2.06-2.06.94z\"/><path d=\"M17.41 7.96l-1.37-1.37c-.4-.4-.92-.59-1.43-.59-.52 0-1.04.2-1.43.59L10.3 9.45l-7.72 7.72c-.78.78-.78 2.05 0 2.83L4 21.41c.39.39.9.59 1.41.59.51 0 1.02-.2 1.41-.59l7.78-7.78 2.81-2.81c.8-.78.8-2.07 0-2.86zM5.41 20L4 18.59l7.72-7.72 1.47 1.35L5.41 20z\"/>\n",
              "  </svg>\n",
              "      </button>\n",
              "      \n",
              "  <style>\n",
              "    .colab-df-container {\n",
              "      display:flex;\n",
              "      flex-wrap:wrap;\n",
              "      gap: 12px;\n",
              "    }\n",
              "\n",
              "    .colab-df-convert {\n",
              "      background-color: #E8F0FE;\n",
              "      border: none;\n",
              "      border-radius: 50%;\n",
              "      cursor: pointer;\n",
              "      display: none;\n",
              "      fill: #1967D2;\n",
              "      height: 32px;\n",
              "      padding: 0 0 0 0;\n",
              "      width: 32px;\n",
              "    }\n",
              "\n",
              "    .colab-df-convert:hover {\n",
              "      background-color: #E2EBFA;\n",
              "      box-shadow: 0px 1px 2px rgba(60, 64, 67, 0.3), 0px 1px 3px 1px rgba(60, 64, 67, 0.15);\n",
              "      fill: #174EA6;\n",
              "    }\n",
              "\n",
              "    [theme=dark] .colab-df-convert {\n",
              "      background-color: #3B4455;\n",
              "      fill: #D2E3FC;\n",
              "    }\n",
              "\n",
              "    [theme=dark] .colab-df-convert:hover {\n",
              "      background-color: #434B5C;\n",
              "      box-shadow: 0px 1px 3px 1px rgba(0, 0, 0, 0.15);\n",
              "      filter: drop-shadow(0px 1px 2px rgba(0, 0, 0, 0.3));\n",
              "      fill: #FFFFFF;\n",
              "    }\n",
              "  </style>\n",
              "\n",
              "      <script>\n",
              "        const buttonEl =\n",
              "          document.querySelector('#df-ee02e905-08f7-4668-9c25-f795dcbe1220 button.colab-df-convert');\n",
              "        buttonEl.style.display =\n",
              "          google.colab.kernel.accessAllowed ? 'block' : 'none';\n",
              "\n",
              "        async function convertToInteractive(key) {\n",
              "          const element = document.querySelector('#df-ee02e905-08f7-4668-9c25-f795dcbe1220');\n",
              "          const dataTable =\n",
              "            await google.colab.kernel.invokeFunction('convertToInteractive',\n",
              "                                                     [key], {});\n",
              "          if (!dataTable) return;\n",
              "\n",
              "          const docLinkHtml = 'Like what you see? Visit the ' +\n",
              "            '<a target=\"_blank\" href=https://colab.research.google.com/notebooks/data_table.ipynb>data table notebook</a>'\n",
              "            + ' to learn more about interactive tables.';\n",
              "          element.innerHTML = '';\n",
              "          dataTable['output_type'] = 'display_data';\n",
              "          await google.colab.output.renderOutput(dataTable, element);\n",
              "          const docLink = document.createElement('div');\n",
              "          docLink.innerHTML = docLinkHtml;\n",
              "          element.appendChild(docLink);\n",
              "        }\n",
              "      </script>\n",
              "    </div>\n",
              "  </div>\n",
              "  "
            ]
          },
          "metadata": {},
          "execution_count": 70
        }
      ]
    },
    {
      "cell_type": "code",
      "source": [
        "pd.Series(y_pred_test).value_counts().plot(kind = 'bar', color=colors)"
      ],
      "metadata": {
        "colab": {
          "base_uri": "https://localhost:8080/",
          "height": 442
        },
        "id": "r0nIsk9Pwkqv",
        "outputId": "1ace0aa4-3e41-4689-9cbd-92556c2f57d5"
      },
      "execution_count": 71,
      "outputs": [
        {
          "output_type": "execute_result",
          "data": {
            "text/plain": [
              "<Axes: >"
            ]
          },
          "metadata": {},
          "execution_count": 71
        },
        {
          "output_type": "display_data",
          "data": {
            "text/plain": [
              "<Figure size 640x480 with 1 Axes>"
            ],
            "image/png": "[encoded data removed]"
          },
          "metadata": {}
        }
      ]
    },
    {
      "cell_type": "markdown",
      "source": [
        "###### **Avaliando o modelo:**\n",
        "\n",
        "---\n",
        "\n"
      ],
      "metadata": {
        "id": "qvHuExbiqdX7"
      }
    },
    {
      "cell_type": "markdown",
      "source": [
        "Para fim didático, iremos utilizar as seguintes métricas para validação do modelo:\n",
        "\n",
        "- **`Matriz de Confusão:`** A matriz de confusão é uma representação tabular dos resultados de classificação de um modelo. Ela mostra a contagem de verdadeiros positivos, verdadeiros negativos, falsos positivos e falsos negativos, permitindo uma análise mais detalhada do desempenho do modelo.\n",
        "\n",
        "- **`Acurácia:`** A acurácia é uma métrica que mede a taxa de acertos do modelo, ou seja, a proporção de observações corretamente classificadas em relação ao total de observações. É uma medida geral do desempenho do modelo, indicando sua **capacidade de fazer previsões corretas**.\n",
        "\n",
        "- **`Precision (Precisão):`** A precisão é uma métrica que mede a proporção de observações positivas corretamente identificadas em relação ao total de observações classificadas como positivas. Ela é útil para avaliar a capacidade do modelo em evitar falsos positivos, ou seja, **classificar corretamente as instâncias positivas**.\n",
        "\n",
        "- **`Recall (Revocação):`** O recall é uma métrica que mede a proporção de observações positivas corretamente identificadas em relação ao total de observações positivas reais. Ela é útil para avaliar a capacidade do modelo em encontrar corretamente as instâncias positivas, **minimizando os falsos negativos**.\n",
        "\n",
        "- **`F1-score:`** O F1-score é uma métrica que combina a precisão e o recall em uma única medida, fornecendo uma avaliação geral do desempenho do modelo. É uma média harmônica entre precisão e recall, levando em consideração tanto a capacidade do modelo em evitar falsos positivos quanto a capacidade de encontrar corretamente as instâncias positivas.\n",
        "\n",
        "- **`Curva ROC:`** A curva ROC representa a relação entre a taxa de verdadeiros positivos (TPR) e a taxa de falsos positivos (FPR) em diferentes pontos de corte (limiares de decisão) do modelo. O limiar de decisão é um valor ou critério que determina em qual classe o modelo irá classificar uma instância de entrada. Geralmente, o modelo calcula uma probabilidade de pertencer a uma determinada classe e compara essa probabilidade com o limiar de decisão para fazer a classificação final. Um bom modelo de classificação geralmente apresenta uma curva ROC **próxima ao canto superior esquerdo do gráfico, indicando uma alta taxa de verdadeiros positivos (sensibilidade) e uma baixa taxa de falsos positivos**. O ponto ideal seria aquele em que o modelo alcança uma taxa de verdadeiros positivos alta, minimizando simultaneamente a taxa de falsos positivos.\n",
        "\n",
        "- **`AUC-ROC:`** A AUC-ROC representa a probabilidade de o modelo classificar aleatoriamente um exemplo positivo mais alto do que um exemplo negativo. Quanto maior a AUC-ROC, melhor o desempenho do modelo em discriminar entre as classes. Esse valor representa a área sobre a curva ROC."
      ],
      "metadata": {
        "id": "8y2L0wbmW6vf"
      }
    },
    {
      "cell_type": "code",
      "source": [
        "# https://mariofilho.com/precisao-recall-e-f1-score-em-machine-learning/"
      ],
      "metadata": {
        "id": "pa6nfSrwKLHO"
      },
      "execution_count": 72,
      "outputs": []
    },
    {
      "cell_type": "markdown",
      "source": [
        "###### **Matriz de Confusão:**\n",
        "\n",
        "---\n",
        "\n"
      ],
      "metadata": {
        "id": "-cFUt_lZXOCS"
      }
    },
    {
      "cell_type": "markdown",
      "source": [
        "Para interpretar a Matriz de Confusão, vamos considerar, a partir dos nosso dados:\n",
        "\n",
        "> - Valor Positivo: Cancelado (1)\n",
        "> - Valor Negativo: Não Cancelado (0)\n",
        "\n",
        "A Matriz de Confusão trás os valores previstos comparados aos valores reais da base, assim:\n",
        "\n",
        "> - Vedadeiro: Quando o modelo previu corretamente.\n",
        "> - Falso: Quando o modelo não previu corretamente.\n",
        "\n",
        "<img src = 'https://miro.medium.com/v2/resize:fit:1400/0*KUYgSbo0p1-5RRZW.png'/>\n",
        "\n",
        "Dessa forma, no quadrante de Verdadeiro Positivo (VP), temos a quantidade de previsões corretas de \"Cancelado\" (1), enquanto no quadrante de Verdadeiro Negativo (VN), temos a quantidade de previsões corretas de \"Não Cancelado\" (0).\n",
        "\n",
        "A mesma lógica se aplica aos quadrantes de Falso Positivo e Falso Negativo, representando as previsões incorretas."
      ],
      "metadata": {
        "id": "ULp1w1nHptA1"
      }
    },
    {
      "cell_type": "code",
      "source": [
        "# matriz de confusão\n",
        "from sklearn.metrics import confusion_matrix, ConfusionMatrixDisplay\n",
        "class_labels = [\"Não Cancelado\", \"Cancelado\"]\n",
        "ConfusionMatrixDisplay(confusion_matrix=confusion_matrix(y_res_test, y_pred_test), display_labels=class_labels).plot()\n",
        "plt.grid(False)\n",
        "plt.show()"
      ],
      "metadata": {
        "colab": {
          "base_uri": "https://localhost:8080/",
          "height": 449
        },
        "id": "fj1Nx6hbxPZ7",
        "outputId": "08531fc2-01a0-46e8-efa0-ca018a18cbeb"
      },
      "execution_count": 73,
      "outputs": [
        {
          "output_type": "display_data",
          "data": {
            "text/plain": [
              "<Figure size 640x480 with 2 Axes>"
            ],
            "image/png": "[encoded data removed]"
          },
          "metadata": {}
        }
      ]
    },
    {
      "cell_type": "markdown",
      "source": [
        "Ao analisar a matriz de confusão acima, podemos observar que o modelo realizou 23 previsões incorretas de Falso Positivo, ou seja, classificou erroneamente 23 casos como \"Cancelado\" quando na verdade eram \"Não Cancelado\".\n",
        "\n",
        "Além disso, ocorreram 6 previsões incorretas de Falso Negativo, em que o modelo categorizou erroneamente 6 casos como \"Não Cancelado\" quando na verdade eram \"Cancelado\"."
      ],
      "metadata": {
        "id": "dCOhr4vruCSm"
      }
    },
    {
      "cell_type": "markdown",
      "source": [
        "###### **Acurácia, Precision, Recall e F1-Score:**\n",
        "\n",
        "\n",
        "---\n",
        "\n"
      ],
      "metadata": {
        "id": "RLBq_8XSzZ5V"
      }
    },
    {
      "cell_type": "code",
      "source": [
        "# cáculo precision, recall, f1 e acurácia\n",
        "from sklearn.metrics import classification_report\n",
        "\n",
        "report = classification_report(y_res_test, y_pred_test)\n",
        "print(report)"
      ],
      "metadata": {
        "colab": {
          "base_uri": "https://localhost:8080/"
        },
        "id": "HoHEtGyNtaJD",
        "outputId": "6505118f-35fe-48f2-c3e4-039d36ec86bd"
      },
      "execution_count": 74,
      "outputs": [
        {
          "output_type": "stream",
          "name": "stdout",
          "text": [
            "              precision    recall  f1-score   support\n",
            "\n",
            "           0       0.92      0.98      0.95       683\n",
            "           1       0.98      0.91      0.94       683\n",
            "\n",
            "    accuracy                           0.95      1366\n",
            "   macro avg       0.95      0.95      0.95      1366\n",
            "weighted avg       0.95      0.95      0.95      1366\n",
            "\n"
          ]
        }
      ]
    },
    {
      "cell_type": "markdown",
      "source": [
        "***Conclusões:***\n",
        "\n",
        "Com base nos resultados da métrica de classificação (precision, recall, f1-score) e da acurácia apresentados acima, podemos concluir que o modelo possui um desempenho excelente na tarefa de classificação das observações em duas classes: 0 e 1.\n",
        "\n",
        "- A precisão média para ambas as classes é de 0.98, o que indica que o modelo tem uma alta taxa de acerto na classificação correta das observações em ambas as classes. Isso significa que o modelo comete poucos erros de classificação, tanto para a classe 0 quanto para a classe 1.\n",
        "\n",
        "- O recall médio também é de 0.98, mostrando que o modelo é capaz de identificar corretamente a grande maioria das observações positivas e negativas. Esse resultado indica que o modelo possui uma boa capacidade de encontrar corretamente as instâncias de ambas as classes, minimizando os erros de classificação positivos e negativos.\n",
        "\n",
        "- O f1-score médio é de 0.98, o que sugere um bom equilíbrio entre precisão e recall. Essa métrica leva em consideração tanto a precisão quanto o recall e é útil para avaliar o desempenho geral do modelo.\n",
        "\n",
        "- A acurácia geral do modelo é de 0.98, o que indica uma taxa de acerto elevada na classificação de todas as observações. Isso demonstra que o modelo é capaz de realizar previsões corretas na maioria dos casos."
      ],
      "metadata": {
        "id": "yXQizBzcudxk"
      }
    },
    {
      "cell_type": "markdown",
      "source": [
        "###### **Curva ROC e AUC-ROC:**\n",
        "\n",
        "---\n",
        "\n"
      ],
      "metadata": {
        "id": "Z0iWh_fu0knG"
      }
    },
    {
      "cell_type": "code",
      "source": [
        "# cálculo da área da cuva ROC\n",
        "y_pred_proba_train = pipeline.predict_proba(X_res)[:, 1]  # probabilidades da classe positiva para o conjunto de treinamento\n",
        "y_pred_proba_test = pipeline.predict_proba(X_res_test)[:, 1]  # probabilidades da classe positiva para o conjunto de teste\n",
        "\n",
        "y_train_score = roc_auc_score(y_res, y_pred_proba_train)\n",
        "y_test_score = roc_auc_score(y_res_test, y_pred_proba_test)\n",
        "\n",
        "print(y_train_score, y_test_score)"
      ],
      "metadata": {
        "colab": {
          "base_uri": "https://localhost:8080/"
        },
        "id": "YxAV4mbMxqgu",
        "outputId": "90ac40b9-2017-4ae7-a4c3-11b6cb983221"
      },
      "execution_count": 75,
      "outputs": [
        {
          "output_type": "stream",
          "name": "stdout",
          "text": [
            "0.9946454161511072 0.9940834617750901\n"
          ]
        }
      ]
    },
    {
      "cell_type": "code",
      "source": [
        "# plotando curva ROC\n",
        "from sklearn.metrics import roc_curve\n",
        "\n",
        "fpr, tpr, thresholds = roc_curve(y_res_test, y_pred_proba_test)\n",
        "\n",
        "sns.set()\n",
        "sns.set_style(\"whitegrid\")\n",
        "\n",
        "plt.plot(fpr, tpr)\n",
        "plt.plot([0, 1], [0, 1], 'k--')  # linha diagonal para referência\n",
        "plt.xlabel('Taxa de Falsos Positivos')\n",
        "plt.ylabel('Taxa de Verdadeiros Positivos')\n",
        "plt.title('Curva ROC - Dados de Teste')\n",
        "plt.show()"
      ],
      "metadata": {
        "colab": {
          "base_uri": "https://localhost:8080/",
          "height": 480
        },
        "id": "YHlm2dSxzKBA",
        "outputId": "5f77c3b3-b8ac-4d3c-9d40-028e2fa31778"
      },
      "execution_count": 76,
      "outputs": [
        {
          "output_type": "display_data",
          "data": {
            "text/plain": [
              "<Figure size 640x480 with 1 Axes>"
            ],
            "image/png": "[encoded data removed]"
          },
          "metadata": {}
        }
      ]
    },
    {
      "cell_type": "markdown",
      "source": [
        "- Com base nos valores de AUC-ROC fornecidos, observamos que tanto no conjunto de treinamento quanto no conjunto de teste, o modelo apresenta um desempenho extremamente bom na tarefa de classificação. A AUC-ROC próxima de 1 indica que o modelo é capaz de fazer uma distinção clara entre as classes de cancelamento e não cancelamento de vendas, **com uma taxa muito baixa de falsos positivos em relação aos verdadeiros positivos**."
      ],
      "metadata": {
        "id": "yZT7vHqkQ1u3"
      }
    },
    {
      "cell_type": "markdown",
      "source": [
        "Na validação cruzada, para todos os modelos (Log, KNN e SVM):\n",
        "\n",
        "- Fazer matriz de confusão e explicar.\n",
        "- Acurácia e explicar.\n",
        "- Precisão e explicar.\n",
        "- Recall e explicar.\n",
        "\n",
        "Para SVM:\n",
        "\n",
        "- Plotar o gráfico.\n",
        "\n",
        "\n"
      ],
      "metadata": {
        "id": "Sh_bli-ZVAfu"
      }
    },
    {
      "cell_type": "code",
      "source": [
        "# def get_estimator_name(estimator):\n",
        "#     return estimator.__class__.__name__"
      ],
      "metadata": {
        "id": "qVHfgQbtnwRg"
      },
      "execution_count": 77,
      "outputs": []
    },
    {
      "cell_type": "code",
      "source": [
        "# columns_name = ['estimator_name', 'roc_auc_train', 'roc_auc_test', 'cross_val_test_mean',\n",
        "#                 'cross_val_train_mean'\n",
        "#                ]\n",
        "# result_df = pd.DataFrame(columns = columns_name)\n",
        "\n",
        "# pipelines_models = list()\n",
        "\n",
        "# for estimator in estimators:\n",
        "#     # treino do modelo\n",
        "#     pipe = get_pipeline(estimator[1], features_pipeline)\n",
        "#     pipe.fit(X_train, y_train)\n",
        "#     # previsões e métrica\n",
        "#     y_pred_proba_train = pipe.predict_proba(X_train)[:, 1]\n",
        "#     y_pred_proba_test = pipe.predict_proba(X_test)[:, 1]\n",
        "#     y_train_score = roc_auc_score(y_train, y_pred_proba_train)\n",
        "#     y_test_score = roc_auc_score(y_test, y_pred_proba_test)\n",
        "#     # cross-validation\n",
        "#     cross_val_result = cross_validate(\n",
        "#     estimator = pipe,\n",
        "#     X = X_train,\n",
        "#     y = y_train,\n",
        "#     scoring = 'roc_auc',\n",
        "#     return_train_score = True,\n",
        "#     cv = cv)\n",
        "#     # armazena os resultados em um data frame\n",
        "#     results = {\n",
        "#         'estimator_name': [estimator[0]],\n",
        "#         'roc_auc_train': [y_train_score],\n",
        "#         'roc_auc_test': [y_test_score],\n",
        "#         'cross_val_train_mean': [cross_val_result['train_score'].mean()],\n",
        "#         'cross_val_test_mean': [cross_val_result['test_score'].mean()],\n",
        "#     }\n",
        "\n",
        "#     results = pd.DataFrame(results)\n",
        "\n",
        "#     result_df = result_df.append(results)\n",
        "\n",
        "#     pipelines_models.append(pipe)\n",
        "#     #print(estimator[0])\n",
        "\n",
        "# result_df = result_df.sort_values(by = ['cross_val_test_mean', 'roc_auc_test'], ascending = False)"
      ],
      "metadata": {
        "id": "y3wHL5rKosFA"
      },
      "execution_count": 78,
      "outputs": []
    },
    {
      "cell_type": "code",
      "execution_count": 79,
      "metadata": {
        "id": "3a6f7180-0313-429d-af10-bbdcd597242b"
      },
      "outputs": [],
      "source": [
        "# iris = datasets.load_iris()\n",
        "# iris_df = pd.DataFrame(data = iris.data, columns = iris.feature_names)\n",
        "# iris_df['label'] = iris.target\n",
        "# iris_df['species'] = pd.Categorical.from_codes(iris.target,iris.target_names)"
      ]
    },
    {
      "cell_type": "code",
      "execution_count": 80,
      "metadata": {
        "id": "08ac6f49-0594-4db8-9c9b-d7c5f81ccb82"
      },
      "outputs": [],
      "source": [
        "# iris_df['species'].value_counts()"
      ]
    },
    {
      "cell_type": "code",
      "execution_count": 81,
      "metadata": {
        "id": "f23a0b17-cc66-4513-aae3-895d12e2c43d"
      },
      "outputs": [],
      "source": [
        "# sns.pairplot(iris_df[iris_df.drop(columns = ['label']).columns.tolist()],\n",
        "#              hue = 'species'\n",
        "#             )"
      ]
    },
    {
      "cell_type": "markdown",
      "source": [
        "Removendo negativos:\n",
        "---"
      ],
      "metadata": {
        "id": "2X-2pt9jMGOn"
      }
    },
    {
      "cell_type": "code",
      "source": [
        "# Verificando valores negativos na coluna 'Quantity':\n",
        "# base_amostra[base_amostra['Quantity'].astype(str).str.contains('-')]"
      ],
      "metadata": {
        "id": "YCnraGycddk5"
      },
      "execution_count": 82,
      "outputs": []
    },
    {
      "cell_type": "code",
      "source": [
        "# # Remover valores negativos da coluna 'Quantity'\n",
        "# base_amostra = base_amostra[~base_amostra['Quantity'].astype(str).str.contains('-')]\n",
        "# base_amostra['Quantity'] = base_amostra['Quantity'].astype(int)"
      ],
      "metadata": {
        "id": "YueJRv1vcw7y"
      },
      "execution_count": 83,
      "outputs": []
    },
    {
      "cell_type": "code",
      "source": [
        "# base_amostra[base_amostra['Quantity'].astype(str).str.contains('-')]"
      ],
      "metadata": {
        "id": "YrByz-WGc1yr"
      },
      "execution_count": 84,
      "outputs": []
    },
    {
      "cell_type": "code",
      "source": [
        "# Verificando valores negativos na coluna 'UnitPrice':\n",
        "# base_amostra[base_amostra['UnitPrice'].astype(str).str.contains('-')]"
      ],
      "metadata": {
        "id": "MFAQwjsSdjU6"
      },
      "execution_count": 85,
      "outputs": []
    },
    {
      "cell_type": "code",
      "source": [
        "# # Remover valores negativos da coluna 'Quantity'\n",
        "# base_amostra = base_amostra[~base_amostra['UnitPrice'].astype(str).str.contains('-')]\n",
        "# base_amostra['UnitPrice'] = base_amostra['UnitPrice'].astype(int)"
      ],
      "metadata": {
        "id": "0EJhwf6Hc4QV"
      },
      "execution_count": 86,
      "outputs": []
    },
    {
      "cell_type": "code",
      "source": [
        "# base_amostra[base_amostra['UnitPrice'].astype(str).str.contains('-')]"
      ],
      "metadata": {
        "id": "AVf9Za2dc8-k"
      },
      "execution_count": 87,
      "outputs": []
    },
    {
      "cell_type": "markdown",
      "source": [
        "Gerando casos cancelados:\n",
        "---"
      ],
      "metadata": {
        "id": "1-PTx8xxMTSY"
      }
    },
    {
      "cell_type": "code",
      "source": [
        "# #Adicionar aleatoriamente a letra 'C' na coluna 'InvoiceNo' para termos informações de cancelamentos:\n",
        "# indices_cancelados = random.sample(base_amostra.index.tolist(), int(len(base_amostra) * 0.2))\n",
        "# base_amostra.loc[indices_cancelados, 'InvoiceNo'] = 'C' + base_amostra.loc[indices_cancelados, 'InvoiceNo'].astype(str)\n",
        "\n",
        "# base_amostra[base_amostra['InvoiceNo'].apply(lambda x: str(x).startswith('C'))]"
      ],
      "metadata": {
        "id": "dwgBLImPLQL3"
      },
      "execution_count": 88,
      "outputs": []
    },
    {
      "cell_type": "code",
      "source": [
        "# #Adicionar '-' na quantidade dos respectivos valores na coluna 'Quantity':\n",
        "# base_amostra['Quantity'] = base_amostra['Quantity'].astype(str)\n",
        "# base_amostra['Quantity'] = np.where(base_amostra['InvoiceNo'].str.startswith('C'), '-' + base_amostra['Quantity'], base_amostra['Quantity'])\n",
        "# # base_amostra['Quantity'] = base_amostra['Quantity'].astype(int)\n",
        "# base_amostra[base_amostra['InvoiceNo'].apply(lambda x: str(x).startswith('C'))]\n"
      ],
      "metadata": {
        "id": "n660IzbN7OhZ"
      },
      "execution_count": 89,
      "outputs": []
    },
    {
      "cell_type": "code",
      "source": [
        "# #Adicionar '-' na quantidade dos respectivos valores na coluna 'Quantity':\n",
        "# base_amostra['UnitPrice'] = base_amostra['UnitPrice'].astype(str)\n",
        "# base_amostra['UnitPrice'] = np.where(base_amostra['InvoiceNo'].str.startswith('C'), '-' + base_amostra['UnitPrice'], base_amostra['UnitPrice'])\n",
        "# # base_amostra['UnitPrice'] = base_amostra['UnitPrice'].astype(float)\n",
        "# base_amostra[base_amostra['InvoiceNo'].apply(lambda x: str(x).startswith('C'))]"
      ],
      "metadata": {
        "id": "JWvuYczA8Jdc"
      },
      "execution_count": 90,
      "outputs": []
    },
    {
      "cell_type": "markdown",
      "source": [
        "Filtros:\n",
        "---\n",
        "\n"
      ],
      "metadata": {
        "id": "2m8sQGkP73S4"
      }
    },
    {
      "cell_type": "code",
      "source": [
        "# base_amostra['TotalPrice'][(base_amostra['TotalPrice'] <= 30)].plot(kind='box', vert=False)"
      ],
      "metadata": {
        "id": "V8YcaQLsXL87"
      },
      "execution_count": 91,
      "outputs": []
    },
    {
      "cell_type": "code",
      "source": [
        "# len(base_amostra[(base_amostra['TotalPrice'] <= 30)])/len(base_amostra)*100"
      ],
      "metadata": {
        "id": "r87b3OHuXQ6N"
      },
      "execution_count": 92,
      "outputs": []
    },
    {
      "cell_type": "code",
      "source": [
        "# Informações sobre 'UnitPrice':\n",
        "# base_amostra['UnitPrice'].describe()"
      ],
      "metadata": {
        "id": "RCSNb1dQPXrk"
      },
      "execution_count": 93,
      "outputs": []
    },
    {
      "cell_type": "code",
      "source": [
        "# base_amostra['UnitPrice'].plot(kind='box', vert=False)"
      ],
      "metadata": {
        "id": "khqzp8lzBUoZ"
      },
      "execution_count": 94,
      "outputs": []
    },
    {
      "cell_type": "code",
      "source": [
        "# Informações sobre 'UnitPrice' com valores menores de 30, considerando o recorte feito anteriormente em 'TotalPrice':\n",
        "# base_amostra['UnitPrice'][(base_amostra['TotalPrice'] <= 30) & (base_amostra['UnitPrice'] <= 30)].describe()"
      ],
      "metadata": {
        "id": "E3uz1DjBXn4A"
      },
      "execution_count": 95,
      "outputs": []
    },
    {
      "cell_type": "code",
      "source": [
        "# base_amostra['UnitPrice'][(base_amostra['TotalPrice'] <= 30) & (base_amostra['UnitPrice'] <= 30)].plot(kind='box', vert=False)"
      ],
      "metadata": {
        "id": "bwqx6M9fXn4D"
      },
      "execution_count": 96,
      "outputs": []
    },
    {
      "cell_type": "code",
      "source": [
        "# len(base_amostra[(base_amostra['TotalPrice'] <= 30) & (base_amostra['UnitPrice'] <= 30)]) / len(base_amostra)*100"
      ],
      "metadata": {
        "id": "ygd3uWkgZmEA"
      },
      "execution_count": 97,
      "outputs": []
    },
    {
      "cell_type": "code",
      "source": [
        "# Informações sobre 'Quantity':\n",
        "# base_amostra['Quantity'].describe()"
      ],
      "metadata": {
        "id": "N1llTtkQPao-"
      },
      "execution_count": 98,
      "outputs": []
    },
    {
      "cell_type": "code",
      "source": [
        "# base_amostra['Quantity'].plot(kind='box', vert=False)"
      ],
      "metadata": {
        "id": "SKazBuoLBNRG"
      },
      "execution_count": 99,
      "outputs": []
    },
    {
      "cell_type": "code",
      "source": [
        "# # Informações sobre 'Quantity' com valores menores de 30\n",
        "# base_amostra['Quantity'][(base_amostra['TotalPrice'] <= 30) & (base_amostra['UnitPrice'] <= 30) & (base_amostra['Quantity'] <= 30)].describe()"
      ],
      "metadata": {
        "id": "YHGPNJBdYpeI"
      },
      "execution_count": 100,
      "outputs": []
    },
    {
      "cell_type": "code",
      "source": [
        "# base_amostra['Quantity'][(base_amostra['TotalPrice'] <= 30) & (base_amostra['UnitPrice'] <= 30) & (base_amostra['Quantity'] <= 30)].plot(kind='box', vert=False)"
      ],
      "metadata": {
        "id": "pci6NBvnYpeI"
      },
      "execution_count": 101,
      "outputs": []
    },
    {
      "cell_type": "code",
      "source": [
        "# len(base_amostra[(base_amostra['TotalPrice'] <= 30) & (base_amostra['UnitPrice'] <= 30) & (base_amostra['Quantity'] <= 30)]) / len(base_amostra)*100"
      ],
      "metadata": {
        "id": "FLf95b5iZ9Or"
      },
      "execution_count": 102,
      "outputs": []
    },
    {
      "cell_type": "code",
      "source": [
        "# base_amostra = base_amostra[(base_amostra['TotalPrice'] <= 30) & (base_amostra['UnitPrice'] <= 30) & (base_amostra['Quantity'] <= 30)]\n",
        "# base_amostra"
      ],
      "metadata": {
        "id": "wtX1QNiZaIzI"
      },
      "execution_count": 103,
      "outputs": []
    },
    {
      "cell_type": "code",
      "source": [
        "# base_amostra.shape"
      ],
      "metadata": {
        "id": "gmM1mA9_k3vG"
      },
      "execution_count": 104,
      "outputs": []
    }
  ]
}